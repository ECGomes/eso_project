{
 "cells": [
  {
   "cell_type": "code",
   "execution_count": 1,
   "id": "bc50e049",
   "metadata": {
    "ExecuteTime": {
     "end_time": "2022-10-21T08:39:51.539071Z",
     "start_time": "2022-10-21T08:39:49.759889Z"
    },
    "code_folding": [
     0
    ],
    "pycharm": {
     "name": "#%%\n"
    }
   },
   "outputs": [],
   "source": [
    "# Imports\n",
    "\n",
    "#import numpy as np\n",
    "import pandas as pd\n",
    "import matplotlib.pyplot as plt\n",
    "\n",
    "from numpy.matlib import repmat\n",
    "from numpy.random import choice\n",
    "\n",
    "from timeit import default_timer as timer\n",
    "\n",
    "import tqdm\n",
    "\n",
    "import cython"
   ]
  },
  {
   "cell_type": "code",
   "execution_count": 2,
   "id": "81599fdd",
   "metadata": {
    "ExecuteTime": {
     "end_time": "2022-10-21T08:39:52.504073Z",
     "start_time": "2022-10-21T08:39:52.486071Z"
    },
    "code_folding": [
     0
    ],
    "pycharm": {
     "name": "#%%\n"
    }
   },
   "outputs": [],
   "source": [
    "# Turn and recover vector for encoding\n",
    "\n",
    "def encode(var_dictionary):\n",
    "    result_concat = np.concatenate([value.ravel() for value in var_dictionary.values()])\n",
    "    return result_concat\n",
    "\n",
    "\n",
    "def decode(var_vector, var_dictionary):\n",
    "    result_decoded = {}\n",
    "    var_idx = [value.ravel().shape[0] for value in var_dictionary.values()]\n",
    "\n",
    "    current_index = 0\n",
    "    dictionary_names = list(var_dictionary.keys())\n",
    "\n",
    "    for idx, (name, value) in enumerate(zip(dictionary_names, var_dictionary.values())):\n",
    "        result_index = current_index + var_idx[idx]\n",
    "        result_decoded[name] = np.reshape(var_vector[current_index:result_index], value.shape)\n",
    "\n",
    "        current_index = result_index\n",
    "\n",
    "    return result_decoded\n"
   ]
  },
  {
   "cell_type": "code",
   "execution_count": 3,
   "id": "df8a1233",
   "metadata": {
    "ExecuteTime": {
     "end_time": "2022-10-21T08:39:53.501004Z",
     "start_time": "2022-10-21T08:39:53.486001Z"
    },
    "code_folding": [
     0
    ],
    "pycharm": {
     "name": "#%%\n"
    }
   },
   "outputs": [],
   "source": [
    "# HyDE-DF parameters\n",
    "\n",
    "class DEParams(object):\n",
    "    \n",
    "    def __init__(self, I_itermax=5e5, I_NP=50, F_weight=0.5, F_CR=0.9, I_bnd_constr=3, epsilon=1e-6, tolerance=2e3, param_dictionary=None):\n",
    "        \n",
    "        ## Set parameters for HyDE-DF\n",
    "        self.I_itermax = I_itermax\n",
    "        self.I_NP = I_NP\n",
    "        self.F_weight = F_weight\n",
    "        self.F_CR = F_CR\n",
    "        self.epsilon = epsilon\n",
    "        self.tolerance = tolerance\n",
    "        \n",
    "        self.param_dictionary = None\n",
    "        \n",
    "        self.I_bnd_constr = I_bnd_constr #Using bound constraints is possible to change direct in DE\n",
    "        # 1 repair to the lower or upper violated bound\n",
    "        # 2 rand value in the allowed range\n",
    "        # 3 bounce back\n",
    "        \n",
    "        return\n",
    "        \n",
    "        \n",
    "class OtherParameters(object):\n",
    "    \n",
    "    def __init__(self, objfun, dim, lowerlimit, upperlimit, \n",
    "                 var_dictionary=None,\n",
    "                 param_dictionary=None,\n",
    "                 initial_solution=None, decoded_initialSolution=None):\n",
    "        self.objfun = objfun\n",
    "        self.dim = dim\n",
    "        self.lowerlimit = lowerlimit\n",
    "        self.upperlimit = upperlimit\n",
    "        \n",
    "        self.var_dictionary = var_dictionary\n",
    "        \n",
    "        self.param_dictionary = param_dictionary\n",
    "        \n",
    "        self.initial_solution = initial_solution\n",
    "        self.decoded_initialSolution = decoded_initialSolution\n",
    "        \n",
    "        return"
   ]
  },
  {
   "cell_type": "markdown",
   "id": "ec84604d",
   "metadata": {
    "ExecuteTime": {
     "end_time": "2022-05-12T11:01:08.515727Z",
     "start_time": "2022-05-12T11:01:08.452862Z"
    },
    "code_folding": [],
    "scrolled": true,
    "pycharm": {
     "name": "#%% md\n"
    }
   },
   "source": [
    "# Show solutions\n",
    "\n",
    "trial_results"
   ]
  },
  {
   "cell_type": "code",
   "execution_count": 4,
   "id": "837d5c2b",
   "metadata": {
    "ExecuteTime": {
     "end_time": "2022-10-21T08:39:58.855279Z",
     "start_time": "2022-10-21T08:39:58.674814Z"
    },
    "code_folding": [
     0
    ],
    "pycharm": {
     "name": "#%%\n"
    }
   },
   "outputs": [],
   "source": [
    "# loadmat aux function to load the matlab save files\n",
    "# from: https://stackoverflow.com/review/suggested-edits/21667510\n",
    "\n",
    "import numpy as np\n",
    "import scipy\n",
    "import scipy.io as spio\n",
    "\n",
    "def loadmat(filename):\n",
    "    '''\n",
    "    this function should be called instead of direct spio.loadmat\n",
    "    as it cures the problem of not properly recovering python dictionaries\n",
    "    from mat files. It calls the function check keys to cure all entries\n",
    "    which are still mat-objects\n",
    "    '''\n",
    "    def _check_keys(d):\n",
    "        '''\n",
    "        checks if entries in dictionary are mat-objects. If yes\n",
    "        todict is called to change them to nested dictionaries\n",
    "        '''\n",
    "        for key in d:\n",
    "            if isinstance(d[key], spio.matlab.mio5_params.mat_struct):\n",
    "                d[key] = _todict(d[key])\n",
    "        return d\n",
    "\n",
    "    def _has_struct(elem):\n",
    "        \"\"\"Determine if elem is an array and if any array item is a struct\"\"\"\n",
    "        return isinstance(elem, np.ndarray) and any(isinstance(\n",
    "                    e, scipy.io.matlab.mio5_params.mat_struct) for e in elem)\n",
    "\n",
    "    def _todict(matobj):\n",
    "        '''\n",
    "        A recursive function which constructs from matobjects nested dictionaries\n",
    "        '''\n",
    "        d = {}\n",
    "        for strg in matobj._fieldnames:\n",
    "            elem = matobj.__dict__[strg]\n",
    "            if isinstance(elem, spio.matlab.mio5_params.mat_struct):\n",
    "                d[strg] = _todict(elem)\n",
    "            elif _has_struct(elem):\n",
    "                d[strg] = _tolist(elem)\n",
    "            else:\n",
    "                d[strg] = elem\n",
    "        return d\n",
    "\n",
    "    def _tolist(ndarray):\n",
    "        '''\n",
    "        A recursive function which constructs lists from cellarrays\n",
    "        (which are loaded as numpy ndarrays), recursing into the elements\n",
    "        if they contain matobjects.\n",
    "        '''\n",
    "        elem_list = []\n",
    "        for sub_elem in ndarray:\n",
    "            if isinstance(sub_elem, spio.matlab.mio5_params.mat_struct):\n",
    "                elem_list.append(_todict(sub_elem))\n",
    "            elif _has_struct(sub_elem):\n",
    "                elem_list.append(_tolist(sub_elem))\n",
    "            else:\n",
    "                elem_list.append(sub_elem)\n",
    "        return elem_list\n",
    "    data = scipy.io.loadmat(filename, struct_as_record=False, squeeze_me=True)\n",
    "    return _check_keys(data)"
   ]
  },
  {
   "cell_type": "code",
   "execution_count": 5,
   "id": "08a7b64b",
   "metadata": {
    "ExecuteTime": {
     "end_time": "2022-10-21T08:39:59.105557Z",
     "start_time": "2022-10-21T08:39:59.095554Z"
    },
    "pycharm": {
     "name": "#%%\n"
    }
   },
   "outputs": [
    {
     "name": "stderr",
     "output_type": "stream",
     "text": [
      "C:\\Users\\camar\\AppData\\Local\\Temp\\ipykernel_15484\\2531193362.py:21: DeprecationWarning: Please use `mat_struct` from the `scipy.io.matlab` namespace, the `scipy.io.matlab.mio5_params` namespace is deprecated.\n",
      "  if isinstance(d[key], spio.matlab.mio5_params.mat_struct):\n",
      "C:\\Users\\camar\\AppData\\Local\\Temp\\ipykernel_15484\\2531193362.py:37: DeprecationWarning: Please use `mat_struct` from the `scipy.io.matlab` namespace, the `scipy.io.matlab.mio5_params` namespace is deprecated.\n",
      "  if isinstance(elem, spio.matlab.mio5_params.mat_struct):\n",
      "C:\\Users\\camar\\AppData\\Local\\Temp\\ipykernel_15484\\2531193362.py:28: DeprecationWarning: Please use `mat_struct` from the `scipy.io.matlab` namespace, the `scipy.io.matlab.mio5_params` namespace is deprecated.\n",
      "  e, scipy.io.matlab.mio5_params.mat_struct) for e in elem)\n"
     ]
    }
   ],
   "source": [
    "# Matlab code conversion\n",
    "\n",
    "# Read matlab file instead of excelfile (easier conversion)\n",
    "data = loadmat('matlab.mat')"
   ]
  },
  {
   "cell_type": "code",
   "execution_count": 6,
   "id": "810dc53f",
   "metadata": {
    "ExecuteTime": {
     "end_time": "2022-10-21T08:39:59.589451Z",
     "start_time": "2022-10-21T08:39:59.583458Z"
    },
    "code_folding": [
     0
    ],
    "pycharm": {
     "name": "#%%\n"
    }
   },
   "outputs": [],
   "source": [
    "# Linearize the generator prices\n",
    "\n",
    "# genCofA=data.generator.limit(:,:,6); -> MATLAB starts with 1, so we need the index -1\n",
    "# genCofB=data.generator.limit(:,:,7);\n",
    "# genCofC=data.generator.limit(:,:,8);\n",
    "\n",
    "genCofA = data['data']['generator']['limit'][:, :, 5]\n",
    "genCofB = data['data']['generator']['limit'][:, :, 6]\n",
    "genCofC = data['data']['generator']['limit'][:, :, 7]"
   ]
  },
  {
   "cell_type": "code",
   "execution_count": 7,
   "id": "1822607e",
   "metadata": {
    "ExecuteTime": {
     "end_time": "2022-10-21T08:39:59.932567Z",
     "start_time": "2022-10-21T08:39:59.929567Z"
    },
    "code_folding": [
     0
    ],
    "pycharm": {
     "name": "#%%\n"
    }
   },
   "outputs": [],
   "source": [
    "# Options for simulation\n",
    "\n",
    "#options \n",
    "iterlim = 1000000000\n",
    "reslim = 5000000000"
   ]
  },
  {
   "cell_type": "code",
   "execution_count": 8,
   "id": "62bca05f",
   "metadata": {
    "ExecuteTime": {
     "end_time": "2022-10-21T08:40:00.306975Z",
     "start_time": "2022-10-21T08:40:00.298982Z"
    },
    "code_folding": [
     0
    ],
    "pycharm": {
     "name": "#%%\n"
    }
   },
   "outputs": [],
   "source": [
    "# Definir o numero de resources usados\n",
    "\n",
    "numGen = np.arange(1, data['data']['parameterData']['resources']['numGen'] + 1)\n",
    "numLoad = np.arange(1, data['data']['parameterData']['resources']['numLoad'] + 1)\n",
    "numStor = np.arange(1, data['data']['parameterData']['resources']['numStor'] + 1)\n",
    "numV2G = np.arange(1, data['data']['parameterData']['resources']['numV2G'] + 1)\n",
    "numCStat = np.arange(1, data['data']['parameterData']['resources']['numCStat'] + 1)\n",
    "numPeriod = np.arange(1, data['data']['parameterData']['resources']['period'] + 1)\n",
    "numBus = np.array([1]) #np.arange(1) # forced to 1\n",
    "nOwner = np.arange(1, data['data']['parameterData']['resources']['owners'] + 1)"
   ]
  },
  {
   "cell_type": "code",
   "execution_count": 9,
   "id": "48126938",
   "metadata": {
    "ExecuteTime": {
     "end_time": "2022-10-21T08:40:00.729555Z",
     "start_time": "2022-10-21T08:40:00.725554Z"
    },
    "code_folding": [
     0
    ],
    "pycharm": {
     "name": "#%%\n"
    }
   },
   "outputs": [],
   "source": [
    "# Define as strings com os recursos para mandar para GAMS\n",
    "\n",
    "gen = np.max(numGen)\n",
    "Load = np.max(numLoad)\n",
    "stor = np.max(numStor)\n",
    "v2g = np.max(numV2G)\n",
    "cs = np.max(numCStat)\n",
    "period = np.max(numPeriod)\n",
    "Bus = np.max(numBus)"
   ]
  },
  {
   "cell_type": "code",
   "execution_count": 10,
   "id": "8e59d5eb",
   "metadata": {
    "ExecuteTime": {
     "end_time": "2022-10-21T08:40:01.073423Z",
     "start_time": "2022-10-21T08:40:01.067421Z"
    },
    "code_folding": [
     0
    ],
    "pycharm": {
     "name": "#%%\n"
    }
   },
   "outputs": [],
   "source": [
    "#% Definir as matrizes com os dados para o GAMS\n",
    "\n",
    "# General Info\n",
    "pMaxImp = data['data']['parameterData']['generalInfo']['P_Max_Imp']\n",
    "pMaxExp = data['data']['parameterData']['generalInfo']['P_Max_Exp']\n",
    "buyPrice = data['data']['parameterData']['generalInfo']['Energy_Buy_Price']\n",
    "sellPrice = data['data']['parameterData']['generalInfo']['Energy_Sell_Price']\n",
    "\n",
    "# Geradores\n",
    "genLimit = data['data']['generator']['limit'][numGen[0]-1:numGen[-1]+1, numPeriod[0]-1:numPeriod[-1]+1, :]\n",
    "genInfo = data['data']['generator']['info']\n",
    "\n",
    "# Cargas\n",
    "loadLimit = data['data']['load']['limit'][numLoad[0]-1:numLoad[-1]+1, numPeriod[0]-1:numPeriod[-1]+1, :]\n",
    "\n",
    "# Baterias\n",
    "storLimit = data['data']['storage']['limit'][numStor[0]-1:numStor[-1]+1, numPeriod[0]-1:numPeriod[-1]+1, :]\n",
    "storInfo = data['data']['storage']['info']\n",
    "\n",
    "# Veiculos\n",
    "v2gLimit = data['data']['vehicle']['limit']\n",
    "v2gInfo = data['data']['vehicle']['info']\n",
    "\n",
    "# Charging Station\n",
    "csLimit = data['data']['cstation']['limit'][numCStat[0]-1:numCStat[-1]+1, numPeriod[0]-1:numPeriod[-1]+1, :]\n",
    "csInfo = data['data']['cstation']['info']\n",
    "\n",
    "# Connect EV to Charging Station\n",
    "EV_CS_Info = data['data']['vehicle']['timeInfo']['V2GinCS']"
   ]
  },
  {
   "cell_type": "code",
   "execution_count": 11,
   "id": "17227734",
   "metadata": {
    "ExecuteTime": {
     "end_time": "2022-10-21T08:40:01.462184Z",
     "start_time": "2022-10-21T08:40:01.449181Z"
    },
    "code_folding": [
     0
    ],
    "pycharm": {
     "name": "#%%\n"
    }
   },
   "outputs": [],
   "source": [
    "# Definir os dados da rede para o GAMS\n",
    "\n",
    "# Linhas\n",
    "branchData = data['data']['network']['branch']\n",
    "\n",
    "# Tensão Máxima\n",
    "voltageMax = data['data']['parameterData']['network']['voltageMax']\n",
    "\n",
    "# Tensão Mínima\n",
    "voltageMin = data['data']['parameterData']['network']['voltageMin']\n",
    "\n",
    "# Angulo Máximo\n",
    "angleMax = data['data']['parameterData']['network']['angleMax']\n",
    "\n",
    "# Angulo Mínimo\n",
    "angleMin = data['data']['parameterData']['network']['angleMin']\n",
    "\n",
    "# Definir a matriz das admitancias\n",
    "ybus = data['data']['parameterData']['network']['ybus']\n",
    "diag = data['data']['parameterData']['network']['diag']\n",
    "branchID = data['data']['parameterData']['network']['branch']"
   ]
  },
  {
   "cell_type": "code",
   "execution_count": 12,
   "id": "a43510e5",
   "metadata": {
    "ExecuteTime": {
     "end_time": "2022-10-21T08:40:02.056663Z",
     "start_time": "2022-10-21T08:40:02.041648Z"
    },
    "code_folding": [
     0
    ],
    "pycharm": {
     "name": "#%%\n"
    }
   },
   "outputs": [],
   "source": [
    "#% Anular o custo fixo e quadratico da DG\n",
    "\n",
    "genLimit[:, :, 3] = 0\n",
    "genLimit[:, :, 5] = 0\n",
    "\n",
    "genLimit = np.append(genLimit, np.zeros(shape=(7, 24, 4)), axis=2)\n",
    "\n",
    "# Not necessary anymore\n",
    "#genLimit[:, :, 9] = 0\n",
    "#genLimit[:, :, 11] = 0"
   ]
  },
  {
   "cell_type": "code",
   "execution_count": 13,
   "id": "523d08dc",
   "metadata": {
    "ExecuteTime": {
     "end_time": "2022-10-21T08:40:02.367744Z",
     "start_time": "2022-10-21T08:40:02.362743Z"
    },
    "code_folding": [
     0
    ],
    "pycharm": {
     "name": "#%%\n"
    }
   },
   "outputs": [],
   "source": [
    "# Define the fixed sets structure to use in the parameters of the gams optimization process\n",
    "\n",
    "NCOLS = 12\n",
    "\n",
    "genLimitInfo = np.arange(1, NCOLS+1)\n",
    "loadLimitInfo = np.arange(1, NCOLS+1)\n",
    "storLimitInfo = np.arange(1, NCOLS+1)\n",
    "v2gLimitInfo = np.arange(1, NCOLS+1)\n",
    "csLimitInfo = np.arange(1, NCOLS+1)"
   ]
  },
  {
   "cell_type": "code",
   "execution_count": 14,
   "id": "9e744031",
   "metadata": {
    "ExecuteTime": {
     "end_time": "2022-10-21T08:40:02.632788Z",
     "start_time": "2022-10-21T08:40:02.619782Z"
    },
    "code_folding": [
     0
    ],
    "pycharm": {
     "name": "#%%\n"
    }
   },
   "outputs": [],
   "source": [
    "# Define the several sets structure used in the gams optimization process, \n",
    "# these sets depends the number of resources used in matlab code\n",
    "\n",
    "_t = np.arange(period)\n",
    "_gen = np.arange(gen)\n",
    "_Load = np.arange(Load)\n",
    "_stor = np.arange(stor)\n",
    "_v2g = np.arange(v2g)\n",
    "_cs = np.arange(cs)"
   ]
  },
  {
   "cell_type": "code",
   "execution_count": 15,
   "id": "ce24e784",
   "metadata": {
    "ExecuteTime": {
     "end_time": "2022-10-21T08:40:02.927348Z",
     "start_time": "2022-10-21T08:40:02.908343Z"
    },
    "code_folding": [
     0
    ],
    "pycharm": {
     "name": "#%%\n"
    }
   },
   "outputs": [],
   "source": [
    "# Positive variables\n",
    "\n",
    "genActPower = np.ones(shape=(len(_gen), len(_t)))\n",
    "genExcActPower = np.ones(shape=(len(_gen), len(_t)))\n",
    "pImp = np.ones(shape=(len(_t)))\n",
    "pExp = np.ones(shape=(len(_t)))\n",
    "\n",
    "# Load variables\n",
    "loadRedActPower = np.ones(shape=(len(_Load), len(_t)))\n",
    "loadCutActPower = np.ones(shape=(len(_Load), len(_t)))\n",
    "loadENS = np.ones(shape=(len(_Load), len(_t)))\n",
    "\n",
    "# Storage variables\n",
    "storDchActPower = np.ones(shape=(len(_stor), len(_t)))\n",
    "storChActPower = np.ones(shape=(len(_stor), len(_t)))\n",
    "storEminRelaxStor = np.ones(shape=(len(_stor), len(_t)))\n",
    "storEnerState = np.ones(shape=(len(_stor), len(_t)))\n",
    "\n",
    "# V2G variables\n",
    "v2gDchActPower = np.ones(shape=(len(_v2g), len(_t)))\n",
    "v2gChActPower = np.ones(shape=(len(_v2g), len(_t)))\n",
    "v2gEnerState = np.ones(shape=(len(_v2g), len(_t)))\n",
    "v2gEminRelaxEv = np.ones(shape=(len(_v2g), len(_t)))\n",
    "\n",
    "# Charging Stations\n",
    "csActPower = np.ones(shape=(len(_cs), len(_t)))\n",
    "csActPowerNet = np.ones(shape=(len(_cs), len(_t)))\n",
    "\n",
    "# Storage deg\n",
    "storSegSoC = np.ones(shape=(len(_stor), len(_t), 3))\n",
    "v2gSegSoC = np.ones(shape=(len(_v2g), len(_t), 3))"
   ]
  },
  {
   "cell_type": "code",
   "execution_count": 16,
   "id": "1ad62483",
   "metadata": {
    "ExecuteTime": {
     "end_time": "2022-10-21T08:40:03.193328Z",
     "start_time": "2022-10-21T08:40:03.177318Z"
    },
    "code_folding": [
     0
    ],
    "pycharm": {
     "name": "#%%\n"
    }
   },
   "outputs": [],
   "source": [
    "# Binary variables\n",
    "\n",
    "genXo = np.zeros(shape=(len(_gen), len(_t)))\n",
    "loadXo = np.zeros(shape=(len(_Load), len(_t)))\n",
    "\n",
    "storChXo = np.zeros(shape=(len(_stor), len(_t)))\n",
    "storDchXo = np.zeros(shape=(len(_stor), len(_t)))\n",
    "\n",
    "v2gChXo = np.zeros(shape=(len(_v2g), len(_t)))\n",
    "v2gDchXo = np.zeros(shape=(len(_v2g), len(_t)))\n",
    "\n",
    "# Battery deg binary variables\n",
    "storSegXo = np.zeros(shape=(len(_stor), len(_t), 3))\n",
    "v2gSegXo = np.zeros(shape=(len(_v2g), len(_t), 3))"
   ]
  },
  {
   "cell_type": "code",
   "execution_count": 17,
   "id": "d8e542b5",
   "metadata": {
    "ExecuteTime": {
     "end_time": "2022-10-21T08:40:03.505660Z",
     "start_time": "2022-10-21T08:40:03.487464Z"
    },
    "code_folding": [
     0
    ],
    "pycharm": {
     "name": "#%%\n"
    }
   },
   "outputs": [],
   "source": [
    "# Define dictionaries\n",
    "\n",
    "dict_var = {'genActPower': genActPower,\n",
    "            'genExcActPower': genExcActPower,\n",
    "            'pImp': pImp,\n",
    "            'pExp': pExp,\n",
    "            'loadRedActPower': loadRedActPower,\n",
    "            'loadENS': loadENS,\n",
    "            'storDchActPower': storDchActPower,\n",
    "            'storChActPower': storChActPower,\n",
    "            'EminRelaxStor': storEminRelaxStor,\n",
    "            #'v2gDchActPower': v2gDchActPower,\n",
    "            #'v2gChActPower': v2gChActPower,\n",
    "            'genXo': genXo,\n",
    "            'loadXo': loadXo,\n",
    "            'storDchXo': storDchXo,\n",
    "            'storChXo': storChXo,\n",
    "            'v2gDchXo': v2gDchXo,\n",
    "            'v2gChXo': v2gChXo}#,\n",
    "            #'storSegSoC': storSegSoC,\n",
    "            #'v2gSegSoC': v2gSegSoC,\n",
    "            #'storSegXo': storSegXo,\n",
    "            #'v2gSegXo': v2gSegXo}\n",
    "encoded_vars = encode(dict_var)\n",
    "encoded_vars = encoded_vars.astype(float)\n",
    "decoded_vars = decode(encoded_vars, dict_var)\n",
    "\n",
    "dict_par = {'genLimit': genLimit,\n",
    "            'genInfo': genInfo,\n",
    "            'pImpMax': pMaxImp,\n",
    "            'pExpMax': pMaxExp,\n",
    "            'loadLimit': loadLimit,\n",
    "            'loadActPower': loadLimit[:, :, 0],\n",
    "            'storLimit': storLimit,\n",
    "            'storInfo': storInfo[:, :12],\n",
    "            'v2gLimit': v2gLimit,\n",
    "            'v2gInfo': v2gInfo,\n",
    "            'csLimit': csLimit,\n",
    "            'csInfo': csInfo,\n",
    "            'EV_CS_Info': EV_CS_Info,\n",
    "            'buyPrice': buyPrice,\n",
    "            'sellPrice': sellPrice,\n",
    "            't': _t,\n",
    "            'gen': _gen,\n",
    "            'load': _Load,\n",
    "            'stor': _stor,\n",
    "            'v2g': _v2g,\n",
    "            'cs': _cs,\n",
    "            #'storPieceSegments': np.array([1, 2, 3]),\n",
    "            'storCapCost': storInfo[:, 5] * 0.00105,\n",
    "            #'storCyclesMult': np.array([1000, 1200, 700]),\n",
    "            'v2gCapCost': v2gInfo[:, 4] * 0.00105}\n",
    "            #'v2gCyclesMult': np.array([1000, 1000, 1000, 1000, 1000])}\n",
    "encoded_pars = encode(dict_par)\n",
    "encoded_pars = encoded_pars.astype(float)\n",
    "decoded_pars = decode(encoded_pars, dict_par)"
   ]
  },
  {
   "cell_type": "code",
   "execution_count": 18,
   "id": "5b2e73f8",
   "metadata": {
    "ExecuteTime": {
     "end_time": "2022-10-21T08:40:05.852749Z",
     "start_time": "2022-10-21T08:40:05.838755Z"
    },
    "code_folding": [],
    "pycharm": {
     "name": "#%%\n"
    }
   },
   "outputs": [],
   "source": [
    "# Encoded and decoded dictionaries\n",
    "\n",
    "encoded_dict = encode(dict_var)\n",
    "\n",
    "decoded_dict = decode(encoded_dict, dict_var)"
   ]
  },
  {
   "cell_type": "code",
   "execution_count": 19,
   "id": "1c29012f",
   "metadata": {
    "ExecuteTime": {
     "end_time": "2022-10-21T08:40:06.229409Z",
     "start_time": "2022-10-21T08:40:06.214406Z"
    },
    "code_folding": [],
    "pycharm": {
     "name": "#%%\n"
    }
   },
   "outputs": [],
   "source": [
    "# Define min and max values allowed\n",
    "\n",
    "minVals = {'genActPower': np.array(np.zeros((1, genActPower.ravel().shape[0]))),\n",
    "           'genExcActPower': np.array(np.zeros((1, genExcActPower.ravel().shape[0]))),\n",
    "           'pImp': np.array(np.zeros((1, pImp.ravel().shape[0]))),\n",
    "           'pExp': np.array(np.zeros((1, pExp.ravel().shape[0]))),\n",
    "           'loadRedActPower': np.array(np.zeros((1, loadRedActPower.ravel().shape[0]))),\n",
    "           'loadENS': np.array(np.zeros((1, loadENS.ravel().shape[0]))),\n",
    "           'storDchActPower': np.array(np.zeros((1, storDchActPower.ravel().shape[0]))),\n",
    "           'storChActPower': np.array(np.zeros((1, storChActPower.ravel().shape[0]))),\n",
    "           'EminRelaxStor': np.array(np.zeros((1, storEminRelaxStor.ravel().shape[0]))),\n",
    "           #'v2gDchActPower': np.array(np.zeros((1, v2gDchActPower.ravel().shape[0]))),\n",
    "           #'v2gChActPower': np.array(np.zeros((1, v2gChActPower.ravel().shape[0]))),\n",
    "           'genXo': np.array(np.zeros((1, genXo.ravel().shape[0]))),\n",
    "           'loadXo': np.array(np.zeros((1, loadXo.ravel().shape[0]))),\n",
    "           'storDchXo': np.array(np.zeros((1, storDchXo.ravel().shape[0]))),\n",
    "           'storChXo': np.array(np.zeros((1, storChXo.ravel().shape[0]))),\n",
    "           'v2gDchXo': np.array(np.zeros((1, v2gDchXo.ravel().shape[0]))),\n",
    "           'v2gChXo': np.array(np.zeros((1, v2gChXo.ravel().shape[0])))}#,\n",
    "           #'storSegSoC': np.array(np.zeros((1, storSegSoC.ravel().shape[0]))),\n",
    "           #'v2gSegSoC': np.array(np.zeros((1, v2gSegSoC.ravel().shape[0]))),\n",
    "           #'storSegXo': np.array(np.zeros((1, storSegXo.ravel().shape[0]))),\n",
    "           #'v2gSegXo': np.array(np.zeros((1, v2gSegXo.ravel().shape[0])))}\n",
    "encoded_minvals = encode(minVals)\n",
    "encoded_minvals = encoded_minvals.astype(float)\n",
    "\n",
    "maxVals = {'genActPower': genLimit[:, :, 0],\n",
    "           'genExcActPower': genLimit[:, :, 0],\n",
    "           'pImp': pMaxImp.ravel(),\n",
    "           'pExp': pMaxExp.ravel(),\n",
    "           'loadRedActPower': loadLimit[:, :, 2].ravel(),\n",
    "           'loadENS': decoded_pars['loadActPower'].ravel(),\n",
    "           'storDchActPower': storLimit[:, :, 1].ravel(),\n",
    "           'storChActPower': storLimit[:, :, 0].ravel(),\n",
    "           'EminRelaxStor': 100*np.array(np.ones((1, storEminRelaxStor.ravel().shape[0]))),\n",
    "           #'v2gDchActPower': 200*np.array(np.ones((1, v2gDchActPower.ravel().shape[0]))),\n",
    "           #'v2gChActPower': 200*np.array(np.ones((1, v2gChActPower.ravel().shape[0]))),\n",
    "           'genXo': np.array(np.ones((1, genXo.ravel().shape[0]))),\n",
    "           'loadXo': np.array(np.ones((1, loadXo.ravel().shape[0]))),\n",
    "           'storDchXo': np.array(np.ones((1, storDchXo.ravel().shape[0]))),\n",
    "           'storChXo': np.array(np.ones((1, storChXo.ravel().shape[0]))),\n",
    "           'v2gDchXo': np.array(np.ones((1, v2gDchXo.ravel().shape[0]))),\n",
    "           'v2gChXo': np.array(np.ones((1, v2gChXo.ravel().shape[0])))}#,\n",
    "           #'storSegSoC': 100*np.array(np.ones((1, storSegSoC.ravel().shape[0]))),\n",
    "           #'v2gSegSoC': 100*np.array(np.ones((1, v2gSegSoC.ravel().shape[0]))),\n",
    "           #'storSegXo': np.array(np.ones((1, storSegXo.ravel().shape[0]))),\n",
    "           #'v2gSegXo': np.array(np.ones((1, v2gSegXo.ravel().shape[0])))}\n",
    "encoded_maxvals = encode(maxVals)\n",
    "encoded_maxvals = encoded_maxvals.astype(float)"
   ]
  },
  {
   "cell_type": "code",
   "execution_count": 20,
   "id": "b0804fd3",
   "metadata": {
    "ExecuteTime": {
     "end_time": "2022-10-21T08:40:06.746124Z",
     "start_time": "2022-10-21T08:40:06.726119Z"
    },
    "code_folding": [],
    "pycharm": {
     "name": "#%%\n"
    }
   },
   "outputs": [],
   "source": [
    "# Define initial solution\n",
    "\n",
    "sol = {'genActPower': genLimit[:, :, 0].ravel(),\n",
    "       'genExcActPower': np.array(np.zeros((1, genExcActPower.ravel().shape[0]))),\n",
    "       'pImp': pMaxImp.ravel(),\n",
    "       'pExp': np.array(np.zeros((1, pExp.ravel().shape[0]))),\n",
    "       'loadRedActPower': np.array(np.zeros((1, loadRedActPower.ravel().shape[0]))),\n",
    "       'loadENS': np.array(np.zeros((1, loadENS.ravel().shape[0]))),\n",
    "       'storDchActPower': np.array(np.zeros((1, storDchActPower.ravel().shape[0]))),\n",
    "       'storChActPower': np.array(np.zeros((1, storChActPower.ravel().shape[0]))),\n",
    "       'EminRelaxStor': np.array(np.zeros((1, storEminRelaxStor.ravel().shape[0]))),\n",
    "       #'v2gDchActPower': np.array(np.zeros((1, v2gDchActPower.ravel().shape[0]))),\n",
    "       #'v2gChActPower': np.array(np.zeros((1, v2gChActPower.ravel().shape[0]))),\n",
    "       'genXo': np.array(np.zeros((1, genXo.ravel().shape[0]))),\n",
    "       'loadXo': np.array(np.zeros((1, loadXo.ravel().shape[0]))),\n",
    "       'storDchXo': np.array(np.ones((1, storDchXo.ravel().shape[0]))),\n",
    "       'storChXo': np.array(np.zeros((1, storChXo.ravel().shape[0]))),\n",
    "       'v2gDchXo': np.array(np.zeros((1, v2gDchXo.ravel().shape[0]))),\n",
    "       'v2gChXo': np.array(np.zeros((1, v2gChXo.ravel().shape[0])))}#,\n",
    "       #'storSegSoC': np.array(np.zeros((1, storSegSoC.ravel().shape[0]))),\n",
    "       #'v2gSegSoC': np.array(np.zeros((1, v2gSegSoC.ravel().shape[0]))),\n",
    "       #'storSegXo': np.array(np.zeros((1, storSegXo.ravel().shape[0]))),\n",
    "       #'v2gSegXo': np.array(np.zeros((1, v2gSegXo.ravel().shape[0])))}\n",
    "\n",
    "encoded_sol = encode(sol)\n",
    "encoded_sol = encoded_sol.astype(float)"
   ]
  },
  {
   "cell_type": "code",
   "execution_count": 21,
   "id": "f12ccd59",
   "metadata": {
    "ExecuteTime": {
     "end_time": "2022-10-21T08:40:07.185135Z",
     "start_time": "2022-10-21T08:40:07.167139Z"
    },
    "code_folding": [],
    "pycharm": {
     "name": "#%%\n"
    }
   },
   "outputs": [],
   "source": [
    "# Properly shaped initial Solution\n",
    "\n",
    "sol_shaped = {'genActPower': genLimit[:, :, 0],\n",
    "              'genExcActPower': np.zeros(genExcActPower.shape),\n",
    "              'pImp': pMaxImp,\n",
    "              'pExp': np.zeros(pExp.shape),\n",
    "              'loadRedActPower': np.zeros(loadRedActPower.shape),\n",
    "              'loadENS': np.zeros(loadENS.shape),\n",
    "              'storDchActPower': np.zeros(storDchActPower.shape),\n",
    "              'storChActPower': np.zeros(storChActPower.shape),\n",
    "              'EminRelaxStor': np.zeros(storEminRelaxStor.shape),\n",
    "              #'v2gDchActPower': np.zeros(v2gDchActPower.shape),\n",
    "              #'v2gChActPower': np.zeros(v2gChActPower.shape),\n",
    "              'genXo': np.zeros(genXo.shape),\n",
    "              'loadXo': np.zeros(loadXo.shape),\n",
    "              'storDchXo': np.ones(storDchXo.shape),\n",
    "              'storChXo': np.zeros(storChXo.shape),\n",
    "              'v2gDchXo': np.zeros(v2gDchXo.shape),\n",
    "              'v2gChXo': np.zeros(v2gChXo.shape)}\n",
    "\n",
    "encoded_shaped = encode(sol_shaped)\n",
    "decoded_shaped = decode(encoded_shaped, dict_var)"
   ]
  },
  {
   "cell_type": "code",
   "execution_count": 22,
   "outputs": [],
   "source": [
    "# Class to speed up code execution\n",
    "\n",
    "class HeuristicData(object):\n",
    "    def __init__(self):\n",
    "        return\n",
    "\n",
    "\n",
    "    def objectiveFunction(self):\n",
    "        return\n",
    "\n",
    "\n",
    "    def doIteration(self):\n",
    "        return\n",
    "\n",
    "\n",
    "    def newIteration(self, encoded_vals):\n",
    "        return\n",
    "\n",
    "\n",
    "class EnergyCommunity(HeuristicData):\n",
    "\n",
    "    def __init__(self, parameters, variables):\n",
    "        # Set initial values\n",
    "        self.__initial_variables__ = variables\n",
    "        self.__var_idx__ = [variables[v].ravel().shape[0] for v in variables.keys()]\n",
    "        self.__var_names__ = list(variables.keys())\n",
    "\n",
    "        self.parameterAssign(parameters)\n",
    "        self.variableAssign(variables)\n",
    "\n",
    "        self.encoded = None\n",
    "        self.decoded = None\n",
    "\n",
    "\n",
    "        self.objFn = 0\n",
    "\n",
    "        self.checkV2G()\n",
    "        self.checkCS()\n",
    "        return\n",
    "\n",
    "\n",
    "    def parameterAssign(self, parameters):\n",
    "        self.genLimit = parameters['genLimit']\n",
    "        self.genInfo = parameters['genInfo']\n",
    "        self.pImpMax = parameters['pImpMax']\n",
    "        self.pExpMax = parameters['pExpMax']\n",
    "        self.loadLimit = parameters['loadLimit']\n",
    "        self.loadActPower = parameters['loadActPower']\n",
    "        self.storLimit = parameters['storLimit']\n",
    "        self.storInfo = parameters['storInfo']\n",
    "        self.v2gLimit = parameters['v2gLimit']\n",
    "        self.v2gInfo = parameters['v2gInfo']\n",
    "        self.csLimit = parameters['csLimit']\n",
    "        self.csInfo = parameters['csInfo']\n",
    "        self.EV_CS_Info = parameters['EV_CS_Info']\n",
    "        self.buyPrice = parameters['buyPrice']\n",
    "        self.sellPrice = parameters['sellPrice']\n",
    "        self.t = parameters['t']\n",
    "        self.gen = parameters['gen']\n",
    "        self.load = parameters['load']\n",
    "        self.stor = parameters['stor']\n",
    "        self.v2g = parameters['v2g']\n",
    "        self.cs = parameters['cs']\n",
    "        #self.storPieceSegments = parameters['storPieceSegments']\n",
    "        self.storCapCost = parameters['storCapCost']\n",
    "        #self.storCyclesMult = parameters['storCyclesMult']\n",
    "        self.v2gCapCost = parameters['v2gCapCost']\n",
    "        #self.v2gCyclesMult = parameters['v2gCyclesMult']\n",
    "\n",
    "        return\n",
    "\n",
    "\n",
    "    def variableAssign(self, variables):\n",
    "        self.genActPower = variables['genActPower']\n",
    "        self.genExcActPower = variables['genExcActPower']\n",
    "        self.pImp = variables['pImp']\n",
    "        self.pExp = variables['pExp']\n",
    "        self.loadRedActPower = variables['loadRedActPower']\n",
    "        self.loadENS = variables['loadENS']\n",
    "        self.storDchActPower = variables['storDchActPower']\n",
    "        self.storChActPower = variables['storChActPower']\n",
    "        self.EminRelaxStor = variables['EminRelaxStor']\n",
    "        #self.v2gDchActPower = variables['v2gDchActPower']\n",
    "        #self.v2gChActPower = variables['v2gChActPower']\n",
    "        self.genXo = variables['genXo']\n",
    "        self.loadXo = variables['loadXo']\n",
    "        self.storDchXo = variables['storDchXo']\n",
    "        self.storChXo = variables['storChXo']\n",
    "        self.v2gDchXo = variables['v2gDchXo']\n",
    "        self.v2gChXo = variables['v2gChXo']\n",
    "        #self.storSegSoC = self.variables['storSegSoC']\n",
    "        #self.v2gSegSoC = self.variables['v2gSegSoC']\n",
    "        #self.storSegXo = self.variables['storSegXo']\n",
    "        #self.v2gSegXo = self.variables['v2gSegXo']\n",
    "\n",
    "        self.loadCutActPower = np.zeros((len(self.load),\n",
    "                                         len(self.t)))\n",
    "\n",
    "        self.storEnerState = np.zeros((len(self.stor),\n",
    "                                       len(self.t)))\n",
    "\n",
    "        #self.v2gEnerState = np.zeros((len(self.v2g),\n",
    "        #                              len(self.t)))\n",
    "\n",
    "        #self.EminRelaxEv = np.zeros((len(self.v2g),\n",
    "        #                             len(self.t)))\n",
    "\n",
    "        return\n",
    "\n",
    "\n",
    "    def objectiveFunction(self):\n",
    "        i: cython.int\n",
    "        t: cython.int\n",
    "        g: cython.int\n",
    "        l: cython.int\n",
    "        s: cython.int\n",
    "        v: cython.int\n",
    "\n",
    "        t_range: cython.int[self.t.shape[0]] = range(self.t.shape[0])\n",
    "        gen_range: cython.int[self.gen.shape[0]] = range(self.gen.shape[0])\n",
    "        load_range: cython.int[self.load.shape[0]] = range(self.load.shape[0])\n",
    "        stor_range: cython.int[self.stor.shape[0]] = range(self.stor.shape[0])\n",
    "        v2g_range: cython.int[self.v2g.shape[0]] = range(self.v2g.shape[0])\n",
    "\n",
    "        # Get the balance of the system\n",
    "        balance_gens = np.sum([self.genActPower[:, t_range] - self.genExcActPower[:, t_range]], axis=1)\n",
    "        balance_loads = np.sum([self.loadActPower[:, t_range] - self.loadRedActPower[:, t_range] - self.loadCutActPower[:, t_range] - self.loadENS[:, t_range]], axis=1)\n",
    "        balance_stor = np.sum([self.storChActPower[:, t_range] - self.storDchActPower[:, t_range]], axis=1)\n",
    "        balance_v2g = np.sum([self.v2gChActPower[:, t_range] - self.v2gDchActPower[:, t_range]], axis=1)\n",
    "        balance_rest = (balance_gens - balance_loads - balance_stor - balance_v2g).ravel()\n",
    "\n",
    "        # Balances and import/export penalties\n",
    "        mask = balance_rest > 0\n",
    "        self.pImp[mask] *= 0\n",
    "        self.pExp[mask] = balance_rest[mask]\n",
    "\n",
    "        mask = balance_rest < 0\n",
    "        self.pExp[mask] *= 0\n",
    "        self.pImp[mask] = abs(balance_rest)[mask]\n",
    "\n",
    "        # Attribute penalties for import/export\n",
    "        balance_penalty = 0\n",
    "        balance_penalty = sum(100000 for t in t_range if self.pImp[t] > self.pImpMax[t] or self.pExp[t] > self.pExpMax[t])\n",
    "\n",
    "        # Get the cost values for each component of the system\n",
    "        #temp_gens = sum(map(lambda t, g: self.genActPower[g, t] * self.genLimit[g, t, 2] + self.genExcActPower[g, t] * self.genLimit[g, t, 4], t_range, gen_range))\n",
    "        temp_gens = sum(self.genActPower[g, t] * self.genLimit[g, t, 2] + self.genExcActPower[g, t] * self.genLimit[g, t, 4] for t in t_range for g in gen_range)\n",
    "\n",
    "        #temp_gens = sum(map(lambda g, t: self.genActPower[g, t] * self.genLimit[g, t, 2] + self.genExcActPower[g, t] * self.genLimit[g, t, 4], gen_range, t_range))\n",
    "\n",
    "\n",
    "\n",
    "        #temp_loads = sum(map(lambda t, l: self.loadRedActPower[l, t] * self.loadLimit[l, t, 6] +\n",
    "        #                                  self.loadCutActPower[l, t] * self.loadLimit[l, t, 7] +\n",
    "        #                                  self.loadENS[l, t] * self.loadLimit[l, t, 9], t_range, load_range))\n",
    "\n",
    "        temp_loads = sum(self.loadRedActPower[l, t] * self.loadLimit[l, t, 6] +\n",
    "                         self.loadCutActPower[l, t] * self.loadLimit[l, t, 7] +\n",
    "                         self.loadENS[l, t] * self.loadLimit[l, t, 9] for t in t_range for l in load_range)\n",
    "\n",
    "\n",
    "\n",
    "        #temp_rest = (self.pImp[t_range] * self.buyPrice[t_range] - self.pExp[t_range] * self.sellPrice[t_range]).sum()\n",
    "\n",
    "        temp_rest = sum(self.pImp[t] * self.buyPrice[t] - self.pExp[t] * self.sellPrice[t] for t in t_range)\n",
    "\n",
    "        #temp_storDeg = sum(map(lambda t, s: self.storCapCost[s] * (self.storEnerState[s, t]/self.storInfo[s, 5] - 0.63)**2 +\n",
    "        #                                  self.storDchActPower[s, t] * self.storLimit[s, t, 3] +\n",
    "        #                                  self.storChActPower[s, t] * self.storLimit[s, t, 2] +\n",
    "        #                                  (6.5e-3)/self.storInfo[s, 5] * self.storChActPower[s, t]**2, t_range, stor_range))\n",
    "\n",
    "        temp_storDeg = sum(self.storCapCost[s] * (self.storEnerState[s, t]/self.storInfo[s, 5] - 0.63)**2 +\n",
    "                                          self.storDchActPower[s, t] * self.storLimit[s, t, 3] +\n",
    "                                          self.storChActPower[s, t] * self.storLimit[s, t, 2] +\n",
    "                                          (6.5e-3)/self.storInfo[s, 5] * self.storChActPower[s, t]**2 for t in t_range for s in stor_range)\n",
    "\n",
    "        #temp_v2gDeg = sum(map(lambda t, v: self.v2gCapCost[v] * (self.v2gEnerState[v, t]/self.v2gInfo[v, 4] - 0.63)**2 +\n",
    "        #                                  self.v2gDchActPower[v, t] * self.v2gLimit[v, t, 6] +\n",
    "        #                                  self.v2gChActPower[v, t] * self.v2gLimit[v, t, 5] +\n",
    "        #                                  (6.5e-3)/self.v2gInfo[v, 4] * self.v2gChActPower[v, t]**2, t_range, v2g_range))\n",
    "\n",
    "        temp_v2gDeg = sum(self.v2gCapCost[v] * (self.v2gEnerState[v, t]/self.v2gInfo[v, 4] - 0.63)**2 +\n",
    "                                          self.v2gDchActPower[v, t] * self.v2gLimit[v, t, 6] +\n",
    "                                          self.v2gChActPower[v, t] * self.v2gLimit[v, t, 5] +\n",
    "                                          (6.5e-3)/self.v2gInfo[v, 4] * self.v2gChActPower[v, t]**2 for t in t_range for v in v2g_range)\n",
    "\n",
    "        self.objFn = temp_gens + temp_loads + temp_rest + balance_penalty + temp_storDeg + temp_v2gDeg\n",
    "\n",
    "        if self.objFn < 0:\n",
    "            print('Negative objective function value: ', self.objFn)\n",
    "            print('Generators: ', temp_gens)\n",
    "            print('Loads: ', temp_loads)\n",
    "            print('Rest: ', temp_rest)\n",
    "            print('Storages: ', temp_storDeg)\n",
    "            print('V2G: ', temp_v2gDeg)\n",
    "            print('Balance penalty: ', balance_penalty)\n",
    "            print('Balance of the system: ', balance_rest)\n",
    "            print('Balance of the generators: ', balance_gens)\n",
    "            print('Balance of the loads: ', balance_loads)\n",
    "            print('Balance of the storages: ', balance_stor)\n",
    "            print('Balance of the V2G: ', balance_v2g)\n",
    "            print('Import: ', self.pImp)\n",
    "            print('Export: ', self.pExp)\n",
    "\n",
    "            raise ValueError('Negative objective function value')\n",
    "\n",
    "        #print('ObjF: ', self.objFn)\n",
    "        #print('\\n')\n",
    "\n",
    "        return\n",
    "\n",
    "\n",
    "    def doIteration(self):\n",
    "        self.checkImpExp()\n",
    "        self.checkGens()\n",
    "        self.checkLoads()\n",
    "        self.checkStor()\n",
    "\n",
    "        self.objectiveFunction()\n",
    "\n",
    "        self.encoded = self.encode()\n",
    "        return\n",
    "\n",
    "\n",
    "    def newIteration(self, encoded_vals):\n",
    "        self.variableAssign(self.decode(encoded_vals))\n",
    "        self.doIteration()\n",
    "        return\n",
    "\n",
    "\n",
    "    def checkImpExp(self):\n",
    "        # Imports and exports\n",
    "        self.pImp = np.clip(self.pImp, 0, self.pImpMax)\n",
    "        self.pExp = np.clip(self.pExp, 0, self.pExpMax)\n",
    "\n",
    "        return\n",
    "\n",
    "\n",
    "    def checkGens(self):\n",
    "        # Generator binary variable\n",
    "        self.genXo = (self.genXo > 0.5).astype(int)\n",
    "\n",
    "        # Generation bounds\n",
    "        self.genActPower = np.clip(self.genActPower, 0, self.genLimit[:, :, 0])\n",
    "        self.genExcActPower = np.clip(self.genExcActPower, 0, self.genLimit[:, :, 0])\n",
    "\n",
    "        # Generator types - type 1\n",
    "        mask = self.genInfo[:, 1] == np.ones(self.genInfo[:, 4].shape)\n",
    "        self.genActPower[mask] = (self.genLimit[:, :, 0] * self.genXo)[mask]\n",
    "\n",
    "        # Generator types - type 2\n",
    "        mask = self.genInfo[:, 1] == 2*np.ones(self.genInfo[:, 4].shape)\n",
    "        self.genExcActPower[mask] = self.genLimit[:, :, 0][mask] - self.genActPower[mask]\n",
    "        #self.genActPower[mask] = self.genLimit[:, :, 0][mask]\n",
    "\n",
    "        return\n",
    "\n",
    "\n",
    "    def checkLoads(self):\n",
    "\n",
    "        # Bound the values to either 0 or 1\n",
    "        self.loadXo = (self.loadXo > 0.5).astype(int)\n",
    "\n",
    "        # RedAct value checks\n",
    "        self.loadRedActPower = np.clip(self.loadRedActPower, 0, self.loadLimit[:, :, 2])\n",
    "\n",
    "        # loadCut value checks\n",
    "        self.loadCutActPower = np.multiply(self.loadLimit[:, :, 3], self.loadXo)\n",
    "\n",
    "        # loadENS\n",
    "        temp_ens = self.loadActPower - self.loadRedActPower - self.loadCutActPower\n",
    "        self.loadENS = np.clip(self.loadENS, 0, temp_ens)\n",
    "\n",
    "        return\n",
    "\n",
    "\n",
    "    def checkStor(self):\n",
    "\n",
    "        # Binary variables bound\n",
    "        self.storChXo = (self.storChXo > 0.5).astype(int)\n",
    "        self.storDchXo = (self.storDchXo > 0.5).astype(int)\n",
    "\n",
    "        # Discharge and charge value checks\n",
    "        self.storDchActPower = np.clip(self.storDchActPower, 0, self.storLimit[:, :, 1])\n",
    "        self.storChActPower = np.clip(self.storChActPower, 0, self.storLimit[:, :, 0])\n",
    "\n",
    "        # Charge and discharge efficiencies\n",
    "        charge_eff = self.storInfo[:, 7] * 0.01\n",
    "        discharge_eff = self.storInfo[:, 8] * 0.01\n",
    "\n",
    "        # Initial stor SoC\n",
    "        self.storEnerState[:, 0] = self.storInfo[:, 5] * (self.storInfo[:, 9]/100) + self.storChActPower[:, 0] * charge_eff - self.storDchActPower[:, 0]/discharge_eff\n",
    "\n",
    "        # Cython range\n",
    "        t_range: cython.int[len(self.t) - 1] = range(1, len(self.t))\n",
    "\n",
    "        # Expand the efficiencies to an array of the same size as the time array\n",
    "        charge_eff = np.tile(charge_eff, (len(self.t), 1)).T\n",
    "        discharge_eff = np.tile(discharge_eff, (len(self.t), 1)).T\n",
    "\n",
    "        # Precalculate the charge and discharge values\n",
    "        charged = np.multiply(self.storChActPower, charge_eff)\n",
    "        discharged = np.multiply(self.storDchActPower, discharge_eff)\n",
    "\n",
    "        # Fix the timestep dependencies\n",
    "        for t in t_range:\n",
    "            # Prevent charging beyond limit\n",
    "            mask = (self.storEnerState[:, t-1] + charged[:, t]) > self.storInfo[:, 5]\n",
    "            self.storChActPower[:, t][mask] = ((self.storInfo[:, 5] - self.storEnerState[:, t-1]) / charge_eff[:, t])[mask]\n",
    "            self.storChActPower[:, t] = np.clip(self.storChActPower[:, t], 0, self.storInfo[:, 5])\n",
    "\n",
    "            # Check if discharging is allowed\n",
    "            mask = (self.storEnerState[:, t-1] - discharged[:, t]) < 0\n",
    "            self.storDchActPower[:, t][mask] = (self.storEnerState[:, t-1] * discharge_eff[:, t])[mask]\n",
    "            self.storDchActPower[:, t] = np.clip(self.storDchActPower[:, t], 0, self.storInfo[:, 5])\n",
    "\n",
    "            # Update charge, discharge and SoC\n",
    "            self.storChActPower[:, t] = np.multiply(self.storChActPower[:, t], self.storChXo[:, t])\n",
    "            self.storDchActPower[:, t] = np.multiply(self.storDchActPower[:, t], self.storDchXo[:, t])\n",
    "            self.storEnerState[:, t] = self.storEnerState[:, t-1] + (self.storChActPower[:, t] * charge_eff[:, t]) - (self.storDchActPower[:, t] / discharge_eff[:, t])\n",
    "\n",
    "            mask = self.storEnerState[:, t] < self.storInfo[:, 6] * (self.storInfo[:, 5] * 0.01)# - self.EminRelaxStor[:, t]\n",
    "            self.storEnerState[:, t][mask] = (self.storInfo[:, 6] * (self.storInfo[:, 5] * 0.01))[mask]# - self.EminRelaxStor[:, t])[mask]\n",
    "            #self.storEnerState[:, t] = np.clip(self.storEnerState[:, t], 0, self.storInfo[:, 5])\n",
    "        return\n",
    "\n",
    "\n",
    "    def checkV2G(self):\n",
    "        # Binary variables bounding\n",
    "        self.v2gDchActPower = np.zeros((len(self.v2g),\n",
    "                                        len(self.t)))\n",
    "\n",
    "        self.v2gChActPower = np.zeros((len(self.v2g),\n",
    "                                       len(self.t)))\n",
    "\n",
    "        self.v2gEnerState = np.zeros((len(self.v2g),\n",
    "                                      len(self.t)))\n",
    "\n",
    "        self.EminRelaxEv = np.zeros((len(self.v2g),\n",
    "                                     len(self.t)))\n",
    "\n",
    "        # Bound binary variables\n",
    "        self.v2gChXo = (self.v2gChXo > 0.5).astype(int)\n",
    "        self.v2gDchXo = (self.v2gDchXo > 0.5).astype(int)\n",
    "\n",
    "        mask = None\n",
    "\n",
    "        v: cython.int\n",
    "        c: cython.int\n",
    "\n",
    "        self.v2gDchActPower = self.v2gLimit[:, :, 4] * self.v2gLimit[:, :, 0]\n",
    "        self.v2gChActPower = self.v2gLimit[:, :, 3] * self.v2gLimit[:, :, 0]\n",
    "\n",
    "        # V2G constraints\n",
    "        v_range: cython.int[len(self.v2g)] = range(len(self.v2g))\n",
    "        c_range: cython.int[len(self.cs)] = range(len(self.cs))\n",
    "        for v in v_range:\n",
    "            # Check connection to charging stations\n",
    "            isConnected = False\n",
    "            connectedTo = 0\n",
    "\n",
    "            # Check the charging stations\n",
    "            for c in c_range:\n",
    "                isConnected = True\n",
    "                if self.EV_CS_Info[v, c, 0] > 0:\n",
    "                    self.v2gChActPower[v, 0] = min(self.v2gChActPower[v, 0], self.csInfo[c, 4])\n",
    "                    self.v2gDchActPower[v, 0] = min(self.v2gDchActPower[v, 0], self.csInfo[c, 5])\n",
    "\n",
    "                    connectedTo = c\n",
    "                else:\n",
    "                    self.v2gDchXo[v, 0] = 0\n",
    "                    self.v2gChXo[v, 0] = 0\n",
    "\n",
    "            if self.v2gChXo[v, 0] + self.v2gDchXo[v, 0] > 1:\n",
    "                self.v2gDchXo[v, 0] = 1 - self.v2gChXo[v, 0]\n",
    "\n",
    "            mask = self.v2gLimit[v, :, 2] > 0\n",
    "            temp_val = self.v2gLimit[v, :, 2][mask]\n",
    "\n",
    "            if isConnected & (len(temp_val) > 0):\n",
    "                if self.v2gEnerState[v, 0] < temp_val[0]:\n",
    "                    next_index = next((idx for idx, val in np.ndenumerate(self.v2gLimit[v, :, 2])\n",
    "                                       if val==temp_val[0]))[0]\n",
    "                    min_tsteps = np.ceil((temp_val[0] - self.v2gEnerState[v, 0]) / self.csInfo[connectedTo, 4]) - 1\n",
    "\n",
    "                    if min_tsteps >= next_index:\n",
    "                        self.v2gChXo[v, 0] = 1\n",
    "                        self.v2gDchXo[v, 0] = 0\n",
    "\n",
    "            self.v2gChActPower[v, 0] *= self.v2gChXo[v,  0]\n",
    "            self.v2gDchActPower[v, 0] *= self.v2gDchXo[v, 0]\n",
    "\n",
    "            if self.v2gLimit[v, 0, 0] == 0:\n",
    "                self.v2gEnerState[v, 0] = 0\n",
    "            elif self.v2gLimit[v, 0, 0] == 1:\n",
    "                self.v2gEnerState[v, 0] = self.v2gLimit[v, 0, 1] + self.v2gChActPower[v, 0] * self.v2gInfo[v, 7] - self.v2gDchActPower[v, 0] / self.v2gInfo[v, 8]\n",
    "\n",
    "            # Timestep\n",
    "            for t in range(1, len(self.t)):\n",
    "\n",
    "                isConnected = False\n",
    "                connectedTo = 0\n",
    "\n",
    "                # Check the charging stations\n",
    "                for c in c_range:\n",
    "                    if self.EV_CS_Info[v, c, t] > 0:\n",
    "                        isConnected = True\n",
    "                        self.v2gChActPower[v, t] = min(self.v2gChActPower[v, t], self.csInfo[c, 4])\n",
    "                        self.v2gDchActPower[v, t] = min(self.v2gDchActPower[v, t], self.csInfo[c, 5])\n",
    "\n",
    "                        connectedTo = c\n",
    "                    else:\n",
    "                        self.v2gDchXo[v, t] = 0\n",
    "                        self.v2gChXo[v, t] = 0\n",
    "\n",
    "\n",
    "                # Disable charge and discharge in the same period\n",
    "                if self.v2gChXo[v, t] + self.v2gDchXo[v, t] > 1:\n",
    "                    self.v2gDchXo[v, t] = 1 - self.v2gChXo[v, t]\n",
    "\n",
    "                # Incentivise charge to meet minimum limits\n",
    "                mask = self.v2gLimit[v, t:, 2] > 0\n",
    "                temp_val = self.v2gLimit[v, t:, 2][mask]\n",
    "\n",
    "                # Check if there are any requirements for EVs\n",
    "                if isConnected & (len(temp_val) > 0):\n",
    "                    if self.v2gEnerState[v, t-1] < temp_val[0]:\n",
    "                        next_index = next((idx for idx, val in np.ndenumerate(self.v2gLimit[v, t:, 2])\n",
    "                                           if val==temp_val[0]))[0]\n",
    "                        min_tsteps = np.ceil((temp_val[0] - self.v2gEnerState[v, t-1])  /  self.csInfo[connectedTo, 4]) - 1\n",
    "                        if min_tsteps <= next_index:\n",
    "                            self.v2gChXo[v, t] = 1\n",
    "                            self.v2gDchXo[v, t] = 0\n",
    "\n",
    "\n",
    "\n",
    "                            if (self.v2gEnerState[v, t-1] + (self.v2gChActPower[v, t] * float(self.v2gInfo[v, 7]))) >= self.v2gInfo[v, 4]:\n",
    "                                self.v2gChActPower[v, t] = (self.v2gInfo[v, 4] - self.v2gEnerState[v, t-1]) / float(self.v2gInfo[v, 7])\n",
    "\n",
    "                # Prevent charging when battery is full\n",
    "                if self.v2gEnerState[v, t-1] == self.v2gInfo[v, 4]:\n",
    "                    #print('HERE')\n",
    "                    self.v2gChXo[v, t] = 0\n",
    "\n",
    "                # Prevent discharge when battery is empty\n",
    "                elif self.v2gEnerState[v, t-1] == 0:\n",
    "                    self.v2gDchXo[v, t] = 0\n",
    "\n",
    "                self.v2gChActPower[v, t] *= self.v2gChXo[v, t]\n",
    "                self.v2gDchActPower[v, t] *= self.v2gDchXo[v, t]\n",
    "\n",
    "                # Update battery capacity\n",
    "                if (self.v2gLimit[v, t-1, 0] == 1) & (self.v2gLimit[v, t, 0] == 1):\n",
    "                    self.v2gEnerState[v, t] = self.v2gEnerState[v, t-1] + self.v2gLimit[v, t, 1] + (self.v2gChActPower[v, t] * float(self.v2gInfo[v, 7])) - (self.v2gDchActPower[v, t] / float(self.v2gInfo[v, 8]))\n",
    "                elif (self.v2gLimit[v, t-1, 0] == 0) & (self.v2gLimit[v, t, 0] == 1):\n",
    "                    self.v2gEnerState[v, t] = self.v2gLimit[v, t, 1] + (self.v2gChActPower[v, t] * float(self.v2gInfo[v, 7])) + (self.v2gDchActPower[v, t] / float(self.v2gInfo[v, 8]))\n",
    "\n",
    "        return\n",
    "\n",
    "\n",
    "    def checkCS(self):\n",
    "\n",
    "        self.csActPower = np.zeros((len(self.cs),\n",
    "                                    len(self.t)))\n",
    "\n",
    "        self.csActPowerNet = np.zeros((len(self.cs),\n",
    "                                       len(self.t)))\n",
    "\n",
    "\n",
    "        c: cython.int\n",
    "        t: cython.int\n",
    "        v: cython.int\n",
    "\n",
    "        t_range: cython.int[len(self.t)] = range(len(self.t))\n",
    "        c_range: cython.int[len(self.cs)] = range(len(self.cs))\n",
    "        v_range: cython.int[len(self.v2g)] = range(len(self.v2g))\n",
    "\n",
    "        # Timesteps\n",
    "        for t in t_range:\n",
    "\n",
    "            # Charging station constraints\n",
    "            for c in c_range:\n",
    "\n",
    "                temp_val = 0\n",
    "                temp_val2 = 0\n",
    "                for v in v_range:\n",
    "                    if self.EV_CS_Info[v, c, t] > 0:\n",
    "                        temp_val += (self.v2gChActPower[v, t]  - self.v2gDchActPower[v, t])\n",
    "                        temp_val2 += (self.v2gChActPower[v, t] / (self.csInfo[c, 6] / 100) - (self.v2gDchActPower[v, t] * self.csInfo[c, 7] / 100))\n",
    "\n",
    "\n",
    "                if temp_val > self.csInfo[c, 4]:\n",
    "                    temp_val = self.csInfo[c, 4]\n",
    "                if temp_val < -self.csInfo[c, 5]:\n",
    "                    temp_val = -self.csInfo[c, 5]\n",
    "\n",
    "                self.csActPower[c, t] = temp_val\n",
    "                self.csActPowerNet[c, t] = temp_val2\n",
    "        return\n",
    "\n",
    "\n",
    "    def encode(self):\n",
    "        var_dictionary = {'genActPower': self.genActPower,\n",
    "                          'genExcActPower': self.genExcActPower,\n",
    "                          'pImp': self.pImp,\n",
    "                          'pExp': self.pExp,\n",
    "                          'loadRedActPower': self.loadRedActPower,\n",
    "                          'loadENS': self.loadENS,\n",
    "                          'storDchActPower': self.storDchActPower,\n",
    "                          'storChActPower': self.storChActPower,\n",
    "                          'EminRelaxStor': self.EminRelaxStor,\n",
    "                          #'v2gDchActPower': self.v2gDchActPower,\n",
    "                          #'v2gChActPower': self.v2gChActPower,\n",
    "                          'genXo': self.genXo,\n",
    "                          'loadXo': self.loadXo,\n",
    "                          'storDchXo': self.storDchXo,\n",
    "                          'storChXo': self.storChXo,\n",
    "                          'v2gDchXo': self.v2gDchXo,\n",
    "                          'v2gChXo': self.v2gChXo\n",
    "                         }\n",
    "\n",
    "        result_concat = np.concatenate([var_dictionary[v].ravel() for v in var_dictionary.keys()])\n",
    "        return result_concat\n",
    "\n",
    "\n",
    "    def decode(self, new_variables):\n",
    "        result_decoded = {}\n",
    "        current_index = 0\n",
    "\n",
    "        for idx in range(len(self.__var_names__)):\n",
    "            result_index = current_index + self.__var_idx__[idx]\n",
    "            result_decoded[self.__var_names__[idx]] = np.reshape(new_variables[current_index:result_index],\n",
    "                                                                 self.__initial_variables__[self.__var_names__[idx]].shape)\n",
    "\n",
    "            current_index = result_index\n",
    "\n",
    "\n",
    "        return result_decoded\n"
   ],
   "metadata": {
    "collapsed": false,
    "pycharm": {
     "name": "#%%\n"
    }
   }
  },
  {
   "cell_type": "code",
   "execution_count": 23,
   "outputs": [],
   "source": [
    "# HyDE-DF implementation\n",
    "\n",
    "def HyDE_DF_Refactored(deParameters, otherParameters, initialSolution):\n",
    "\n",
    "    # Generate population\n",
    "    def genpop(a, b, lowMatrix, upMatrix, solution):\n",
    "        temp = np.random.uniform(low=lowMatrix, high=upMatrix, size=(a, b))\n",
    "\n",
    "        # Apply lower and upper bounds\n",
    "        np.maximum(temp, lowMatrix, temp)\n",
    "        np.minimum(temp, upMatrix, temp)\n",
    "\n",
    "        return temp\n",
    "\n",
    "\n",
    "    # Trial generation\n",
    "    def generate_trial(F_weight, F_CR, FM_pop, FVr_bestmemit, I_NP, I_D, FVr_rot, linear_decrease):\n",
    "\n",
    "        # Save the old population\n",
    "        FM_popold = FM_pop\n",
    "\n",
    "        # Index pointer array\n",
    "        FVr_ind = np.random.permutation(np.arange(5))\n",
    "\n",
    "        # Shuffle locations of vectors\n",
    "        FVr_a1 = np.random.permutation(np.arange(I_NP))\n",
    "\n",
    "        # Rotate indices by ind[0] positions\n",
    "        FVr_rt = (FVr_rot + FVr_ind[0]) % I_NP\n",
    "\n",
    "        # Rotate vector locations\n",
    "        FVr_a2 = FVr_a1[FVr_rt]\n",
    "\n",
    "        # Shuffled populations\n",
    "        FM_pm1 = FM_popold[FVr_a1, :]\n",
    "        FM_pm2 = FM_popold[FVr_a2, :]\n",
    "\n",
    "        FM_mpo = None\n",
    "\n",
    "        # Meaning the same F_CR for all individuals\n",
    "        if len(F_CR) == 1:\n",
    "            # All random numbers < F_CR are 1, 0 otherwise\n",
    "            FM_mui = (np.random.normal(size=(I_NP, I_D)) < F_CR).astype(int)\n",
    "\n",
    "            # Inverse mask to FM_mui\n",
    "            FM_mpo = np.logical_not(FM_mui).astype(int)\n",
    "\n",
    "        # Meaning a different F_CR for each individual\n",
    "        else:\n",
    "            # All random numbers < F_CR are 1, 0 otherwise\n",
    "            FM_mui = (np.random.normal(size=(I_NP, I_D)) < F_CR).astype(int)\n",
    "\n",
    "            # Inverse mask to FM_mui\n",
    "            FM_mpo = np.logical_not(FM_mui).astype(int)\n",
    "\n",
    "\n",
    "        #%%%%%%%%%%%%%%%%%%%%%%%%%%%%%%%%%%%%%%%%%%%%%%%%%%%%%%%%%%%%%%%%%%%%%%%%%\n",
    "        FM_bm = np.tile(FVr_bestmemit, (I_NP, 1))\n",
    "\n",
    "        # Linear decrease\n",
    "        a = linear_decrease\n",
    "\n",
    "        # Exponential decreasing function\n",
    "        ginv = np.exp(1-(1/a**2))\n",
    "\n",
    "        #differential variation\n",
    "        repmat0 = np.reshape(np.tile(F_weight[:, 2], (1, I_D)), (F_weight.shape[0], I_D))\n",
    "        repmat1 = np.reshape(np.tile(F_weight[:, 0], (1, I_D)), (F_weight.shape[0], I_D))\n",
    "        repmat2 = np.reshape(np.tile(F_weight[:, 1], (1, I_D)), (F_weight.shape[0], I_D))\n",
    "\n",
    "        diff_var = ginv * (repmat1 * (FM_bm * (repmat2 + np.random.normal(size=(I_NP, I_D)) - FM_popold)))\n",
    "\n",
    "        #%%%%%%%%%%%%%%%%%%%%%%%%%%%%%%%%%%%%%%%%%%%%%%%%%%%%%%%%%%%%%%%%%%%%%%%%%\n",
    "        FM_ui = FM_popold + repmat0 * (FM_pm1 - FM_pm2) + diff_var\n",
    "\n",
    "        FM_ui = FM_popold * FM_mpo + FM_ui * FM_mui\n",
    "        FM_base = FM_bm\n",
    "\n",
    "        return FM_ui, FM_base, None\n",
    "\n",
    "    # Update aux function\n",
    "    def _update(p, lowMatrix, upMatrix, BRM, FM_base):\n",
    "        if BRM == 1: # Our method\n",
    "            p = np.clip(p, lowMatrix, upMatrix)\n",
    "\n",
    "        elif BRM == 2: # Random initialization - DOES NOT WORK\n",
    "            idx = [np.where(p < lowMatrix), np.where(p > upMatrix)]\n",
    "            replace = np.random.uniform(low=lowMatrix[idx[0][0], idx[0][1]],\n",
    "                                        high=upMatrix[idx[1][0], idx[1][1]],\n",
    "                                        size=(len(idx), 1))\n",
    "            p[idx] = replace\n",
    "        return p\n",
    "\n",
    "\n",
    "    #-----This is just for notational convenience and to keep the code uncluttered.--------\n",
    "    I_NP = deParameters.I_NP\n",
    "    F_weight = deParameters.F_weight\n",
    "    F_CR = deParameters.F_CR\n",
    "    I_D = otherParameters.dim     #Number of variables or dimension\n",
    "    deParameters.nVariables = I_D\n",
    "\n",
    "    FVr_minbound = otherParameters.lowerlimit\n",
    "    FVr_maxbound = otherParameters.upperlimit\n",
    "\n",
    "    I_itermax: cython.int = deParameters.I_itermax\n",
    "\n",
    "\n",
    "    #Repair boundary method employed\n",
    "    BRM: cython.int = deParameters.I_bnd_constr     #1: bring the value to bound violated\n",
    "                                                    #2: repair in the allowed range\n",
    "                                                    #3: Bounce-back\n",
    "\n",
    "    #-----Check input variables---------------------------------------------\n",
    "    if I_NP < 5:\n",
    "        I_NP = 5\n",
    "        print('I_NP increased to minimal value 5\\n')\n",
    "\n",
    "    if (F_CR < 0) | (F_CR > 1):\n",
    "        F_CR = 0.5\n",
    "        print('F_CR should be from interval [0, 1] - set to default value 0.5\\n')\n",
    "\n",
    "    if I_itermax <= 0:\n",
    "        I_itermax = 200\n",
    "        print('I_itermax should be > 0 - set to default value 200\\n')\n",
    "\n",
    "\n",
    "    #-----Initialize population and some arrays-------------------------------\n",
    "    #%%%%%%%%%%%%%%%%%%%%%%%%%%%%%%%%%%%%%%%%%%%%%%%%%%%%%%%%%%%%%%%%%%%%%%%%%\n",
    "    # pre-allocation of loop variables\n",
    "    fitMaxVector = np.empty((1, I_itermax))\n",
    "    fitMaxVector[:] = np.nan\n",
    "\n",
    "    # limit iterations by threshold\n",
    "    #gen = 0; #iterations\n",
    "\n",
    "\n",
    "    #%%%%%%%%%%%%%%%%%%%%%%%%%%%%%%%%%%%%%%%%%%%%%%%%%%%%%%%%%%%%%%%%%%%%%%%%\n",
    "    #----FM_pop is a matrix of size I_NPx(I_D+1). It will be initialized------\n",
    "    #----with random values between the min and max values of the-------------\n",
    "    #----parameters-----------------------------------------------------------\n",
    "    # FLC modification - vectorization\n",
    "    minPositionsMatrix = repmat(FVr_minbound, I_NP, 1)\n",
    "    maxPositionsMatrix = repmat(FVr_maxbound, I_NP, 1)\n",
    "    deParameters.minPositionsMatrix = minPositionsMatrix\n",
    "    deParameters.maxPositionsMatrix = maxPositionsMatrix\n",
    "\n",
    "    # generate initial population.\n",
    "    FM_pop = genpop(I_NP, I_D, minPositionsMatrix, maxPositionsMatrix,\n",
    "                    otherParameters.initial_solution)\n",
    "\n",
    "    FM_aux = [EnergyCommunity(parameters=otherParameters.param_dictionary,\n",
    "                              variables=otherParameters.decoded_initialSolution) for i in range(I_NP)]\n",
    "\n",
    "    #If you want to inject initial solutions\n",
    "    if otherParameters.initial_solution is not None:\n",
    "        FM_aux[0].doIteration()\n",
    "        FM_pop[0, :] = otherParameters.initial_solution\n",
    "        for solution_idx in range(1, len(FM_aux)):\n",
    "            FM_aux[solution_idx].newIteration(FM_pop[solution_idx, :])\n",
    "\n",
    "    #%%%%%%%%%%%%%%%%%%%%%%%%%%%%%%%%%%%%%%%%%%%%%%%%%%%%%%%%%%%%%%%%%%%%%%%%%%\n",
    "    #------Evaluate the best member after initialization----------------------\n",
    "    # Modified by EG\n",
    "    S_val = np.array([temp_obj.objFn for temp_obj in FM_aux])\n",
    "    S_val = S_val.ravel()\n",
    "    I_best_index = np.argmin(S_val) # This mean that the best individual correspond to the best worst performance\n",
    "    FVr_bestmemit = FM_pop[I_best_index, :] # best member of current iteration\n",
    "\n",
    "    fitMaxVector[:, 0] = S_val[I_best_index] #We save the mean value and mean penalty value\n",
    "\n",
    "    # The user can decide to save the mean, best, or any other value here\n",
    "    #%%%%%%%%%%%%%%%%%%%%%%%%%%%%%%%%%%%%%%%%%%%%%%%%%%%%%%%%%%%%%%%%%%%%%%%%%%\n",
    "    #------DE-Minimization------------------------------------------------\n",
    "    #------FM_popold is the population which has to compete. It is--------\n",
    "    #------static through one iteration. FM_pop is the newly--------------\n",
    "    #------emerging population.-------------------------------------------\n",
    "    FVr_rot  = np.arange(0, I_NP, 1)             # rotating index array (size I_NP)\n",
    "\n",
    "    #%%%%%%%%%%%%%%%%%%%%%%%%%%%%%%%%%%%%%%%%%%%%%%%%%%%%%%%%%%%%%%%%%%%%%%%%%%%%%%%%%%%%%%%%%%\n",
    "    #% HYDE self-adaptive parameters\n",
    "    F_weight_old = repmat(F_weight, I_NP, 3)\n",
    "    F_weight = F_weight_old\n",
    "    F_CR_old = np.tile(F_CR, (I_NP, 1))\n",
    "    F_CR = F_CR_old\n",
    "\n",
    "    best_instance = None\n",
    "\n",
    "    #%%%%%%%%%%%%%%%%%%%%%%%%%%%%%%%%%%%%%%%%%%%%%%%%%%%%%%%%%%%%%%%%%%%%%%%%%%%%%%%%%%%%%%%%%%\n",
    "    itermax_range: cython.float[I_itermax] = range(I_itermax)\n",
    "\n",
    "    # Initialize previous best value with a large value\n",
    "    prev_best_val = 1e10\n",
    "    current_tolerance = 0\n",
    "    for gen in tqdm.tqdm(itermax_range):\n",
    "        #% Calculate decay function factor a = itr / MaxItr;\n",
    "        lin_decr: cython.float = (I_itermax - gen) / I_itermax\n",
    "\n",
    "        #% Update HyDE-DF values\n",
    "        value_R = np.random.normal(size=(I_NP, 3))\n",
    "        ind1 = (value_R < 0.1).astype(int)\n",
    "        ind1_rev = np.logical_not(ind1).astype(int)\n",
    "\n",
    "        value_R_2 = np.random.normal(size=(I_NP, 1))\n",
    "        ind2 = (value_R_2 < 0.1).astype(int)\n",
    "        ind2_rev = np.logical_not(ind2).astype(int)\n",
    "\n",
    "        F_weight = F_weight_old\n",
    "        try:\n",
    "            F_weight[ind1] = (0.1 + np.random.normal(size=(sum(sum(ind1)), 1)) * 0.9)[0]\n",
    "            F_weight[ind1_rev] = F_weight_old[ind1_rev]\n",
    "        except:\n",
    "            pass\n",
    "\n",
    "        F_CR = F_CR_old\n",
    "        try:\n",
    "            F_CR[ind2] = np.random.normal(size=(sum(ind2)[0], 1))[0]\n",
    "            F_CR[ind2_rev] = F_CR_old[ind2_rev]\n",
    "        except:\n",
    "            pass\n",
    "\n",
    "        #%%%%%%%%%%%%%%%%%%%%%%%%%%%%%%%%%%%%%%%%%%%%%%%%%%%%%%%%%%%%%%%%%%%%%%%%%%%%%%%%%%%%%%%%%%%%%%%%%%%%%%%%%%%%%%%\n",
    "        FM_ui, FM_base, _ = generate_trial(F_weight, F_CR, FM_pop, FVr_bestmemit, I_NP, I_D, FVr_rot, lin_decr)\n",
    "        #%%%%%%%%%%%%%%%%%%%%%%%%%%%%%%%%%%%%%%%%%%%%%%%%%%%%%%%%%%%%%%%%%%%%%%%%%%%%%%%%%%%%%%%%%%%%%%%%%%%%%%%%%%%%%%%\n",
    "\n",
    "        ## Boundary Control\n",
    "        FM_ui = _update(FM_ui, minPositionsMatrix, maxPositionsMatrix, BRM, FM_base)\n",
    "\n",
    "        for candidate in range(I_NP):\n",
    "            FM_aux[candidate].newIteration(FM_ui[candidate, :])\n",
    "\n",
    "        S_val_temp = np.array([temp_obj.objFn for temp_obj in FM_aux])\n",
    "        S_val_temp = S_val_temp.ravel()\n",
    "\n",
    "        # Elitist Selection\n",
    "        ind = np.where(S_val_temp < S_val)\n",
    "        S_val[ind] = S_val_temp[ind]\n",
    "        #FM_pop[ind, :] = FM_ui[ind, :]\n",
    "        #print(ind)\n",
    "        FM_pop[ind, :] = np.array([temp_obj.encoded for temp_obj in FM_aux])[ind]\n",
    "\n",
    "\n",
    "        # Update best results\n",
    "        S_bestval = min(S_val)\n",
    "        I_best_index = np.argmin(S_val)\n",
    "        best_instance = FM_aux[I_best_index]\n",
    "        FVr_bestmemit = FM_pop[I_best_index, :]\n",
    "\n",
    "        # Save best parameters (similar to jDE)\n",
    "        F_weight_old[ind, :] = F_weight[ind, :]\n",
    "        F_CR_old[ind] = F_CR[ind]\n",
    "\n",
    "        ## Store fitness evolution and obj fun evolution as well\n",
    "        fitMaxVector[:, gen] = S_bestval\n",
    "\n",
    "        # Check if the difference between the current best value and the previous best value is less than epsilon\n",
    "        if abs(S_bestval - prev_best_val) < deParameters.epsilon:\n",
    "            if current_tolerance < deParameters.tolerance:\n",
    "                current_tolerance += 1\n",
    "            else:\n",
    "                break\n",
    "        else:\n",
    "            current_tolerance = 0\n",
    "            # If the difference is less than epsilon, stop the algorithm and return the current best solution\n",
    "            # break\n",
    "\n",
    "        # Update previous best value\n",
    "        prev_best_val = S_bestval\n",
    "\n",
    "    Fit_and_p = fitMaxVector[0, gen]\n",
    "\n",
    "    return Fit_and_p, FVr_bestmemit, fitMaxVector, best_instance"
   ],
   "metadata": {
    "collapsed": false,
    "pycharm": {
     "name": "#%%\n"
    }
   }
  },
  {
   "cell_type": "code",
   "execution_count": 28,
   "outputs": [
    {
     "name": "stdout",
     "output_type": "stream",
     "text": [
      "Starting trials\n",
      "Run 01\n"
     ]
    },
    {
     "name": "stderr",
     "output_type": "stream",
     "text": [
      "100%|██████████| 50000/50000 [27:14<00:00, 30.58it/s]\n"
     ]
    },
    {
     "name": "stdout",
     "output_type": "stream",
     "text": [
      "Run 02\n"
     ]
    },
    {
     "name": "stderr",
     "output_type": "stream",
     "text": [
      "  9%|▉         | 4417/50000 [02:24<24:54, 30.51it/s]\n"
     ]
    },
    {
     "name": "stdout",
     "output_type": "stream",
     "text": [
      "Run 03\n"
     ]
    },
    {
     "name": "stderr",
     "output_type": "stream",
     "text": [
      "100%|██████████| 50000/50000 [26:54<00:00, 30.96it/s]\n"
     ]
    },
    {
     "name": "stdout",
     "output_type": "stream",
     "text": [
      "Run 04\n"
     ]
    },
    {
     "name": "stderr",
     "output_type": "stream",
     "text": [
      "  2%|▏         | 1180/50000 [00:38<26:26, 30.78it/s]\n"
     ]
    },
    {
     "name": "stdout",
     "output_type": "stream",
     "text": [
      "Run 05\n"
     ]
    },
    {
     "name": "stderr",
     "output_type": "stream",
     "text": [
      "  4%|▎         | 1865/50000 [01:01<26:20, 30.47it/s]\n"
     ]
    },
    {
     "name": "stdout",
     "output_type": "stream",
     "text": [
      "Run 06\n"
     ]
    },
    {
     "name": "stderr",
     "output_type": "stream",
     "text": [
      "100%|██████████| 50000/50000 [27:16<00:00, 30.55it/s]\n"
     ]
    },
    {
     "name": "stdout",
     "output_type": "stream",
     "text": [
      "Run 07\n"
     ]
    },
    {
     "name": "stderr",
     "output_type": "stream",
     "text": [
      "100%|██████████| 50000/50000 [27:18<00:00, 30.51it/s]\n"
     ]
    },
    {
     "name": "stdout",
     "output_type": "stream",
     "text": [
      "Run 08\n"
     ]
    },
    {
     "name": "stderr",
     "output_type": "stream",
     "text": [
      "  5%|▍         | 2305/50000 [01:15<26:05, 30.47it/s]\n"
     ]
    },
    {
     "name": "stdout",
     "output_type": "stream",
     "text": [
      "Run 09\n"
     ]
    },
    {
     "name": "stderr",
     "output_type": "stream",
     "text": [
      "100%|██████████| 50000/50000 [27:14<00:00, 30.59it/s]\n"
     ]
    },
    {
     "name": "stdout",
     "output_type": "stream",
     "text": [
      "Run 10\n"
     ]
    },
    {
     "name": "stderr",
     "output_type": "stream",
     "text": [
      "100%|██████████| 50000/50000 [27:18<00:00, 30.52it/s]\n"
     ]
    }
   ],
   "source": [
    "# Run the HyDE with the generator objective function\n",
    "\n",
    "N_RUNS = 10\n",
    "\n",
    "deParams = DEParams(I_NP=20, I_itermax=int(5e4), F_CR=0.3, I_bnd_constr=1, tolerance=1e3)\n",
    "otherParams = OtherParameters(objfun=None, lowerlimit=encoded_minvals, upperlimit=encoded_maxvals,\n",
    "                              dim=encode(dict_var).shape[0],\n",
    "                              var_dictionary=decoded_vars, param_dictionary=decoded_pars,\n",
    "                              initial_solution=encoded_sol,\n",
    "                              decoded_initialSolution=decoded_shaped)\n",
    "\n",
    "list_fit_and_p = []\n",
    "list_bestmemit = []\n",
    "list_maxvector = []\n",
    "list_timer = []\n",
    "list_best_instances = []\n",
    "\n",
    "print('Starting trials')\n",
    "for i in np.arange(N_RUNS):\n",
    "    print('Run {:02d}'.format(i+1))\n",
    "\n",
    "    # Start timer - https://stackoverflow.com/questions/7370801/how-to-measure-elapsed-time-in-python\n",
    "    start = timer()\n",
    "\n",
    "    # Do optimization\n",
    "    fit_and_p, bestmemit, maxvector, best_instance = HyDE_DF_Refactored(deParams, otherParams, None)\n",
    "\n",
    "    # End timer\n",
    "    end = timer()\n",
    "\n",
    "    list_fit_and_p.append(fit_and_p)\n",
    "    list_bestmemit.append(bestmemit)\n",
    "    list_maxvector.append(maxvector)\n",
    "    list_timer.append(end-start)\n",
    "    list_best_instances.append(best_instance)\n",
    "\n",
    "\n",
    "trial_results = pd.DataFrame({'Fit': list_fit_and_p,\n",
    "                              'Solution': list_bestmemit,\n",
    "                              'Fit Vector': list_maxvector,\n",
    "                              'Time': list_timer})"
   ],
   "metadata": {
    "collapsed": false,
    "pycharm": {
     "name": "#%%\n"
    }
   }
  },
  {
   "cell_type": "code",
   "execution_count": 29,
   "outputs": [
    {
     "data": {
      "text/plain": "             Fit                                           Solution  \\\n0     164.455080  [0.0, 0.0, 0.0, 0.0, 0.0, 0.5058272469934058, ...   \n1    2384.824096  [0.0, 0.0, 0.0, 0.0, 0.0, 0.3806178247645638, ...   \n2     176.114460  [0.0, 0.0, 0.0, 0.0, 0.0, 0.506113387343316, 1...   \n3    3308.256774  [0.0, 0.0, 0.0, 0.0, 0.0, 0.09741206948363977,...   \n4  102286.676846  [0.0, 0.0, 0.0, 0.0, 0.0, 0.506113387343316, 0...   \n5     194.051478  [0.0, 0.0, 0.0, 0.0, 0.0, 0.5056357774382189, ...   \n6     175.924790  [0.0, 0.0, 0.0, 0.0, 0.0, 0.505658311746132, 1...   \n7  102707.620125  [0.0, 0.0, 0.0, 0.0, 0.0, 0.4113141139520571, ...   \n8     201.948293  [0.0, 0.0, 0.0, 0.0, 0.0, 0.5060602133752287, ...   \n9     169.265777  [0.0, 0.0, 0.0, 0.0, 0.0, 0.506113387343316, 1...   \n\n                                          Fit Vector         Time  \n0  [[306700.8695876846, 306700.8695876846, 306700...  1634.945462  \n1  [[206394.58787146895, 206394.58787146895, 2063...   144.842662  \n2  [[406579.96511700883, 406579.96511700883, 4065...  1614.783919  \n3  [[206592.9934340876, 206592.9934340876, 206592...    38.395870  \n4  [[406227.6985900932, 406227.6985900932, 406227...    61.272689  \n5  [[306467.596124581, 306467.596124581, 306467.5...  1636.714094  \n6  [[206744.39528273206, 206744.39528273206, 2067...  1639.028357  \n7  [[406653.28714545834, 406653.28714545834, 4066...    75.710172  \n8  [[206180.04079043097, 206180.04079043097, 2061...  1634.810424  \n9  [[306590.3812179477, 306590.3812179477, 306590...  1638.446557  ",
      "text/html": "<div>\n<style scoped>\n    .dataframe tbody tr th:only-of-type {\n        vertical-align: middle;\n    }\n\n    .dataframe tbody tr th {\n        vertical-align: top;\n    }\n\n    .dataframe thead th {\n        text-align: right;\n    }\n</style>\n<table border=\"1\" class=\"dataframe\">\n  <thead>\n    <tr style=\"text-align: right;\">\n      <th></th>\n      <th>Fit</th>\n      <th>Solution</th>\n      <th>Fit Vector</th>\n      <th>Time</th>\n    </tr>\n  </thead>\n  <tbody>\n    <tr>\n      <th>0</th>\n      <td>164.455080</td>\n      <td>[0.0, 0.0, 0.0, 0.0, 0.0, 0.5058272469934058, ...</td>\n      <td>[[306700.8695876846, 306700.8695876846, 306700...</td>\n      <td>1634.945462</td>\n    </tr>\n    <tr>\n      <th>1</th>\n      <td>2384.824096</td>\n      <td>[0.0, 0.0, 0.0, 0.0, 0.0, 0.3806178247645638, ...</td>\n      <td>[[206394.58787146895, 206394.58787146895, 2063...</td>\n      <td>144.842662</td>\n    </tr>\n    <tr>\n      <th>2</th>\n      <td>176.114460</td>\n      <td>[0.0, 0.0, 0.0, 0.0, 0.0, 0.506113387343316, 1...</td>\n      <td>[[406579.96511700883, 406579.96511700883, 4065...</td>\n      <td>1614.783919</td>\n    </tr>\n    <tr>\n      <th>3</th>\n      <td>3308.256774</td>\n      <td>[0.0, 0.0, 0.0, 0.0, 0.0, 0.09741206948363977,...</td>\n      <td>[[206592.9934340876, 206592.9934340876, 206592...</td>\n      <td>38.395870</td>\n    </tr>\n    <tr>\n      <th>4</th>\n      <td>102286.676846</td>\n      <td>[0.0, 0.0, 0.0, 0.0, 0.0, 0.506113387343316, 0...</td>\n      <td>[[406227.6985900932, 406227.6985900932, 406227...</td>\n      <td>61.272689</td>\n    </tr>\n    <tr>\n      <th>5</th>\n      <td>194.051478</td>\n      <td>[0.0, 0.0, 0.0, 0.0, 0.0, 0.5056357774382189, ...</td>\n      <td>[[306467.596124581, 306467.596124581, 306467.5...</td>\n      <td>1636.714094</td>\n    </tr>\n    <tr>\n      <th>6</th>\n      <td>175.924790</td>\n      <td>[0.0, 0.0, 0.0, 0.0, 0.0, 0.505658311746132, 1...</td>\n      <td>[[206744.39528273206, 206744.39528273206, 2067...</td>\n      <td>1639.028357</td>\n    </tr>\n    <tr>\n      <th>7</th>\n      <td>102707.620125</td>\n      <td>[0.0, 0.0, 0.0, 0.0, 0.0, 0.4113141139520571, ...</td>\n      <td>[[406653.28714545834, 406653.28714545834, 4066...</td>\n      <td>75.710172</td>\n    </tr>\n    <tr>\n      <th>8</th>\n      <td>201.948293</td>\n      <td>[0.0, 0.0, 0.0, 0.0, 0.0, 0.5060602133752287, ...</td>\n      <td>[[206180.04079043097, 206180.04079043097, 2061...</td>\n      <td>1634.810424</td>\n    </tr>\n    <tr>\n      <th>9</th>\n      <td>169.265777</td>\n      <td>[0.0, 0.0, 0.0, 0.0, 0.0, 0.506113387343316, 1...</td>\n      <td>[[306590.3812179477, 306590.3812179477, 306590...</td>\n      <td>1638.446557</td>\n    </tr>\n  </tbody>\n</table>\n</div>"
     },
     "execution_count": 29,
     "metadata": {},
     "output_type": "execute_result"
    }
   ],
   "source": [
    "# Show trial results\n",
    "\n",
    "trial_results"
   ],
   "metadata": {
    "collapsed": false,
    "pycharm": {
     "name": "#%%\n"
    }
   }
  },
  {
   "cell_type": "code",
   "execution_count": 30,
   "outputs": [
    {
     "data": {
      "text/plain": "<Figure size 720x432 with 1 Axes>",
      "image/png": "[encoded data removed]"
     },
     "metadata": {
      "needs_background": "light"
     },
     "output_type": "display_data"
    }
   ],
   "source": [
    "# Plot evolution of Fit Vector\n",
    "\n",
    "plt.figure(figsize=(10, 6))\n",
    "for i in np.arange(N_RUNS):\n",
    "    plt.plot(trial_results['Fit Vector'][i].ravel(), label='Run {:02d}'.format(i+1))"
   ],
   "metadata": {
    "collapsed": false,
    "pycharm": {
     "name": "#%%\n"
    }
   }
  },
  {
   "cell_type": "code",
   "execution_count": 31,
   "id": "7680598a",
   "metadata": {
    "ExecuteTime": {
     "end_time": "2022-10-21T16:30:01.135724Z",
     "start_time": "2022-10-21T16:30:00.911674Z"
    },
    "pycharm": {
     "name": "#%%\n"
    }
   },
   "outputs": [],
   "source": [
    "# Aux function to save results of runs\n",
    "\n",
    "def save_results(path, ec_instances, overall_results):\n",
    "    \n",
    "    for i in np.arange(len(ec_instances)):\n",
    "        # Save gens\n",
    "        temp_genActPower = pd.DataFrame(ec_instances[i].genActPower)\n",
    "        temp_genActPower.to_csv(path+'/run{:02d}/genActPower.csv'.format(i+1))\n",
    "        \n",
    "        temp_genExcActPower = pd.DataFrame(ec_instances[i].genExcActPower)\n",
    "        temp_genExcActPower.to_csv(path+'/run{:02d}/genExcActPower.csv'.format(i+1))\n",
    "        \n",
    "        temp_genXo = pd.DataFrame(ec_instances[i].genXo)\n",
    "        temp_genXo.to_csv(path+'/run{:02d}/genXo.csv'.format(i+1))\n",
    "        \n",
    "        # Save loads\n",
    "        temp_loadActPower = pd.DataFrame(ec_instances[i].loadActPower)\n",
    "        temp_loadActPower.to_csv(path+'/run{:02d}/loadActPower.csv'.format(i+1))\n",
    "        \n",
    "        temp_loadRedActPower = pd.DataFrame(ec_instances[i].loadRedActPower)\n",
    "        temp_loadRedActPower.to_csv(path+'/run{:02d}/loadRedActPower.csv'.format(i+1))\n",
    "        \n",
    "        temp_loadCutActPower = pd.DataFrame(ec_instances[i].loadCutActPower)\n",
    "        temp_loadCutActPower.to_csv(path+'/run{:02d}/loadCutActPower.csv'.format(i+1))\n",
    "        \n",
    "        temp_loadENS = pd.DataFrame(ec_instances[i].loadENS)\n",
    "        temp_loadENS.to_csv(path+'/run{:02d}/loadENS.csv'.format(i+1))\n",
    "        \n",
    "        # Imports and Exports\n",
    "        temp_pImp = pd.DataFrame(ec_instances[i].pImp)\n",
    "        temp_pImp.to_csv(path+'/run{:02d}/pImp.csv'.format(i+1))\n",
    "        \n",
    "        temp_pExp = pd.DataFrame(ec_instances[i].pExp)\n",
    "        temp_pExp.to_csv(path+'/run{:02d}/pExp.csv'.format(i+1))\n",
    "        \n",
    "        # Storage\n",
    "        temp_storEnerState = pd.DataFrame(ec_instances[i].storEnerState)\n",
    "        temp_storEnerState.to_csv(path+'/run{:02d}/storEnerState.csv'.format(i+1))\n",
    "        \n",
    "        temp_storDchActPower = pd.DataFrame(ec_instances[i].storDchActPower)\n",
    "        temp_storDchActPower.to_csv(path+'/run{:02d}/storDchActPower.csv'.format(i+1))\n",
    "        \n",
    "        temp_storChActPower = pd.DataFrame(ec_instances[i].storChActPower)\n",
    "        temp_storChActPower.to_csv(path+'/run{:02d}/storChActPower.csv'.format(i+1))\n",
    "        \n",
    "        temp_storDchXo = pd.DataFrame(ec_instances[i].storDchXo)\n",
    "        temp_storDchXo.to_csv(path+'/run{:02d}/storDchXo.csv'.format(i+1))\n",
    "        \n",
    "        temp_storChXo = pd.DataFrame(ec_instances[i].storChXo)\n",
    "        temp_storChXo.to_csv(path+'/run{:02d}/storChXo.csv'.format(i+1))\n",
    "        \n",
    "        # CStations\n",
    "        temp_csActPower = pd.DataFrame(ec_instances[i].csActPower)\n",
    "        temp_csActPower.to_csv(path+'/run{:02d}/csActPower.csv'.format(i+1))\n",
    "        \n",
    "        temp_csActPowerNet = pd.DataFrame(ec_instances[i].csActPowerNet)\n",
    "        temp_csActPowerNet.to_csv(path+'/run{:02d}/csActPowerNet.csv'.format(i+1))\n",
    "        \n",
    "        # V2G\n",
    "        temp_v2gEnerState = pd.DataFrame(ec_instances[i].v2gEnerState)\n",
    "        temp_v2gEnerState.to_csv(path+'/run{:02d}/v2gEnerState.csv'.format(i+1))\n",
    "        \n",
    "        temp_v2gDchActPower = pd.DataFrame(ec_instances[i].v2gDchActPower)\n",
    "        temp_v2gDchActPower.to_csv(path+'/run{:02d}/v2gDchActPower.csv'.format(i+1))\n",
    "        \n",
    "        temp_v2gChActPower = pd.DataFrame(ec_instances[i].v2gChActPower)\n",
    "        temp_v2gChActPower.to_csv(path+'/run{:02d}/v2gChActPower.csv'.format(i+1))\n",
    "        \n",
    "        temp_v2gDchXo = pd.DataFrame(ec_instances[i].v2gDchXo)\n",
    "        temp_v2gDchXo.to_csv(path+'/run{:02d}/v2gDchXo.csv'.format(i+1))\n",
    "        \n",
    "        temp_v2gChXo = pd.DataFrame(ec_instances[i].v2gChXo)\n",
    "        temp_v2gChXo.to_csv(path+'/run{:02d}/v2gChXo.csv'.format(i+1))\n",
    "        \n",
    "        temp_overall = pd.DataFrame(overall_results.iloc[i]).transpose()\n",
    "        temp_overall.to_csv(path+'/run{:02d}/overall.csv'.format(i+1))\n",
    "        \n",
    "save_results('results/hyde_v2', list_best_instances, trial_results)"
   ]
  },
  {
   "cell_type": "code",
   "execution_count": 33,
   "id": "04a45baf",
   "metadata": {
    "ExecuteTime": {
     "end_time": "2022-10-21T13:01:58.996373Z",
     "start_time": "2022-10-21T13:01:56.617842Z"
    },
    "scrolled": false,
    "pycharm": {
     "name": "#%%\n"
    }
   },
   "outputs": [
    {
     "data": {
      "text/plain": "<Figure size 1728x1440 with 49 Axes>",
      "image/png": "[encoded data removed]"
     },
     "metadata": {
      "needs_background": "light"
     },
     "output_type": "display_data"
    }
   ],
   "source": [
    "fig, axs = plt.subplots(nrows=7, ncols=7, figsize=(24, 20))\n",
    "\n",
    "PLOT_SOLUTION = 9\n",
    "temp_sol = list_best_instances[PLOT_SOLUTION]\n",
    "\n",
    "for i in np.arange(7):\n",
    "    # Generators\n",
    "    axs[i, 0].plot(temp_sol.genActPower[i])\n",
    "    axs[i, 0].plot(temp_sol.genExcActPower[i])\n",
    "    axs[i, 0].legend(['genActPower', 'genExcActPower'])\n",
    "    \n",
    "for i in np.arange(6):\n",
    "    # Loads\n",
    "    axs[i, 1].plot(loadLimit[:, :, 0][i, :])\n",
    "    axs[i, 1].plot(temp_sol.loadRedActPower[i])\n",
    "    axs[i, 1].plot(temp_sol.loadCutActPower[i])\n",
    "    axs[i, 1].plot(temp_sol.loadENS[i])\n",
    "    axs[i, 1].legend(['loadActPower', 'loadRedActPower', 'loadCutActPower', 'loadENS'])\n",
    "\n",
    "\n",
    "axs[0, 2].plot(temp_sol.pImp)\n",
    "axs[0, 2].plot(temp_sol.pExp)\n",
    "axs[0, 2].legend(['pImp', 'pExp'])\n",
    "\n",
    "\n",
    "for i in range(3):\n",
    "    axs[i, 3].plot(temp_sol.storEnerState[i])\n",
    "    axs[i, 3].legend(['storEnerState'])\n",
    "    \n",
    "for i in range(3):\n",
    "    axs[i, 4].plot(temp_sol.storDchActPower[i])\n",
    "    axs[i, 4].legend(['storDchActPower'])\n",
    "    \n",
    "for i in range(3):\n",
    "    axs[i, 5].plot(temp_sol.storChActPower[i])\n",
    "    axs[i, 5].legend(['storChActPower'])\n",
    "\n",
    "for i in range(5):\n",
    "    axs[i, 6].plot(temp_sol.v2gEnerState[i])\n",
    "    axs[i, 6].plot(v2gLimit[i, :, 2])\n",
    "    axs[i, 6].legend(['v2gEnerState', 'v2gLim'])\n",
    "\n",
    "\n",
    "plt.show()"
   ]
  },
  {
   "cell_type": "code",
   "execution_count": null,
   "id": "66622606",
   "metadata": {
    "ExecuteTime": {
     "end_time": "2022-10-21T13:02:01.723982Z",
     "start_time": "2022-10-21T13:02:01.713979Z"
    },
    "pycharm": {
     "name": "#%%\n"
    }
   },
   "outputs": [],
   "source": [
    "# Total import costs\n",
    "\n",
    "print('Total import cost: {}'.format(sum(temp_sol.pImp.ravel() * buyPrice)))"
   ]
  },
  {
   "cell_type": "code",
   "execution_count": null,
   "id": "6c676efc",
   "metadata": {
    "ExecuteTime": {
     "end_time": "2022-10-03T20:14:26.307797Z",
     "start_time": "2022-10-03T20:14:26.276853Z"
    },
    "pycharm": {
     "name": "#%%\n"
    }
   },
   "outputs": [],
   "source": [
    "import csv\n",
    "\n",
    "for i in range(len(list_best_instances)):\n",
    "    current_instance = list_best_instances[i]\n",
    "    new_dict = current_instance.decode(current_instance.encoded)\n",
    "    new_dict['v2gEnerState'] = current_instance.v2gEnerState\n",
    "    new_dict['storEnerState'] = current_instance.storEnerState\n",
    "    new_dict['loadCutActPower'] = current_instance.loadCutActPower\n",
    "    \n",
    "    # Store data (serialize)\n",
    "    with open('results_hyde_deg/run_results{:02d}.pickle'.format(i), 'wb') as handle:\n",
    "        pickle.dump(new_dict, handle, protocol=pickle.HIGHEST_PROTOCOL)\n",
    "\n",
    "    # Load data (deserialize)\n",
    "    #with open('filename.pickle', 'rb') as handle:\n",
    "    #    unserialized_data = pickle.load(handle)\n",
    "\n",
    "    #print(your_data == unserialized_data)"
   ]
  },
  {
   "cell_type": "code",
   "execution_count": null,
   "id": "71e55b4e",
   "metadata": {
    "ExecuteTime": {
     "end_time": "2022-10-03T20:15:15.898943Z",
     "start_time": "2022-10-03T20:15:15.891962Z"
    },
    "pycharm": {
     "name": "#%%\n"
    }
   },
   "outputs": [],
   "source": []
  }
 ],
 "metadata": {
  "kernelspec": {
   "display_name": "Python 3 (ipykernel)",
   "language": "python",
   "name": "python3"
  },
  "language_info": {
   "codemirror_mode": {
    "name": "ipython",
    "version": 3
   },
   "file_extension": ".py",
   "mimetype": "text/x-python",
   "name": "python",
   "nbconvert_exporter": "python",
   "pygments_lexer": "ipython3",
   "version": "3.8.0"
  },
  "varInspector": {
   "cols": {
    "lenName": 16,
    "lenType": 16,
    "lenVar": 40
   },
   "kernels_config": {
    "python": {
     "delete_cmd_postfix": "",
     "delete_cmd_prefix": "del ",
     "library": "var_list.py",
     "varRefreshCmd": "print(var_dic_list())"
    },
    "r": {
     "delete_cmd_postfix": ") ",
     "delete_cmd_prefix": "rm(",
     "library": "var_list.r",
     "varRefreshCmd": "cat(var_dic_list()) "
    }
   },
   "types_to_exclude": [
    "module",
    "function",
    "builtin_function_or_method",
    "instance",
    "_Feature"
   ],
   "window_display": false
  }
 },
 "nbformat": 4,
 "nbformat_minor": 5
}