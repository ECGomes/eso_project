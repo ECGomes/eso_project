{
 "cells": [
  {
   "cell_type": "code",
   "execution_count": 1,
   "id": "888390fe",
   "metadata": {
    "ExecuteTime": {
     "end_time": "2022-10-18T17:06:00.871350Z",
     "start_time": "2022-10-18T17:05:59.579622Z"
    }
   },
   "outputs": [],
   "source": [
    "# Imports\n",
    "\n",
    "import numpy as np\n",
    "import pandas as pd\n",
    "import matplotlib.pyplot as plt"
   ]
  },
  {
   "cell_type": "code",
   "execution_count": 101,
   "id": "a06740ba",
   "metadata": {
    "ExecuteTime": {
     "end_time": "2022-10-18T18:34:29.520114Z",
     "start_time": "2022-10-18T18:34:29.366367Z"
    }
   },
   "outputs": [],
   "source": [
    "# Get the excel file and read\n",
    "\n",
    "class ExcelReader(object):\n",
    "    \n",
    "    def __init__(self, path, ecID=1):\n",
    "        self.path = path\n",
    "        self.ecID = ecID\n",
    "        \n",
    "        # Placeholder dictionary to place the next ones\n",
    "        self.parameterData = {}\n",
    "        \n",
    "        # Resources\n",
    "        self.resources = {}\n",
    "        \n",
    "        # General Info dictionary\n",
    "        self.generalInfo = {}\n",
    "        \n",
    "        # Branch dictionary\n",
    "        self.puSist = {}\n",
    "        self.network = {}\n",
    "        \n",
    "        self.read_generalInfo()\n",
    "        self.read_brachData()\n",
    "        \n",
    "        return\n",
    "    \n",
    "    \n",
    "    def read_generalInfo(self):\n",
    "        # General information sheet from excel\n",
    "        generalInfo = pd.read_excel(self.path, sheet_name='General_Information', header=None)\n",
    "        self.resources['numEC'] = generalInfo.values[2, 3]\n",
    "        self.resources['period'] = generalInfo.values[3, 3]\n",
    "        self.resources['periodDuration'] = generalInfo.values[4, 3]\n",
    "        self.resources['owners'] = generalInfo.values[5, 3]\n",
    "        \n",
    "        # Read max imports and export quantities\n",
    "        self.generalInfo['P_Max_Imp'] = generalInfo.values[23, 5:]\n",
    "        self.generalInfo['P_Max_Exp'] = generalInfo.values[24, 5:]\n",
    "        self.generalInfo['Energy_Buy_Price'] = generalInfo.values[25, 5:]\n",
    "        self.generalInfo['Energy_SellPrice'] = generalInfo.values[26, 5:]\n",
    "        self.generalInfo['GEE_CofA'] = generalInfo.values[27, 5:]\n",
    "        self.generalInfo['GEE_CofB'] = generalInfo.values[28, 5:]\n",
    "        self.generalInfo['GEE_CofC'] = generalInfo.values[29, 5:]\n",
    "        \n",
    "        return\n",
    "    \n",
    "    \n",
    "    def read_brachData(self):\n",
    "        # Branch data sheet from excel\n",
    "        sheet_name_branch = 'Network_Info'\n",
    "        data_branch = pd.read_excel(self.path, sheet_name=sheet_name_branch, header=None)\n",
    "        \n",
    "        # Set the values\n",
    "        self.puSist['basePower'] = data_branch.values[1, 8]\n",
    "        self.puSist['baseVoltage'] = data_branch.values[2, 8]\n",
    "        self.puSist['baseCurrent'] = data_branch.values[3, 8]\n",
    "        self.puSist['baseImpendance'] = data_branch.values[4, 8]\n",
    "        \n",
    "        busRef = data_branch.values[2, :3]\n",
    "        busAux = np.unique(data_branch.values[22:, 1:3])\n",
    "        \n",
    "        voltageMax = np.zeros((max(busAux), self.resources['period']))\n",
    "        voltageMin = np.zeros((max(busAux), self.resources['period']))\n",
    "        angleMax = np.zeros((max(busAux), self.resources['period']))\n",
    "        angleMin = np.zeros((max(busAux), self.resources['period']))\n",
    "        \n",
    "        for i in busAux:\n",
    "            voltageMax[i-1, :] = data_branch.values[2, 5]\n",
    "            voltageMin[i-1, :] = data_branch.values[2, 4]\n",
    "            angleMax[i-1, :] = data_branch.values[4, 5]\n",
    "            angleMin[i-1, :] = data_branch.values[4, 4]\n",
    "        \n",
    "        voltageMax[busRef[0]-1, :] = busRef[1]\n",
    "        voltageMin[busRef[0]-1, :] = busRef[1]\n",
    "        angleMax[busRef[0]-1, :] = busRef[2]\n",
    "        angleMin[busRef[0]-1, :] = busRef[2]\n",
    "        \n",
    "        self.network['voltageMax'] = voltageMax\n",
    "        self.network['voltageMin'] = voltageMin\n",
    "        self.network['angleMax'] = angleMax\n",
    "        self.network['angleMin'] = angleMin\n",
    "        self.network['busNum'] = np.reshape(busAux, (1, busAux.shape[0]))\n",
    "        self.network['busRef'] = busRef[0]\n",
    "        \n",
    "        return\n",
    "        \n",
    "\n",
    "    \n",
    "    def readExcel(self):\n",
    "\n",
    "        # Excel sheets to read from the excel\n",
    "        sheet_name_branch = 'Network_Info'\n",
    "        sheet_name_peers = 'Peers_Info_EC{}'.format(self.ecID)\n",
    "        sheet_name_gen = 'Generator_EC{}'.format(self.ecID)\n",
    "        sheet_name_load = 'Load_EC{}'.format(self.ecID)\n",
    "        sheet_name_stor = 'Storage_EC{}'.format(self.ecID)\n",
    "        sheet_name_cstation = 'CStation_EC{}'.format(self.ecID)\n",
    "        sheet_name_v2g = 'Vehicle_EC{}'.format(self.ecID)\n",
    "\n",
    "        data_peers = pd.read_excel(path, sheet_name=sheet_name_peers, header=None)\n",
    "        data_gen = pd.read_excel(path, sheet_name=sheet_name_gen, header=None)\n",
    "        data_load = pd.read_excel(path, sheet_name=sheet_name_load, header=None)\n",
    "        data_storage = pd.read_excel(path, sheet_name=sheet_name_stor, header=None)\n",
    "        data_cstation = pd.read_excel(path, sheet_name=sheet_name_cstation, header=None)\n",
    "        data_v2g = pd.read_excel(path, sheet_name=sheet_name_v2g, header=None)\n",
    "\n",
    "        print(data_v2g)\n",
    "\n",
    "        return generalInfo\n",
    "\n",
    "data = ExcelReader(path='src/EC_OnlyMembers_V8/EC_V4.xlsx', ecID=1)"
   ]
  },
  {
   "cell_type": "code",
   "execution_count": 103,
   "id": "dca918c5",
   "metadata": {
    "ExecuteTime": {
     "end_time": "2022-10-18T18:35:28.157855Z",
     "start_time": "2022-10-18T18:35:28.139684Z"
    }
   },
   "outputs": [
    {
     "data": {
      "text/plain": [
       "1"
      ]
     },
     "execution_count": 103,
     "metadata": {},
     "output_type": "execute_result"
    }
   ],
   "source": [
    "data.network['busRef']"
   ]
  },
  {
   "cell_type": "code",
   "execution_count": null,
   "id": "56841548",
   "metadata": {},
   "outputs": [],
   "source": []
  }
 ],
 "metadata": {
  "kernelspec": {
   "display_name": "Python 3 (ipykernel)",
   "language": "python",
   "name": "python3"
  },
  "language_info": {
   "codemirror_mode": {
    "name": "ipython",
    "version": 3
   },
   "file_extension": ".py",
   "mimetype": "text/x-python",
   "name": "python",
   "nbconvert_exporter": "python",
   "pygments_lexer": "ipython3",
   "version": "3.8.10"
  },
  "varInspector": {
   "cols": {
    "lenName": 16,
    "lenType": 16,
    "lenVar": 40
   },
   "kernels_config": {
    "python": {
     "delete_cmd_postfix": "",
     "delete_cmd_prefix": "del ",
     "library": "var_list.py",
     "varRefreshCmd": "print(var_dic_list())"
    },
    "r": {
     "delete_cmd_postfix": ") ",
     "delete_cmd_prefix": "rm(",
     "library": "var_list.r",
     "varRefreshCmd": "cat(var_dic_list()) "
    }
   },
   "types_to_exclude": [
    "module",
    "function",
    "builtin_function_or_method",
    "instance",
    "_Feature"
   ],
   "window_display": false
  }
 },
 "nbformat": 4,
 "nbformat_minor": 5
}
