{
 "cells": [
  {
   "cell_type": "code",
   "execution_count": 1,
   "id": "bc50e049",
   "metadata": {
    "ExecuteTime": {
     "end_time": "2022-05-12T10:43:31.425714Z",
     "start_time": "2022-05-12T10:43:28.666371Z"
    }
   },
   "outputs": [],
   "source": [
    "# Imports\n",
    "\n",
    "import numpy as np\n",
    "import pandas as pd\n",
    "import matplotlib.pyplot as plt\n",
    "\n",
    "from numpy.matlib import repmat\n",
    "\n",
    "from timeit import default_timer as timer\n",
    "\n",
    "import tqdm\n",
    "\n",
    "import scipy"
   ]
  },
  {
   "cell_type": "code",
   "execution_count": 2,
   "id": "81599fdd",
   "metadata": {
    "ExecuteTime": {
     "end_time": "2022-05-12T10:43:32.143486Z",
     "start_time": "2022-05-12T10:43:32.136505Z"
    }
   },
   "outputs": [],
   "source": [
    "# Turn and recover vector for encoding\n",
    "\n",
    "def encode(var_dictionary):\n",
    "    result_concat = np.concatenate([var_dictionary[v].ravel() for v in var_dictionary.keys()])\n",
    "    return result_concat\n",
    "\n",
    "\n",
    "def decode(var_vector, var_dictionary):\n",
    "    result_decoded = {}\n",
    "    var_idx = [var_dictionary[v].ravel().shape[0] for v in var_dictionary.keys()]\n",
    "\n",
    "    current_index = 0\n",
    "    dictionary_names = list(var_dictionary.keys())\n",
    "    \n",
    "    for idx in np.arange(len(dictionary_names)):\n",
    "        result_index = current_index + var_idx[idx]\n",
    "        result_decoded[dictionary_names[idx]] = np.reshape(var_vector[current_index:result_index], \n",
    "                                                           var_dictionary[dictionary_names[idx]].shape)\n",
    "        \n",
    "        current_index = result_index\n",
    "        \n",
    "    return result_decoded"
   ]
  },
  {
   "cell_type": "code",
   "execution_count": 3,
   "id": "119f63ae",
   "metadata": {
    "ExecuteTime": {
     "end_time": "2022-05-12T10:43:35.293784Z",
     "start_time": "2022-05-12T10:43:35.280819Z"
    }
   },
   "outputs": [],
   "source": [
    "class FunctionCompilation():\n",
    "    # feval equivalent\n",
    "    def callFunction(self, name, val):\n",
    "        fn = getattr(self, name, None)\n",
    "        if fn is not None:\n",
    "            return fn(val)\n",
    "        else:\n",
    "            print('Undefined function call')\n",
    "            return\n",
    "        \n",
    "        \n",
    "    def ackley(self, val):\n",
    "        dim = val.shape[1]\n",
    "        \n",
    "        f1 = np.sum([val[:, :1 + dim]**2], axis=-1)\n",
    "        f1 = np.reshape(f1, (f1.shape[1], f1.shape[0]))\n",
    "        f2 = np.sum([np.cos(2*np.pi * val[:, :1+dim])], axis=-1)\n",
    "        f2 = np.reshape(f2, (f2.shape[1], f2.shape[0]))\n",
    "        \n",
    "        return -20 * np.exp(-0.2 * np.sqrt(1/dim * f1)) - np.exp(1/dim * f2) + 20 + np.exp(1)\n",
    "    \n",
    "    \n",
    "    def eso_obj(self, val):\n",
    "        par = val['par']\n",
    "        \n",
    "        vals = val['var']\n",
    "        \n",
    "        obj_value = []\n",
    "        for i in np.arange(vals.shape[0]):\n",
    "            var = decode(vals[i, :], val['var_names'])\n",
    "            temp_sum1 = sum([var['genActPower'][g, t] * par['genLimit'][g, t, 3] + var['genExcActPower'][g, t] * par['genLimit'][g, t, 5]\n",
    "                             for t in np.arange(par['t'][-1]) for g in np.arange(par['gen'][-1])])\n",
    "        \n",
    "            temp_sum2 = sum([var['pImp'][i] * par['buyPrice'][i] * var['pExp'][i] * par['sellPrice'][i] \n",
    "                             for i in np.arange(par['t'][-1])])\n",
    "            \n",
    "            obj_value.append(temp_sum1 + temp_sum2)\n",
    "            \n",
    "        obj_value = np.reshape(obj_value, (vals.shape[0], 1))\n",
    "        \n",
    "        return obj_value"
   ]
  },
  {
   "cell_type": "code",
   "execution_count": 4,
   "id": "df8a1233",
   "metadata": {
    "ExecuteTime": {
     "end_time": "2022-05-12T10:43:35.996223Z",
     "start_time": "2022-05-12T10:43:35.978238Z"
    },
    "code_folding": [
     19
    ]
   },
   "outputs": [],
   "source": [
    "class DEParams(object):\n",
    "    \n",
    "    def __init__(self, I_itermax=5e5, I_NP=50, F_weight=0.5, F_CR=0.9, I_bnd_constr=3, param_dictionary=None):\n",
    "        \n",
    "        ## Set parameters for HyDE-DF\n",
    "        self.I_itermax = I_itermax\n",
    "        self.I_NP = I_NP\n",
    "        self.F_weight = F_weight\n",
    "        self.F_CR = F_CR\n",
    "        \n",
    "        self.param_dictionary = None\n",
    "        \n",
    "        self.I_bnd_constr = I_bnd_constr #Using bound constraints is possible to change direct in DE\n",
    "        # 1 repair to the lower or upper violated bound\n",
    "        # 2 rand value in the allowed range\n",
    "        # 3 bounce back\n",
    "        \n",
    "        \n",
    "class OtherParameters(object):\n",
    "    \n",
    "    def __init__(self, objfun, dim, lowerlimit, upperlimit, var_dictionary=None, param_dictionary=None):\n",
    "        self.objfun = objfun\n",
    "        self.dim = dim\n",
    "        self.lowerlimit = lowerlimit\n",
    "        self.upperlimit = upperlimit\n",
    "        \n",
    "        self.var_dictionary = var_dictionary\n",
    "        self.param_dictionary = param_dictionary"
   ]
  },
  {
   "cell_type": "code",
   "execution_count": 35,
   "id": "55e2e78f",
   "metadata": {
    "ExecuteTime": {
     "end_time": "2022-05-12T11:07:06.336460Z",
     "start_time": "2022-05-12T11:07:06.320503Z"
    }
   },
   "outputs": [],
   "source": [
    "# Check population constraints\n",
    "\n",
    "\n",
    "def check_constraints(val, par, val_dictionary):\n",
    "    decoded = decode(val, val_dictionary)\n",
    "    \n",
    "    current_var = val['var']\n",
    "    current_par = val[]\n",
    "    \n",
    "    check_t_constraints()\n",
    "\n",
    "def check_t_constraints(val, t):\n",
    "    if pImp[t] > pMaxImp[t]:\n",
    "        raise Exception('Max import violated')\n",
    "        \n",
    "    if pExp[t] > pMaxExp[t]:\n",
    "        raise Exception('Max export violated')\n",
    "        \n",
    "        \n",
    "def check_gt_constraints(g, t):\n",
    "    if genInfo[g, 4] != 1:\n",
    "        if genActPower[g, t] > genLimit[g, t, 0]:\n",
    "            raise Exception('Maximum generation in generators with normal contract violated')\n",
    "            \n",
    "        if genActPower[g, t] < genInfo[g, 6] * genXo[g, t]:\n",
    "            raise Exception('Minimum generation in generators with normal contract violated')\n",
    "            \n",
    "    if genInfo[g, 4] != 2:\n",
    "        if genActPower[g, t] + genExcActPower[g, t] != genLimit[g, t, 0]:\n",
    "            raise Exception('Generation in generators with Feed-in tariffs violated')"
   ]
  },
  {
   "cell_type": "code",
   "execution_count": 134,
   "id": "ce979914",
   "metadata": {
    "ExecuteTime": {
     "end_time": "2022-05-12T14:20:29.050577Z",
     "start_time": "2022-05-12T14:20:29.011681Z"
    },
    "code_folding": [
     11
    ]
   },
   "outputs": [],
   "source": [
    "# HyDE-DF implementation\n",
    "\n",
    "def HyDE_DF(deParameters, otherParameters, initialSolution):\n",
    "    \n",
    "    # Generate population\n",
    "    def genpop(a, b, lowMatrix, upMatrix):\n",
    "        temp = np.random.uniform(low=lowMatrix, high=upMatrix, size=(a, b))\n",
    "        temp[np.where(temp < 0)] = 0\n",
    "        #print(temp)\n",
    "        return np.random.uniform(low=lowMatrix, high=upMatrix, size=(a, b))\n",
    "    \n",
    "    \n",
    "    # Trial generation\n",
    "    def generate_trial(F_weight, F_CR, FM_pop, FVr_bestmemit, I_NP, I_D, FVr_rot, linear_decrease):\n",
    "    \n",
    "        # Save the old population\n",
    "        FM_popold = FM_pop\n",
    "\n",
    "        # Index pointer array\n",
    "        FVr_ind = np.random.permutation(np.arange(5))\n",
    "\n",
    "        # Shuffle locations of vectors\n",
    "        FVr_a1 = np.random.permutation(np.arange(I_NP))\n",
    "\n",
    "        # Rotate indices by ind[0] positions\n",
    "        FVr_rt = (FVr_rot + FVr_ind[0]) % I_NP\n",
    "\n",
    "        # Rotate vector locations\n",
    "        FVr_a2 = FVr_a1[FVr_rt]\n",
    "\n",
    "        # Shuffled population 1\n",
    "        FM_pm1 = FM_popold[FVr_a1, :]\n",
    "\n",
    "        # Shuffled population 2\n",
    "        FM_pm2 = FM_popold[FVr_a2, :]\n",
    "        \n",
    "        FM_mpo = None\n",
    "\n",
    "        # Meaning the same F_CR for all individuals\n",
    "        if len(F_CR) == 1:\n",
    "\n",
    "            # All random numbers < F_CR are 1, 0 otherwise\n",
    "            FM_mui = (np.random.normal(size=(I_NP, I_D)) < F_CR).astype(int)\n",
    "\n",
    "            # Inverse mask to FM_mui\n",
    "            FM_mpo = (FM_mui < 0.5).astype(int)\n",
    "\n",
    "        # Meaning a different F_CR for each individual\n",
    "        else:\n",
    "            # All random numbers < F_CR are 1, 0 otherwise\n",
    "            FM_mui = (np.random.normal(size=(I_NP, I_D)) < repmat(F_CR, 1, I_D)).astype(int)\n",
    "\n",
    "            # Inverse mask to FM_mui\n",
    "            FM_mpo = FM_mui < 0.5\n",
    "\n",
    "\n",
    "        #%%%%%%%%%%%%%%%%%%%%%%%%%%%%%%%%%%%%%%%%%%%%%%%%%%%%%%%%%%%%%%%%%%%%%%%%% \n",
    "        FM_bm = repmat(FVr_bestmemit, I_NP, 1)\n",
    "\n",
    "        # Linear decrease\n",
    "        a = linear_decrease\n",
    "\n",
    "        # Exponential decreasing function\n",
    "        ginv = np.exp(1-(1/a**2)) \n",
    "\n",
    "\n",
    "        #differential variation\n",
    "        repmat0 = np.reshape(repmat(F_weight[:, 2], 1, I_D), (F_weight.shape[0], I_D))\n",
    "        repmat1 = np.reshape(repmat(F_weight[:, 0], 1, I_D), (F_weight.shape[0], I_D))\n",
    "        repmat2 = np.reshape(repmat(F_weight[:, 1], 1, I_D), (F_weight.shape[0], I_D))\n",
    "        \n",
    "        diff_var = ginv * (repmat1 * (FM_bm * (repmat2 + np.random.normal(size=(I_NP, I_D)) - FM_popold)))\n",
    "\n",
    "        FM_ui = FM_popold + repmat0 * (FM_pm1 - FM_pm2) + diff_var\n",
    "\n",
    "        FM_ui = FM_popold * FM_mpo + FM_ui * FM_mui\n",
    "        FM_base = FM_bm\n",
    "        #msg = 'HyDE-DF'\n",
    "        #print(msg)\n",
    "\n",
    "        return FM_ui, FM_base, None\n",
    "    \n",
    "    \n",
    "    # Update aux function        \n",
    "    def _update(p, lowMatrix, upMatrix, BRM, FM_base):\n",
    "        #print(p.shape)\n",
    "        if BRM == 1: # Our method\n",
    "            # [popsize, dim] = size(p)\n",
    "            idx = np.where(p < lowMatrix)\n",
    "            p[idx[0], idx[1]] = lowMatrix[idx]\n",
    "\n",
    "            idx = np.where(p > upMatrix)\n",
    "            p[idx] = upMatrix[idx]\n",
    "        elif BRM == 2: # Random initialization - DOES NOT WORK\n",
    "            idx = [np.where(p < lowMatrix), np.where(p > upMatrix)]\n",
    "            replace = np.random.uniform(low=lowMatrix[idx[0][0], idx[0][1]], \n",
    "                                        high=upMatrix[idx[1][0], idx[1][1]], \n",
    "                                        size=(len(idx), 1))\n",
    "            p[idx] = replace\n",
    "        elif BRM == 3: # Bounce-back\n",
    "            idx = np.where(p < lowMatrix)\n",
    "            new_val = np.random.uniform(low=lowMatrix[idx[0], idx[1]], \n",
    "                                        high=FM_base[idx[0], idx[1]], \n",
    "                                        size=(len(idx[0]), len(idx[1])))\n",
    "            if new_val.shape[0] > 0:\n",
    "                p[idx[0], idx[1]] = new_val[:, 0]\n",
    "                \n",
    "                \n",
    "            idx = np.where(p > upMatrix)\n",
    "            new_val = np.random.uniform(low=FM_base[idx[0], idx[1]], \n",
    "                                        high=upMatrix[idx[0], idx[1]], \n",
    "                                        size=(len(idx[0]), len(idx[1])))\n",
    "            if new_val.shape[0] > 0:\n",
    "                p[idx[0], idx[1]] = new_val[:, 0]\n",
    "\n",
    "        return p\n",
    "    \n",
    "    \n",
    "    #-----This is just for notational convenience and to keep the code uncluttered.--------\n",
    "    I_NP = deParameters.I_NP\n",
    "    F_weight = deParameters.F_weight\n",
    "    F_CR = deParameters.F_CR\n",
    "    I_D = otherParameters.dim     #Number of variables or dimension\n",
    "    deParameters.nVariables = I_D\n",
    "    #FVr_minbound = otherParameters.lowerlimit * np.array(np.ones((1,otherParameters.dim)))\n",
    "    #FVr_maxbound = otherParameters.upperlimit * np.array(np.ones((1,otherParameters.dim)))\n",
    "    \n",
    "    FVr_minbound = otherParameters.lowerlimit\n",
    "    FVr_maxbound = otherParameters.upperlimit\n",
    "    \n",
    "    I_itermax = deParameters.I_itermax\n",
    "    \n",
    "    \n",
    "    #Repair boundary method employed\n",
    "    BRM = deParameters.I_bnd_constr   #1: bring the value to bound violated\n",
    "                                      #2: repair in the allowed range\n",
    "                                      #3: Bounce-back\n",
    "            \n",
    "    # Get Objective Function\n",
    "    fnc = otherParameters.objfun\n",
    "    \n",
    "    # Function caller initialization\n",
    "    fn_obj = FunctionCompilation()\n",
    "    \n",
    "    #-----Check input variables---------------------------------------------\n",
    "    if I_NP < 5:\n",
    "        I_NP = 5\n",
    "        print('I_NP increased to minimal value 5\\n')\n",
    "    \n",
    "    if (F_CR < 0) | (F_CR > 1):\n",
    "        F_CR = 0.5\n",
    "        print('F_CR should be from interval [0, 1] - set to default value 0.5\\n')\n",
    "        \n",
    "    if I_itermax <= 0:\n",
    "        I_itermax = 200\n",
    "        print('I_itermax should be > 0 - set to default value 200\\n')\n",
    "    \n",
    "    \n",
    "    #-----Initialize population and some arrays-------------------------------\n",
    "    #%%%%%%%%%%%%%%%%%%%%%%%%%%%%%%%%%%%%%%%%%%%%%%%%%%%%%%%%%%%%%%%%%%%%%%%%%\n",
    "    # pre-allocation of loop variables\n",
    "    fitMaxVector = np.empty((1, I_itermax))\n",
    "    fitMaxVector[:] = np.nan\n",
    "    \n",
    "    \n",
    "    # limit iterations by threshold\n",
    "    #gen = 0; #iterations\n",
    "    \n",
    "    \n",
    "    #%%%%%%%%%%%%%%%%%%%%%%%%%%%%%%%%%%%%%%%%%%%%%%%%%%%%%%%%%%%%%%%%%%%%%%%%\n",
    "    #----FM_pop is a matrix of size I_NPx(I_D+1). It will be initialized------\n",
    "    #----with random values between the min and max values of the-------------\n",
    "    #----parameters-----------------------------------------------------------\n",
    "    # FLC modification - vectorization\n",
    "    minPositionsMatrix = repmat(FVr_minbound, I_NP, 1)\n",
    "    maxPositionsMatrix = repmat(FVr_maxbound, I_NP, 1)\n",
    "    deParameters.minPositionsMatrix = minPositionsMatrix\n",
    "    deParameters.maxPositionsMatrix = maxPositionsMatrix\n",
    "    \n",
    "    # generate initial population.\n",
    "    FM_pop = genpop(I_NP, I_D, minPositionsMatrix, maxPositionsMatrix)\n",
    "    \n",
    "    #If you want to inject initial solutions\n",
    "    if initialSolution != None: \n",
    "        noInitialSolutions = initialSolution.shape[0]\n",
    "        FM_pop[1:noInitialSolutions, :] = initialSolution\n",
    "        \n",
    "        \n",
    "    #%%%%%%%%%%%%%%%%%%%%%%%%%%%%%%%%%%%%%%%%%%%%%%%%%%%%%%%%%%%%%%%%%%%%%%%%%%\n",
    "    #------Evaluate the best member after initialization----------------------\n",
    "    # Modified by FLC\n",
    "    #S_val = fn_obj.callFunction(fnc, FM_pop)\n",
    "    S_val = 0\n",
    "    if fnc != 'eso_obj':\n",
    "        S_val = fn_obj.callFunction(fnc, FM_pop)\n",
    "    else:\n",
    "        S_val = fn_obj.callFunction(fnc, {'var': FM_pop, \n",
    "                                          'par': otherParameters.param_dictionary,\n",
    "                                          'var_names': otherParameters.var_dictionary})\n",
    "    I_best_index = np.argmin(S_val); # This mean that the best individual correspond to the best worst performance\n",
    "    FVr_bestmemit = FM_pop[I_best_index, :] # best member of current iteration\n",
    "    \n",
    "    fitMaxVector[:, 0] = S_val[I_best_index] #We save the mean value and mean penalty value\n",
    "    # The user can decide to save the mean, best, or any other value here\n",
    "    \n",
    "    \n",
    "    #------DE-Minimization------------------------------------------------\n",
    "    #------FM_popold is the population which has to compete. It is--------\n",
    "    #------static through one iteration. FM_pop is the newly--------------\n",
    "    #------emerging population.-------------------------------------------\n",
    "    FVr_rot  = np.arange(0, I_NP, 1)             # rotating index array (size I_NP)\n",
    "    \n",
    "    \n",
    "    \n",
    "    #%%%%%%%%%%%%%%%%%%%%%%%%%%%%%%%%%%%%%%%%%%%%%%%%%%%%%%%%%%%%%%%%%%%%%%%%%%%%%%%%%%%%%%%%%%\n",
    "    #% HYDE self-adaptive parameters\n",
    "    F_weight_old = repmat(F_weight, I_NP, 3)\n",
    "    F_weight = F_weight_old\n",
    "    F_CR_old = repmat(F_CR, I_NP, 1)\n",
    "    F_CR = F_CR_old\n",
    "\n",
    "    \n",
    "    #while gen < I_itermax-1:  #%&&  fitIterationGap >= threshold\n",
    "    for gen in tqdm.tqdm(np.arange(I_itermax)):\n",
    "        #% Calculate decay function factor a = itr / MaxItr; \n",
    "        lin_decr = (I_itermax - gen) / I_itermax\n",
    "\n",
    "\n",
    "        #% Update HyDE-DF values              \n",
    "        value_R = np.random.normal(size=(I_NP, 3))\n",
    "        ind1 = (value_R < 0.1).astype(int)\n",
    "        ind2 = (np.random.normal(size=(I_NP, 1)) < 0.1).astype(int)\n",
    "        \n",
    "        F_weight[:] = F_weight_old[:]\n",
    "        F_weight[ind1] = (0.1 + np.random.normal(size=(sum(sum(ind1)), 1)) * 0.9)[0]\n",
    "        \n",
    "        F_CR[:] = F_CR_old[:]\n",
    "        F_CR[ind2] = np.random.normal(size=(sum(ind2)[0], 1))[0]\n",
    "        \n",
    "        #%%%%%%%%%%%%%%%%%%%%%%%%%%%%%%%%%%%%%%%%%%%%%%%%%%%%%%%%%%%%%%%%%%%%%%%%%%%%%%%%%%%%%%%%%%%%%%%%%%%%%%%%%%%%%%%\n",
    "        FM_ui, FM_base, _ = generate_trial(F_weight, F_CR, FM_pop, FVr_bestmemit, I_NP, I_D, FVr_rot, lin_decr)\n",
    "        #%%%%%%%%%%%%%%%%%%%%%%%%%%%%%%%%%%%%%%%%%%%%%%%%%%%%%%%%%%%%%%%%%%%%%%%%%%%%%%%%%%%%%%%%%%%%%%%%%%%%%%%%%%%%%%%\n",
    " \n",
    "        ## Boundary Control\n",
    "        FM_ui = _update(FM_ui, minPositionsMatrix, maxPositionsMatrix, BRM, FM_base)\n",
    "        \n",
    "        ## Evaluation of new Pop\n",
    "        #S_val_temp = fn_obj.callFunction(fnc, FM_ui)\n",
    "        \n",
    "        S_val_temp = 0\n",
    "        if fnc != 'eso_obj':\n",
    "            S_val_temp = fn_obj.callFunction(fnc, FM_ui)\n",
    "        else:\n",
    "            S_val_temp = fn_obj.callFunction(fnc, {'var': FM_ui, \n",
    "                                                   'par': otherParameters.param_dictionary,\n",
    "                                                   'var_names': otherParameters.var_dictionary})\n",
    "        \n",
    "        \n",
    "        ## Elitist Selection\n",
    "        ind = np.where(S_val_temp < S_val)\n",
    "        S_val[ind] = S_val_temp[ind]\n",
    "        FM_pop[ind, :] = FM_ui[ind, :]\n",
    "        \n",
    "        \n",
    "        ## Update best results\n",
    "        S_bestval = min(S_val)\n",
    "        I_best_index = np.argmin(S_val)\n",
    "        FVr_bestmemit = FM_pop[I_best_index, :]\n",
    "        \n",
    "        \n",
    "        ## Save best parameters (similar to jDE)\n",
    "        F_weight_old[ind, :] = F_weight[ind, :]\n",
    "        F_CR_old[ind] = F_CR[ind]\n",
    "        \n",
    "        #gen += 1;        \n",
    "        \n",
    "        ## Store fitness evolution and obj fun evolution as well\n",
    "        fitMaxVector[:, gen] = S_bestval\n",
    "        \n",
    "        \n",
    "    Fit_and_p = fitMaxVector[0, gen - 1]\n",
    "    \n",
    "    return Fit_and_p, FVr_bestmemit, fitMaxVector"
   ]
  },
  {
   "cell_type": "code",
   "execution_count": 94,
   "id": "710ab399",
   "metadata": {
    "ExecuteTime": {
     "end_time": "2022-05-12T13:59:51.226054Z",
     "start_time": "2022-05-12T13:59:51.095969Z"
    },
    "code_folding": [
     12
    ],
    "collapsed": true
   },
   "outputs": [
    {
     "name": "stdout",
     "output_type": "stream",
     "text": [
      "Starting trials\n"
     ]
    },
    {
     "name": "stderr",
     "output_type": "stream",
     "text": [
      "  0%|                                                               | 0/30 [00:00<?, ?it/s]\n",
      "  0%|                                                             | 0/1000 [00:00<?, ?it/s]\u001b[A\n",
      "  0%|                                                               | 0/30 [00:00<?, ?it/s]\n"
     ]
    },
    {
     "ename": "IndexError",
     "evalue": "index 19 is out of bounds for axis 1 with size 1",
     "output_type": "error",
     "traceback": [
      "\u001b[1;31m---------------------------------------------------------------------------\u001b[0m",
      "\u001b[1;31mIndexError\u001b[0m                                Traceback (most recent call last)",
      "Input \u001b[1;32mIn [94]\u001b[0m, in \u001b[0;36m<cell line: 13>\u001b[1;34m()\u001b[0m\n\u001b[0;32m     16\u001b[0m start \u001b[38;5;241m=\u001b[39m timer()\n\u001b[0;32m     18\u001b[0m \u001b[38;5;66;03m# Do optimization\u001b[39;00m\n\u001b[1;32m---> 19\u001b[0m fit_and_p, bestmemit, maxvector \u001b[38;5;241m=\u001b[39m \u001b[43mHyDE_DF\u001b[49m\u001b[43m(\u001b[49m\u001b[43mdeParams\u001b[49m\u001b[43m,\u001b[49m\u001b[43m \u001b[49m\u001b[43motherParams\u001b[49m\u001b[43m,\u001b[49m\u001b[43m \u001b[49m\u001b[38;5;28;43;01mNone\u001b[39;49;00m\u001b[43m)\u001b[49m\n\u001b[0;32m     21\u001b[0m \u001b[38;5;66;03m# End timer\u001b[39;00m\n\u001b[0;32m     22\u001b[0m end \u001b[38;5;241m=\u001b[39m timer()\n",
      "Input \u001b[1;32mIn [93]\u001b[0m, in \u001b[0;36mHyDE_DF\u001b[1;34m(deParameters, otherParameters, initialSolution)\u001b[0m\n\u001b[0;32m    241\u001b[0m FM_ui, FM_base, _ \u001b[38;5;241m=\u001b[39m generate_trial(F_weight, F_CR, FM_pop, FVr_bestmemit, I_NP, I_D, FVr_rot, lin_decr)\n\u001b[0;32m    242\u001b[0m \u001b[38;5;66;03m#%%%%%%%%%%%%%%%%%%%%%%%%%%%%%%%%%%%%%%%%%%%%%%%%%%%%%%%%%%%%%%%%%%%%%%%%%%%%%%%%%%%%%%%%%%%%%%%%%%%%%%%%%%%%%%%\u001b[39;00m\n\u001b[0;32m    243\u001b[0m \n\u001b[0;32m    244\u001b[0m \u001b[38;5;66;03m## Boundary Control\u001b[39;00m\n\u001b[1;32m--> 245\u001b[0m FM_ui \u001b[38;5;241m=\u001b[39m \u001b[43m_update\u001b[49m\u001b[43m(\u001b[49m\u001b[43mFM_ui\u001b[49m\u001b[43m,\u001b[49m\u001b[43m \u001b[49m\u001b[43mminPositionsMatrix\u001b[49m\u001b[43m,\u001b[49m\u001b[43m \u001b[49m\u001b[43mmaxPositionsMatrix\u001b[49m\u001b[43m,\u001b[49m\u001b[43m \u001b[49m\u001b[43mBRM\u001b[49m\u001b[43m,\u001b[49m\u001b[43m \u001b[49m\u001b[43mFM_base\u001b[49m\u001b[43m)\u001b[49m\n\u001b[0;32m    247\u001b[0m \u001b[38;5;66;03m## Evaluation of new Pop\u001b[39;00m\n\u001b[0;32m    248\u001b[0m \u001b[38;5;66;03m#S_val_temp = fn_obj.callFunction(fnc, FM_ui)\u001b[39;00m\n\u001b[0;32m    250\u001b[0m S_val_temp \u001b[38;5;241m=\u001b[39m \u001b[38;5;241m0\u001b[39m\n",
      "Input \u001b[1;32mIn [93]\u001b[0m, in \u001b[0;36mHyDE_DF.<locals>._update\u001b[1;34m(p, lowMatrix, upMatrix, BRM, FM_base)\u001b[0m\n\u001b[0;32m    100\u001b[0m \u001b[38;5;28;01melif\u001b[39;00m BRM \u001b[38;5;241m==\u001b[39m \u001b[38;5;241m3\u001b[39m: \u001b[38;5;66;03m# Bounce-back\u001b[39;00m\n\u001b[0;32m    101\u001b[0m     idx \u001b[38;5;241m=\u001b[39m np\u001b[38;5;241m.\u001b[39mwhere(p \u001b[38;5;241m<\u001b[39m lowMatrix)\n\u001b[1;32m--> 102\u001b[0m     new_val \u001b[38;5;241m=\u001b[39m np\u001b[38;5;241m.\u001b[39mrandom\u001b[38;5;241m.\u001b[39muniform(low\u001b[38;5;241m=\u001b[39m\u001b[43mlowMatrix\u001b[49m\u001b[43m[\u001b[49m\u001b[43midx\u001b[49m\u001b[43m[\u001b[49m\u001b[38;5;241;43m0\u001b[39;49m\u001b[43m]\u001b[49m\u001b[43m,\u001b[49m\u001b[43m \u001b[49m\u001b[43midx\u001b[49m\u001b[43m[\u001b[49m\u001b[38;5;241;43m1\u001b[39;49m\u001b[43m]\u001b[49m\u001b[43m]\u001b[49m, \n\u001b[0;32m    103\u001b[0m                                 high\u001b[38;5;241m=\u001b[39mFM_base[idx[\u001b[38;5;241m0\u001b[39m], idx[\u001b[38;5;241m1\u001b[39m]], \n\u001b[0;32m    104\u001b[0m                                 size\u001b[38;5;241m=\u001b[39m(\u001b[38;5;28mlen\u001b[39m(idx[\u001b[38;5;241m0\u001b[39m]), \u001b[38;5;28mlen\u001b[39m(idx[\u001b[38;5;241m1\u001b[39m])))\n\u001b[0;32m    105\u001b[0m     \u001b[38;5;28;01mif\u001b[39;00m new_val\u001b[38;5;241m.\u001b[39mshape[\u001b[38;5;241m0\u001b[39m] \u001b[38;5;241m>\u001b[39m \u001b[38;5;241m0\u001b[39m:\n\u001b[0;32m    106\u001b[0m         p[idx[\u001b[38;5;241m0\u001b[39m], idx[\u001b[38;5;241m1\u001b[39m]] \u001b[38;5;241m=\u001b[39m new_val[:, \u001b[38;5;241m0\u001b[39m]\n",
      "\u001b[1;31mIndexError\u001b[0m: index 19 is out of bounds for axis 1 with size 1"
     ]
    }
   ],
   "source": [
    "N_RUNS = 30\n",
    "\n",
    "deParams = DEParams(I_itermax=1000)\n",
    "otherParams = OtherParameters(objfun='ackley', lowerlimit=-32, upperlimit=32, dim=30)\n",
    "\n",
    "list_fit_and_p = []\n",
    "list_bestmemit = []\n",
    "list_maxvector = []\n",
    "list_timer = []\n",
    "\n",
    "\n",
    "print('Starting trials')\n",
    "for i in tqdm.tqdm(np.arange(N_RUNS)):\n",
    "    \n",
    "    # Start timer - https://stackoverflow.com/questions/7370801/how-to-measure-elapsed-time-in-python\n",
    "    start = timer()\n",
    "    \n",
    "    # Do optimization\n",
    "    fit_and_p, bestmemit, maxvector = HyDE_DF(deParams, otherParams, None)\n",
    "    \n",
    "    # End timer\n",
    "    end = timer()\n",
    "    \n",
    "    list_fit_and_p.append(fit_and_p)\n",
    "    list_bestmemit.append(bestmemit)\n",
    "    list_maxvector.append(maxvector)\n",
    "    list_timer.append(end-start)\n",
    "    \n",
    "\n",
    "trial_results = pd.DataFrame({'Fit': list_fit_and_p,\n",
    "                              'Solution': list_bestmemit,\n",
    "                              'Fit Vector': list_maxvector,\n",
    "                              'Time': list_timer})"
   ]
  },
  {
   "cell_type": "code",
   "execution_count": 32,
   "id": "e276b6b2",
   "metadata": {
    "ExecuteTime": {
     "end_time": "2022-05-12T11:01:08.515727Z",
     "start_time": "2022-05-12T11:01:08.452862Z"
    }
   },
   "outputs": [
    {
     "data": {
      "text/html": [
       "<div>\n",
       "<style scoped>\n",
       "    .dataframe tbody tr th:only-of-type {\n",
       "        vertical-align: middle;\n",
       "    }\n",
       "\n",
       "    .dataframe tbody tr th {\n",
       "        vertical-align: top;\n",
       "    }\n",
       "\n",
       "    .dataframe thead th {\n",
       "        text-align: right;\n",
       "    }\n",
       "</style>\n",
       "<table border=\"1\" class=\"dataframe\">\n",
       "  <thead>\n",
       "    <tr style=\"text-align: right;\">\n",
       "      <th></th>\n",
       "      <th>Fit</th>\n",
       "      <th>Solution</th>\n",
       "      <th>Fit Vector</th>\n",
       "      <th>Time</th>\n",
       "    </tr>\n",
       "  </thead>\n",
       "  <tbody>\n",
       "    <tr>\n",
       "      <th>0</th>\n",
       "      <td>4.440892e-16</td>\n",
       "      <td>[8.067538839575013e-17, 1.0102278420148729e-16...</td>\n",
       "      <td>[[12.680215272308292, 9.230037763443601, 7.940...</td>\n",
       "      <td>1.594317</td>\n",
       "    </tr>\n",
       "    <tr>\n",
       "      <th>1</th>\n",
       "      <td>4.440892e-16</td>\n",
       "      <td>[2.989314723468193e-18, 3.1904747691016294e-18...</td>\n",
       "      <td>[[10.026588322316547, 8.63917932444925, 6.5478...</td>\n",
       "      <td>1.410325</td>\n",
       "    </tr>\n",
       "    <tr>\n",
       "      <th>2</th>\n",
       "      <td>4.440892e-16</td>\n",
       "      <td>[1.011669887440286e-19, 2.1082889100182894e-19...</td>\n",
       "      <td>[[12.12456883830772, 7.48136130007348, 6.46402...</td>\n",
       "      <td>1.578524</td>\n",
       "    </tr>\n",
       "    <tr>\n",
       "      <th>3</th>\n",
       "      <td>4.440892e-16</td>\n",
       "      <td>[1.3833853054624716e-17, 3.2646258984809907e-1...</td>\n",
       "      <td>[[11.202825859228245, 8.24859334525536, 6.0780...</td>\n",
       "      <td>1.476999</td>\n",
       "    </tr>\n",
       "    <tr>\n",
       "      <th>4</th>\n",
       "      <td>4.440892e-16</td>\n",
       "      <td>[1.67280358833758e-16, 1.3883147850803413e-17,...</td>\n",
       "      <td>[[11.847590434631005, 8.27751040097464, 6.5083...</td>\n",
       "      <td>1.490180</td>\n",
       "    </tr>\n",
       "    <tr>\n",
       "      <th>5</th>\n",
       "      <td>4.440892e-16</td>\n",
       "      <td>[1.1405857769118941e-17, 6.249764723118251e-18...</td>\n",
       "      <td>[[9.210673896055091, 8.132344850905001, 6.5326...</td>\n",
       "      <td>1.394240</td>\n",
       "    </tr>\n",
       "    <tr>\n",
       "      <th>6</th>\n",
       "      <td>4.440892e-16</td>\n",
       "      <td>[4.141240770786869e-17, 9.416082972896572e-18,...</td>\n",
       "      <td>[[9.832453700854533, 8.8482035757292, 7.088868...</td>\n",
       "      <td>1.572959</td>\n",
       "    </tr>\n",
       "    <tr>\n",
       "      <th>7</th>\n",
       "      <td>4.440892e-16</td>\n",
       "      <td>[2.480214853901482e-16, 1.1248741040490515e-17...</td>\n",
       "      <td>[[10.858304376637653, 9.43732390819577, 8.9113...</td>\n",
       "      <td>1.580855</td>\n",
       "    </tr>\n",
       "    <tr>\n",
       "      <th>8</th>\n",
       "      <td>4.440892e-16</td>\n",
       "      <td>[1.0594744899800315e-17, 1.074413304275455e-17...</td>\n",
       "      <td>[[9.098224437376931, 6.910916058693786, 4.6130...</td>\n",
       "      <td>1.335869</td>\n",
       "    </tr>\n",
       "    <tr>\n",
       "      <th>9</th>\n",
       "      <td>4.440892e-16</td>\n",
       "      <td>[1.2813450349080332e-17, 2.5522029969226586e-1...</td>\n",
       "      <td>[[10.170952790675281, 7.108765469117738, 6.851...</td>\n",
       "      <td>1.569394</td>\n",
       "    </tr>\n",
       "    <tr>\n",
       "      <th>10</th>\n",
       "      <td>4.440892e-16</td>\n",
       "      <td>[4.8078493557051844e-18, 3.025753643021794e-17...</td>\n",
       "      <td>[[12.856796979777592, 9.268919329695818, 8.885...</td>\n",
       "      <td>1.579796</td>\n",
       "    </tr>\n",
       "    <tr>\n",
       "      <th>11</th>\n",
       "      <td>4.440892e-16</td>\n",
       "      <td>[7.313711730802928e-21, 1.599320625621003e-20,...</td>\n",
       "      <td>[[13.287227948701497, 8.962509109415867, 7.592...</td>\n",
       "      <td>1.616921</td>\n",
       "    </tr>\n",
       "    <tr>\n",
       "      <th>12</th>\n",
       "      <td>4.440892e-16</td>\n",
       "      <td>[1.768498310935329e-20, 2.3654755558900457e-20...</td>\n",
       "      <td>[[12.46425149617231, 8.986816600013016, 7.8388...</td>\n",
       "      <td>1.540740</td>\n",
       "    </tr>\n",
       "    <tr>\n",
       "      <th>13</th>\n",
       "      <td>4.440892e-16</td>\n",
       "      <td>[7.109497622500027e-19, 2.2186427545226794e-19...</td>\n",
       "      <td>[[10.57817062095478, 8.951746085029848, 7.3181...</td>\n",
       "      <td>1.717350</td>\n",
       "    </tr>\n",
       "    <tr>\n",
       "      <th>14</th>\n",
       "      <td>4.440892e-16</td>\n",
       "      <td>[6.478684465074051e-20, 1.2573927782366627e-18...</td>\n",
       "      <td>[[11.864836439749524, 9.966914387019049, 7.201...</td>\n",
       "      <td>1.636448</td>\n",
       "    </tr>\n",
       "    <tr>\n",
       "      <th>15</th>\n",
       "      <td>4.440892e-16</td>\n",
       "      <td>[1.399965241444845e-17, 1.0880041608891706e-16...</td>\n",
       "      <td>[[12.480768637517784, 6.796012730719346, 6.269...</td>\n",
       "      <td>1.562828</td>\n",
       "    </tr>\n",
       "    <tr>\n",
       "      <th>16</th>\n",
       "      <td>4.440892e-16</td>\n",
       "      <td>[8.577368420051325e-17, 2.7939170411028333e-18...</td>\n",
       "      <td>[[10.55164718849745, 6.930275232470764, 6.9302...</td>\n",
       "      <td>1.386610</td>\n",
       "    </tr>\n",
       "    <tr>\n",
       "      <th>17</th>\n",
       "      <td>4.440892e-16</td>\n",
       "      <td>[8.350958302678175e-17, 1.5372457186452524e-16...</td>\n",
       "      <td>[[9.244082100628187, 5.92922827452897, 5.40094...</td>\n",
       "      <td>1.351682</td>\n",
       "    </tr>\n",
       "    <tr>\n",
       "      <th>18</th>\n",
       "      <td>4.440892e-16</td>\n",
       "      <td>[2.232224367200337e-19, 2.695760652394044e-19,...</td>\n",
       "      <td>[[9.089706145398466, 6.92832910065529, 6.92832...</td>\n",
       "      <td>1.621159</td>\n",
       "    </tr>\n",
       "    <tr>\n",
       "      <th>19</th>\n",
       "      <td>4.440892e-16</td>\n",
       "      <td>[1.765018528407153e-18, 4.2108933072780335e-18...</td>\n",
       "      <td>[[9.93293603652345, 7.3632130781655984, 6.4127...</td>\n",
       "      <td>1.564327</td>\n",
       "    </tr>\n",
       "    <tr>\n",
       "      <th>20</th>\n",
       "      <td>4.440892e-16</td>\n",
       "      <td>[1.5306285377966065e-17, 2.9424414519522627e-1...</td>\n",
       "      <td>[[10.267411709716297, 8.464608005442884, 7.630...</td>\n",
       "      <td>1.426685</td>\n",
       "    </tr>\n",
       "    <tr>\n",
       "      <th>21</th>\n",
       "      <td>4.440892e-16</td>\n",
       "      <td>[7.420858446912082e-19, 4.0340757536551615e-19...</td>\n",
       "      <td>[[11.217884318854791, 9.235683340879298, 6.820...</td>\n",
       "      <td>1.553212</td>\n",
       "    </tr>\n",
       "    <tr>\n",
       "      <th>22</th>\n",
       "      <td>4.440892e-16</td>\n",
       "      <td>[1.1406828473456427e-18, 1.1166414498530075e-1...</td>\n",
       "      <td>[[9.09238560224099, 7.5646027649759375, 5.3538...</td>\n",
       "      <td>1.647868</td>\n",
       "    </tr>\n",
       "    <tr>\n",
       "      <th>23</th>\n",
       "      <td>4.440892e-16</td>\n",
       "      <td>[1.620760008661677e-19, 6.587031758828054e-19,...</td>\n",
       "      <td>[[10.389361301823786, 9.592927451091041, 8.619...</td>\n",
       "      <td>1.598550</td>\n",
       "    </tr>\n",
       "    <tr>\n",
       "      <th>24</th>\n",
       "      <td>4.440892e-16</td>\n",
       "      <td>[7.886804157343028e-17, 1.0810570785361966e-16...</td>\n",
       "      <td>[[11.609050926445533, 8.790734393819042, 8.069...</td>\n",
       "      <td>1.455228</td>\n",
       "    </tr>\n",
       "    <tr>\n",
       "      <th>25</th>\n",
       "      <td>4.440892e-16</td>\n",
       "      <td>[3.4374364317213833e-20, 4.360766363983109e-20...</td>\n",
       "      <td>[[10.925720366520071, 6.25835483297222, 5.0824...</td>\n",
       "      <td>1.636800</td>\n",
       "    </tr>\n",
       "    <tr>\n",
       "      <th>26</th>\n",
       "      <td>4.440892e-16</td>\n",
       "      <td>[4.719574432285885e-19, 1.8362826482870596e-16...</td>\n",
       "      <td>[[9.771691811796192, 6.329731172596894, 5.9169...</td>\n",
       "      <td>1.695960</td>\n",
       "    </tr>\n",
       "    <tr>\n",
       "      <th>27</th>\n",
       "      <td>4.440892e-16</td>\n",
       "      <td>[1.5942215835690015e-16, 4.4069432523966597e-1...</td>\n",
       "      <td>[[10.723999629689288, 7.769423191105723, 6.904...</td>\n",
       "      <td>1.440705</td>\n",
       "    </tr>\n",
       "    <tr>\n",
       "      <th>28</th>\n",
       "      <td>4.440892e-16</td>\n",
       "      <td>[2.8515361254003154e-18, 6.103391962546246e-16...</td>\n",
       "      <td>[[7.012466954159674, 7.012466954159674, 6.2187...</td>\n",
       "      <td>1.689785</td>\n",
       "    </tr>\n",
       "    <tr>\n",
       "      <th>29</th>\n",
       "      <td>4.440892e-16</td>\n",
       "      <td>[1.6017455692809477e-17, 2.34288142249103e-17,...</td>\n",
       "      <td>[[9.301707407712858, 5.726752595999553, 5.7267...</td>\n",
       "      <td>1.591786</td>\n",
       "    </tr>\n",
       "  </tbody>\n",
       "</table>\n",
       "</div>"
      ],
      "text/plain": [
       "             Fit                                           Solution  \\\n",
       "0   4.440892e-16  [8.067538839575013e-17, 1.0102278420148729e-16...   \n",
       "1   4.440892e-16  [2.989314723468193e-18, 3.1904747691016294e-18...   \n",
       "2   4.440892e-16  [1.011669887440286e-19, 2.1082889100182894e-19...   \n",
       "3   4.440892e-16  [1.3833853054624716e-17, 3.2646258984809907e-1...   \n",
       "4   4.440892e-16  [1.67280358833758e-16, 1.3883147850803413e-17,...   \n",
       "5   4.440892e-16  [1.1405857769118941e-17, 6.249764723118251e-18...   \n",
       "6   4.440892e-16  [4.141240770786869e-17, 9.416082972896572e-18,...   \n",
       "7   4.440892e-16  [2.480214853901482e-16, 1.1248741040490515e-17...   \n",
       "8   4.440892e-16  [1.0594744899800315e-17, 1.074413304275455e-17...   \n",
       "9   4.440892e-16  [1.2813450349080332e-17, 2.5522029969226586e-1...   \n",
       "10  4.440892e-16  [4.8078493557051844e-18, 3.025753643021794e-17...   \n",
       "11  4.440892e-16  [7.313711730802928e-21, 1.599320625621003e-20,...   \n",
       "12  4.440892e-16  [1.768498310935329e-20, 2.3654755558900457e-20...   \n",
       "13  4.440892e-16  [7.109497622500027e-19, 2.2186427545226794e-19...   \n",
       "14  4.440892e-16  [6.478684465074051e-20, 1.2573927782366627e-18...   \n",
       "15  4.440892e-16  [1.399965241444845e-17, 1.0880041608891706e-16...   \n",
       "16  4.440892e-16  [8.577368420051325e-17, 2.7939170411028333e-18...   \n",
       "17  4.440892e-16  [8.350958302678175e-17, 1.5372457186452524e-16...   \n",
       "18  4.440892e-16  [2.232224367200337e-19, 2.695760652394044e-19,...   \n",
       "19  4.440892e-16  [1.765018528407153e-18, 4.2108933072780335e-18...   \n",
       "20  4.440892e-16  [1.5306285377966065e-17, 2.9424414519522627e-1...   \n",
       "21  4.440892e-16  [7.420858446912082e-19, 4.0340757536551615e-19...   \n",
       "22  4.440892e-16  [1.1406828473456427e-18, 1.1166414498530075e-1...   \n",
       "23  4.440892e-16  [1.620760008661677e-19, 6.587031758828054e-19,...   \n",
       "24  4.440892e-16  [7.886804157343028e-17, 1.0810570785361966e-16...   \n",
       "25  4.440892e-16  [3.4374364317213833e-20, 4.360766363983109e-20...   \n",
       "26  4.440892e-16  [4.719574432285885e-19, 1.8362826482870596e-16...   \n",
       "27  4.440892e-16  [1.5942215835690015e-16, 4.4069432523966597e-1...   \n",
       "28  4.440892e-16  [2.8515361254003154e-18, 6.103391962546246e-16...   \n",
       "29  4.440892e-16  [1.6017455692809477e-17, 2.34288142249103e-17,...   \n",
       "\n",
       "                                           Fit Vector      Time  \n",
       "0   [[12.680215272308292, 9.230037763443601, 7.940...  1.594317  \n",
       "1   [[10.026588322316547, 8.63917932444925, 6.5478...  1.410325  \n",
       "2   [[12.12456883830772, 7.48136130007348, 6.46402...  1.578524  \n",
       "3   [[11.202825859228245, 8.24859334525536, 6.0780...  1.476999  \n",
       "4   [[11.847590434631005, 8.27751040097464, 6.5083...  1.490180  \n",
       "5   [[9.210673896055091, 8.132344850905001, 6.5326...  1.394240  \n",
       "6   [[9.832453700854533, 8.8482035757292, 7.088868...  1.572959  \n",
       "7   [[10.858304376637653, 9.43732390819577, 8.9113...  1.580855  \n",
       "8   [[9.098224437376931, 6.910916058693786, 4.6130...  1.335869  \n",
       "9   [[10.170952790675281, 7.108765469117738, 6.851...  1.569394  \n",
       "10  [[12.856796979777592, 9.268919329695818, 8.885...  1.579796  \n",
       "11  [[13.287227948701497, 8.962509109415867, 7.592...  1.616921  \n",
       "12  [[12.46425149617231, 8.986816600013016, 7.8388...  1.540740  \n",
       "13  [[10.57817062095478, 8.951746085029848, 7.3181...  1.717350  \n",
       "14  [[11.864836439749524, 9.966914387019049, 7.201...  1.636448  \n",
       "15  [[12.480768637517784, 6.796012730719346, 6.269...  1.562828  \n",
       "16  [[10.55164718849745, 6.930275232470764, 6.9302...  1.386610  \n",
       "17  [[9.244082100628187, 5.92922827452897, 5.40094...  1.351682  \n",
       "18  [[9.089706145398466, 6.92832910065529, 6.92832...  1.621159  \n",
       "19  [[9.93293603652345, 7.3632130781655984, 6.4127...  1.564327  \n",
       "20  [[10.267411709716297, 8.464608005442884, 7.630...  1.426685  \n",
       "21  [[11.217884318854791, 9.235683340879298, 6.820...  1.553212  \n",
       "22  [[9.09238560224099, 7.5646027649759375, 5.3538...  1.647868  \n",
       "23  [[10.389361301823786, 9.592927451091041, 8.619...  1.598550  \n",
       "24  [[11.609050926445533, 8.790734393819042, 8.069...  1.455228  \n",
       "25  [[10.925720366520071, 6.25835483297222, 5.0824...  1.636800  \n",
       "26  [[9.771691811796192, 6.329731172596894, 5.9169...  1.695960  \n",
       "27  [[10.723999629689288, 7.769423191105723, 6.904...  1.440705  \n",
       "28  [[7.012466954159674, 7.012466954159674, 6.2187...  1.689785  \n",
       "29  [[9.301707407712858, 5.726752595999553, 5.7267...  1.591786  "
      ]
     },
     "execution_count": 32,
     "metadata": {},
     "output_type": "execute_result"
    }
   ],
   "source": [
    "# Show solutions\n",
    "\n",
    "trial_results"
   ]
  },
  {
   "cell_type": "code",
   "execution_count": 37,
   "id": "837d5c2b",
   "metadata": {
    "ExecuteTime": {
     "end_time": "2022-05-12T11:07:19.528280Z",
     "start_time": "2022-05-12T11:07:19.203790Z"
    }
   },
   "outputs": [],
   "source": [
    "# loadmat aux function to load the matlab save files\n",
    "# from: https://stackoverflow.com/review/suggested-edits/21667510\n",
    "\n",
    "import scipy.io as spio\n",
    "\n",
    "def loadmat(filename):\n",
    "    '''\n",
    "    this function should be called instead of direct spio.loadmat\n",
    "    as it cures the problem of not properly recovering python dictionaries\n",
    "    from mat files. It calls the function check keys to cure all entries\n",
    "    which are still mat-objects\n",
    "    '''\n",
    "    def _check_keys(d):\n",
    "        '''\n",
    "        checks if entries in dictionary are mat-objects. If yes\n",
    "        todict is called to change them to nested dictionaries\n",
    "        '''\n",
    "        for key in d:\n",
    "            if isinstance(d[key], spio.matlab.mio5_params.mat_struct):\n",
    "                d[key] = _todict(d[key])\n",
    "        return d\n",
    "\n",
    "    def _has_struct(elem):\n",
    "        \"\"\"Determine if elem is an array and if any array item is a struct\"\"\"\n",
    "        return isinstance(elem, np.ndarray) and any(isinstance(\n",
    "                    e, scipy.io.matlab.mio5_params.mat_struct) for e in elem)\n",
    "\n",
    "    def _todict(matobj):\n",
    "        '''\n",
    "        A recursive function which constructs from matobjects nested dictionaries\n",
    "        '''\n",
    "        d = {}\n",
    "        for strg in matobj._fieldnames:\n",
    "            elem = matobj.__dict__[strg]\n",
    "            if isinstance(elem, spio.matlab.mio5_params.mat_struct):\n",
    "                d[strg] = _todict(elem)\n",
    "            elif _has_struct(elem):\n",
    "                d[strg] = _tolist(elem)\n",
    "            else:\n",
    "                d[strg] = elem\n",
    "        return d\n",
    "\n",
    "    def _tolist(ndarray):\n",
    "        '''\n",
    "        A recursive function which constructs lists from cellarrays\n",
    "        (which are loaded as numpy ndarrays), recursing into the elements\n",
    "        if they contain matobjects.\n",
    "        '''\n",
    "        elem_list = []\n",
    "        for sub_elem in ndarray:\n",
    "            if isinstance(sub_elem, spio.matlab.mio5_params.mat_struct):\n",
    "                elem_list.append(_todict(sub_elem))\n",
    "            elif _has_struct(sub_elem):\n",
    "                elem_list.append(_tolist(sub_elem))\n",
    "            else:\n",
    "                elem_list.append(sub_elem)\n",
    "        return elem_list\n",
    "    data = scipy.io.loadmat(filename, struct_as_record=False, squeeze_me=True)\n",
    "    return _check_keys(data)"
   ]
  },
  {
   "cell_type": "code",
   "execution_count": 38,
   "id": "08a7b64b",
   "metadata": {
    "ExecuteTime": {
     "end_time": "2022-05-12T11:07:20.000357Z",
     "start_time": "2022-05-12T11:07:19.982404Z"
    }
   },
   "outputs": [
    {
     "name": "stderr",
     "output_type": "stream",
     "text": [
      "C:\\Users\\camar\\AppData\\Local\\Temp\\ipykernel_16604\\3560610281.py:19: DeprecationWarning: Please use `mat_struct` from the `scipy.io.matlab` namespace, the `scipy.io.matlab.mio5_params` namespace is deprecated.\n",
      "  if isinstance(d[key], spio.matlab.mio5_params.mat_struct):\n",
      "C:\\Users\\camar\\AppData\\Local\\Temp\\ipykernel_16604\\3560610281.py:35: DeprecationWarning: Please use `mat_struct` from the `scipy.io.matlab` namespace, the `scipy.io.matlab.mio5_params` namespace is deprecated.\n",
      "  if isinstance(elem, spio.matlab.mio5_params.mat_struct):\n",
      "C:\\Users\\camar\\AppData\\Local\\Temp\\ipykernel_16604\\3560610281.py:26: DeprecationWarning: Please use `mat_struct` from the `scipy.io.matlab` namespace, the `scipy.io.matlab.mio5_params` namespace is deprecated.\n",
      "  e, scipy.io.matlab.mio5_params.mat_struct) for e in elem)\n"
     ]
    }
   ],
   "source": [
    "# Matlab code conversion\n",
    "\n",
    "# Read matlab file instead of excelfile (easier conversion)\n",
    "data = loadmat('matlab.mat')"
   ]
  },
  {
   "cell_type": "code",
   "execution_count": 39,
   "id": "810dc53f",
   "metadata": {
    "ExecuteTime": {
     "end_time": "2022-05-12T11:07:20.881017Z",
     "start_time": "2022-05-12T11:07:20.870046Z"
    }
   },
   "outputs": [],
   "source": [
    "# Linearize the generator prices\n",
    "\n",
    "# genCofA=data.generator.limit(:,:,6); -> MATLAB starts with 1, so we need the index -1\n",
    "# genCofB=data.generator.limit(:,:,7);\n",
    "# genCofC=data.generator.limit(:,:,8);\n",
    "\n",
    "genCofA = data['data']['generator']['limit'][:, :, 5]\n",
    "genCofB = data['data']['generator']['limit'][:, :, 6]\n",
    "genCofC = data['data']['generator']['limit'][:, :, 7]"
   ]
  },
  {
   "cell_type": "code",
   "execution_count": 40,
   "id": "1822607e",
   "metadata": {
    "ExecuteTime": {
     "end_time": "2022-05-12T11:07:21.384175Z",
     "start_time": "2022-05-12T11:07:21.370695Z"
    }
   },
   "outputs": [],
   "source": [
    "# Options for simulation\n",
    "\n",
    "#options \n",
    "iterlim = 1000000000\n",
    "reslim = 5000000000"
   ]
  },
  {
   "cell_type": "code",
   "execution_count": 41,
   "id": "62bca05f",
   "metadata": {
    "ExecuteTime": {
     "end_time": "2022-05-12T11:07:21.839283Z",
     "start_time": "2022-05-12T11:07:21.825176Z"
    }
   },
   "outputs": [],
   "source": [
    "# Definir o numero de resources usados\n",
    "\n",
    "numGen = np.arange(1, data['data']['parameterData']['resources']['numGen'] + 1)\n",
    "numLoad = np.arange(1, data['data']['parameterData']['resources']['numLoad'] + 1)\n",
    "numStor = np.arange(1, data['data']['parameterData']['resources']['numStor'] + 1)\n",
    "numV2G = np.arange(1, data['data']['parameterData']['resources']['numV2G'] + 1)\n",
    "numCStat = np.arange(1, data['data']['parameterData']['resources']['numCStat'] + 1)\n",
    "numPeriod = np.arange(1, data['data']['parameterData']['resources']['period'] + 1)\n",
    "numBus = np.array([1]) #np.arange(1) # forced to 1\n",
    "nOwner = np.arange(1, data['data']['parameterData']['resources']['owners'] + 1)"
   ]
  },
  {
   "cell_type": "code",
   "execution_count": 42,
   "id": "48126938",
   "metadata": {
    "ExecuteTime": {
     "end_time": "2022-05-12T11:07:22.290011Z",
     "start_time": "2022-05-12T11:07:22.274821Z"
    }
   },
   "outputs": [],
   "source": [
    "# Define as strings com os recursos para mandar para GAMS\n",
    "\n",
    "gen = np.max(numGen)\n",
    "Load = np.max(numLoad)\n",
    "stor = np.max(numStor)\n",
    "v2g = np.max(numV2G)\n",
    "cs = np.max(numCStat)\n",
    "period = np.max(numPeriod)\n",
    "Bus = np.max(numBus)"
   ]
  },
  {
   "cell_type": "code",
   "execution_count": 43,
   "id": "8e59d5eb",
   "metadata": {
    "ExecuteTime": {
     "end_time": "2022-05-12T11:07:22.743044Z",
     "start_time": "2022-05-12T11:07:22.729793Z"
    }
   },
   "outputs": [],
   "source": [
    "#% Definir as matrizes com os dados para o GAMS\n",
    "\n",
    "# General Info\n",
    "pMaxImp = data['data']['parameterData']['generalInfo']['P_Max_Imp']\n",
    "pMaxExp = data['data']['parameterData']['generalInfo']['P_Max_Exp']\n",
    "buyPrice = data['data']['parameterData']['generalInfo']['Energy_Buy_Price']\n",
    "sellPrice = data['data']['parameterData']['generalInfo']['Energy_Sell_Price']\n",
    "\n",
    "# Geradores\n",
    "genLimit = data['data']['generator']['limit'][numGen[0]-1:numGen[-1]+1, numPeriod[0]-1:numPeriod[-1]+1, :]\n",
    "genInfo = data['data']['generator']['info']\n",
    "\n",
    "# Cargas\n",
    "loadLimit = data['data']['load']['limit'][numLoad[0]-1:numLoad[-1]+1, numPeriod[0]-1:numPeriod[-1]+1, :]\n",
    "\n",
    "# Baterias\n",
    "storLimit = data['data']['storage']['limit'][numStor[0]-1:numStor[-1]+1, numPeriod[0]-1:numPeriod[-1]+1, :]\n",
    "storInfo = data['data']['storage']['info']\n",
    "\n",
    "# Veiculos\n",
    "v2gLimit = data['data']['vehicle']['limit']\n",
    "v2gInfo = data['data']['vehicle']['info']\n",
    "\n",
    "# Charging Station\n",
    "csLimit = data['data']['cstation']['limit'][numCStat[0]-1:numCStat[-1]+1, numPeriod[0]-1:numPeriod[-1]+1, :]\n",
    "csInfo = data['data']['cstation']['info']\n",
    "\n",
    "# Connect EV to Charging Station\n",
    "EV_CS_Info = data['data']['vehicle']['timeInfo']['V2GinCS']"
   ]
  },
  {
   "cell_type": "code",
   "execution_count": 44,
   "id": "17227734",
   "metadata": {
    "ExecuteTime": {
     "end_time": "2022-05-12T11:07:23.254926Z",
     "start_time": "2022-05-12T11:07:23.239870Z"
    }
   },
   "outputs": [],
   "source": [
    "# Definir os dados da rede para o GAMS\n",
    "\n",
    "# Linhas\n",
    "branchData = data['data']['network']['branch']\n",
    "\n",
    "# Tensão Máxima\n",
    "voltageMax = data['data']['parameterData']['network']['voltageMax']\n",
    "\n",
    "# Tensão Mínima\n",
    "voltageMin = data['data']['parameterData']['network']['voltageMin']\n",
    "\n",
    "# Angulo Máximo\n",
    "angleMax = data['data']['parameterData']['network']['angleMax']\n",
    "\n",
    "# Angulo Mínimo\n",
    "angleMin = data['data']['parameterData']['network']['angleMin']\n",
    "\n",
    "# Definir a matriz das admitancias\n",
    "ybus = data['data']['parameterData']['network']['ybus']\n",
    "diag = data['data']['parameterData']['network']['diag']\n",
    "branchID = data['data']['parameterData']['network']['branch']"
   ]
  },
  {
   "cell_type": "code",
   "execution_count": 45,
   "id": "a43510e5",
   "metadata": {
    "ExecuteTime": {
     "end_time": "2022-05-12T11:07:23.746085Z",
     "start_time": "2022-05-12T11:07:23.731304Z"
    }
   },
   "outputs": [],
   "source": [
    "#% Anular o custo fixo e quadratico da DG\n",
    "\n",
    "genLimit[:, :, 3] = 0\n",
    "genLimit[:, :, 5] = 0\n",
    "\n",
    "genLimit = np.append(genLimit, np.zeros(shape=(7, 24, 4)), axis=2)\n",
    "\n",
    "# Not necessary anymore\n",
    "#genLimit[:, :, 9] = 0\n",
    "#genLimit[:, :, 11] = 0"
   ]
  },
  {
   "cell_type": "code",
   "execution_count": 46,
   "id": "523d08dc",
   "metadata": {
    "ExecuteTime": {
     "end_time": "2022-05-12T11:07:24.245923Z",
     "start_time": "2022-05-12T11:07:24.231713Z"
    }
   },
   "outputs": [],
   "source": [
    "#** Define the fixed sets structure to use in the parameters of the gams optimization process\n",
    "\n",
    "NCOLS = 12\n",
    "\n",
    "genLimitInfo = np.arange(1, NCOLS+1)\n",
    "loadLimitInfo = np.arange(1, NCOLS+1)\n",
    "storLimitInfo = np.arange(1, NCOLS+1)\n",
    "v2gLimitInfo = np.arange(1, NCOLS+1)\n",
    "csLimitInfo = np.arange(1, NCOLS+1)"
   ]
  },
  {
   "cell_type": "code",
   "execution_count": 47,
   "id": "9e744031",
   "metadata": {
    "ExecuteTime": {
     "end_time": "2022-05-12T11:07:24.792053Z",
     "start_time": "2022-05-12T11:07:24.778462Z"
    }
   },
   "outputs": [],
   "source": [
    "# * Define the several sets structure used in the gams optimization process, \n",
    "# these sets depends the number of resources used in matlab code\n",
    "\n",
    "_t = np.arange(period)\n",
    "_gen = np.arange(gen)\n",
    "_Load = np.arange(Load)\n",
    "_stor = np.arange(stor)\n",
    "_v2g = np.arange(v2g)\n",
    "_cs = np.arange(cs)"
   ]
  },
  {
   "cell_type": "code",
   "execution_count": 48,
   "id": "ce24e784",
   "metadata": {
    "ExecuteTime": {
     "end_time": "2022-05-12T11:07:25.281290Z",
     "start_time": "2022-05-12T11:07:25.267461Z"
    }
   },
   "outputs": [],
   "source": [
    "#positive variables\n",
    "\n",
    "genActPower = np.ones(shape=(len(_gen), len(_t)))\n",
    "genExcActPower = np.ones(shape=(len(_gen), len(_t)))\n",
    "pImp = np.ones(shape=(len(_t)))\n",
    "pExp = np.ones(shape=(len(_t)))"
   ]
  },
  {
   "cell_type": "code",
   "execution_count": 49,
   "id": "1ad62483",
   "metadata": {
    "ExecuteTime": {
     "end_time": "2022-05-12T11:07:26.016884Z",
     "start_time": "2022-05-12T11:07:25.997934Z"
    }
   },
   "outputs": [],
   "source": [
    "# # binary variables\n",
    "\n",
    "genXo = np.zeros(shape=(len(_gen), len(_t)))\n",
    "loadXo = np.zeros(shape=(len(_Load), len(_t)))"
   ]
  },
  {
   "cell_type": "code",
   "execution_count": 50,
   "id": "d8e542b5",
   "metadata": {
    "ExecuteTime": {
     "end_time": "2022-05-12T11:07:27.140629Z",
     "start_time": "2022-05-12T11:07:27.131616Z"
    }
   },
   "outputs": [],
   "source": [
    "# Define dictionaries\n",
    "\n",
    "dict_var = {'genActPower': genActPower,\n",
    "            'genExcActPower': genExcActPower,\n",
    "            'pImp': pImp,\n",
    "            'pExp': pExp}\n",
    "\n",
    "dict_par = {'genLimit': genLimit,\n",
    "            'buyPrice': buyPrice,\n",
    "            'sellPrice': sellPrice,\n",
    "            't': _t,\n",
    "            'gen': _gen}"
   ]
  },
  {
   "cell_type": "code",
   "execution_count": 51,
   "id": "5b2e73f8",
   "metadata": {
    "ExecuteTime": {
     "end_time": "2022-05-12T11:10:14.798750Z",
     "start_time": "2022-05-12T11:10:14.781795Z"
    },
    "code_folding": []
   },
   "outputs": [],
   "source": [
    "# Encoded and decoded dictionaries\n",
    "\n",
    "encoded_dict = encode(dict_var)\n",
    "\n",
    "decoded_dict = decode(encoded_dict, dict_var)"
   ]
  },
  {
   "cell_type": "code",
   "execution_count": 81,
   "id": "1c29012f",
   "metadata": {
    "ExecuteTime": {
     "end_time": "2022-05-12T13:55:33.446552Z",
     "start_time": "2022-05-12T13:55:33.437577Z"
    }
   },
   "outputs": [],
   "source": [
    "minVals = {'genActPower': np.array(np.zeros((1, genActPower.ravel().shape[0]))),\n",
    "           'genExcActPower': np.array(np.zeros((1, genExcActPower.ravel().shape[0]))),\n",
    "           'pImp': np.array(np.zeros((1, pImp.ravel().shape[0]))),\n",
    "           'pExp': np.array(np.zeros((1, pExp.ravel().shape[0])))}\n",
    "\n",
    "\n",
    "maxVals = {'genActPower': 5000*np.array(np.ones((1, genActPower.ravel().shape[0]))),\n",
    "           'genExcActPower': 5000*np.array(np.ones((1, genExcActPower.ravel().shape[0]))),\n",
    "           'pImp': pMaxImp.ravel(),\n",
    "           'pExp': pMaxExp.ravel()}"
   ]
  },
  {
   "cell_type": "code",
   "execution_count": 127,
   "id": "13a1bf0d",
   "metadata": {
    "ExecuteTime": {
     "end_time": "2022-05-12T14:18:49.632699Z",
     "start_time": "2022-05-12T14:18:49.621728Z"
    }
   },
   "outputs": [
    {
     "data": {
      "text/plain": [
       "(384,)"
      ]
     },
     "execution_count": 127,
     "metadata": {},
     "output_type": "execute_result"
    }
   ],
   "source": [
    "encode(maxVals).shape"
   ]
  },
  {
   "cell_type": "code",
   "execution_count": 135,
   "id": "5e42691a",
   "metadata": {
    "ExecuteTime": {
     "end_time": "2022-05-12T14:28:58.041603Z",
     "start_time": "2022-05-12T14:20:46.110079Z"
    },
    "code_folding": [],
    "scrolled": true
   },
   "outputs": [
    {
     "name": "stdout",
     "output_type": "stream",
     "text": [
      "Starting trials\n",
      "Run 01\n"
     ]
    },
    {
     "name": "stderr",
     "output_type": "stream",
     "text": [
      "100%|████████████████████████████████████████████████████| 100/100 [02:38<00:00,  1.58s/it]\n"
     ]
    },
    {
     "name": "stdout",
     "output_type": "stream",
     "text": [
      "Run 02\n"
     ]
    },
    {
     "name": "stderr",
     "output_type": "stream",
     "text": [
      "100%|████████████████████████████████████████████████████| 100/100 [02:37<00:00,  1.58s/it]\n"
     ]
    },
    {
     "name": "stdout",
     "output_type": "stream",
     "text": [
      "Run 03\n"
     ]
    },
    {
     "name": "stderr",
     "output_type": "stream",
     "text": [
      "100%|████████████████████████████████████████████████████| 100/100 [02:56<00:00,  1.76s/it]\n"
     ]
    }
   ],
   "source": [
    "# Run the HyDE with the generator objective function\n",
    "\n",
    "N_RUNS = 3\n",
    "\n",
    "deParams = DEParams(I_NP=50, I_itermax=100)\n",
    "otherParams = OtherParameters(objfun='eso_obj', lowerlimit=encode(minVals), upperlimit=encode(maxVals), \n",
    "                              dim=encode(dict_var).shape[0], \n",
    "                              var_dictionary=dict_var, param_dictionary=dict_par)\n",
    "\n",
    "list_fit_and_p = []\n",
    "list_bestmemit = []\n",
    "list_maxvector = []\n",
    "list_timer = []\n",
    "\n",
    "\n",
    "print('Starting trials')\n",
    "for i in np.arange(N_RUNS):\n",
    "    print('Run {:02d}'.format(i+1))\n",
    "    \n",
    "    # Start timer - https://stackoverflow.com/questions/7370801/how-to-measure-elapsed-time-in-python\n",
    "    start = timer()\n",
    "    \n",
    "    # Do optimization\n",
    "    fit_and_p, bestmemit, maxvector = HyDE_DF(deParams, otherParams, None)\n",
    "    \n",
    "    # End timer\n",
    "    end = timer()\n",
    "    \n",
    "    list_fit_and_p.append(fit_and_p)\n",
    "    list_bestmemit.append(bestmemit)\n",
    "    list_maxvector.append(maxvector)\n",
    "    list_timer.append(end-start)\n",
    "    \n",
    "\n",
    "trial_results = pd.DataFrame({'Fit': list_fit_and_p,\n",
    "                              'Solution': list_bestmemit,\n",
    "                              'Fit Vector': list_maxvector,\n",
    "                              'Time': list_timer})"
   ]
  },
  {
   "cell_type": "code",
   "execution_count": 140,
   "id": "173312cc",
   "metadata": {
    "ExecuteTime": {
     "end_time": "2022-05-12T14:45:15.722144Z",
     "start_time": "2022-05-12T14:45:15.701199Z"
    }
   },
   "outputs": [
    {
     "data": {
      "text/html": [
       "<div>\n",
       "<style scoped>\n",
       "    .dataframe tbody tr th:only-of-type {\n",
       "        vertical-align: middle;\n",
       "    }\n",
       "\n",
       "    .dataframe tbody tr th {\n",
       "        vertical-align: top;\n",
       "    }\n",
       "\n",
       "    .dataframe thead th {\n",
       "        text-align: right;\n",
       "    }\n",
       "</style>\n",
       "<table border=\"1\" class=\"dataframe\">\n",
       "  <thead>\n",
       "    <tr style=\"text-align: right;\">\n",
       "      <th></th>\n",
       "      <th>Fit</th>\n",
       "      <th>Solution</th>\n",
       "      <th>Fit Vector</th>\n",
       "      <th>Time</th>\n",
       "    </tr>\n",
       "  </thead>\n",
       "  <tbody>\n",
       "    <tr>\n",
       "      <th>0</th>\n",
       "      <td>1.178353</td>\n",
       "      <td>[0.17581833345090234, 506.8783909995948, 199.1...</td>\n",
       "      <td>[[32.62413947270687, 32.62413947270687, 32.624...</td>\n",
       "      <td>158.068577</td>\n",
       "    </tr>\n",
       "    <tr>\n",
       "      <th>1</th>\n",
       "      <td>1.112058</td>\n",
       "      <td>[0.3195858232269333, 1.1336294426270799, 1.384...</td>\n",
       "      <td>[[23.98803707313759, 23.98803707313759, 23.988...</td>\n",
       "      <td>157.678170</td>\n",
       "    </tr>\n",
       "    <tr>\n",
       "      <th>2</th>\n",
       "      <td>3.684933</td>\n",
       "      <td>[45.583776007309375, 1.0526933191810564, 118.9...</td>\n",
       "      <td>[[34.41060767510588, 34.41060767510588, 34.410...</td>\n",
       "      <td>176.172443</td>\n",
       "    </tr>\n",
       "  </tbody>\n",
       "</table>\n",
       "</div>"
      ],
      "text/plain": [
       "        Fit                                           Solution  \\\n",
       "0  1.178353  [0.17581833345090234, 506.8783909995948, 199.1...   \n",
       "1  1.112058  [0.3195858232269333, 1.1336294426270799, 1.384...   \n",
       "2  3.684933  [45.583776007309375, 1.0526933191810564, 118.9...   \n",
       "\n",
       "                                          Fit Vector        Time  \n",
       "0  [[32.62413947270687, 32.62413947270687, 32.624...  158.068577  \n",
       "1  [[23.98803707313759, 23.98803707313759, 23.988...  157.678170  \n",
       "2  [[34.41060767510588, 34.41060767510588, 34.410...  176.172443  "
      ]
     },
     "execution_count": 140,
     "metadata": {},
     "output_type": "execute_result"
    }
   ],
   "source": [
    "# Show trial results\n",
    "\n",
    "trial_results"
   ]
  },
  {
   "cell_type": "code",
   "execution_count": 151,
   "id": "04a45baf",
   "metadata": {
    "ExecuteTime": {
     "end_time": "2022-05-12T15:28:19.761558Z",
     "start_time": "2022-05-12T15:28:19.369176Z"
    }
   },
   "outputs": [
    {
     "data": {
      "image/png": "[encoded data removed]",
      "text/plain": [
       "<Figure size 576x1152 with 7 Axes>"
      ]
     },
     "metadata": {
      "needs_background": "light"
     },
     "output_type": "display_data"
    }
   ],
   "source": [
    "fig, axs = plt.subplots(nrows=7, figsize=(8, 16))\n",
    "\n",
    "for i in np.arange(7):\n",
    "    axs[i].plot(decode(trial_results['Solution'][0], dict_var)['genActPower'][i])\n",
    "    axs[i].plot(decode(trial_results['Solution'][0], dict_var)['genExcActPower'][i])\n"
   ]
  },
  {
   "cell_type": "code",
   "execution_count": 137,
   "id": "b570ca1a",
   "metadata": {
    "ExecuteTime": {
     "end_time": "2022-05-12T14:29:04.338607Z",
     "start_time": "2022-05-12T14:29:04.238906Z"
    }
   },
   "outputs": [
    {
     "data": {
      "text/plain": [
       "<matplotlib.legend.Legend at 0x224ffab81f0>"
      ]
     },
     "execution_count": 137,
     "metadata": {},
     "output_type": "execute_result"
    },
    {
     "data": {
      "image/png": "[encoded data removed]",
      "text/plain": [
       "<Figure size 432x288 with 1 Axes>"
      ]
     },
     "metadata": {
      "needs_background": "light"
     },
     "output_type": "display_data"
    }
   ],
   "source": [
    "# Imports and Exports\n",
    "\n",
    "plt.plot(decode(trial_results['Solution'][0], dict_var)['pImp'])\n",
    "plt.plot(decode(trial_results['Solution'][0], dict_var)['pExp'])\n",
    "\n",
    "plt.legend(['pImp', 'pExp'])"
   ]
  },
  {
   "cell_type": "code",
   "execution_count": null,
   "id": "934d2768",
   "metadata": {},
   "outputs": [],
   "source": []
  }
 ],
 "metadata": {
  "kernelspec": {
   "display_name": "Python 3 (ipykernel)",
   "language": "python",
   "name": "python3"
  },
  "language_info": {
   "codemirror_mode": {
    "name": "ipython",
    "version": 3
   },
   "file_extension": ".py",
   "mimetype": "text/x-python",
   "name": "python",
   "nbconvert_exporter": "python",
   "pygments_lexer": "ipython3",
   "version": "3.8.10"
  },
  "varInspector": {
   "cols": {
    "lenName": 16,
    "lenType": 16,
    "lenVar": 40
   },
   "kernels_config": {
    "python": {
     "delete_cmd_postfix": "",
     "delete_cmd_prefix": "del ",
     "library": "var_list.py",
     "varRefreshCmd": "print(var_dic_list())"
    },
    "r": {
     "delete_cmd_postfix": ") ",
     "delete_cmd_prefix": "rm(",
     "library": "var_list.r",
     "varRefreshCmd": "cat(var_dic_list()) "
    }
   },
   "types_to_exclude": [
    "module",
    "function",
    "builtin_function_or_method",
    "instance",
    "_Feature"
   ],
   "window_display": false
  }
 },
 "nbformat": 4,
 "nbformat_minor": 5
}
