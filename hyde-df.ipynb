{
 "cells": [
  {
   "cell_type": "code",
   "execution_count": 2,
   "id": "4de477ae",
   "metadata": {
    "ExecuteTime": {
     "end_time": "2022-05-03T10:55:02.591399Z",
     "start_time": "2022-05-03T10:55:02.582423Z"
    }
   },
   "outputs": [],
   "source": [
    "# Imports\n",
    "\n",
    "import numpy as np\n",
    "import pandas as pd\n",
    "import matplotlib.pyplot as plt\n",
    "\n",
    "from numpy.matlib import repmat"
   ]
  },
  {
   "cell_type": "code",
   "execution_count": null,
   "id": "15554b5a",
   "metadata": {},
   "outputs": [],
   "source": [
    "def HyDE_DF(deParameters, otherParameters, initialSolution):\n",
    "    \n",
    "    def genpop(a, b, lowMatrix, upMatrix):\n",
    "        return np.random.uniform(low=lowMatrix, high=upMatrix, size=(a, b))\n",
    "    \n",
    "    #-----This is just for notational convenience and to keep the code uncluttered.--------\n",
    "    I_NP = deParameters.I_NP\n",
    "    F_weight = deParameters.F_weight\n",
    "    F_CR = deParameters.F_CR\n",
    "    I_D = otherParameters.dim     #Number of variables or dimension\n",
    "    deParameters.nVariables = I_D\n",
    "    FVr_minbound = otherParameters.lowerlimit * np.array(np.ones((1,otherParameters.dim)))\n",
    "    FVr_maxbound = otherParameters.upperlimit * np.array(np.ones((1,otherParameters.dim)))\n",
    "    I_itermax = deParameters.I_itermax\n",
    "    \n",
    "    \n",
    "    #Repair boundary method employed\n",
    "    BRM = deParameters.I_bnd_constr   #1: bring the value to bound violated\n",
    "                                      #2: repair in the allowed range\n",
    "                                      #3: Bounce-back\n",
    "            \n",
    "    # Get Objective Function\n",
    "    fnc= otherParameters.objfun\n",
    "    \n",
    "    #-----Check input variables---------------------------------------------\n",
    "    if I_NP < 5:\n",
    "        I_NP = 5\n",
    "        print('I_NP increased to minimal value 5\\n')\n",
    "    \n",
    "    if (F_CR < 0) | (F_CR > 1):\n",
    "        F_CR = 0.5\n",
    "        print('F_CR should be from interval [0, 1] - set to default value 0.5\\n')\n",
    "        \n",
    "    if I_itermax <= 0:\n",
    "        I_itermax = 200\n",
    "        print('I_itermax should be > 0 - set to default value 200\\n')\n",
    "    \n",
    "    \n",
    "    #-----Initialize population and some arrays-------------------------------\n",
    "    #%%%%%%%%%%%%%%%%%%%%%%%%%%%%%%%%%%%%%%%%%%%%%%%%%%%%%%%%%%%%%%%%%%%%%%%%%\n",
    "    # pre-allocation of loop variables\n",
    "    fitMaxVector = np.empty((1, I_itermax))\n",
    "    fitMaxVector[:] = np.nan\n",
    "    \n",
    "    \n",
    "    # limit iterations by threshold\n",
    "    gen = 1; #iterations\n",
    "    \n",
    "    \n",
    "    #%%%%%%%%%%%%%%%%%%%%%%%%%%%%%%%%%%%%%%%%%%%%%%%%%%%%%%%%%%%%%%%%%%%%%%%%\n",
    "    #----FM_pop is a matrix of size I_NPx(I_D+1). It will be initialized------\n",
    "    #----with random values between the min and max values of the-------------\n",
    "    #----parameters-----------------------------------------------------------\n",
    "    # FLC modification - vectorization\n",
    "    minPositionsMatrix = repmat(FVr_minbound, I_NP, 1)\n",
    "    maxPositionsMatrix = repmat(FVr_maxbound, I_NP, 1)\n",
    "    deParameters.minPositionsMatrix = minPositionsMatrix\n",
    "    deParameters.maxPositionsMatrix = maxPositionsMatrix\n",
    "    \n",
    "    # generate initial population.\n",
    "    FM_pop = genpop(I_NP,I_D,minPositionsMatrix,maxPositionsMatrix)\n",
    "    \n",
    "    #If you want to inject initial solutions\n",
    "    if nargin > 2: \n",
    "        noInitialSolutions = initialSolution.shape()[0]\n",
    "        FM_pop(1:noInitialSolutions,:) = initialSolution\n",
    "        \n",
    "        \n",
    "    #%%%%%%%%%%%%%%%%%%%%%%%%%%%%%%%%%%%%%%%%%%%%%%%%%%%%%%%%%%%%%%%%%%%%%%%%%%\n",
    "    #------Evaluate the best member after initialization----------------------\n",
    "    # Modified by FLC\n",
    "    S_val = feval(fnc, FM_pop)\n",
    "    I_best_index = np.argmin(S_val); # This mean that the best individual correspond to the best worst performance\n",
    "    FVr_bestmemit = FM_pop[I_best_index, :] # best member of current iteration\n",
    "    \n",
    "    fitMaxVector[:, 0] = S_val(I_best_index) #We save the mean value and mean penalty value\n",
    "    # The user can decide to save the mean, best, or any other value here\n",
    "    \n",
    "    \n",
    "    \n",
    "    #------DE-Minimization------------------------------------------------\n",
    "    #------FM_popold is the population which has to compete. It is--------\n",
    "    #------static through one iteration. FM_pop is the newly--------------\n",
    "    #------emerging population.-------------------------------------------\n",
    "    FVr_rot  = np.arange(0, I_NP, 1)             # rotating index array (size I_NP)\n",
    "    \n",
    "    \n",
    "    \n",
    "    #%%%%%%%%%%%%%%%%%%%%%%%%%%%%%%%%%%%%%%%%%%%%%%%%%%%%%%%%%%%%%%%%%%%%%%%%%%%%%%%%%%%%%%%%%%\n",
    "    #% HYDE self-adaptive parameters\n",
    "    F_weight_old = repmat(F_weight, I_NP, 3)\n",
    "    F_weight = F_weight_old\n",
    "    F_CR_old = repmat(F_CR, I_NP, 1)\n",
    "    F_CR = F_CR_old\n",
    "    \n",
    "    return Fit_and_p,FVr_bestmemit, fitMaxVector"
   ]
  }
 ],
 "metadata": {
  "kernelspec": {
   "display_name": "Python 3 (ipykernel)",
   "language": "python",
   "name": "python3"
  },
  "language_info": {
   "codemirror_mode": {
    "name": "ipython",
    "version": 3
   },
   "file_extension": ".py",
   "mimetype": "text/x-python",
   "name": "python",
   "nbconvert_exporter": "python",
   "pygments_lexer": "ipython3",
   "version": "3.8.10"
  },
  "varInspector": {
   "cols": {
    "lenName": 16,
    "lenType": 16,
    "lenVar": 40
   },
   "kernels_config": {
    "python": {
     "delete_cmd_postfix": "",
     "delete_cmd_prefix": "del ",
     "library": "var_list.py",
     "varRefreshCmd": "print(var_dic_list())"
    },
    "r": {
     "delete_cmd_postfix": ") ",
     "delete_cmd_prefix": "rm(",
     "library": "var_list.r",
     "varRefreshCmd": "cat(var_dic_list()) "
    }
   },
   "types_to_exclude": [
    "module",
    "function",
    "builtin_function_or_method",
    "instance",
    "_Feature"
   ],
   "window_display": false
  }
 },
 "nbformat": 4,
 "nbformat_minor": 5
}
