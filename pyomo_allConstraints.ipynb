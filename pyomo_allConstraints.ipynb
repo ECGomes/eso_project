{
 "cells": [
  {
   "cell_type": "code",
   "execution_count": 1,
   "id": "c4316e9b",
   "metadata": {
    "ExecuteTime": {
     "end_time": "2022-05-30T12:51:15.648507Z",
     "start_time": "2022-05-30T12:51:14.257187Z"
    }
   },
   "outputs": [],
   "source": [
    "#  Imports\n",
    "\n",
    "import numpy as np\n",
    "import pandas as pd\n",
    "import matplotlib.pyplot as plt\n",
    "import scipy"
   ]
  },
  {
   "cell_type": "code",
   "execution_count": 2,
   "id": "c4786f8e",
   "metadata": {
    "ExecuteTime": {
     "end_time": "2022-05-30T12:51:16.209927Z",
     "start_time": "2022-05-30T12:51:16.080344Z"
    }
   },
   "outputs": [],
   "source": [
    "# loadmat aux function to load the matlab save files\n",
    "# from: https://stackoverflow.com/review/suggested-edits/21667510\n",
    "\n",
    "import scipy.io as spio\n",
    "\n",
    "def loadmat(filename):\n",
    "    '''\n",
    "    this function should be called instead of direct spio.loadmat\n",
    "    as it cures the problem of not properly recovering python dictionaries\n",
    "    from mat files. It calls the function check keys to cure all entries\n",
    "    which are still mat-objects\n",
    "    '''\n",
    "    def _check_keys(d):\n",
    "        '''\n",
    "        checks if entries in dictionary are mat-objects. If yes\n",
    "        todict is called to change them to nested dictionaries\n",
    "        '''\n",
    "        for key in d:\n",
    "            if isinstance(d[key], spio.matlab.mio5_params.mat_struct):\n",
    "                d[key] = _todict(d[key])\n",
    "        return d\n",
    "\n",
    "    def _has_struct(elem):\n",
    "        \"\"\"Determine if elem is an array and if any array item is a struct\"\"\"\n",
    "        return isinstance(elem, np.ndarray) and any(isinstance(\n",
    "                    e, scipy.io.matlab.mio5_params.mat_struct) for e in elem)\n",
    "\n",
    "    def _todict(matobj):\n",
    "        '''\n",
    "        A recursive function which constructs from matobjects nested dictionaries\n",
    "        '''\n",
    "        d = {}\n",
    "        for strg in matobj._fieldnames:\n",
    "            elem = matobj.__dict__[strg]\n",
    "            if isinstance(elem, spio.matlab.mio5_params.mat_struct):\n",
    "                d[strg] = _todict(elem)\n",
    "            elif _has_struct(elem):\n",
    "                d[strg] = _tolist(elem)\n",
    "            else:\n",
    "                d[strg] = elem\n",
    "        return d\n",
    "\n",
    "    def _tolist(ndarray):\n",
    "        '''\n",
    "        A recursive function which constructs lists from cellarrays\n",
    "        (which are loaded as numpy ndarrays), recursing into the elements\n",
    "        if they contain matobjects.\n",
    "        '''\n",
    "        elem_list = []\n",
    "        for sub_elem in ndarray:\n",
    "            if isinstance(sub_elem, spio.matlab.mio5_params.mat_struct):\n",
    "                elem_list.append(_todict(sub_elem))\n",
    "            elif _has_struct(sub_elem):\n",
    "                elem_list.append(_tolist(sub_elem))\n",
    "            else:\n",
    "                elem_list.append(sub_elem)\n",
    "        return elem_list\n",
    "    data = scipy.io.loadmat(filename, struct_as_record=False, squeeze_me=True)\n",
    "    return _check_keys(data)"
   ]
  },
  {
   "cell_type": "code",
   "execution_count": 3,
   "id": "c7b09d40",
   "metadata": {
    "ExecuteTime": {
     "end_time": "2022-05-30T12:51:16.661360Z",
     "start_time": "2022-05-30T12:51:16.654344Z"
    }
   },
   "outputs": [
    {
     "name": "stderr",
     "output_type": "stream",
     "text": [
      "C:\\Users\\camar\\AppData\\Local\\Temp\\ipykernel_21032\\3560610281.py:19: DeprecationWarning: Please use `mat_struct` from the `scipy.io.matlab` namespace, the `scipy.io.matlab.mio5_params` namespace is deprecated.\n",
      "  if isinstance(d[key], spio.matlab.mio5_params.mat_struct):\n",
      "C:\\Users\\camar\\AppData\\Local\\Temp\\ipykernel_21032\\3560610281.py:35: DeprecationWarning: Please use `mat_struct` from the `scipy.io.matlab` namespace, the `scipy.io.matlab.mio5_params` namespace is deprecated.\n",
      "  if isinstance(elem, spio.matlab.mio5_params.mat_struct):\n",
      "C:\\Users\\camar\\AppData\\Local\\Temp\\ipykernel_21032\\3560610281.py:26: DeprecationWarning: Please use `mat_struct` from the `scipy.io.matlab` namespace, the `scipy.io.matlab.mio5_params` namespace is deprecated.\n",
      "  e, scipy.io.matlab.mio5_params.mat_struct) for e in elem)\n"
     ]
    }
   ],
   "source": [
    "# Matlab code conversion\n",
    "\n",
    "# Read matlab file instead of excelfile (easier conversion)\n",
    "data = loadmat('matlab.mat')"
   ]
  },
  {
   "cell_type": "code",
   "execution_count": 4,
   "id": "1159909e",
   "metadata": {
    "ExecuteTime": {
     "end_time": "2022-05-30T12:51:17.378546Z",
     "start_time": "2022-05-30T12:51:17.374558Z"
    }
   },
   "outputs": [],
   "source": [
    "# Linearize the generator prices\n",
    "\n",
    "# genCofA=data.generator.limit(:,:,6); -> MATLAB starts with 1, so we need the index -1\n",
    "# genCofB=data.generator.limit(:,:,7);\n",
    "# genCofC=data.generator.limit(:,:,8);\n",
    "\n",
    "genCofA = data['data']['generator']['limit'][:, :, 5]\n",
    "genCofB = data['data']['generator']['limit'][:, :, 6]\n",
    "genCofC = data['data']['generator']['limit'][:, :, 7]"
   ]
  },
  {
   "cell_type": "code",
   "execution_count": 5,
   "id": "a9fc1cb6",
   "metadata": {
    "ExecuteTime": {
     "end_time": "2022-05-30T12:51:18.377838Z",
     "start_time": "2022-05-30T12:51:18.374820Z"
    }
   },
   "outputs": [],
   "source": [
    "# Options for simulation\n",
    "\n",
    "#options \n",
    "iterlim = 1000000000\n",
    "reslim = 5000000000"
   ]
  },
  {
   "cell_type": "code",
   "execution_count": 6,
   "id": "2ab9a921",
   "metadata": {
    "ExecuteTime": {
     "end_time": "2022-05-30T12:51:18.831597Z",
     "start_time": "2022-05-30T12:51:18.825613Z"
    }
   },
   "outputs": [],
   "source": [
    "# Definir o numero de resources usados\n",
    "\n",
    "numGen = np.arange(1, data['data']['parameterData']['resources']['numGen'] + 1)\n",
    "numLoad = np.arange(1, data['data']['parameterData']['resources']['numLoad'] + 1)\n",
    "numStor = np.arange(1, data['data']['parameterData']['resources']['numStor'] + 1)\n",
    "numV2G = np.arange(1, data['data']['parameterData']['resources']['numV2G'] + 1)\n",
    "numCStat = np.arange(1, data['data']['parameterData']['resources']['numCStat'] + 1)\n",
    "numPeriod = np.arange(1, data['data']['parameterData']['resources']['period'] + 1)\n",
    "numBus = np.arange(1) # forced to 1\n",
    "nOwner = np.arange(1, data['data']['parameterData']['resources']['owners'] + 1)"
   ]
  },
  {
   "cell_type": "code",
   "execution_count": 7,
   "id": "c18ac201",
   "metadata": {
    "ExecuteTime": {
     "end_time": "2022-05-30T12:51:19.354787Z",
     "start_time": "2022-05-30T12:51:19.350799Z"
    }
   },
   "outputs": [],
   "source": [
    "# Define as strings com os recursos para mandar para GAMS\n",
    "\n",
    "gen = np.max(numGen)\n",
    "Load = np.max(numLoad)\n",
    "stor = np.max(numStor)\n",
    "v2g = np.max(numV2G)\n",
    "cs = np.max(numCStat)\n",
    "period = np.max(numPeriod)\n",
    "Bus = np.max(numBus)"
   ]
  },
  {
   "cell_type": "code",
   "execution_count": 8,
   "id": "1b2096dc",
   "metadata": {
    "ExecuteTime": {
     "end_time": "2022-05-30T12:51:19.883315Z",
     "start_time": "2022-05-30T12:51:19.875335Z"
    }
   },
   "outputs": [],
   "source": [
    "#% Definir as matrizes com os dados para o GAMS\n",
    "\n",
    "# General Info\n",
    "pMaxImp = data['data']['parameterData']['generalInfo']['P_Max_Imp']\n",
    "pMaxExp = data['data']['parameterData']['generalInfo']['P_Max_Exp']\n",
    "buyPrice = data['data']['parameterData']['generalInfo']['Energy_Buy_Price']\n",
    "sellPrice = data['data']['parameterData']['generalInfo']['Energy_Sell_Price']\n",
    "\n",
    "# Geradores\n",
    "genLimit = data['data']['generator']['limit'][numGen[0]-1:numGen[-1]+1, numPeriod[0]-1:numPeriod[-1]+1, :]\n",
    "genInfo = data['data']['generator']['info']\n",
    "\n",
    "# Cargas\n",
    "loadLimit = data['data']['load']['limit'][numLoad[0]-1:numLoad[-1]+1, numPeriod[0]-1:numPeriod[-1]+1, :]\n",
    "\n",
    "# Baterias\n",
    "storLimit = data['data']['storage']['limit'][numStor[0]-1:numStor[-1]+1, numPeriod[0]-1:numPeriod[-1]+1, :]\n",
    "storInfo = data['data']['storage']['info']\n",
    "\n",
    "# Veiculos\n",
    "v2gLimit = data['data']['vehicle']['limit']\n",
    "v2gInfo = data['data']['vehicle']['info']\n",
    "\n",
    "# Charging Station\n",
    "csLimit = data['data']['cstation']['limit'][numCStat[0]-1:numCStat[-1]+1, numPeriod[0]-1:numPeriod[-1]+1, :]\n",
    "csInfo = data['data']['cstation']['info']\n",
    "\n",
    "# Connect EV to Charging Station\n",
    "EV_CS_Info = data['data']['vehicle']['timeInfo']['V2GinCS']"
   ]
  },
  {
   "cell_type": "code",
   "execution_count": 9,
   "id": "319a4ddb",
   "metadata": {
    "ExecuteTime": {
     "end_time": "2022-05-30T12:51:20.630337Z",
     "start_time": "2022-05-30T12:51:20.623635Z"
    }
   },
   "outputs": [],
   "source": [
    "# Definir os dados da rede para o GAMS\n",
    "\n",
    "# Linhas\n",
    "branchData = data['data']['network']['branch']\n",
    "\n",
    "# Tensão Máxima\n",
    "voltageMax = data['data']['parameterData']['network']['voltageMax']\n",
    "\n",
    "# Tensão Mínima\n",
    "voltageMin = data['data']['parameterData']['network']['voltageMin']\n",
    "\n",
    "# Angulo Máximo\n",
    "angleMax = data['data']['parameterData']['network']['angleMax']\n",
    "\n",
    "# Angulo Mínimo\n",
    "angleMin = data['data']['parameterData']['network']['angleMin']\n",
    "\n",
    "# Definir a matriz das admitancias\n",
    "ybus = data['data']['parameterData']['network']['ybus']\n",
    "diag = data['data']['parameterData']['network']['diag']\n",
    "branchID = data['data']['parameterData']['network']['branch']"
   ]
  },
  {
   "cell_type": "code",
   "execution_count": 10,
   "id": "6348f31c",
   "metadata": {
    "ExecuteTime": {
     "end_time": "2022-05-30T12:51:21.618353Z",
     "start_time": "2022-05-30T12:51:21.614151Z"
    }
   },
   "outputs": [],
   "source": [
    "#% Anular o custo fixo e quadratico da DG\n",
    "\n",
    "genLimit[:, :, 3] = 0\n",
    "genLimit[:, :, 5] = 0\n",
    "\n",
    "genLimit = np.append(genLimit, np.zeros(shape=(7, 24, 4)), axis=2)\n",
    "\n",
    "# Not necessary anymore\n",
    "#genLimit[:, :, 9] = 0\n",
    "#genLimit[:, :, 11] = 0"
   ]
  },
  {
   "cell_type": "code",
   "execution_count": 11,
   "id": "665f79db",
   "metadata": {
    "ExecuteTime": {
     "end_time": "2022-05-27T13:52:34.613830Z",
     "start_time": "2022-05-27T13:52:34.599911Z"
    }
   },
   "outputs": [],
   "source": [
    "# TODO -> AFTER GAM FILE CONVERSION\n",
    "\n",
    "def runSolver(file, loadLimit, genLimit, genInfo, gen, Load, period, stor, storLimit, storInfo,\n",
    "              pMaxImp, pMaxExp, buyPrice, sellPrice, v2gLimit, v2gInfo, v2g,\n",
    "              cs, cslimit, csInfo, EV_CS_Info):\n",
    "    \n",
    "    \n",
    "    temp_output = [resFun, resCost, resSelf, statusOptPro, \n",
    "                   resPImp, resPExp, resGenAct, resGenExcAct,resGenX, \n",
    "                   resLoadRed, resLoadCut, \n",
    "                   resLoadENS, resLoadX, resLoad, resStorEnerState, resStorChActPower, resStorDchActPower,\n",
    "                   resv2gEnerState, resv2gDchActPower, resv2gChActPower, resv2gRelax, resCsPower]\n",
    "    \n",
    "    return temp_output"
   ]
  },
  {
   "cell_type": "code",
   "execution_count": 15,
   "id": "949dd6e4",
   "metadata": {
    "ExecuteTime": {
     "end_time": "2022-05-30T13:01:03.749553Z",
     "start_time": "2022-05-30T13:01:03.732631Z"
    }
   },
   "outputs": [],
   "source": [
    "#** Define the fixed sets structure to use in the parameters of the gams optimization process\n",
    "#set genLimitInfo 'Indicate the number of columns of information from generators'\n",
    "#/1, 2, 3, 4, 5, 6, 7, 8, 9, 10, 11, 12/;\n",
    "\n",
    "#set loadLimitInfo 'Indicate the number of columns of information from loads'\n",
    "#/1, 2, 3, 4, 5, 6, 7, 8, 9, 10, 11, 12/;\n",
    "\n",
    "#set storLimitInfo 'Indicate the number of columns of information from storage units'\n",
    "#/1, 2, 3, 4, 5, 6, 7, 8, 9, 10, 11, 12/;\n",
    "\n",
    "#set v2gLimitInfo 'Indicate the number of columns of information from electric vehicles'\n",
    "#/1, 2, 3, 4, 5, 6, 7, 8, 9, 10, 11, 12/;\n",
    "\n",
    "#set csLimitInfo 'Indicate the number of columns of information from charging stations'\n",
    "#/1, 2, 3, 4, 5, 6, 7, 8, 9, 10, 11, 12/;\n",
    "\n",
    "NCOLS = 12\n",
    "\n",
    "genLimitInfo = np.arange(1, NCOLS+1)\n",
    "loadLimitInfo = np.arange(1, NCOLS+1)\n",
    "storLimitInfo = np.arange(1, NCOLS+1)\n",
    "v2gLimitInfo = np.arange(1, NCOLS+1)\n",
    "csLimitInfo = np.arange(1, NCOLS+1)\n",
    "\n",
    "#genLimitInfo = np.arange(1, genLimit.shape[2]+1)\n",
    "#loadLimitInfo = np.arange(1, loadLimit.shape[2]+1)\n",
    "#storLimitInfo = np.arange(1, storLimit.shape[2]+1)\n",
    "#v2gLimitInfo = np.arange(1, v2gLimit.shape[2]+1)\n",
    "#csLimitInfo = np.arange(1, csLimit.shape[0]+1)"
   ]
  },
  {
   "cell_type": "code",
   "execution_count": 16,
   "id": "0a775110",
   "metadata": {
    "ExecuteTime": {
     "end_time": "2022-05-30T13:01:04.127743Z",
     "start_time": "2022-05-30T13:01:04.114778Z"
    }
   },
   "outputs": [],
   "source": [
    "# * Define the several sets structure used in the gams optimization process, \n",
    "# these sets depends the number of resources used in matlab code\n",
    "\n",
    "_t = np.arange(1, period+1)\n",
    "_gen = np.arange(1, gen+1)\n",
    "_Load = np.arange(1, Load+1)\n",
    "_stor = np.arange(1, stor+1)\n",
    "_v2g = np.arange(1, v2g+1)\n",
    "_cs = np.arange(1, cs+1)"
   ]
  },
  {
   "cell_type": "code",
   "execution_count": 17,
   "id": "2b250d41",
   "metadata": {
    "ExecuteTime": {
     "end_time": "2022-05-30T13:01:04.458277Z",
     "start_time": "2022-05-30T13:01:04.442321Z"
    }
   },
   "outputs": [],
   "source": [
    "# Aux function to convert numpy into dictionaries\n",
    "\n",
    "def _auxDictionary(a):\n",
    "    temp_dictionary = {}\n",
    "    \n",
    "    if len(a.shape) == 3:\n",
    "        for dim0 in np.arange(a.shape[0]):\n",
    "            for dim1 in np.arange(a.shape[1]):\n",
    "                for dim2 in np.arange(a.shape[2]):\n",
    "                    temp_dictionary[(dim0+1, dim1+1, dim2+1)] = a[dim0, dim1, dim2]\n",
    "    elif len(a.shape) == 2:\n",
    "        for dim0 in np.arange(a.shape[0]):\n",
    "            for dim1 in np.arange(a.shape[1]):\n",
    "                temp_dictionary[(dim0+1, dim1+1)] = a[dim0, dim1]\n",
    "                \n",
    "    else:\n",
    "        for dim0 in np.arange(a.shape[0]):\n",
    "            temp_dictionary[(dim0+1)] = a[dim0]\n",
    "                \n",
    "    return temp_dictionary\n",
    "\n",
    "#temp_dict1 = _auxDictionary(loadLimit)"
   ]
  },
  {
   "cell_type": "code",
   "execution_count": 18,
   "id": "14119631",
   "metadata": {
    "ExecuteTime": {
     "end_time": "2022-05-30T13:01:05.458055Z",
     "start_time": "2022-05-30T13:01:04.804490Z"
    }
   },
   "outputs": [],
   "source": [
    "# Pyomo imports\n",
    "\n",
    "import pyomo\n",
    "import pyomo.opt\n",
    "import pyomo.environ as pe"
   ]
  },
  {
   "cell_type": "code",
   "execution_count": 19,
   "id": "8bf4c0b1",
   "metadata": {
    "ExecuteTime": {
     "end_time": "2022-05-30T13:01:05.583722Z",
     "start_time": "2022-05-30T13:01:05.568763Z"
    }
   },
   "outputs": [],
   "source": [
    "# Model creation\n",
    "\n",
    "model = pe.ConcreteModel()\n",
    "\n",
    "model.genLimitInfo = pe.Set(initialize=genLimitInfo, \n",
    "                            doc='Indicate the number of columns of information from generators')\n",
    "model.loadLimitInfo = pe.Set(initialize=loadLimitInfo, \n",
    "                             doc='Indicate the number of columns of information from loads')\n",
    "model.storLimitInfo = pe.Set(initialize=storLimitInfo, \n",
    "                             doc='Indicate the number of columns of information from storage units')\n",
    "model.v2gLimitInfo = pe.Set(initialize=v2gLimitInfo, \n",
    "                            doc='Indicate the number of columns of information from electric vehicles')\n",
    "model.csLimitInfo = pe.Set(initialize=csLimitInfo, \n",
    "                           doc='Indicate the number of columns of information from charging stations')\n",
    "\n",
    "# Sets\n",
    "model.t = pe.Set(initialize=_t, doc='period')\n",
    "model.gen = pe.Set(initialize=_gen, doc='generators')\n",
    "model.loads = pe.Set(initialize=_Load, doc='loads')\n",
    "model.stor = pe.Set(initialize=_stor, doc='storage')\n",
    "model.v2g = pe.Set(initialize=_v2g, doc='vehicles')\n",
    "model.cs = pe.Set(initialize=_cs, doc='charging_stations')"
   ]
  },
  {
   "cell_type": "code",
   "execution_count": 20,
   "id": "ed9f7e4b",
   "metadata": {
    "ExecuteTime": {
     "end_time": "2022-05-30T13:01:06.223826Z",
     "start_time": "2022-05-30T13:01:06.153008Z"
    }
   },
   "outputs": [],
   "source": [
    "# Define the parameters with the data from the excel, such as limits, price, and voltage\n",
    "\n",
    "model.loadLimit = pe.Param(model.loads, model.t, model.loadLimitInfo, \n",
    "                           initialize=_auxDictionary(loadLimit))\n",
    "\n",
    "model.genLimit = pe.Param(model.gen, model.t, model.genLimitInfo,\n",
    "                          initialize=_auxDictionary(genLimit))\n",
    "\n",
    "model.genInfo = pe.Param(model.gen, model.genLimitInfo,\n",
    "                         initialize=_auxDictionary(genInfo))\n",
    "\n",
    "model.pMaxImp = pe.Param(model.t,\n",
    "                         initialize=_auxDictionary(pMaxImp))\n",
    "\n",
    "model.buyPrice = pe.Param(model.t,\n",
    "                          initialize=_auxDictionary(buyPrice))\n",
    "\n",
    "model.pMaxExp = pe.Param(model.t,\n",
    "                         initialize=_auxDictionary(pMaxExp))\n",
    "\n",
    "model.sellPrice = pe.Param(model.t,\n",
    "                           initialize=_auxDictionary(sellPrice))\n",
    "\n",
    "model.storLimit = pe.Param(model.stor, model.t, model.storLimitInfo,\n",
    "                           initialize=_auxDictionary(storLimit))\n",
    "\n",
    "model.storInfo = pe.Param(model.stor, model.storLimitInfo,\n",
    "                          initialize=_auxDictionary(storInfo[:, :12]))\n",
    "\n",
    "model.v2gLimit = pe.Param(model.v2g, model.t, model.v2gLimitInfo,\n",
    "                          initialize=_auxDictionary(v2gLimit))\n",
    "\n",
    "model.v2gInfo = pe.Param(model.v2g, model.v2gLimitInfo,\n",
    "                         initialize=_auxDictionary(v2gInfo))\n",
    "\n",
    "model.csLimit = pe.Param(model.cs, model.t, model.csLimitInfo,\n",
    "                         initialize=_auxDictionary(csLimit))\n",
    "\n",
    "model.csInfo = pe.Param(model.cs, model.csLimitInfo,\n",
    "                        initialize=_auxDictionary(csInfo))\n",
    "\n",
    "model.EV_CS_Info = pe.Param(model.v2g, model.cs, model.t,\n",
    "                            initialize=_auxDictionary(EV_CS_Info))\n",
    "\n",
    "model.loadActPower = pe.Param(model.loads, model.t,\n",
    "                              initialize=_auxDictionary(loadLimit[:, :, 0]))\n",
    "model.optCost = pe.Var()#initialize=0)"
   ]
  },
  {
   "cell_type": "code",
   "execution_count": 21,
   "id": "2fff3184",
   "metadata": {
    "ExecuteTime": {
     "end_time": "2022-05-30T13:01:06.739247Z",
     "start_time": "2022-05-30T13:01:06.724254Z"
    }
   },
   "outputs": [],
   "source": [
    "# Define the variables for the gams optimization process\n",
    "# variables fun, derCost, selfConso;\n",
    "\n",
    "#model.fun = pe.Var(domain=pe.Reals, initialize=0)\n",
    "model.derCost = pe.Var(domain=pe.Reals, initialize=0)\n",
    "#model.selfConso = pe.Var(domain=pe.Reals, initialize=0)"
   ]
  },
  {
   "cell_type": "code",
   "execution_count": 22,
   "id": "9da83201",
   "metadata": {
    "ExecuteTime": {
     "end_time": "2022-05-30T13:01:07.191457Z",
     "start_time": "2022-05-30T13:01:07.172509Z"
    }
   },
   "outputs": [],
   "source": [
    "#positive variables\n",
    "\n",
    "model.genActPower = pe.Var(model.gen, model.t, domain=pe.PositiveReals, initialize=1)\n",
    "model.genExcActPower = pe.Var(model.gen, model.t, domain=pe.PositiveReals, initialize=1)\n",
    "model.pImp = pe.Var(model.t, domain=pe.PositiveReals, initialize=1)\n",
    "model.pExp = pe.Var(model.t, domain=pe.PositiveReals, initialize=1)"
   ]
  },
  {
   "cell_type": "code",
   "execution_count": 23,
   "id": "f31344c8",
   "metadata": {
    "ExecuteTime": {
     "end_time": "2022-05-30T13:01:07.578114Z",
     "start_time": "2022-05-30T13:01:07.565124Z"
    }
   },
   "outputs": [],
   "source": [
    "# Load params\n",
    "model.loadRedActPower = pe.Var(model.loads, model.t, domain=pe.PositiveReals, initialize=1)\n",
    "model.loadCutActPower = pe.Var(model.loads, model.t, domain=pe.PositiveReals, initialize=1)\n",
    "model.loadENS = pe.Var(model.loads, model.t, domain=pe.PositiveReals, initialize=1)\n",
    "\n",
    "# Storage params\n",
    "model.storEnerState = pe.Var(model.stor, model.t, domain=pe.PositiveReals, initialize=1)\n",
    "model.storDchActPower = pe.Var(model.stor, model.t, domain=pe.PositiveReals, initialize=1)\n",
    "model.storChActPower = pe.Var(model.stor, model.t, domain=pe.PositiveReals, initialize=1)\n",
    "model.EminRelaxStor = pe.Var(model.stor, model.t, domain=pe.PositiveReals, initialize=1)\n",
    "\n",
    "# V2G params\n",
    "model.v2gDchActPower = pe.Var(model.v2g, model.t, domain=pe.PositiveReals, initialize=1)\n",
    "model.v2gChActPower = pe.Var(model.v2g, model.t, domain=pe.PositiveReals, initialize=1)\n",
    "model.v2gEnerState = pe.Var(model.v2g, model.t, domain=pe.PositiveReals, initialize=1)\n",
    "model.EminRelaxEv = pe.Var(model.v2g, model.t, domain=pe.PositiveReals, initialize=1)\n",
    "\n",
    "# Charging Station params\n",
    "model.csActPower = pe.Var(model.cs, model.t, domain=pe.PositiveReals, initialize=1)\n",
    "model.csActPowerNet = pe.Var(model.cs, model.t, domain=pe.PositiveReals, initialize=1)"
   ]
  },
  {
   "cell_type": "code",
   "execution_count": 24,
   "id": "5e4339fc",
   "metadata": {
    "ExecuteTime": {
     "end_time": "2022-05-30T13:01:08.111586Z",
     "start_time": "2022-05-30T13:01:08.102592Z"
    }
   },
   "outputs": [],
   "source": [
    "# binary variables\n",
    "\n",
    "model.genXo = pe.Var(model.gen, model.t, domain=pe.Binary, initialize=0)\n",
    "model.loadXo = pe.Var(model.loads, model.t, domain=pe.Binary, initialize=0)"
   ]
  },
  {
   "cell_type": "code",
   "execution_count": 25,
   "id": "b44742bf",
   "metadata": {
    "ExecuteTime": {
     "end_time": "2022-05-30T13:01:08.452246Z",
     "start_time": "2022-05-30T13:01:08.434270Z"
    }
   },
   "outputs": [],
   "source": [
    "model.v2gChXo = pe.Var(model.v2g, model.t, domain=pe.Binary, initialize=0)\n",
    "model.v2gDchXo = pe.Var(model.v2g, model.t, domain=pe.Binary, initialize=0)\n",
    "model.storChXo = pe.Var(model.stor, model.t, domain=pe.Binary, initialize=0)\n",
    "model.storDchXo = pe.Var(model.stor, model.t, domain=pe.Binary, initialize=0)"
   ]
  },
  {
   "cell_type": "code",
   "execution_count": 26,
   "id": "112efdba",
   "metadata": {
    "ExecuteTime": {
     "end_time": "2022-05-30T13:01:08.811469Z",
     "start_time": "2022-05-30T13:01:08.794511Z"
    }
   },
   "outputs": [],
   "source": [
    "# Default behaviour\n",
    "\n",
    "default_behaviour = pe.Constraint.Skip"
   ]
  },
  {
   "cell_type": "code",
   "execution_count": 35,
   "id": "fded35d7",
   "metadata": {
    "ExecuteTime": {
     "end_time": "2022-05-30T13:03:04.362402Z",
     "start_time": "2022-05-30T13:03:04.356386Z"
    }
   },
   "outputs": [],
   "source": [
    "# Network constraints\n",
    "\n",
    "def _maxImpEq(m, t):\n",
    "    return m.pImp[t] <= m.pMaxImp[t] \n",
    "\n",
    "model.MaxImpEq = pe.Constraint(model.t, rule=_maxImpEq)\n",
    "\n",
    "def _maxExpEq(m, t):\n",
    "    return m.pExp[t] <= m.pMaxExp[t]\n",
    "\n",
    "model.MaxExpEq = pe.Constraint(model.t, rule=_maxExpEq)"
   ]
  },
  {
   "cell_type": "code",
   "execution_count": 36,
   "id": "4afadd39",
   "metadata": {
    "ExecuteTime": {
     "end_time": "2022-05-30T13:03:04.829979Z",
     "start_time": "2022-05-30T13:03:04.809035Z"
    }
   },
   "outputs": [],
   "source": [
    "# Generator constraints with the active generation power\n",
    "\n",
    "# Maximum generation in generators with normal contract\n",
    "def _genActMaxEq1(m, g, t):\n",
    "    if m.genInfo[g, 5] == 1:\n",
    "        return (m.genActPower[g, t] <= m.genLimit[g, t, 1])\n",
    "    return default_behaviour\n",
    "    \n",
    "model.genActMaxEq1 = pe.Constraint(model.gen, model.t, rule=_genActMaxEq1)\n",
    "\n",
    "#*Minimum generation in generators with normal contract\n",
    "def _genActMinEq(m, g, t):\n",
    "    if m.genInfo[g, 5] == 1:\n",
    "        return (m.genActPower[g, t] >= m.genInfo[g, 7] * m.genXo[g, t])\n",
    "    return default_behaviour\n",
    "    \n",
    "model.genActMinEq = pe.Constraint(model.gen, model.t, rule=_genActMinEq)\n",
    "\n",
    "#*Generation in generators with Feed-in tariffs\n",
    "def _genActMaxEq2(m, g, t):\n",
    "    if m.genInfo[g, 5] == 2:\n",
    "        return (m.genActPower[g ,t] + m.genExcActPower[g, t] == m.genLimit[g, t, 1])\n",
    "    return default_behaviour\n",
    "    \n",
    "model.genActMaxEq2 = pe.Constraint(model.gen, model.t, rule=_genActMaxEq2)"
   ]
  },
  {
   "cell_type": "code",
   "execution_count": 37,
   "id": "efdbfabf",
   "metadata": {
    "ExecuteTime": {
     "end_time": "2022-05-30T13:03:05.283773Z",
     "start_time": "2022-05-30T13:03:05.255817Z"
    }
   },
   "outputs": [],
   "source": [
    "# Load constraints\n",
    "\n",
    "def _loadReactEq(m, l, t):\n",
    "    return m.loadRedActPower[l, t] <= m.loadLimit[l, t, 3]\n",
    "\n",
    "model.loadReactEq = pe.Constraint(model.loads, model.t, rule=_loadReactEq)\n",
    "\n",
    "\n",
    "def _loadCutActPowerEq(m, l, t):\n",
    "    return m.loadCutActPower[l, t] == m.loadLimit[l, t, 4] * m.loadXo[l, t]\n",
    "\n",
    "model.loadCutActPowerEq = pe.Constraint(model.loads, model.t, rule=_loadCutActPowerEq)\n",
    "\n",
    "\n",
    "def _loadENSEq(m, l, t):\n",
    "    return m.loadENS[l, t] + m.loadRedActPower[l, t] + m.loadCutActPower[l, t] <= m.loadActPower[l, t]\n",
    "\n",
    "model.loadENSEq = pe.Constraint(model.loads, model.t, rule=_loadENSEq)"
   ]
  },
  {
   "cell_type": "code",
   "execution_count": 38,
   "id": "0a2f0734",
   "metadata": {
    "ExecuteTime": {
     "end_time": "2022-05-30T13:03:05.741598Z",
     "start_time": "2022-05-30T13:03:05.705694Z"
    },
    "code_folding": []
   },
   "outputs": [
    {
     "name": "stderr",
     "output_type": "stream",
     "text": [
      "C:\\Users\\camar\\AppData\\Local\\Temp\\ipykernel_21032\\2279289384.py:19: RuntimeWarning: overflow encountered in ubyte_scalars\n",
      "  return m.storEnerState[s, t] >= m.storInfo[s, 7] * m.storInfo[s, 6]/100 - m.EminRelaxStor[s, t]\n",
      "C:\\Users\\camar\\AppData\\Local\\Temp\\ipykernel_21032\\2279289384.py:25: RuntimeWarning: overflow encountered in ubyte_scalars\n",
      "  return m.storEnerState[s, t] == m.storInfo[s, 6] * m.storInfo[s, 10]/100 + m.storChActPower[s, t] * m.storInfo[s, 8]/100 - m.storDchActPower[s, t]/m.storInfo[s, 9] / 100\n"
     ]
    }
   ],
   "source": [
    "# Storage constraints\n",
    "\n",
    "def _storDchRateIneq(m, s, t):\n",
    "    return m.storDchActPower[s, t] <= m.storLimit[s, t, 2] * m.storDchXo[s, t]\n",
    "model.storDchRateIneq = pe.Constraint(model.stor, model.t, rule=_storDchRateIneq)\n",
    "\n",
    "\n",
    "def _storChRateIneq(m, s, t):\n",
    "    return m.storChActPower[s, t] <= m.storLimit[s, t, 1] * m.storChXo[s, t]\n",
    "model.storChRateIneq = pe.Constraint(model.stor, model.t, rule=_storChRateIneq)\n",
    "\n",
    "\n",
    "def _storMaxEq(m, s, t):\n",
    "    return m.storEnerState[s, t] <= m.storInfo[s, 6]\n",
    "model.storMaxEq = pe.Constraint(model.stor, model.t, rule=_storMaxEq)\n",
    "\n",
    "\n",
    "def _storRelaxEq(m, s, t):\n",
    "    return m.storEnerState[s, t] >= m.storInfo[s, 7] * m.storInfo[s, 6]/100 - m.EminRelaxStor[s, t]\n",
    "model.storRelaxEq = pe.Constraint(model.stor, model.t, rule=_storRelaxEq)\n",
    "\n",
    "\n",
    "def _storBatBalanceEq(m, s, t):\n",
    "    if t == 1:\n",
    "        return m.storEnerState[s, t] == m.storInfo[s, 6] * m.storInfo[s, 10]/100 + m.storChActPower[s, t] * m.storInfo[s, 8]/100 - m.storDchActPower[s, t]/m.storInfo[s, 9] / 100\n",
    "    elif t > 1:\n",
    "        return m.storEnerState[s, t] == m.storEnerState[s, t-1] + m.storChActPower[s, t] * m.storInfo[s, 8]/100 - m.storDchActPower[s, t]/m.storInfo[s, 9]/100\n",
    "    return default_behaviour\n",
    "model.storBatBalance = pe.Constraint(model.stor, model.t, rule=_storBatBalanceEq)\n",
    "\n",
    "\n",
    "def _storBin(m, s, t):\n",
    "    return m.storChXo[s, t] + m.storDchXo[s, t] <= 1\n",
    "model.storBin = pe.Constraint(model.stor, model.t, rule=_storBin)"
   ]
  },
  {
   "cell_type": "code",
   "execution_count": 39,
   "id": "f65ce4d5",
   "metadata": {
    "ExecuteTime": {
     "end_time": "2022-05-30T13:03:06.382231Z",
     "start_time": "2022-05-30T13:03:06.336425Z"
    }
   },
   "outputs": [],
   "source": [
    "# Electric Vehicles constraints\n",
    "\n",
    "# Discharge rate\n",
    "def _v2gDchRateIneq(m, v, t):\n",
    "    return m.v2gDchActPower[v, t] <= m.v2gLimit[v, t, 5] * m.v2gLimit[v, t, 1] * m.v2gDchXo[v, t]\n",
    "model.v2gDchRateIneq = pe.Constraint(model.v2g, model.t, rule=_v2gDchRateIneq)\n",
    "\n",
    "# Charge rate\n",
    "def _v2gChRateIneq(m, v, t):\n",
    "    return m.v2gChActPower[v, t] <= m.v2gLimit[v, t, 4] * m.v2gLimit[v, t, 1] * m.v2gChXo[v, t]\n",
    "model.v2gChRateIneq = pe.Constraint(model.v2g, model.t, rule=_v2gChRateIneq)\n",
    "\n",
    "# Energy Limits\n",
    "def _v2gMaxEq(m, v, t):\n",
    "    return m.v2gEnerState[v, t] <= m.v2gInfo[v, 5]\n",
    "model.v2gMaxEq = pe.Constraint(model.v2g, model.t, rule=_v2gMaxEq)\n",
    "\n",
    "def _v2gRelaxEq(m, v, t):\n",
    "    if m.v2gLimit[v, t, 1] == 1:\n",
    "        return m.v2gEnerState[v, t] >= m.v2gInfo[v, 11] * m.v2gInfo[v, 5]/100 - m.EminRelaxEv[v, t]\n",
    "    return default_behaviour\n",
    "model.v2gRelaxEq = pe.Constraint(model.v2g, model.t, rule=_v2gRelaxEq)\n",
    "\n",
    "\n",
    "# Energy Limits - If requirement\n",
    "def _v2gRelaxReqEq1(m, v, t):\n",
    "    if m.v2gLimit[v, t, 1] == 1:\n",
    "        return m.v2gEnerState[v, t] >= m.v2gLimit[v, t, 3] - m.EminRelaxEv[v, t]\n",
    "    return default_behaviour\n",
    "model.v2gRelaxReqEq1 = pe.Constraint(model.v2g, model.t, rule=_v2gRelaxReqEq1)\n",
    "\n",
    "\n",
    "def _v2gRelaxReqEq2(m, v, t):\n",
    "    if t < m.t.last():\n",
    "        if (m.v2gLimit[v, t, 1] == 1) & (m.v2gLimit[v, t+1, 1] == 0) & (m.v2gLimit[v, t, 3] == 0):\n",
    "            return m.v2gEnerState[v, t] >= m.v2gInfo[v, 5] - m.EminRelaxEv[v, t]\n",
    "    return default_behaviour\n",
    "model.v2gRelaxReqEq2 = pe.Constraint(model.v2g, model.t, rule=_v2gRelaxReqEq2)\n",
    "\n",
    "\n",
    "def _v2gRelaxReqEq3(m, v, t):\n",
    "    if (m.v2gLimit[v, t, 1] == 1) & (m.v2gLimit[v, t, 3] == 0) & (t == m.t.last()):\n",
    "        return m.v2gEnerState[v, t] >= m.v2gInfo[v, 5] - m.EminRelaxEv[v, t]\n",
    "    return default_behaviour\n",
    "model.v2gRelaxReqEq3 = pe.Constraint(model.v2g, model.t, rule=_v2gRelaxReqEq3)\n",
    "\n",
    "\n",
    "#Energy balance\n",
    "def _v2gBatBalanceZero(m, v, t):\n",
    "    if m.v2gLimit[v, t, 1] == 0:\n",
    "        return m.v2gEnerState[v, t] == 0\n",
    "    return default_behaviour\n",
    "model.v2gBatBalanceZero = pe.Constraint(model.v2g, model.t, rule=_v2gBatBalanceZero)\n",
    "\n",
    "\n",
    "def _v2gBatBalanceIniEq(m, v, t):\n",
    "    if (m.v2gLimit[v, t, 1] == 1) & (t == 1):\n",
    "        return m.v2gEnerState[v, t] == m.v2gLimit[v, t, 2] + m.v2gChActPower[v, t] * m.v2gInfo[v, 8] - m.v2gDchActPower[v, t] / m.v2gInfo[v, 9]\n",
    "    return default_behaviour\n",
    "model.v2gBatBalanceIniEq = pe.Constraint(model.v2g, model.t, rule=_v2gBatBalanceIniEq)\n",
    "\n",
    "\n",
    "def _v2gBatBalanceEq(m, v, t):\n",
    "    if t > 1:\n",
    "        if (m.v2gLimit[v, t-1, 1] == 1) & (m.v2gLimit[v, t, 1] == 1):\n",
    "            return m.v2gEnerState[v, t] == m.v2gEnerState[v, t-1] + m.v2gLimit[v, t, 2] + m.v2gChActPower[v, t] * m.v2gInfo[v, 8] - m.v2gDchActPower[v, t] / m.v2gInfo[v, 9]\n",
    "    return default_behaviour\n",
    "model.v2gBatBalanceEq = pe.Constraint(model.v2g, model.t, rule=_v2gBatBalanceEq)\n",
    "\n",
    "\n",
    "def _v2gBatBalanceEq2(m, v, t):\n",
    "    if t > 1:\n",
    "        if (m.v2gLimit[v, t-1, 1] == 0) & (m.v2gLimit[v, t, 1] == 1):\n",
    "            return m.v2gEnerState[v, t] == m.v2gLimit[v, t, 2] + m.v2gChActPower[v, t] * m.v2gInfo[v, 8] + m.v2gDchActPower[v, t] / m.v2gInfo[v, 9]\n",
    "    return default_behaviour\n",
    "model.v2gBatBalanceEq2 = pe.Constraint(model.v2g, model.t, rule=_v2gBatBalanceEq2)\n",
    "\n",
    "\n",
    "# disable charge and discharge in same period\n",
    "def _v2gBin(m, v, t):\n",
    "    return m.v2gChXo[v, t] + m.v2gDchXo[v, t] <= 1\n",
    "model.v2gBin = pe.Constraint(model.v2g, model.t, rule=_v2gBin)"
   ]
  },
  {
   "cell_type": "code",
   "execution_count": 40,
   "id": "9c356ce1",
   "metadata": {
    "ExecuteTime": {
     "end_time": "2022-05-30T13:03:06.807582Z",
     "start_time": "2022-05-30T13:03:06.787635Z"
    }
   },
   "outputs": [],
   "source": [
    "# Charging Station constraints\n",
    "\n",
    "# Charge Limits\n",
    "\n",
    "def _csActMaxEq(m, c, t):\n",
    "    return m.csActPower[c, t] <= m.csInfo[c, 5]\n",
    "model.csActMaxEq = pe.Constraint(model.cs, model.t, rule=_csActMaxEq)\n",
    "\n",
    "\n",
    "def _csActMinEq(m, c, t):\n",
    "    return m.csActPower[c, t] >= -m.csInfo[c,  6]\n",
    "model.csActMinEq = pe.Constraint(model.cs, model.t, rule=_csActMinEq)\n",
    "\n",
    "\n",
    "def _csActPowerEq(m, c, t):\n",
    "    temp_val = []\n",
    "    for v in np.arange(1, m.v2g.last() + 1):\n",
    "        if m.EV_CS_Info[v, c, t] > 0:\n",
    "            temp_val.append(m.v2gChActPower[v, t] - m.v2gDchActPower[v, t])\n",
    "    \n",
    "    return m.csActPower[c, t] == sum(temp_val)\n",
    "model.csActPowerEq = pe.Constraint(model.cs, model.t, rule=_csActPowerEq)\n",
    "\n",
    "\n",
    "def _csActPowerNetEq(m, c, t):\n",
    "    temp_val = []\n",
    "    for v in np.arange(1, m.v2g.last() + 1):\n",
    "        if m.EV_CS_Info[v, c, t] > 0:\n",
    "            temp_val.append(m.v2gChActPower[v, t] / (m.csInfo[c, 7] / 100) - m.v2gDchActPower[v, t] * m.csInfo[c, 8] / 100)\n",
    "        \n",
    "    return m.csActPowerNet[c, t] == sum(temp_val)\n",
    "model.csActPowerNetEq = pe.Constraint(model.cs, model.t, rule=_csActPowerNetEq)"
   ]
  },
  {
   "cell_type": "code",
   "execution_count": 41,
   "id": "8010bc91",
   "metadata": {
    "ExecuteTime": {
     "end_time": "2022-05-30T13:03:07.209628Z",
     "start_time": "2022-05-30T13:03:07.175747Z"
    }
   },
   "outputs": [],
   "source": [
    "# Energy Balance\n",
    "\n",
    "def _actBalanceEqSimple(m, t):\n",
    "    temp_sum1 = sum([m.genActPower[i, t] - m.genExcActPower[i, t] for i in np.arange(1, m.gen.last()+1)])\n",
    "    temp_sum2 = sum(m.loadActPower[:, t])\n",
    "    \n",
    "    return temp_sum1 + m.pImp[t] - m.pExp[t] - temp_sum2 == 0\n",
    "\n",
    "#model.actBalanceSimple = pe.Constraint(model.t, rule=_actBalanceEqSimple)\n",
    "\n",
    "\n",
    "def _actBalanceEq(m, t):\n",
    "    temp_gens = sum([m.genActPower[g, t] - m.genExcActPower[g, t] for g in np.arange(1, m.gen.last()+1)])\n",
    "    \n",
    "    temp_loads = sum([m.loadActPower[l, t] - m.loadRedActPower[l, t] - m.loadCutActPower[l, t] - m.loadENS[l, t]\n",
    "                      for l in np.arange(1, m.loads.last() + 1)])\n",
    "    \n",
    "    temp_stor = sum([m.storChActPower[s, t] - m.storDchActPower[s, t]\n",
    "                     for s in np.arange(1, m.stor.last() + 1)])\n",
    "    \n",
    "    temp_v2g = sum([m.v2gChActPower[v, t] - m.v2gDchActPower[v, t]\n",
    "                    for v in np.arange(1, m.v2g.last() + 1)])\n",
    "    temp_cs = sum(m.csActPowerNet[:, t])\n",
    "    \n",
    "    return temp_gens + m.pImp[t] - m.pExp[t] - temp_loads - temp_stor - temp_v2g - temp_cs == 0\n",
    "model.actBalanceSimple = pe.Constraint(model.t, rule=_actBalanceEq)"
   ]
  },
  {
   "cell_type": "code",
   "execution_count": 42,
   "id": "0a32d38e",
   "metadata": {
    "ExecuteTime": {
     "end_time": "2022-05-30T13:03:07.627666Z",
     "start_time": "2022-05-30T13:03:07.595751Z"
    }
   },
   "outputs": [],
   "source": [
    "# Objective Function -> Only considering generators\n",
    "\n",
    "def _objFunSimple(m):\n",
    "    temp_sum1 = sum([m.genActPower[g, t] * m.genLimit[g, t, 3] + m.genExcActPower[g, t] * m.genLimit[g, t, 5]\n",
    "                     for t in np.arange(1, m.t.last()+1) for g in np.arange(1, m.gen.last()+1)])\n",
    "    \n",
    "    temp_sum2 = sum([m.pImp[i] * m.buyPrice[i] - m.pExp[i] * m.sellPrice[i] for i in np.arange(1, m.t.last()+1)])\n",
    "    m.derCost = temp_sum1 + temp_sum2\n",
    "\n",
    "    return temp_sum1 + temp_sum2\n",
    "\n",
    "#model.ObjFunSimple = pe.Objective(rule=_objFunSimple, sense=pe.minimize)\n",
    "\n",
    "\n",
    "def _objFun(m):\n",
    "    temp_gens = sum([m.genActPower[g, t] * m.genLimit[g, t, 3] + m.genExcActPower[g, t] * m.genLimit[g, t, 5]\n",
    "                     for t in np.arange(1, m.t.last() + 1) for g in np.arange(1, m.gen.last()+1)])\n",
    "    \n",
    "    temp_loads = sum([m.loadRedActPower[l, t] * m.loadLimit[l, t, 7] + m.loadCutActPower[l, t] * m.loadLimit[l, t, 8] + m.loadENS[l, t] * m.loadLimit[l, t, 10] \n",
    "                      for t in np.arange(1, m.t.last() + 1) for l in np.arange(1, m.loads.last() + 1)])\n",
    "    \n",
    "    temp_stor = sum([m.storDchActPower[s, t] * m.storLimit[s, t, 4] - m.storChActPower[s, t] * m.storLimit[s, t, 3] + m.EminRelaxStor[s, t] * 200 \n",
    "                     for t in np.arange(1, m.t.last() +1) for s in np.arange(1, m.stor.last() + 1)])\n",
    "    \n",
    "    temp_v2g = sum([m.v2gDchActPower[v, t] * m.v2gLimit[v, t, 7] - m.v2gChActPower[v, t] * m.v2gLimit[v, t, 6] + m.EminRelaxEv[v, t] * 200\n",
    "                    for t in np.arange(1, m.t.last() + 1) for v in np.arange(1, m.v2g.last() + 1)])\n",
    "    \n",
    "    temp_rest = sum([m.pImp[t] * m.buyPrice[t] - m.pExp[t] * m.sellPrice[t] for t in np.arange(1, m.t.last() + 1)])\n",
    "    \n",
    "    m.derCost = temp_gens + temp_loads + temp_stor + temp_stor + temp_v2g + temp_rest\n",
    "    \n",
    "    return temp_gens + temp_loads + temp_stor + temp_stor + temp_v2g + temp_rest\n",
    "\n",
    "model.ObjFun = pe.Objective(rule=_objFun, sense=pe.minimize)"
   ]
  },
  {
   "cell_type": "code",
   "execution_count": 43,
   "id": "185772f3",
   "metadata": {
    "ExecuteTime": {
     "end_time": "2022-05-30T13:03:08.410118Z",
     "start_time": "2022-05-30T13:03:08.015938Z"
    }
   },
   "outputs": [
    {
     "name": "stdout",
     "output_type": "stream",
     "text": [
      "# ==========================================================\n",
      "# = Solver Results                                         =\n",
      "# ==========================================================\n",
      "# ----------------------------------------------------------\n",
      "#   Problem Information\n",
      "# ----------------------------------------------------------\n",
      "Problem: \n",
      "- Name: tmpjuq9jcu9\n",
      "  Lower bound: 157.9992885311436\n",
      "  Upper bound: 157.9992885311436\n",
      "  Number of objectives: 1\n",
      "  Number of constraints: 2183\n",
      "  Number of variables: 2257\n",
      "  Number of nonzeros: 5063\n",
      "  Sense: minimize\n",
      "# ----------------------------------------------------------\n",
      "#   Solver Information\n",
      "# ----------------------------------------------------------\n",
      "Solver: \n",
      "- Status: ok\n",
      "  User time: 0.02\n",
      "  Termination condition: optimal\n",
      "  Termination message: MIP - Integer optimal solution\\x3a Objective = 1.5799928853e+02\n",
      "  Statistics: \n",
      "    Branch and bound: \n",
      "      Number of bounded subproblems: 0\n",
      "      Number of created subproblems: 0\n",
      "  Error rc: 0\n",
      "  Time: 0.10792899131774902\n",
      "# ----------------------------------------------------------\n",
      "#   Solution Information\n",
      "# ----------------------------------------------------------\n",
      "Solution: \n",
      "- number of solutions: 0\n",
      "  number of solutions displayed: 0\n"
     ]
    }
   ],
   "source": [
    "# Create model instance and solve\n",
    "\n",
    "import cplex\n",
    "from pyomo.opt import SolverFactory\n",
    "\n",
    "model.write('res_V4_EC.lp',  io_options={'symbolic_solver_labels': True})\n",
    "\n",
    "# Create a solver\n",
    "opt = pe.SolverFactory('cplex', executable='C:/IBM/ILOG/CPLEX_Studio221/cplex/bin/x64_win64/cplex.exe')\n",
    "opt.options['LogFile'] = 'res_V4_EC.log'\n",
    "\n",
    "results = opt.solve(model)#, tee=True)\n",
    "results.write()"
   ]
  },
  {
   "cell_type": "code",
   "execution_count": 44,
   "id": "a4b1c891",
   "metadata": {
    "ExecuteTime": {
     "end_time": "2022-05-30T13:03:17.986282Z",
     "start_time": "2022-05-30T13:03:17.976308Z"
    }
   },
   "outputs": [],
   "source": [
    "# Extract Pyomo values\n",
    "# https://stackoverflow.com/questions/67491499/how-to-extract-indexed-variable-information-in-pyomo-model-and-build-pandas-data\n",
    "\n",
    "def ext_pyomo_vals(vals):\n",
    "    # make a pd.Series from each \n",
    "    s = pd.Series(vals.extract_values(),\n",
    "                  index=vals.extract_values().keys())\n",
    "    \n",
    "    # if the series is multi-indexed we need to unstack it...\n",
    "    if type(s.index[0]) == tuple:    # it is multi-indexed\n",
    "        s = s.unstack(level=1)\n",
    "    else:\n",
    "        # force transition from Series -> df\n",
    "        s = pd.DataFrame(s)\n",
    "        \n",
    "    return s"
   ]
  },
  {
   "cell_type": "code",
   "execution_count": 45,
   "id": "740781f5",
   "metadata": {
    "ExecuteTime": {
     "end_time": "2022-05-30T13:03:18.375341Z",
     "start_time": "2022-05-30T13:03:18.336390Z"
    }
   },
   "outputs": [],
   "source": [
    "result_genActPower = ext_pyomo_vals(model.genActPower)\n",
    "result_genExcActPower = ext_pyomo_vals(model.genExcActPower)\n",
    "result_loadActPower = ext_pyomo_vals(model.loadActPower)\n",
    "result_loadRedActPower = ext_pyomo_vals(model.loadRedActPower)\n",
    "result_pImp = ext_pyomo_vals(model.pImp)\n",
    "\n",
    "result_v2g = ext_pyomo_vals(model.v2gChActPower)"
   ]
  },
  {
   "cell_type": "code",
   "execution_count": 46,
   "id": "3a9d0507",
   "metadata": {
    "ExecuteTime": {
     "end_time": "2022-05-30T13:03:18.812450Z",
     "start_time": "2022-05-30T13:03:18.697749Z"
    }
   },
   "outputs": [
    {
     "data": {
      "image/png": "[encoded data removed]",
      "text/plain": [
       "<Figure size 432x288 with 1 Axes>"
      ]
     },
     "metadata": {
      "needs_background": "light"
     },
     "output_type": "display_data"
    }
   ],
   "source": [
    "# Plot some results\n",
    "\n",
    "plt.plot(result_genActPower.transpose())\n",
    "\n",
    "plt.show()"
   ]
  },
  {
   "cell_type": "code",
   "execution_count": 47,
   "id": "001f1312",
   "metadata": {
    "ExecuteTime": {
     "end_time": "2022-05-30T23:14:52.930399Z",
     "start_time": "2022-05-30T23:14:52.682475Z"
    }
   },
   "outputs": [
    {
     "data": {
      "image/png": "[encoded data removed]",
      "text/plain": [
       "<Figure size 432x288 with 1 Axes>"
      ]
     },
     "metadata": {
      "needs_background": "light"
     },
     "output_type": "display_data"
    }
   ],
   "source": [
    "# Plot some results\n",
    "\n",
    "plt.plot(result_genExcActPower.transpose())\n",
    "\n",
    "plt.show()"
   ]
  },
  {
   "cell_type": "code",
   "execution_count": null,
   "id": "8cc2ed90",
   "metadata": {},
   "outputs": [],
   "source": []
  }
 ],
 "metadata": {
  "kernelspec": {
   "display_name": "Python 3 (ipykernel)",
   "language": "python",
   "name": "python3"
  },
  "language_info": {
   "codemirror_mode": {
    "name": "ipython",
    "version": 3
   },
   "file_extension": ".py",
   "mimetype": "text/x-python",
   "name": "python",
   "nbconvert_exporter": "python",
   "pygments_lexer": "ipython3",
   "version": "3.8.10"
  },
  "varInspector": {
   "cols": {
    "lenName": 16,
    "lenType": 16,
    "lenVar": 40
   },
   "kernels_config": {
    "python": {
     "delete_cmd_postfix": "",
     "delete_cmd_prefix": "del ",
     "library": "var_list.py",
     "varRefreshCmd": "print(var_dic_list())"
    },
    "r": {
     "delete_cmd_postfix": ") ",
     "delete_cmd_prefix": "rm(",
     "library": "var_list.r",
     "varRefreshCmd": "cat(var_dic_list()) "
    }
   },
   "position": {
    "height": "494.85px",
    "left": "1120px",
    "right": "20px",
    "top": "120px",
    "width": "356px"
   },
   "types_to_exclude": [
    "module",
    "function",
    "builtin_function_or_method",
    "instance",
    "_Feature"
   ],
   "window_display": false
  }
 },
 "nbformat": 4,
 "nbformat_minor": 5
}
