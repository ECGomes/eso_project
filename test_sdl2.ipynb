{
 "cells": [
  {
   "cell_type": "code",
   "execution_count": 1,
   "id": "e15d5a99",
   "metadata": {
    "ExecuteTime": {
     "end_time": "2022-03-23T11:05:52.710989Z",
     "start_time": "2022-03-23T11:05:51.813283Z"
    }
   },
   "outputs": [
    {
     "name": "stderr",
     "output_type": "stream",
     "text": [
      "UserWarning: Using SDL2 binaries from pysdl2-dll 2.0.20\n"
     ]
    }
   ],
   "source": [
    "# Imports\n",
    "\n",
    "import numpy as np\n",
    "import pandas as pd\n",
    "import matplotlib.pyplot as plt\n",
    "\n",
    "import sdl2\n",
    "import sys\n",
    "import sdl2.ext"
   ]
  },
  {
   "cell_type": "code",
   "execution_count": 2,
   "id": "212d15b1",
   "metadata": {
    "ExecuteTime": {
     "end_time": "2022-03-23T11:06:38.430019Z",
     "start_time": "2022-03-23T11:06:31.441578Z"
    }
   },
   "outputs": [],
   "source": [
    "# Window creation\n",
    "\n",
    "sdl2.ext.init()\n",
    "\n",
    "window = sdl2.ext.Window('Test', (800, 600))\n",
    "window.show()\n",
    "\n",
    "processor = sdl2.ext.TestEventProcessor()\n",
    "processor.run(window)\n",
    "\n",
    "sdl2.ext.quit()"
   ]
  },
  {
   "cell_type": "code",
   "execution_count": null,
   "id": "404e8bd2",
   "metadata": {},
   "outputs": [],
   "source": []
  }
 ],
 "metadata": {
  "kernelspec": {
   "display_name": "Python 3 (ipykernel)",
   "language": "python",
   "name": "python3"
  },
  "language_info": {
   "codemirror_mode": {
    "name": "ipython",
    "version": 3
   },
   "file_extension": ".py",
   "mimetype": "text/x-python",
   "name": "python",
   "nbconvert_exporter": "python",
   "pygments_lexer": "ipython3",
   "version": "3.8.8"
  },
  "varInspector": {
   "cols": {
    "lenName": 16,
    "lenType": 16,
    "lenVar": 40
   },
   "kernels_config": {
    "python": {
     "delete_cmd_postfix": "",
     "delete_cmd_prefix": "del ",
     "library": "var_list.py",
     "varRefreshCmd": "print(var_dic_list())"
    },
    "r": {
     "delete_cmd_postfix": ") ",
     "delete_cmd_prefix": "rm(",
     "library": "var_list.r",
     "varRefreshCmd": "cat(var_dic_list()) "
    }
   },
   "types_to_exclude": [
    "module",
    "function",
    "builtin_function_or_method",
    "instance",
    "_Feature"
   ],
   "window_display": false
  }
 },
 "nbformat": 4,
 "nbformat_minor": 5
}
