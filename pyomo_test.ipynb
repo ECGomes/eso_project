{
 "cells": [
  {
   "cell_type": "code",
   "execution_count": 1,
   "id": "c4316e9b",
   "metadata": {
    "ExecuteTime": {
     "end_time": "2022-04-19T01:20:02.101542Z",
     "start_time": "2022-04-19T01:20:01.109740Z"
    }
   },
   "outputs": [],
   "source": [
    "#  Imports\n",
    "\n",
    "import numpy as np\n",
    "import pandas as pd\n",
    "import matplotlib.pyplot as plt\n",
    "import scipy"
   ]
  },
  {
   "cell_type": "code",
   "execution_count": 2,
   "id": "c4786f8e",
   "metadata": {
    "ExecuteTime": {
     "end_time": "2022-04-19T01:20:02.180967Z",
     "start_time": "2022-04-19T01:20:02.103489Z"
    }
   },
   "outputs": [],
   "source": [
    "# loadmat aux function to load the matlab save files\n",
    "# from: https://stackoverflow.com/review/suggested-edits/21667510\n",
    "\n",
    "import scipy.io as spio\n",
    "\n",
    "def loadmat(filename):\n",
    "    '''\n",
    "    this function should be called instead of direct spio.loadmat\n",
    "    as it cures the problem of not properly recovering python dictionaries\n",
    "    from mat files. It calls the function check keys to cure all entries\n",
    "    which are still mat-objects\n",
    "    '''\n",
    "    def _check_keys(d):\n",
    "        '''\n",
    "        checks if entries in dictionary are mat-objects. If yes\n",
    "        todict is called to change them to nested dictionaries\n",
    "        '''\n",
    "        for key in d:\n",
    "            if isinstance(d[key], spio.matlab.mio5_params.mat_struct):\n",
    "                d[key] = _todict(d[key])\n",
    "        return d\n",
    "\n",
    "    def _has_struct(elem):\n",
    "        \"\"\"Determine if elem is an array and if any array item is a struct\"\"\"\n",
    "        return isinstance(elem, np.ndarray) and any(isinstance(\n",
    "                    e, scipy.io.matlab.mio5_params.mat_struct) for e in elem)\n",
    "\n",
    "    def _todict(matobj):\n",
    "        '''\n",
    "        A recursive function which constructs from matobjects nested dictionaries\n",
    "        '''\n",
    "        d = {}\n",
    "        for strg in matobj._fieldnames:\n",
    "            elem = matobj.__dict__[strg]\n",
    "            if isinstance(elem, spio.matlab.mio5_params.mat_struct):\n",
    "                d[strg] = _todict(elem)\n",
    "            elif _has_struct(elem):\n",
    "                d[strg] = _tolist(elem)\n",
    "            else:\n",
    "                d[strg] = elem\n",
    "        return d\n",
    "\n",
    "    def _tolist(ndarray):\n",
    "        '''\n",
    "        A recursive function which constructs lists from cellarrays\n",
    "        (which are loaded as numpy ndarrays), recursing into the elements\n",
    "        if they contain matobjects.\n",
    "        '''\n",
    "        elem_list = []\n",
    "        for sub_elem in ndarray:\n",
    "            if isinstance(sub_elem, spio.matlab.mio5_params.mat_struct):\n",
    "                elem_list.append(_todict(sub_elem))\n",
    "            elif _has_struct(sub_elem):\n",
    "                elem_list.append(_tolist(sub_elem))\n",
    "            else:\n",
    "                elem_list.append(sub_elem)\n",
    "        return elem_list\n",
    "    data = scipy.io.loadmat(filename, struct_as_record=False, squeeze_me=True)\n",
    "    return _check_keys(data)"
   ]
  },
  {
   "cell_type": "code",
   "execution_count": 3,
   "id": "c7b09d40",
   "metadata": {
    "ExecuteTime": {
     "end_time": "2022-04-19T01:20:02.196987Z",
     "start_time": "2022-04-19T01:20:02.182976Z"
    }
   },
   "outputs": [
    {
     "name": "stderr",
     "output_type": "stream",
     "text": [
      "C:\\Users\\camar\\AppData\\Local\\Temp\\ipykernel_23268\\3560610281.py:19: DeprecationWarning: Please use `mat_struct` from the `scipy.io.matlab` namespace, the `scipy.io.matlab.mio5_params` namespace is deprecated.\n",
      "  if isinstance(d[key], spio.matlab.mio5_params.mat_struct):\n",
      "C:\\Users\\camar\\AppData\\Local\\Temp\\ipykernel_23268\\3560610281.py:35: DeprecationWarning: Please use `mat_struct` from the `scipy.io.matlab` namespace, the `scipy.io.matlab.mio5_params` namespace is deprecated.\n",
      "  if isinstance(elem, spio.matlab.mio5_params.mat_struct):\n",
      "C:\\Users\\camar\\AppData\\Local\\Temp\\ipykernel_23268\\3560610281.py:26: DeprecationWarning: Please use `mat_struct` from the `scipy.io.matlab` namespace, the `scipy.io.matlab.mio5_params` namespace is deprecated.\n",
      "  e, scipy.io.matlab.mio5_params.mat_struct) for e in elem)\n"
     ]
    }
   ],
   "source": [
    "# Matlab code conversion\n",
    "\n",
    "# Read matlab file instead of excelfile (easier conversion)\n",
    "data = loadmat('matlab.mat')"
   ]
  },
  {
   "cell_type": "code",
   "execution_count": 4,
   "id": "1159909e",
   "metadata": {
    "ExecuteTime": {
     "end_time": "2022-04-19T01:20:02.212844Z",
     "start_time": "2022-04-19T01:20:02.198933Z"
    }
   },
   "outputs": [],
   "source": [
    "# Linearize the generator prices\n",
    "\n",
    "# genCofA=data.generator.limit(:,:,6); -> MATLAB starts with 1, so we need the index -1\n",
    "# genCofB=data.generator.limit(:,:,7);\n",
    "# genCofC=data.generator.limit(:,:,8);\n",
    "\n",
    "genCofA = data['data']['generator']['limit'][:, :, 5]\n",
    "genCofB = data['data']['generator']['limit'][:, :, 6]\n",
    "genCofC = data['data']['generator']['limit'][:, :, 7]"
   ]
  },
  {
   "cell_type": "code",
   "execution_count": 5,
   "id": "a9fc1cb6",
   "metadata": {
    "ExecuteTime": {
     "end_time": "2022-04-19T01:20:02.227836Z",
     "start_time": "2022-04-19T01:20:02.213806Z"
    }
   },
   "outputs": [],
   "source": [
    "# Options for simulation\n",
    "\n",
    "#options \n",
    "iterlim = 1000000000\n",
    "reslim = 5000000000"
   ]
  },
  {
   "cell_type": "code",
   "execution_count": 6,
   "id": "2ab9a921",
   "metadata": {
    "ExecuteTime": {
     "end_time": "2022-04-19T01:20:02.243674Z",
     "start_time": "2022-04-19T01:20:02.228833Z"
    }
   },
   "outputs": [],
   "source": [
    "# Definir o numero de resources usados\n",
    "\n",
    "numGen = np.arange(1, data['data']['parameterData']['resources']['numGen'] + 1)\n",
    "numLoad = np.arange(1, data['data']['parameterData']['resources']['numLoad'] + 1)\n",
    "numStor = np.arange(1, data['data']['parameterData']['resources']['numStor'] + 1)\n",
    "numV2G = np.arange(1, data['data']['parameterData']['resources']['numV2G'] + 1)\n",
    "numCStat = np.arange(1, data['data']['parameterData']['resources']['numCStat'] + 1)\n",
    "numPeriod = np.arange(1, data['data']['parameterData']['resources']['period'] + 1)\n",
    "numBus = np.arange(1) # forced to 1\n",
    "nOwner = np.arange(1, data['data']['parameterData']['resources']['owners'] + 1)"
   ]
  },
  {
   "cell_type": "code",
   "execution_count": 7,
   "id": "c18ac201",
   "metadata": {
    "ExecuteTime": {
     "end_time": "2022-04-19T01:20:02.259687Z",
     "start_time": "2022-04-19T01:20:02.244652Z"
    }
   },
   "outputs": [],
   "source": [
    "# Define as strings com os recursos para mandar para GAMS\n",
    "\n",
    "gen = np.max(numGen)\n",
    "Load = np.max(numLoad)\n",
    "stor = np.max(numStor)\n",
    "v2g = np.max(numV2G)\n",
    "cs = np.max(numCStat)\n",
    "period = np.max(numPeriod)\n",
    "Bus = np.max(numBus)"
   ]
  },
  {
   "cell_type": "code",
   "execution_count": 8,
   "id": "1b2096dc",
   "metadata": {
    "ExecuteTime": {
     "end_time": "2022-04-19T01:20:02.275612Z",
     "start_time": "2022-04-19T01:20:02.261650Z"
    }
   },
   "outputs": [],
   "source": [
    "#% Definir as matrizes com os dados para o GAMS\n",
    "\n",
    "# General Info\n",
    "pMaxImp = data['data']['parameterData']['generalInfo']['P_Max_Imp']\n",
    "pMaxExp = data['data']['parameterData']['generalInfo']['P_Max_Exp']\n",
    "buyPrice = data['data']['parameterData']['generalInfo']['Energy_Buy_Price']\n",
    "sellPrice = data['data']['parameterData']['generalInfo']['Energy_Sell_Price']\n",
    "\n",
    "# Geradores\n",
    "genLimit = data['data']['generator']['limit'][numGen[0]-1:numGen[-1]+1, numPeriod[0]-1:numPeriod[-1]+1, :]\n",
    "genInfo = data['data']['generator']['info']\n",
    "\n",
    "# Cargas\n",
    "loadLimit = data['data']['load']['limit'][numLoad[0]-1:numLoad[-1]+1, numPeriod[0]-1:numPeriod[-1]+1, :]\n",
    "\n",
    "# Baterias\n",
    "storLimit = data['data']['storage']['limit'][numStor[0]-1:numStor[-1]+1, numPeriod[0]-1:numPeriod[-1]+1, :]\n",
    "storInfo = data['data']['storage']['info']\n",
    "\n",
    "# Veiculos\n",
    "v2gLimit = data['data']['vehicle']['limit']\n",
    "v2gInfo = data['data']['vehicle']['info']\n",
    "\n",
    "# Charging Station\n",
    "csLimit = data['data']['cstation']['limit'][numCStat[0]-1:numCStat[-1]+1, numPeriod[0]-1:numPeriod[-1]+1, :]\n",
    "csInfo = data['data']['cstation']['info']\n",
    "\n",
    "# Connect EV to Charging Station\n",
    "EV_CS_Info = data['data']['vehicle']['timeInfo']['V2GinCS']"
   ]
  },
  {
   "cell_type": "code",
   "execution_count": 9,
   "id": "319a4ddb",
   "metadata": {
    "ExecuteTime": {
     "end_time": "2022-04-19T01:20:02.291681Z",
     "start_time": "2022-04-19T01:20:02.276609Z"
    }
   },
   "outputs": [],
   "source": [
    "# Definir os dados da rede para o GAMS\n",
    "\n",
    "# Linhas\n",
    "branchData = data['data']['network']['branch']\n",
    "\n",
    "# Tensão Máxima\n",
    "voltageMax = data['data']['parameterData']['network']['voltageMax']\n",
    "\n",
    "# Tensão Mínima\n",
    "voltageMin = data['data']['parameterData']['network']['voltageMin']\n",
    "\n",
    "# Angulo Máximo\n",
    "angleMax = data['data']['parameterData']['network']['angleMax']\n",
    "\n",
    "# Angulo Mínimo\n",
    "angleMin = data['data']['parameterData']['network']['angleMin']\n",
    "\n",
    "# Definir a matriz das admitancias\n",
    "ybus = data['data']['parameterData']['network']['ybus']\n",
    "diag = data['data']['parameterData']['network']['diag']\n",
    "branchID = data['data']['parameterData']['network']['branch']"
   ]
  },
  {
   "cell_type": "code",
   "execution_count": 10,
   "id": "6348f31c",
   "metadata": {
    "ExecuteTime": {
     "end_time": "2022-04-19T01:20:02.306996Z",
     "start_time": "2022-04-19T01:20:02.293669Z"
    }
   },
   "outputs": [],
   "source": [
    "#% Anular o custo fixo e quadratico da DG\n",
    "\n",
    "genLimit[:, :, 3] = 0\n",
    "genLimit[:, :, 5] = 0\n",
    "\n",
    "genLimit = np.append(genLimit, np.zeros(shape=(7, 24, 4)), axis=2)\n",
    "\n",
    "# Not necessary anymore\n",
    "#genLimit[:, :, 9] = 0\n",
    "#genLimit[:, :, 11] = 0"
   ]
  },
  {
   "cell_type": "code",
   "execution_count": 11,
   "id": "665f79db",
   "metadata": {
    "ExecuteTime": {
     "end_time": "2022-04-19T01:20:02.322534Z",
     "start_time": "2022-04-19T01:20:02.308988Z"
    }
   },
   "outputs": [],
   "source": [
    "# TODO -> AFTER GAM FILE CONVERSION\n",
    "\n",
    "def runSolver(file, loadLimit, genLimit, genInfo, gen, Load, period, stor, storLimit, storInfo,\n",
    "              pMaxImp, pMaxExp, buyPrice, sellPrice, v2gLimit, v2gInfo, v2g,\n",
    "              cs, cslimit, csInfo, EV_CS_Info):\n",
    "    \n",
    "    \n",
    "    temp_output = [resFun, resCost, resSelf, statusOptPro, \n",
    "                   resPImp, resPExp, resGenAct, resGenExcAct,resGenX, \n",
    "                   resLoadRed, resLoadCut, \n",
    "                   resLoadENS, resLoadX, resLoad, resStorEnerState, resStorChActPower, resStorDchActPower,\n",
    "                   resv2gEnerState, resv2gDchActPower, resv2gChActPower, resv2gRelax, resCsPower]\n",
    "    \n",
    "    return temp_output"
   ]
  },
  {
   "cell_type": "code",
   "execution_count": 12,
   "id": "949dd6e4",
   "metadata": {
    "ExecuteTime": {
     "end_time": "2022-04-19T01:20:02.338062Z",
     "start_time": "2022-04-19T01:20:02.323536Z"
    }
   },
   "outputs": [],
   "source": [
    "#** Define the fixed sets structure to use in the parameters of the gams optimization process\n",
    "#set genLimitInfo 'Indicate the number of columns of information from generators'\n",
    "#/1, 2, 3, 4, 5, 6, 7, 8, 9, 10, 11, 12/;\n",
    "\n",
    "#set loadLimitInfo 'Indicate the number of columns of information from loads'\n",
    "#/1, 2, 3, 4, 5, 6, 7, 8, 9, 10, 11, 12/;\n",
    "\n",
    "#set storLimitInfo 'Indicate the number of columns of information from storage units'\n",
    "#/1, 2, 3, 4, 5, 6, 7, 8, 9, 10, 11, 12/;\n",
    "\n",
    "#set v2gLimitInfo 'Indicate the number of columns of information from electric vehicles'\n",
    "#/1, 2, 3, 4, 5, 6, 7, 8, 9, 10, 11, 12/;\n",
    "\n",
    "#set csLimitInfo 'Indicate the number of columns of information from charging stations'\n",
    "#/1, 2, 3, 4, 5, 6, 7, 8, 9, 10, 11, 12/;\n",
    "\n",
    "NCOLS = 12\n",
    "\n",
    "genLimitInfo = np.arange(1, NCOLS+1)\n",
    "loadLimitInfo = np.arange(1, NCOLS+1)\n",
    "storLimitInfo = np.arange(1, NCOLS+1)\n",
    "v2gLimitInfo = np.arange(1, NCOLS+1)\n",
    "csLimitInfo = np.arange(1, NCOLS+1)\n",
    "\n",
    "#genLimitInfo = np.arange(1, genLimit.shape[2]+1)\n",
    "#loadLimitInfo = np.arange(1, loadLimit.shape[2]+1)\n",
    "#storLimitInfo = np.arange(1, storLimit.shape[2]+1)\n",
    "#v2gLimitInfo = np.arange(1, v2gLimit.shape[2]+1)\n",
    "#csLimitInfo = np.arange(1, csLimit.shape[0]+1)"
   ]
  },
  {
   "cell_type": "code",
   "execution_count": 13,
   "id": "0a775110",
   "metadata": {
    "ExecuteTime": {
     "end_time": "2022-04-19T01:20:02.353466Z",
     "start_time": "2022-04-19T01:20:02.339077Z"
    }
   },
   "outputs": [],
   "source": [
    "# * Define the several sets structure used in the gams optimization process, \n",
    "# these sets depends the number of resources used in matlab code\n",
    "\n",
    "_t = np.arange(1, period+1)\n",
    "_gen = np.arange(1, gen+1)\n",
    "_Load = np.arange(1, Load+1)\n",
    "_stor = np.arange(1, stor+1)\n",
    "_v2g = np.arange(1, v2g+1)\n",
    "_cs = np.arange(1, cs+1)"
   ]
  },
  {
   "cell_type": "code",
   "execution_count": 14,
   "id": "2b250d41",
   "metadata": {
    "ExecuteTime": {
     "end_time": "2022-04-19T01:20:02.369271Z",
     "start_time": "2022-04-19T01:20:02.355246Z"
    }
   },
   "outputs": [],
   "source": [
    "# Aux function to convert numpy into dictionaries\n",
    "\n",
    "def _auxDictionary(a):\n",
    "    temp_dictionary = {}\n",
    "    \n",
    "    if len(a.shape) == 3:\n",
    "        for dim0 in np.arange(a.shape[0]):\n",
    "            for dim1 in np.arange(a.shape[1]):\n",
    "                for dim2 in np.arange(a.shape[2]):\n",
    "                    temp_dictionary[(dim0+1, dim1+1, dim2+1)] = a[dim0, dim1, dim2]\n",
    "    elif len(a.shape) == 2:\n",
    "        for dim0 in np.arange(a.shape[0]):\n",
    "            for dim1 in np.arange(a.shape[1]):\n",
    "                temp_dictionary[(dim0+1, dim1+1)] = a[dim0, dim1]\n",
    "                \n",
    "    else:\n",
    "        for dim0 in np.arange(a.shape[0]):\n",
    "            temp_dictionary[(dim0+1)] = a[dim0]\n",
    "                \n",
    "    return temp_dictionary\n",
    "\n",
    "#temp_dict1 = _auxDictionary(loadLimit)"
   ]
  },
  {
   "cell_type": "code",
   "execution_count": 15,
   "id": "14119631",
   "metadata": {
    "ExecuteTime": {
     "end_time": "2022-04-19T01:20:02.730489Z",
     "start_time": "2022-04-19T01:20:02.370205Z"
    }
   },
   "outputs": [],
   "source": [
    "# Pyomo imports\n",
    "\n",
    "import pyomo\n",
    "import pyomo.opt\n",
    "import pyomo.environ as pe"
   ]
  },
  {
   "cell_type": "code",
   "execution_count": 16,
   "id": "8bf4c0b1",
   "metadata": {
    "ExecuteTime": {
     "end_time": "2022-04-19T01:20:02.745938Z",
     "start_time": "2022-04-19T01:20:02.731492Z"
    }
   },
   "outputs": [],
   "source": [
    "# Model creation\n",
    "\n",
    "model = pe.ConcreteModel()\n",
    "\n",
    "model.genLimitInfo = pe.Set(initialize=genLimitInfo, \n",
    "                            doc='Indicate the number of columns of information from generators')\n",
    "model.loadLimitInfo = pe.Set(initialize=loadLimitInfo, \n",
    "                             doc='Indicate the number of columns of information from loads')\n",
    "model.storLimitInfo = pe.Set(initialize=storLimitInfo, \n",
    "                             doc='Indicate the number of columns of information from storage units')\n",
    "model.v2gLimitInfo = pe.Set(initialize=v2gLimitInfo, \n",
    "                            doc='Indicate the number of columns of information from electric vehicles')\n",
    "model.csLimitInfo = pe.Set(initialize=csLimitInfo, \n",
    "                           doc='Indicate the number of columns of information from charging stations')\n",
    "\n",
    "# Sets\n",
    "model.t = pe.Set(initialize=_t, doc='period')\n",
    "model.gen = pe.Set(initialize=_gen, doc='generators')\n",
    "model.loads = pe.Set(initialize=_Load, doc='loads')\n",
    "model.stor = pe.Set(initialize=_stor, doc='storage')\n",
    "model.v2g = pe.Set(initialize=_v2g, doc='vehicles')\n",
    "model.cs = pe.Set(initialize=_cs, doc='charging_stations')"
   ]
  },
  {
   "cell_type": "code",
   "execution_count": 17,
   "id": "ed9f7e4b",
   "metadata": {
    "ExecuteTime": {
     "end_time": "2022-04-19T01:20:02.809539Z",
     "start_time": "2022-04-19T01:20:02.747490Z"
    }
   },
   "outputs": [],
   "source": [
    "# Define the parameters with the data from the excel, such as limits, price, and voltage\n",
    "\n",
    "model.loadLimit = pe.Param(model.loads, model.t, model.loadLimitInfo, \n",
    "                           initialize=_auxDictionary(loadLimit))\n",
    "\n",
    "model.genLimit = pe.Param(model.gen, model.t, model.genLimitInfo,\n",
    "                          initialize=_auxDictionary(genLimit))\n",
    "\n",
    "model.genInfo = pe.Param(model.gen, model.genLimitInfo,\n",
    "                         initialize=_auxDictionary(genInfo))\n",
    "\n",
    "model.pMaxImp = pe.Param(model.t,\n",
    "                         initialize=_auxDictionary(pMaxImp))\n",
    "\n",
    "model.buyPrice = pe.Param(model.t,\n",
    "                          initialize=_auxDictionary(buyPrice))\n",
    "\n",
    "model.pMaxExp = pe.Param(model.t,\n",
    "                         initialize=_auxDictionary(pMaxExp))\n",
    "\n",
    "model.sellPrice = pe.Param(model.t,\n",
    "                           initialize=_auxDictionary(sellPrice))\n",
    "\n",
    "model.storLimit = pe.Param(model.stor, model.t, model.storLimitInfo,\n",
    "                           initialize=_auxDictionary(storLimit))\n",
    "\n",
    "model.v2gLimit = pe.Param(model.v2g, model.t, model.v2gLimitInfo,\n",
    "                          initialize=_auxDictionary(v2gLimit))\n",
    "\n",
    "model.v2gInfo = pe.Param(model.v2g, model.v2gLimitInfo,\n",
    "                         initialize=_auxDictionary(v2gInfo))\n",
    "\n",
    "model.csLimit = pe.Param(model.cs, model.t, model.csLimitInfo,\n",
    "                         initialize=_auxDictionary(csLimit))\n",
    "\n",
    "model.csInfo = pe.Param(model.cs, model.csLimitInfo,\n",
    "                        initialize=_auxDictionary(csInfo))\n",
    "\n",
    "model.EV_CS_Info = pe.Param(model.v2g, model.cs, model.t,\n",
    "                            initialize=_auxDictionary(EV_CS_Info))\n",
    "\n",
    "model.loadActPower = pe.Param(model.loads, model.t,\n",
    "                              initialize=_auxDictionary(loadLimit[:, :, 0]))\n",
    "model.optCost = pe.Param(initialize=0)"
   ]
  },
  {
   "cell_type": "code",
   "execution_count": 18,
   "id": "2fff3184",
   "metadata": {
    "ExecuteTime": {
     "end_time": "2022-04-19T01:20:02.825455Z",
     "start_time": "2022-04-19T01:20:02.810458Z"
    }
   },
   "outputs": [],
   "source": [
    "# Define the variables for the gams optimization process\n",
    "# variables fun, derCost, selfConso;\n",
    "\n",
    "model.fun = pe.Var(domain=pe.Reals, initialize=0)\n",
    "model.derCost = pe.Var(domain=pe.Reals, initialize=0)\n",
    "model.selfConso = pe.Var(domain=pe.Reals, initialize=0)"
   ]
  },
  {
   "cell_type": "code",
   "execution_count": 19,
   "id": "9da83201",
   "metadata": {
    "ExecuteTime": {
     "end_time": "2022-04-19T01:20:02.840991Z",
     "start_time": "2022-04-19T01:20:02.827061Z"
    }
   },
   "outputs": [],
   "source": [
    "#positive variables\n",
    "\n",
    "model.genActPower = pe.Var(model.gen, model.t, domain=pe.PositiveReals, initialize=1)\n",
    "model.genExcActPower = pe.Var(model.gen, model.t, domain=pe.PositiveReals, initialize=1)\n",
    "model.pImp = pe.Var(model.t, domain=pe.PositiveReals, initialize=1)\n",
    "model.pExp = pe.Var(model.t, domain=pe.PositiveReals, initialize=1)"
   ]
  },
  {
   "cell_type": "markdown",
   "id": "3bf6f857",
   "metadata": {},
   "source": [
    "model.loadRedActPower = pe.Var(model.loads, model.t, domain=pe.PositiveReals, initialize=1)\n",
    "model.loadCutActPower = pe.Var(model.loads, model.t, domain=pe.PositiveReals, initialize=1)\n",
    "model.loadENS = pe.Var(model.loads, model.t, domain=pe.PositiveReals, initialize=1)\n",
    "model.storEnerState = pe.Var(model.stor, model.t, domain=pe.PositiveReals, initialize=1)\n",
    "model.storDchActPower = pe.Var(model.stor, model.t, domain=pe.PositiveReals, initialize=1)\n",
    "model.storChActPower = pe.Var(model.stor, model.t, domain=pe.PositiveReals, initialize=1)\n",
    "model.EminRelaxStor = pe.Var(model.stor, model.t, domain=pe.PositiveReals, initialize=1)\n",
    "model.v2gDchActPower = pe.Var(model.v2g, model.t, domain=pe.PositiveReals, initialize=1)\n",
    "model.v2gChActPower = pe.Var(model.v2g, model.t, domain=pe.PositiveReals, initialize=1)\n",
    "model.v2gEnerState = pe.Var(model.v2g, model.t, domain=pe.PositiveReals, initialize=1)\n",
    "model.EminRelaxEv = pe.Var(model.v2g, model.t, domain=pe.PositiveReals, initialize=1)\n",
    "model.csActPower = pe.Var(model.cs, model.t, domain=pe.PositiveReals, initialize=1)\n",
    "model.csActPowerNet = pe.Var(model.cs, model.t, domain=pe.PositiveReals, initialize=1)"
   ]
  },
  {
   "cell_type": "code",
   "execution_count": 20,
   "id": "5e4339fc",
   "metadata": {
    "ExecuteTime": {
     "end_time": "2022-04-19T01:20:02.857027Z",
     "start_time": "2022-04-19T01:20:02.841955Z"
    }
   },
   "outputs": [],
   "source": [
    "# binary variables\n",
    "\n",
    "model.genXo = pe.Var(model.gen, model.t, domain=pe.Binary, initialize=0)\n",
    "model.loadXo = pe.Var(model.loads, model.t, domain=pe.Binary, initialize=0)"
   ]
  },
  {
   "cell_type": "markdown",
   "id": "071fee1e",
   "metadata": {},
   "source": [
    "model.v2gChXo = pe.Var(model.v2g, model.t, domain=pe.Binary, initialize=0)\n",
    "model.v2gDchXo = pe.Var(model.v2g, model.t, domain=pe.Binary, initialize=0)\n",
    "model.storChXo = pe.Var(model.stor, model.t, domain=pe.Binary, initialize=0)\n",
    "model.storDchXo = pe.Var(model.stor, model.t, domain=pe.Binary, initialize=0)"
   ]
  },
  {
   "cell_type": "code",
   "execution_count": 21,
   "id": "fded35d7",
   "metadata": {
    "ExecuteTime": {
     "end_time": "2022-04-19T01:20:02.872429Z",
     "start_time": "2022-04-19T01:20:02.857987Z"
    }
   },
   "outputs": [],
   "source": [
    "# Network constraints\n",
    "\n",
    "def _maxImpEq(m, s):\n",
    "    return m.pImp[s] <= m.pMaxImp[s] \n",
    "\n",
    "model.MaxImpEq = pe.Constraint(model.t, rule=_maxImpEq)\n",
    "\n",
    "def _maxExpEq(m, s):\n",
    "    return m.pExp[s] <= m.pMaxExp[s]\n",
    "\n",
    "model.MaxExpEq = pe.Constraint(model.t, rule=_maxExpEq)"
   ]
  },
  {
   "cell_type": "code",
   "execution_count": 22,
   "id": "4afadd39",
   "metadata": {
    "ExecuteTime": {
     "end_time": "2022-04-19T01:20:02.888097Z",
     "start_time": "2022-04-19T01:20:02.873362Z"
    }
   },
   "outputs": [],
   "source": [
    "# Generator constraints with the active generation power\n",
    "\n",
    "# Maximum generation in generators with normal contract\n",
    "def _genActMaxEq1(m, g, t):\n",
    "    if m.genInfo[g, 5] == 1:\n",
    "        return (pe.Constraint.Skip)\n",
    "    else:\n",
    "        return (m.genActPower[g, t] <= m.genLimit[g, t, 1])\n",
    "    \n",
    "model.genActMaxEq1 = pe.Constraint(model.gen, model.t, rule=_genActMaxEq1)\n",
    "\n",
    "#*Minimum generation in generators with normal contract\n",
    "def _genActMinEq(m, g, t):\n",
    "    if m.genInfo[g, 5] == 1:\n",
    "        return (pe.Constraint.Skip)\n",
    "    else:\n",
    "        return (m.genActPower[g, t] >= m.genInfo[g, 7] * m.genXo[g, t])\n",
    "    \n",
    "model.genActMinEq = pe.Constraint(model.gen, model.t, rule=_genActMinEq)\n",
    "\n",
    "#*Generation in generators with Feed-in tariffs\n",
    "def _genActMaxEq2(m, g, t):\n",
    "    if m.genInfo[g, 5] == 2:\n",
    "        return (pe.Constraint.Skip)\n",
    "    else:\n",
    "        return (m.genActPower[g ,t] + m.genExcActPower[g, t] == m.genLimit[g, t, 1])\n",
    "    \n",
    "model.genActMaxEq2 = pe.Constraint(model.gen, model.t, rule=_genActMaxEq2)"
   ]
  },
  {
   "cell_type": "code",
   "execution_count": 23,
   "id": "8010bc91",
   "metadata": {
    "ExecuteTime": {
     "end_time": "2022-04-19T01:20:02.903313Z",
     "start_time": "2022-04-19T01:20:02.889098Z"
    }
   },
   "outputs": [],
   "source": [
    "# Energy Balance\n",
    "\n",
    "#actBalanceEq(t).. 0=e=sum(gen,genActPower(gen,t) - genExcActPower(gen,t))\n",
    "#                    + PImp(t)-PExp(t)\n",
    "#                    - sum(load, loadActPower(load,t)); \n",
    "\n",
    "\n",
    "def _actBalanceEq(m, t):\n",
    "    temp_val = sum([m.genActPower[i, t] - m.genExcActPower[i, t] for i in np.arange(1, m.gen.last()+1)])\n",
    "    temp_sum2 = sum(m.loadActPower[:, t])\n",
    "    \n",
    "    return temp_val + m.pImp[t] - m.pExp[t] + temp_sum2 == 0\n",
    "\n",
    "model.actBalance = pe.Constraint(model.t, rule=_actBalanceEq)"
   ]
  },
  {
   "cell_type": "code",
   "execution_count": 24,
   "id": "0a32d38e",
   "metadata": {
    "ExecuteTime": {
     "end_time": "2022-04-19T01:20:02.918503Z",
     "start_time": "2022-04-19T01:20:02.904131Z"
    }
   },
   "outputs": [],
   "source": [
    "# Objective Function\n",
    "\n",
    "#optCostFun.. derCost=e=  sum((gen,t), genActPower(gen,t)*genLimit(gen,t,'3')+genExcActPower(gen,t)*genLimit(gen,t,'5'))\n",
    "#                       + sum(t,PImp(t)*buyPrice(t)-PExp(t)*sellPrice(t))\n",
    "\n",
    "\n",
    "def _objFun(m):\n",
    "    temp_sum1 = sum([m.genActPower[g, t] * m.genLimit[g, t, 3] + m.genExcActPower[g, t] * m.genLimit[g, t, 5]\n",
    "                     for t in np.arange(1, m.t.last()+1) for g in np.arange(1, m.gen.last()+1)])\n",
    "    \n",
    "    temp_sum2 = sum([m.pImp[i]() * m.buyPrice[i] - m.pExp[i]() * m.sellPrice[i] for i in np.arange(1, m.t.last()+1)])\n",
    "\n",
    "    return temp_sum1 + temp_sum2\n",
    "\n",
    "model.ObjFun = pe.Objective(rule=_objFun, sense=pe.maximize)"
   ]
  },
  {
   "cell_type": "code",
   "execution_count": 25,
   "id": "185772f3",
   "metadata": {
    "ExecuteTime": {
     "end_time": "2022-04-19T01:20:03.044424Z",
     "start_time": "2022-04-19T01:20:02.919426Z"
    }
   },
   "outputs": [
    {
     "name": "stdout",
     "output_type": "stream",
     "text": [
      "\n",
      "Welcome to IBM(R) ILOG(R) CPLEX(R) Interactive Optimizer 22.1.0.0\n",
      "  with Simplex, Mixed Integer & Barrier Optimizers\n",
      "5725-A06 5725-A29 5724-Y48 5724-Y49 5724-Y54 5724-Y55 5655-Y21\n",
      "Copyright IBM Corp. 1988, 2022.  All Rights Reserved.\n",
      "\n",
      "Type 'help' for a list of available commands.\n",
      "Type 'help' followed by a command name for more\n",
      "information on commands.\n",
      "\n",
      "CPLEX> Logfile 'cplex.log' closed.\n",
      "Logfile 'C:\\Users\\camar\\AppData\\Local\\Temp\\tmp8sidc_pk.cplex.log' open.\n",
      "CPLEX> Problem 'C:\\Users\\camar\\AppData\\Local\\Temp\\tmpedzlvn2r.pyomo.lp' read.\n",
      "Read time = 0.00 sec. (0.03 ticks)\n",
      "CPLEX> Problem name         : C:\\Users\\camar\\AppData\\Local\\Temp\\tmpedzlvn2r.pyomo.lp\n",
      "Objective sense      : Maximize\n",
      "Variables            :     385\n",
      "Objective nonzeros   :     337\n",
      "Linear constraints   :     313  [Less: 120,  Greater: 72,  Equal: 121]\n",
      "  Nonzeros           :     769\n",
      "  RHS nonzeros       :     191\n",
      "\n",
      "Variables            : Min LB: 0.000000         Max UB: all infinite   \n",
      "Objective nonzeros   : Min   : 0.08000000       Max   : 4.500000       \n",
      "Linear constraints   :\n",
      "  Nonzeros           : Min   : 1.000000         Max   : 1.000000       \n",
      "  RHS nonzeros       : Min   : 0.07014777       Max   : 93.51227       \n",
      "CPLEX> Version identifier: 22.1.0.0 | 2022-03-09 | 1a383f8ce\n",
      "Tried aggregator 1 time.\n",
      "LP Presolve eliminated 223 rows and 295 columns.\n",
      "Aggregator did 90 substitutions.\n",
      "All rows and columns eliminated.\n",
      "Presolve time = 0.00 sec. (0.19 ticks)\n",
      "\n",
      "Dual simplex - Optimal:  Objective =  1.8436496477e+04\n",
      "Solution time =    0.00 sec.  Iterations = 0 (0)\n",
      "Deterministic time = 0.29 ticks  (287.40 ticks/sec)\n",
      "\n",
      "CPLEX> Solution written to file 'C:\\Users\\camar\\AppData\\Local\\Temp\\tmpzu20bvjp.cplex.sol'.\n",
      "CPLEX> "
     ]
    }
   ],
   "source": [
    "# Create model instance and solve\n",
    "\n",
    "import cplex\n",
    "from pyomo.opt import SolverFactory\n",
    "\n",
    "# Create a solver\n",
    "#opt = pe.SolverFactory('cplex')\n",
    "opt = pe.SolverFactory('cplex', executable='C:/IBM/ILOG/CPLEX_Studio221/cplex/bin/x64_win64/cplex.exe')\n",
    "\n",
    "#instance = model.create_instance(model)\n",
    "results = opt.solve(model, tee=True)"
   ]
  },
  {
   "cell_type": "code",
   "execution_count": null,
   "id": "a4b1c891",
   "metadata": {},
   "outputs": [],
   "source": []
  }
 ],
 "metadata": {
  "kernelspec": {
   "display_name": "Python 3 (ipykernel)",
   "language": "python",
   "name": "python3"
  },
  "language_info": {
   "codemirror_mode": {
    "name": "ipython",
    "version": 3
   },
   "file_extension": ".py",
   "mimetype": "text/x-python",
   "name": "python",
   "nbconvert_exporter": "python",
   "pygments_lexer": "ipython3",
   "version": "3.8.10"
  },
  "varInspector": {
   "cols": {
    "lenName": 16,
    "lenType": 16,
    "lenVar": 40
   },
   "kernels_config": {
    "python": {
     "delete_cmd_postfix": "",
     "delete_cmd_prefix": "del ",
     "library": "var_list.py",
     "varRefreshCmd": "print(var_dic_list())"
    },
    "r": {
     "delete_cmd_postfix": ") ",
     "delete_cmd_prefix": "rm(",
     "library": "var_list.r",
     "varRefreshCmd": "cat(var_dic_list()) "
    }
   },
   "position": {
    "height": "494.85px",
    "left": "1120px",
    "right": "20px",
    "top": "120px",
    "width": "356px"
   },
   "types_to_exclude": [
    "module",
    "function",
    "builtin_function_or_method",
    "instance",
    "_Feature"
   ],
   "window_display": false
  }
 },
 "nbformat": 4,
 "nbformat_minor": 5
}
