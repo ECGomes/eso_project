{
 "cells": [
  {
   "cell_type": "code",
   "execution_count": 1,
   "id": "c4316e9b",
   "metadata": {
    "ExecuteTime": {
     "end_time": "2022-04-11T21:56:40.626721Z",
     "start_time": "2022-04-11T21:56:39.590125Z"
    }
   },
   "outputs": [],
   "source": [
    "#  Imports\n",
    "\n",
    "import numpy as np\n",
    "import pandas as pd\n",
    "import matplotlib.pyplot as plt\n",
    "import scipy"
   ]
  },
  {
   "cell_type": "code",
   "execution_count": 2,
   "id": "c4786f8e",
   "metadata": {
    "ExecuteTime": {
     "end_time": "2022-04-11T21:56:44.859822Z",
     "start_time": "2022-04-11T21:56:44.780794Z"
    }
   },
   "outputs": [],
   "source": [
    "# loadmat aux function to load the matlab save files\n",
    "# from: https://stackoverflow.com/review/suggested-edits/21667510\n",
    "\n",
    "import scipy.io as spio\n",
    "\n",
    "def loadmat(filename):\n",
    "    '''\n",
    "    this function should be called instead of direct spio.loadmat\n",
    "    as it cures the problem of not properly recovering python dictionaries\n",
    "    from mat files. It calls the function check keys to cure all entries\n",
    "    which are still mat-objects\n",
    "    '''\n",
    "    def _check_keys(d):\n",
    "        '''\n",
    "        checks if entries in dictionary are mat-objects. If yes\n",
    "        todict is called to change them to nested dictionaries\n",
    "        '''\n",
    "        for key in d:\n",
    "            if isinstance(d[key], spio.matlab.mio5_params.mat_struct):\n",
    "                d[key] = _todict(d[key])\n",
    "        return d\n",
    "\n",
    "    def _has_struct(elem):\n",
    "        \"\"\"Determine if elem is an array and if any array item is a struct\"\"\"\n",
    "        return isinstance(elem, np.ndarray) and any(isinstance(\n",
    "                    e, scipy.io.matlab.mio5_params.mat_struct) for e in elem)\n",
    "\n",
    "    def _todict(matobj):\n",
    "        '''\n",
    "        A recursive function which constructs from matobjects nested dictionaries\n",
    "        '''\n",
    "        d = {}\n",
    "        for strg in matobj._fieldnames:\n",
    "            elem = matobj.__dict__[strg]\n",
    "            if isinstance(elem, spio.matlab.mio5_params.mat_struct):\n",
    "                d[strg] = _todict(elem)\n",
    "            elif _has_struct(elem):\n",
    "                d[strg] = _tolist(elem)\n",
    "            else:\n",
    "                d[strg] = elem\n",
    "        return d\n",
    "\n",
    "    def _tolist(ndarray):\n",
    "        '''\n",
    "        A recursive function which constructs lists from cellarrays\n",
    "        (which are loaded as numpy ndarrays), recursing into the elements\n",
    "        if they contain matobjects.\n",
    "        '''\n",
    "        elem_list = []\n",
    "        for sub_elem in ndarray:\n",
    "            if isinstance(sub_elem, spio.matlab.mio5_params.mat_struct):\n",
    "                elem_list.append(_todict(sub_elem))\n",
    "            elif _has_struct(sub_elem):\n",
    "                elem_list.append(_tolist(sub_elem))\n",
    "            else:\n",
    "                elem_list.append(sub_elem)\n",
    "        return elem_list\n",
    "    data = scipy.io.loadmat(filename, struct_as_record=False, squeeze_me=True)\n",
    "    return _check_keys(data)"
   ]
  },
  {
   "cell_type": "code",
   "execution_count": 3,
   "id": "c7b09d40",
   "metadata": {
    "ExecuteTime": {
     "end_time": "2022-04-11T21:56:45.348357Z",
     "start_time": "2022-04-11T21:56:45.340549Z"
    }
   },
   "outputs": [
    {
     "name": "stderr",
     "output_type": "stream",
     "text": [
      "C:\\Users\\camar\\AppData\\Local\\Temp\\ipykernel_2660\\3560610281.py:19: DeprecationWarning: Please use `mat_struct` from the `scipy.io.matlab` namespace, the `scipy.io.matlab.mio5_params` namespace is deprecated.\n",
      "  if isinstance(d[key], spio.matlab.mio5_params.mat_struct):\n",
      "C:\\Users\\camar\\AppData\\Local\\Temp\\ipykernel_2660\\3560610281.py:35: DeprecationWarning: Please use `mat_struct` from the `scipy.io.matlab` namespace, the `scipy.io.matlab.mio5_params` namespace is deprecated.\n",
      "  if isinstance(elem, spio.matlab.mio5_params.mat_struct):\n",
      "C:\\Users\\camar\\AppData\\Local\\Temp\\ipykernel_2660\\3560610281.py:26: DeprecationWarning: Please use `mat_struct` from the `scipy.io.matlab` namespace, the `scipy.io.matlab.mio5_params` namespace is deprecated.\n",
      "  e, scipy.io.matlab.mio5_params.mat_struct) for e in elem)\n"
     ]
    }
   ],
   "source": [
    "# Matlab code conversion\n",
    "\n",
    "# Read matlab file instead of excelfile (easier conversion)\n",
    "data = loadmat('matlab.mat')"
   ]
  },
  {
   "cell_type": "code",
   "execution_count": 4,
   "id": "1159909e",
   "metadata": {
    "ExecuteTime": {
     "end_time": "2022-04-11T21:56:58.069383Z",
     "start_time": "2022-04-11T21:56:58.065478Z"
    }
   },
   "outputs": [],
   "source": [
    "# Linearize the generator prices\n",
    "\n",
    "# genCofA=data.generator.limit(:,:,6); -> MATLAB starts with 1, so we need the index -1\n",
    "# genCofB=data.generator.limit(:,:,7);\n",
    "# genCofC=data.generator.limit(:,:,8);\n",
    "\n",
    "genCofA = data['data']['generator']['limit'][:, :, 5]\n",
    "genCofB = data['data']['generator']['limit'][:, :, 6]\n",
    "genCofC = data['data']['generator']['limit'][:, :, 7]"
   ]
  },
  {
   "cell_type": "code",
   "execution_count": 5,
   "id": "a9fc1cb6",
   "metadata": {
    "ExecuteTime": {
     "end_time": "2022-04-11T21:56:58.764995Z",
     "start_time": "2022-04-11T21:56:58.761063Z"
    }
   },
   "outputs": [],
   "source": [
    "# Options for simulation\n",
    "\n",
    "#options \n",
    "iterlim = 1000000000\n",
    "reslim = 5000000000"
   ]
  },
  {
   "cell_type": "code",
   "execution_count": 6,
   "id": "2ab9a921",
   "metadata": {
    "ExecuteTime": {
     "end_time": "2022-04-11T21:57:02.666318Z",
     "start_time": "2022-04-11T21:57:02.660462Z"
    }
   },
   "outputs": [],
   "source": [
    "# Definir o numero de resources usados\n",
    "\n",
    "numGen = np.arange(1, data['data']['parameterData']['resources']['numGen'] + 1)\n",
    "numLoad = np.arange(1, data['data']['parameterData']['resources']['numLoad'] + 1)\n",
    "numStor = np.arange(1, data['data']['parameterData']['resources']['numStor'] + 1)\n",
    "numV2G = np.arange(1, data['data']['parameterData']['resources']['numV2G'] + 1)\n",
    "numCStat = np.arange(1, data['data']['parameterData']['resources']['numCStat'] + 1)\n",
    "numPeriod = np.arange(1, data['data']['parameterData']['resources']['period'] + 1)\n",
    "numBus = np.arange(1) # forced to 1\n",
    "nOwner = np.arange(1, data['data']['parameterData']['resources']['owners'] + 1)"
   ]
  },
  {
   "cell_type": "code",
   "execution_count": 7,
   "id": "c18ac201",
   "metadata": {
    "ExecuteTime": {
     "end_time": "2022-04-11T21:57:03.550465Z",
     "start_time": "2022-04-11T21:57:03.546534Z"
    }
   },
   "outputs": [],
   "source": [
    "# Define as strings com os recursos para mandar para GAMS\n",
    "\n",
    "gen = np.max(numGen)\n",
    "Load = np.max(numLoad)\n",
    "stor = np.max(numStor)\n",
    "v2g = np.max(numV2G)\n",
    "cs = np.max(numCStat)\n",
    "period = np.max(numPeriod)\n",
    "Bus = np.max(numBus)"
   ]
  },
  {
   "cell_type": "code",
   "execution_count": 8,
   "id": "1b2096dc",
   "metadata": {
    "ExecuteTime": {
     "end_time": "2022-04-11T21:57:04.129204Z",
     "start_time": "2022-04-11T21:57:04.121403Z"
    }
   },
   "outputs": [],
   "source": [
    "#% Definir as matrizes com os dados para o GAMS\n",
    "\n",
    "# General Info\n",
    "pMaxImp = data['data']['parameterData']['generalInfo']['P_Max_Imp']\n",
    "pMaxExp = data['data']['parameterData']['generalInfo']['P_Max_Exp']\n",
    "buyPrice = data['data']['parameterData']['generalInfo']['Energy_Buy_Price']\n",
    "sellPrice = data['data']['parameterData']['generalInfo']['Energy_Sell_Price']\n",
    "\n",
    "# Geradores\n",
    "genLimit = data['data']['generator']['limit'][numGen[0]-1:numGen[-1]+1, numPeriod[0]-1:numPeriod[-1]+1, :]\n",
    "genInfo = data['data']['generator']['info']\n",
    "\n",
    "# Cargas\n",
    "loadLimit = data['data']['load']['limit'][numLoad[0]-1:numLoad[-1]+1, numPeriod[0]-1:numPeriod[-1]+1, :]\n",
    "\n",
    "# Baterias\n",
    "storLimit = data['data']['storage']['limit'][numStor[0]-1:numStor[-1]+1, numPeriod[0]-1:numPeriod[-1]+1, :]\n",
    "storInfo = data['data']['storage']['info']\n",
    "\n",
    "# Veiculos\n",
    "v2gLimit = data['data']['vehicle']['limit']\n",
    "v2gInfo = data['data']['vehicle']['info']\n",
    "\n",
    "# Charging Station\n",
    "csLimit = data['data']['cstation']['limit'][numCStat[0]-1:numCStat[-1]+1, numPeriod[0]-1:numPeriod[-1]+1, :]\n",
    "csInfo = data['data']['cstation']['info']\n",
    "\n",
    "# Connect EV to Charging Station\n",
    "EV_CS_Info = data['data']['vehicle']['timeInfo']['V2GinCS']"
   ]
  },
  {
   "cell_type": "code",
   "execution_count": 9,
   "id": "319a4ddb",
   "metadata": {
    "ExecuteTime": {
     "end_time": "2022-04-11T21:57:04.632697Z",
     "start_time": "2022-04-11T21:57:04.626874Z"
    }
   },
   "outputs": [],
   "source": [
    "# Definir os dados da rede para o GAMS\n",
    "\n",
    "# Linhas\n",
    "branchData = data['data']['network']['branch']\n",
    "\n",
    "# Tensão Máxima\n",
    "voltageMax = data['data']['parameterData']['network']['voltageMax']\n",
    "\n",
    "# Tensão Mínima\n",
    "voltageMin = data['data']['parameterData']['network']['voltageMin']\n",
    "\n",
    "# Angulo Máximo\n",
    "angleMax = data['data']['parameterData']['network']['angleMax']\n",
    "\n",
    "# Angulo Mínimo\n",
    "angleMin = data['data']['parameterData']['network']['angleMin']\n",
    "\n",
    "# Definir a matriz das admitancias\n",
    "ybus = data['data']['parameterData']['network']['ybus']\n",
    "diag = data['data']['parameterData']['network']['diag']\n",
    "branchID = data['data']['parameterData']['network']['branch']"
   ]
  },
  {
   "cell_type": "code",
   "execution_count": 10,
   "id": "6348f31c",
   "metadata": {
    "ExecuteTime": {
     "end_time": "2022-04-11T21:57:05.193939Z",
     "start_time": "2022-04-11T21:57:05.189046Z"
    }
   },
   "outputs": [],
   "source": [
    "#% Anular o custo fixo e quadratico da DG\n",
    "\n",
    "genLimit[:, :, 3] = 0\n",
    "genLimit[:, :, 5] = 0\n",
    "\n",
    "genLimit = np.append(genLimit, np.zeros(shape=(7, 24, 4)), axis=2)\n",
    "\n",
    "# Not necessary anymore\n",
    "#genLimit[:, :, 9] = 0\n",
    "#genLimit[:, :, 11] = 0"
   ]
  },
  {
   "cell_type": "code",
   "execution_count": 11,
   "id": "665f79db",
   "metadata": {
    "ExecuteTime": {
     "end_time": "2022-04-11T21:57:05.730703Z",
     "start_time": "2022-04-11T21:57:05.725824Z"
    }
   },
   "outputs": [],
   "source": [
    "# TODO -> AFTER GAM FILE CONVERSION\n",
    "\n",
    "def runSolver(file, loadLimit, genLimit, genInfo, gen, Load, period, stor, storLimit, storInfo,\n",
    "              pMaxImp, pMaxExp, buyPrice, sellPrice, v2gLimit, v2gInfo, v2g,\n",
    "              cs, cslimit, csInfo, EV_CS_Info):\n",
    "    \n",
    "    \n",
    "    temp_output = [resFun, resCost, resSelf, statusOptPro, \n",
    "                   resPImp, resPExp, resGenAct, resGenExcAct,resGenX, \n",
    "                   resLoadRed, resLoadCut, \n",
    "                   resLoadENS, resLoadX, resLoad, resStorEnerState, resStorChActPower, resStorDchActPower,\n",
    "                   resv2gEnerState, resv2gDchActPower, resv2gChActPower, resv2gRelax, resCsPower]\n",
    "    \n",
    "    return temp_output"
   ]
  },
  {
   "cell_type": "code",
   "execution_count": 12,
   "id": "949dd6e4",
   "metadata": {
    "ExecuteTime": {
     "end_time": "2022-04-11T21:57:06.302016Z",
     "start_time": "2022-04-11T21:57:06.298087Z"
    }
   },
   "outputs": [],
   "source": [
    "#** Define the fixed sets structure to use in the parameters of the gams optimization process\n",
    "#set genLimitInfo 'Indicate the number of columns of information from generators'\n",
    "#/1, 2, 3, 4, 5, 6, 7, 8, 9, 10, 11, 12/;\n",
    "\n",
    "#set loadLimitInfo 'Indicate the number of columns of information from loads'\n",
    "#/1, 2, 3, 4, 5, 6, 7, 8, 9, 10, 11, 12/;\n",
    "\n",
    "#set storLimitInfo 'Indicate the number of columns of information from storage units'\n",
    "#/1, 2, 3, 4, 5, 6, 7, 8, 9, 10, 11, 12/;\n",
    "\n",
    "#set v2gLimitInfo 'Indicate the number of columns of information from electric vehicles'\n",
    "#/1, 2, 3, 4, 5, 6, 7, 8, 9, 10, 11, 12/;\n",
    "\n",
    "#set csLimitInfo 'Indicate the number of columns of information from charging stations'\n",
    "#/1, 2, 3, 4, 5, 6, 7, 8, 9, 10, 11, 12/;\n",
    "\n",
    "NCOLS = 12\n",
    "\n",
    "genLimitInfo = np.arange(1, NCOLS+1)\n",
    "loadLimitInfo = np.arange(1, NCOLS+1)\n",
    "storLimitInfo = np.arange(1, NCOLS+1)\n",
    "v2gLimitInfo = np.arange(1, NCOLS+1)\n",
    "csLimitInfo = np.arange(1, NCOLS+1)"
   ]
  },
  {
   "cell_type": "code",
   "execution_count": 13,
   "id": "0a775110",
   "metadata": {
    "ExecuteTime": {
     "end_time": "2022-04-11T21:57:06.934337Z",
     "start_time": "2022-04-11T21:57:06.930409Z"
    }
   },
   "outputs": [],
   "source": [
    "# * Define the several sets structure used in the gams optimization process, \n",
    "# these sets depends the number of resources used in matlab code\n",
    "\n",
    "t = np.arange(1, period+1)\n",
    "gen = np.arange(1, gen+1)\n",
    "Load = np.arange(1, Load+1)\n",
    "stor = np.arange(1, stor+1)\n",
    "v2g = np.arange(1, v2g+1)\n",
    "cs = np.arange(1, cs+1)"
   ]
  },
  {
   "cell_type": "code",
   "execution_count": 14,
   "id": "14119631",
   "metadata": {
    "ExecuteTime": {
     "end_time": "2022-04-11T21:57:07.879409Z",
     "start_time": "2022-04-11T21:57:07.489149Z"
    }
   },
   "outputs": [],
   "source": [
    "# Pyomo imports\n",
    "\n",
    "import pyomo\n",
    "import pyomo.opt\n",
    "import pyomo.environ as pe"
   ]
  },
  {
   "cell_type": "code",
   "execution_count": 312,
   "id": "8bf4c0b1",
   "metadata": {
    "ExecuteTime": {
     "end_time": "2022-04-12T00:06:01.788893Z",
     "start_time": "2022-04-12T00:06:01.781128Z"
    }
   },
   "outputs": [],
   "source": [
    "# Model creation\n",
    "\n",
    "model = pe.ConcreteModel()\n",
    "\n",
    "model.genLimitInfo = pe.Set(initialize=genLimitInfo, \n",
    "                            doc='Indicate the number of columns of information from generators')\n",
    "model.loadLimitInfo = pe.Set(initialize=loadLimitInfo, \n",
    "                             doc='Indicate the number of columns of information from loads')\n",
    "model.storLimitInfo = pe.Set(initialize=storLimitInfo, \n",
    "                             doc='Indicate the number of columns of information from storage units')\n",
    "model.v2gLimitInfo = pe.Set(initialize=v2gLimitInfo, \n",
    "                            doc='Indicate the number of columns of information from electric vehicles')\n",
    "model.csLimitInfo = pe.Set(initialize=csLimitInfo, \n",
    "                           doc='Indicate the number of columns of information from charging stations')\n",
    "\n",
    "# Sets\n",
    "model.t = pe.Set(initialize=t, doc='period')\n",
    "model.gen = pe.Set(initialize=gen, doc='generators')\n",
    "model.loads = pe.Set(initialize=Load, doc='loads')\n",
    "model.stor = pe.Set(initialize=stor, doc='storage')\n",
    "model.v2g = pe.Set(initialize=v2g, doc='vehicles')\n",
    "model.cs = pe.Set(initialize=cs, doc='charging_stations')"
   ]
  },
  {
   "cell_type": "code",
   "execution_count": 313,
   "id": "7b19e5b7",
   "metadata": {
    "ExecuteTime": {
     "end_time": "2022-04-12T00:06:02.395735Z",
     "start_time": "2022-04-12T00:06:02.219016Z"
    }
   },
   "outputs": [],
   "source": [
    "# Define the parameters with the data from the excel, such as limits, price, and voltage\n",
    "\n",
    "model.loadLimit = pe.Param(model.loads, model.t, initialize=model.loadLimitInfo)\n",
    "model.genLimit = pe.Param(model.gen, model.t, initialize=model.genLimitInfo)\n",
    "model.genInfo = pe.Param(model.gen, initialize=model.genLimitInfo)\n",
    "model.pMaxImp = pe.Param(model.t, initialize=0)\n",
    "model.buyPrice = pe.Param(model.t, initialize=0)\n",
    "model.pMaxExp = pe.Param(model.t, initialize=0)\n",
    "model.sellPrice = pe.Param(model.t, initialize=0)\n",
    "model.storLimit = pe.Param(model.stor, model.t, initialize=model.storLimitInfo)\n",
    "model.v2gLimit = pe.Param(model.v2g, model.t, initialize=model.v2gLimitInfo)\n",
    "model.v2gInfo = pe.Param(model.v2g, initialize=model.v2gLimitInfo)\n",
    "model.csLimit = pe.Param(model.cs, model.t, initialize=model.csLimitInfo)\n",
    "model.csInfo = pe.Param(model.cs, initialize=model.csLimitInfo)\n",
    "model.EV_CS_Info = pe.Param(model.v2g, model.cs, model.t)"
   ]
  },
  {
   "cell_type": "code",
   "execution_count": 314,
   "id": "dcab9a4a",
   "metadata": {
    "ExecuteTime": {
     "end_time": "2022-04-12T00:06:02.758797Z",
     "start_time": "2022-04-12T00:06:02.752934Z"
    }
   },
   "outputs": [],
   "source": [
    "# parameters  loadActPower(load,t), optCost;\n",
    "\n",
    "model.loadActPower = pe.Param(model.loads, model.t, initialize=1)\n",
    "model.optCost = pe.Param()"
   ]
  },
  {
   "cell_type": "code",
   "execution_count": 315,
   "id": "43f0cd1b",
   "metadata": {
    "ExecuteTime": {
     "end_time": "2022-04-12T00:06:03.182382Z",
     "start_time": "2022-04-12T00:06:03.178477Z"
    }
   },
   "outputs": [],
   "source": [
    "# loadActPower(load,t)=loadLimit(load,t,'1'); -> NEED TO ASK!!!"
   ]
  },
  {
   "cell_type": "code",
   "execution_count": 316,
   "id": "2fff3184",
   "metadata": {
    "ExecuteTime": {
     "end_time": "2022-04-12T00:06:03.580590Z",
     "start_time": "2022-04-12T00:06:03.575718Z"
    }
   },
   "outputs": [],
   "source": [
    "# Define the variables for the gams optimization process\n",
    "# variables fun, derCost, selfConso;\n",
    "\n",
    "model.fun = pe.Var()\n",
    "model.derCost = pe.Var()\n",
    "model.selfConso = pe.Var()"
   ]
  },
  {
   "cell_type": "code",
   "execution_count": 317,
   "id": "474ddc07",
   "metadata": {
    "ExecuteTime": {
     "end_time": "2022-04-12T00:06:04.050257Z",
     "start_time": "2022-04-12T00:06:04.033665Z"
    }
   },
   "outputs": [],
   "source": [
    "#positive variables\n",
    "\n",
    "model.genActPower = pe.Var(model.gen, model.t, initialize=0, bounds=(0.0, None))\n",
    "model.genExcActPower = pe.Var(model.gen, model.t, initialize=0, bounds=(0.0, None))\n",
    "model.loadRedActPower = pe.Var(model.loads, model.t, initialize=0, bounds=(0.0, None))\n",
    "model.loadCutActPower = pe.Var(model.loads, model.t, initialize=0, bounds=(0.0, None))\n",
    "model.loadENS = pe.Var(model.loads, model.t,initialize=0,  bounds=(0.0, None))\n",
    "model.pImp = pe.Var(model.t, initialize=0, bounds=(0.0, None))\n",
    "model.pExp = pe.Var(model.t, initialize=0, bounds=(0.0, None))\n",
    "model.storEnerState = pe.Var(model.stor, model.t, initialize=0, bounds=(0.0, None))\n",
    "model.storDchActPower = pe.Var(model.stor, model.t, initialize=0, bounds=(0.0, None))\n",
    "model.storChActPower = pe.Var(model.stor, model.t, initialize=0, bounds=(0.0, None))\n",
    "model.EminRelaxStor = pe.Var(model.stor, model.t, initialize=0, bounds=(0.0, None))\n",
    "model.v2gDchActPower = pe.Var(model.v2g, model.t, initialize=0, bounds=(0.0, None))\n",
    "model.v2gChActPower = pe.Var(model.v2g, model.t, initialize=0, bounds=(0.0, None))\n",
    "model.v2gEnerState = pe.Var(model.v2g, model.t, initialize=0, bounds=(0.0, None))\n",
    "model.EminRelaxEv = pe.Var(model.v2g, model.t, initialize=0, bounds=(0.0, None))\n",
    "model.csActPower = pe.Var(model.cs, model.t, initialize=0, bounds=(0.0, None))\n",
    "model.csActPowerNet = pe.Var(model.cs, model.t, initialize=0, bounds=(0.0, None))"
   ]
  },
  {
   "cell_type": "code",
   "execution_count": 318,
   "id": "4dd2d41f",
   "metadata": {
    "ExecuteTime": {
     "end_time": "2022-04-12T00:06:04.487719Z",
     "start_time": "2022-04-12T00:06:04.480887Z"
    }
   },
   "outputs": [],
   "source": [
    "# binary variables\n",
    "\n",
    "model.genXo = pe.Var(model.gen, model.t, initialize=0, bounds=(0, 1))\n",
    "model.loadXo = pe.Var(model.loads, model.t, initialize=0, bounds=(0, 1))\n",
    "model.v2gChXo = pe.Var(model.v2g, model.t, initialize=0, bounds=(0, 1))\n",
    "model.v2gDchXo = pe.Var(model.v2g, model.t, initialize=0, bounds=(0, 1))\n",
    "model.storChXo = pe.Var(model.stor, model.t, initialize=0, bounds=(0, 1))\n",
    "model.storDchXo = pe.Var(model.stor, model.t, initialize=0, bounds=(0, 1))"
   ]
  },
  {
   "cell_type": "markdown",
   "id": "69a0bee8",
   "metadata": {},
   "source": [
    "### Cost Minimization Objective Cost Function\n",
    "optCostFun.. derCost=e=  sum((gen,t), genActPower(gen,t)*genLimit(gen,t,'3')+genExcActPower(gen,t)*genLimit(gen,t,'5'))\n",
    "                       + sum((load,t), loadRedActPower(load,t)*loadLimit(load,t,'7')+loadCutActPower(load,t)*loadLimit(load,t,'8')+loadENS(load,t)*loadLimit(load,t,'10'))\n",
    "                       + sum((stor,t), storDchActPower(stor,t)*storLimit(stor,t,'4')-storChActPower(stor,t)*storLimit(stor,t,'3') + EminRelaxStor(stor,t)*200)\n",
    "                       + sum((v2g,t), v2gDchActPower(v2g,t)*v2gLimit(v2g,t,'7')-v2gChActPower(v2g,t)*v2gLimit(v2g,t,'6') + EminRelaxEv(v2g,t)*200)\n",
    "                       + sum(t,PImp(t)*buyPrice(t)-PExp(t)*sellPrice(t))\n",
    "                       ;\n",
    "\n",
    "###  Self-Consuption Maximization Objective Cost Function\n",
    "optSelfFun.. selfConso=e=sum(t,PImp(t))\n",
    "                       + sum((gen,t), 10000*genExcActPower(gen,t))+ sum((load,t), 10000*loadENS(load,t))\n",
    "                       + sum((stor,t),1000*EminRelaxStor(stor,t)) + sum((v2g,t), 1000*EminRelaxEv(v2g,t))\n",
    "                       + sum((load,t),10*(loadRedActPower(load,t) + loadCutActPower(load,t)))\n",
    "                       + sum(t,PExp(t)*100*(sum ((stor),(storLimit(stor,t,'1')-storChActPower(stor,t))) + sum((cs), csInfo(cs,'5')-csActPower(cs,t))))\n",
    "                       + sum(t,PExp(t)*500*(sum ((stor),(storDchActPower(stor,t)))))\n",
    "                       + 0.0001*derCost\n",
    "                       ;"
   ]
  },
  {
   "cell_type": "code",
   "execution_count": 319,
   "id": "fded35d7",
   "metadata": {
    "ExecuteTime": {
     "end_time": "2022-04-12T00:06:05.606712Z",
     "start_time": "2022-04-12T00:06:05.600850Z"
    }
   },
   "outputs": [],
   "source": [
    "# Network constraints\n",
    "\n",
    "def _maxImpEq(m, s):\n",
    "    return m.pImp[s] <= m.pMaxImp[s] \n",
    "\n",
    "model.MaxImpEq = pe.Constraint(model.t, rule=_maxImpEq)\n",
    "\n",
    "def _maxExpEq(m, s):\n",
    "    return m.pExp[s] <= m.pMaxExp[s]\n",
    "\n",
    "model.MaxExpEq = pe.Constraint(model.t, rule=_maxExpEq)"
   ]
  },
  {
   "cell_type": "code",
   "execution_count": null,
   "id": "4afadd39",
   "metadata": {},
   "outputs": [],
   "source": [
    "# Generator constraints with the active generation power\n",
    "# Maximum generation in generators with normal contract\n",
    "\n",
    "#genActMaxEq1(gen,t)$(genInfo(gen,'5')=1).. genActPower(gen,t)=e=genLimit(gen,t,'1');\n",
    "#*Minimum generation in generators with normal contract\n",
    "#genActMinEq(gen,t)$(genInfo(gen,'5')=1).. genActPower(gen,t)=g=genInfo(gen,'7')*genXo(gen,t);\n",
    "#*Generation in generators with Feed-in tariffs\n",
    "#genActMaxEq2(gen,t)$(genInfo(gen,'5')=2).. genActPower(gen,t)+genExcActPower(gen,t)=e=genLimit(gen,t,'1');\n",
    "\n",
    "\n",
    "# IMPORTANT: DOLLAR SIGN IS A TERNARY IF OPERATOR\n",
    "# EXAMPLE: a $ (b > 1.5) = 2 -> if b > 1.5 then a=2\n",
    "\n",
    "#def _genActMaxEq1(m, s):\n",
    "#    m.genActPower[s] == m.genLimit[] "
   ]
  }
 ],
 "metadata": {
  "kernelspec": {
   "display_name": "Python 3 (ipykernel)",
   "language": "python",
   "name": "python3"
  },
  "language_info": {
   "codemirror_mode": {
    "name": "ipython",
    "version": 3
   },
   "file_extension": ".py",
   "mimetype": "text/x-python",
   "name": "python",
   "nbconvert_exporter": "python",
   "pygments_lexer": "ipython3",
   "version": "3.8.10"
  },
  "varInspector": {
   "cols": {
    "lenName": 16,
    "lenType": 16,
    "lenVar": 40
   },
   "kernels_config": {
    "python": {
     "delete_cmd_postfix": "",
     "delete_cmd_prefix": "del ",
     "library": "var_list.py",
     "varRefreshCmd": "print(var_dic_list())"
    },
    "r": {
     "delete_cmd_postfix": ") ",
     "delete_cmd_prefix": "rm(",
     "library": "var_list.r",
     "varRefreshCmd": "cat(var_dic_list()) "
    }
   },
   "types_to_exclude": [
    "module",
    "function",
    "builtin_function_or_method",
    "instance",
    "_Feature"
   ],
   "window_display": false
  }
 },
 "nbformat": 4,
 "nbformat_minor": 5
}
