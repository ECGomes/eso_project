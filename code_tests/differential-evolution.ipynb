{
 "cells": [
  {
   "cell_type": "code",
   "execution_count": 1,
   "id": "ad6c4874",
   "metadata": {
    "ExecuteTime": {
     "end_time": "2022-05-10T14:41:34.899858Z",
     "start_time": "2022-05-10T14:41:31.992960Z"
    }
   },
   "outputs": [],
   "source": [
    "#  Imports\n",
    "\n",
    "import numpy as np\n",
    "import pandas as pd\n",
    "import matplotlib.pyplot as plt\n",
    "import scipy"
   ]
  },
  {
   "cell_type": "code",
   "execution_count": 2,
   "id": "f7e3204a",
   "metadata": {
    "ExecuteTime": {
     "end_time": "2022-05-10T14:41:35.260275Z",
     "start_time": "2022-05-10T14:41:34.933774Z"
    }
   },
   "outputs": [],
   "source": [
    "# loadmat aux function to load the matlab save files\n",
    "# from: https://stackoverflow.com/review/suggested-edits/21667510\n",
    "\n",
    "import scipy.io as spio\n",
    "\n",
    "def loadmat(filename):\n",
    "    '''\n",
    "    this function should be called instead of direct spio.loadmat\n",
    "    as it cures the problem of not properly recovering python dictionaries\n",
    "    from mat files. It calls the function check keys to cure all entries\n",
    "    which are still mat-objects\n",
    "    '''\n",
    "    def _check_keys(d):\n",
    "        '''\n",
    "        checks if entries in dictionary are mat-objects. If yes\n",
    "        todict is called to change them to nested dictionaries\n",
    "        '''\n",
    "        for key in d:\n",
    "            if isinstance(d[key], spio.matlab.mio5_params.mat_struct):\n",
    "                d[key] = _todict(d[key])\n",
    "        return d\n",
    "\n",
    "    def _has_struct(elem):\n",
    "        \"\"\"Determine if elem is an array and if any array item is a struct\"\"\"\n",
    "        return isinstance(elem, np.ndarray) and any(isinstance(\n",
    "                    e, scipy.io.matlab.mio5_params.mat_struct) for e in elem)\n",
    "\n",
    "    def _todict(matobj):\n",
    "        '''\n",
    "        A recursive function which constructs from matobjects nested dictionaries\n",
    "        '''\n",
    "        d = {}\n",
    "        for strg in matobj._fieldnames:\n",
    "            elem = matobj.__dict__[strg]\n",
    "            if isinstance(elem, spio.matlab.mio5_params.mat_struct):\n",
    "                d[strg] = _todict(elem)\n",
    "            elif _has_struct(elem):\n",
    "                d[strg] = _tolist(elem)\n",
    "            else:\n",
    "                d[strg] = elem\n",
    "        return d\n",
    "\n",
    "    def _tolist(ndarray):\n",
    "        '''\n",
    "        A recursive function which constructs lists from cellarrays\n",
    "        (which are loaded as numpy ndarrays), recursing into the elements\n",
    "        if they contain matobjects.\n",
    "        '''\n",
    "        elem_list = []\n",
    "        for sub_elem in ndarray:\n",
    "            if isinstance(sub_elem, spio.matlab.mio5_params.mat_struct):\n",
    "                elem_list.append(_todict(sub_elem))\n",
    "            elif _has_struct(sub_elem):\n",
    "                elem_list.append(_tolist(sub_elem))\n",
    "            else:\n",
    "                elem_list.append(sub_elem)\n",
    "        return elem_list\n",
    "    data = scipy.io.loadmat(filename, struct_as_record=False, squeeze_me=True)\n",
    "    return _check_keys(data)"
   ]
  },
  {
   "cell_type": "code",
   "execution_count": 3,
   "id": "bb9001d1",
   "metadata": {
    "ExecuteTime": {
     "end_time": "2022-05-10T14:41:35.307090Z",
     "start_time": "2022-05-10T14:41:35.292127Z"
    }
   },
   "outputs": [
    {
     "name": "stderr",
     "output_type": "stream",
     "text": [
      "C:\\Users\\camar\\AppData\\Local\\Temp\\ipykernel_16236\\3560610281.py:19: DeprecationWarning: Please use `mat_struct` from the `scipy.io.matlab` namespace, the `scipy.io.matlab.mio5_params` namespace is deprecated.\n",
      "  if isinstance(d[key], spio.matlab.mio5_params.mat_struct):\n",
      "C:\\Users\\camar\\AppData\\Local\\Temp\\ipykernel_16236\\3560610281.py:35: DeprecationWarning: Please use `mat_struct` from the `scipy.io.matlab` namespace, the `scipy.io.matlab.mio5_params` namespace is deprecated.\n",
      "  if isinstance(elem, spio.matlab.mio5_params.mat_struct):\n",
      "C:\\Users\\camar\\AppData\\Local\\Temp\\ipykernel_16236\\3560610281.py:26: DeprecationWarning: Please use `mat_struct` from the `scipy.io.matlab` namespace, the `scipy.io.matlab.mio5_params` namespace is deprecated.\n",
      "  e, scipy.io.matlab.mio5_params.mat_struct) for e in elem)\n"
     ]
    }
   ],
   "source": [
    "# Matlab code conversion\n",
    "\n",
    "# Read matlab file instead of excelfile (easier conversion)\n",
    "data = loadmat('matlab.mat')"
   ]
  },
  {
   "cell_type": "code",
   "execution_count": 4,
   "id": "9b7c0b03",
   "metadata": {
    "ExecuteTime": {
     "end_time": "2022-05-10T14:41:36.153271Z",
     "start_time": "2022-05-10T14:41:36.137424Z"
    }
   },
   "outputs": [],
   "source": [
    "# Linearize the generator prices\n",
    "\n",
    "# genCofA=data.generator.limit(:,:,6); -> MATLAB starts with 1, so we need the index -1\n",
    "# genCofB=data.generator.limit(:,:,7);\n",
    "# genCofC=data.generator.limit(:,:,8);\n",
    "\n",
    "genCofA = data['data']['generator']['limit'][:, :, 5]\n",
    "genCofB = data['data']['generator']['limit'][:, :, 6]\n",
    "genCofC = data['data']['generator']['limit'][:, :, 7]"
   ]
  },
  {
   "cell_type": "code",
   "execution_count": 5,
   "id": "6b6df653",
   "metadata": {
    "ExecuteTime": {
     "end_time": "2022-05-10T14:41:36.805826Z",
     "start_time": "2022-05-10T14:41:36.797882Z"
    }
   },
   "outputs": [],
   "source": [
    "# Options for simulation\n",
    "\n",
    "#options \n",
    "iterlim = 1000000000\n",
    "reslim = 5000000000"
   ]
  },
  {
   "cell_type": "code",
   "execution_count": 6,
   "id": "8d52243e",
   "metadata": {
    "ExecuteTime": {
     "end_time": "2022-05-10T14:41:59.355644Z",
     "start_time": "2022-05-10T14:41:59.347669Z"
    }
   },
   "outputs": [],
   "source": [
    "# Definir o numero de resources usados\n",
    "\n",
    "numGen = np.arange(1, data['data']['parameterData']['resources']['numGen'] + 1)\n",
    "numLoad = np.arange(1, data['data']['parameterData']['resources']['numLoad'] + 1)\n",
    "numStor = np.arange(1, data['data']['parameterData']['resources']['numStor'] + 1)\n",
    "numV2G = np.arange(1, data['data']['parameterData']['resources']['numV2G'] + 1)\n",
    "numCStat = np.arange(1, data['data']['parameterData']['resources']['numCStat'] + 1)\n",
    "numPeriod = np.arange(1, data['data']['parameterData']['resources']['period'] + 1)\n",
    "numBus = np.array([1]) #np.arange(1) # forced to 1\n",
    "nOwner = np.arange(1, data['data']['parameterData']['resources']['owners'] + 1)"
   ]
  },
  {
   "cell_type": "code",
   "execution_count": 7,
   "id": "d42b8d16",
   "metadata": {
    "ExecuteTime": {
     "end_time": "2022-05-10T14:42:01.179804Z",
     "start_time": "2022-05-10T14:42:01.164819Z"
    }
   },
   "outputs": [],
   "source": [
    "# Define as strings com os recursos para mandar para GAMS\n",
    "\n",
    "gen = np.max(numGen)\n",
    "Load = np.max(numLoad)\n",
    "stor = np.max(numStor)\n",
    "v2g = np.max(numV2G)\n",
    "cs = np.max(numCStat)\n",
    "period = np.max(numPeriod)\n",
    "Bus = np.max(numBus)"
   ]
  },
  {
   "cell_type": "code",
   "execution_count": 8,
   "id": "2af4083d",
   "metadata": {
    "ExecuteTime": {
     "end_time": "2022-05-10T14:42:02.597667Z",
     "start_time": "2022-05-10T14:42:02.583629Z"
    }
   },
   "outputs": [],
   "source": [
    "#% Definir as matrizes com os dados para o GAMS\n",
    "\n",
    "# General Info\n",
    "pMaxImp = data['data']['parameterData']['generalInfo']['P_Max_Imp']\n",
    "pMaxExp = data['data']['parameterData']['generalInfo']['P_Max_Exp']\n",
    "buyPrice = data['data']['parameterData']['generalInfo']['Energy_Buy_Price']\n",
    "sellPrice = data['data']['parameterData']['generalInfo']['Energy_Sell_Price']\n",
    "\n",
    "# Geradores\n",
    "genLimit = data['data']['generator']['limit'][numGen[0]-1:numGen[-1]+1, numPeriod[0]-1:numPeriod[-1]+1, :]\n",
    "genInfo = data['data']['generator']['info']\n",
    "\n",
    "# Cargas\n",
    "loadLimit = data['data']['load']['limit'][numLoad[0]-1:numLoad[-1]+1, numPeriod[0]-1:numPeriod[-1]+1, :]\n",
    "\n",
    "# Baterias\n",
    "storLimit = data['data']['storage']['limit'][numStor[0]-1:numStor[-1]+1, numPeriod[0]-1:numPeriod[-1]+1, :]\n",
    "storInfo = data['data']['storage']['info']\n",
    "\n",
    "# Veiculos\n",
    "v2gLimit = data['data']['vehicle']['limit']\n",
    "v2gInfo = data['data']['vehicle']['info']\n",
    "\n",
    "# Charging Station\n",
    "csLimit = data['data']['cstation']['limit'][numCStat[0]-1:numCStat[-1]+1, numPeriod[0]-1:numPeriod[-1]+1, :]\n",
    "csInfo = data['data']['cstation']['info']\n",
    "\n",
    "# Connect EV to Charging Station\n",
    "EV_CS_Info = data['data']['vehicle']['timeInfo']['V2GinCS']"
   ]
  },
  {
   "cell_type": "code",
   "execution_count": 9,
   "id": "75d37e85",
   "metadata": {
    "ExecuteTime": {
     "end_time": "2022-05-10T14:42:03.409573Z",
     "start_time": "2022-05-10T14:42:03.403556Z"
    }
   },
   "outputs": [],
   "source": [
    "# Definir os dados da rede para o GAMS\n",
    "\n",
    "# Linhas\n",
    "branchData = data['data']['network']['branch']\n",
    "\n",
    "# Tensão Máxima\n",
    "voltageMax = data['data']['parameterData']['network']['voltageMax']\n",
    "\n",
    "# Tensão Mínima\n",
    "voltageMin = data['data']['parameterData']['network']['voltageMin']\n",
    "\n",
    "# Angulo Máximo\n",
    "angleMax = data['data']['parameterData']['network']['angleMax']\n",
    "\n",
    "# Angulo Mínimo\n",
    "angleMin = data['data']['parameterData']['network']['angleMin']\n",
    "\n",
    "# Definir a matriz das admitancias\n",
    "ybus = data['data']['parameterData']['network']['ybus']\n",
    "diag = data['data']['parameterData']['network']['diag']\n",
    "branchID = data['data']['parameterData']['network']['branch']"
   ]
  },
  {
   "cell_type": "code",
   "execution_count": 10,
   "id": "ed356aff",
   "metadata": {
    "ExecuteTime": {
     "end_time": "2022-05-10T14:42:05.225506Z",
     "start_time": "2022-05-10T14:42:05.212028Z"
    }
   },
   "outputs": [],
   "source": [
    "#% Anular o custo fixo e quadratico da DG\n",
    "\n",
    "genLimit[:, :, 3] = 0\n",
    "genLimit[:, :, 5] = 0\n",
    "\n",
    "genLimit = np.append(genLimit, np.zeros(shape=(7, 24, 4)), axis=2)\n",
    "\n",
    "# Not necessary anymore\n",
    "#genLimit[:, :, 9] = 0\n",
    "#genLimit[:, :, 11] = 0"
   ]
  },
  {
   "cell_type": "code",
   "execution_count": 11,
   "id": "ce5458fe",
   "metadata": {
    "ExecuteTime": {
     "end_time": "2022-05-10T14:42:06.031718Z",
     "start_time": "2022-05-10T14:42:06.025734Z"
    }
   },
   "outputs": [],
   "source": [
    "#** Define the fixed sets structure to use in the parameters of the gams optimization process\n",
    "\n",
    "NCOLS = 12\n",
    "\n",
    "genLimitInfo = np.arange(1, NCOLS+1)\n",
    "loadLimitInfo = np.arange(1, NCOLS+1)\n",
    "storLimitInfo = np.arange(1, NCOLS+1)\n",
    "v2gLimitInfo = np.arange(1, NCOLS+1)\n",
    "csLimitInfo = np.arange(1, NCOLS+1)"
   ]
  },
  {
   "cell_type": "code",
   "execution_count": 12,
   "id": "45bec04e",
   "metadata": {
    "ExecuteTime": {
     "end_time": "2022-05-10T14:42:07.109882Z",
     "start_time": "2022-05-10T14:42:07.095919Z"
    }
   },
   "outputs": [],
   "source": [
    "# * Define the several sets structure used in the gams optimization process, \n",
    "# these sets depends the number of resources used in matlab code\n",
    "\n",
    "_t = np.arange(period)\n",
    "_gen = np.arange(gen)\n",
    "_Load = np.arange(Load)\n",
    "_stor = np.arange(stor)\n",
    "_v2g = np.arange(v2g)\n",
    "_cs = np.arange(cs)"
   ]
  },
  {
   "cell_type": "code",
   "execution_count": 13,
   "id": "75e43a78",
   "metadata": {
    "ExecuteTime": {
     "end_time": "2022-05-10T14:42:08.141394Z",
     "start_time": "2022-05-10T14:42:08.132418Z"
    }
   },
   "outputs": [],
   "source": [
    "# Aux function to convert numpy into dictionaries\n",
    "\n",
    "def _auxDictionary(a):\n",
    "    temp_dictionary = {}\n",
    "    \n",
    "    if len(a.shape) == 3:\n",
    "        for dim0 in np.arange(a.shape[0]):\n",
    "            for dim1 in np.arange(a.shape[1]):\n",
    "                for dim2 in np.arange(a.shape[2]):\n",
    "                    temp_dictionary[(dim0+1, dim1+1, dim2+1)] = a[dim0, dim1, dim2]\n",
    "    elif len(a.shape) == 2:\n",
    "        for dim0 in np.arange(a.shape[0]):\n",
    "            for dim1 in np.arange(a.shape[1]):\n",
    "                temp_dictionary[(dim0+1, dim1+1)] = a[dim0, dim1]\n",
    "                \n",
    "    else:\n",
    "        for dim0 in np.arange(a.shape[0]):\n",
    "            temp_dictionary[(dim0+1)] = a[dim0]\n",
    "                \n",
    "    return temp_dictionary"
   ]
  },
  {
   "cell_type": "code",
   "execution_count": 14,
   "id": "e5714d07",
   "metadata": {
    "ExecuteTime": {
     "end_time": "2022-05-10T14:42:09.108590Z",
     "start_time": "2022-05-10T14:42:09.102591Z"
    }
   },
   "outputs": [],
   "source": [
    "#positive variables\n",
    "\n",
    "genActPower = np.ones(shape=(len(_gen), len(_t)))\n",
    "genExcActPower = np.ones(shape=(len(_gen), len(_t)))\n",
    "pImp = np.ones(shape=(len(_t)))\n",
    "pExp = np.ones(shape=(len(_t)))"
   ]
  },
  {
   "cell_type": "code",
   "execution_count": 15,
   "id": "e3c4ec71",
   "metadata": {
    "ExecuteTime": {
     "end_time": "2022-05-10T14:42:09.513942Z",
     "start_time": "2022-05-10T14:42:09.505959Z"
    }
   },
   "outputs": [],
   "source": [
    "# # binary variables\n",
    "\n",
    "genXo = np.zeros(shape=(len(_gen), len(_t)))\n",
    "loadXo = np.zeros(shape=(len(_Load), len(_t)))"
   ]
  },
  {
   "cell_type": "code",
   "execution_count": 30,
   "id": "d0981ba0",
   "metadata": {
    "ExecuteTime": {
     "end_time": "2022-05-10T15:05:06.539432Z",
     "start_time": "2022-05-10T15:05:06.532451Z"
    }
   },
   "outputs": [],
   "source": [
    "# Turn and recover vector for encoding\n",
    "\n",
    "def encode(var_dictionary):\n",
    "    result_concat = np.concatenate([var_dictionary[v].ravel() for v in var_dictionary.keys()])\n",
    "    return result_concat\n",
    "\n",
    "\n",
    "def decode(var_vector, var_dictionary):\n",
    "    result_decoded = {}\n",
    "    var_idx = [var_dictionary[v].ravel().shape[0] for v in var_dictionary.keys()]\n",
    "\n",
    "    current_index = 0\n",
    "    dictionary_names = list(var_dictionary.keys())\n",
    "    \n",
    "    for idx in np.arange(len(dictionary_names)):\n",
    "        result_index = current_index + var_idx[idx]\n",
    "        result_decoded[dictionary_names[idx]] = np.reshape(var_vector[current_index:result_index], \n",
    "                                                           var_dictionary[dictionary_names[idx]].shape)\n",
    "        \n",
    "        current_index = result_index\n",
    "        \n",
    "    return result_decoded"
   ]
  },
  {
   "cell_type": "code",
   "execution_count": 27,
   "id": "f0870707",
   "metadata": {
    "ExecuteTime": {
     "end_time": "2022-05-09T16:03:32.373787Z",
     "start_time": "2022-05-09T16:03:32.363813Z"
    }
   },
   "outputs": [],
   "source": [
    "# Import scipy\n",
    "\n",
    "from scipy.optimize import LinearConstraint"
   ]
  },
  {
   "cell_type": "code",
   "execution_count": null,
   "id": "a2695a9a",
   "metadata": {},
   "outputs": [],
   "source": [
    "# Check population constraints\n",
    "\n",
    "def check_t_constraints(t):\n",
    "    if pImp[t] > pMaxImp[t]:\n",
    "        raise Exception('Max import violated')\n",
    "        \n",
    "    if pExp[t] > pMaxExp[t]:\n",
    "        raise Exception('Max export violated')\n",
    "        \n",
    "        \n",
    "def check_gt_constraints(g, t):\n",
    "    if genInfo[g, 4] != 1:\n",
    "        if genActPower[g, t] > genLimit[g, t, 0]:\n",
    "            raise Exception('Maximum generation in generators with normal contract violated')\n",
    "            \n",
    "        if genActPower[g, t] < genInfo[g, 6] * genXo[g, t]:\n",
    "            raise Exception('Minimum generation in generators with normal contract violated')\n",
    "            \n",
    "    if genInfo[g, 4] != 2:\n",
    "        if genActPower[g, t] + genExcActPower[g, t] != genLimit[g, t, 0]:\n",
    "            raise Exception('Generation in generators with Feed-in tariffs violated')"
   ]
  },
  {
   "cell_type": "code",
   "execution_count": 34,
   "id": "09f9fcae",
   "metadata": {
    "ExecuteTime": {
     "end_time": "2022-05-09T16:39:17.273470Z",
     "start_time": "2022-05-09T16:39:17.254522Z"
    }
   },
   "outputs": [],
   "source": [
    "# Gen objective funtion\n",
    "\n",
    "def _objFunSimple():\n",
    "    temp_sum1 = sum([genActPower[g, t] * m.genLimit[g, t, 2] + m.genExcActPower[g, t] * m.genLimit[g, t, 4]\n",
    "                     for t in np.arange(_t[-1]) for g in np.arange(_gen[-1])])\n",
    "    \n",
    "    temp_sum2 = sum([m.pImp[i] * m.buyPrice[i] - m.pExp[i] * m.sellPrice[i] for i in np.arange(_t[-1])])\n",
    "\n",
    "    return temp_sum1 + temp_sum2"
   ]
  },
  {
   "cell_type": "code",
   "execution_count": null,
   "id": "2e0759f4",
   "metadata": {},
   "outputs": [],
   "source": []
  }
 ],
 "metadata": {
  "kernelspec": {
   "display_name": "Python 3 (ipykernel)",
   "language": "python",
   "name": "python3"
  },
  "language_info": {
   "codemirror_mode": {
    "name": "ipython",
    "version": 3
   },
   "file_extension": ".py",
   "mimetype": "text/x-python",
   "name": "python",
   "nbconvert_exporter": "python",
   "pygments_lexer": "ipython3",
   "version": "3.8.10"
  },
  "varInspector": {
   "cols": {
    "lenName": 16,
    "lenType": 16,
    "lenVar": 40
   },
   "kernels_config": {
    "python": {
     "delete_cmd_postfix": "",
     "delete_cmd_prefix": "del ",
     "library": "var_list.py",
     "varRefreshCmd": "print(var_dic_list())"
    },
    "r": {
     "delete_cmd_postfix": ") ",
     "delete_cmd_prefix": "rm(",
     "library": "var_list.r",
     "varRefreshCmd": "cat(var_dic_list()) "
    }
   },
   "types_to_exclude": [
    "module",
    "function",
    "builtin_function_or_method",
    "instance",
    "_Feature"
   ],
   "window_display": false
  }
 },
 "nbformat": 4,
 "nbformat_minor": 5
}
