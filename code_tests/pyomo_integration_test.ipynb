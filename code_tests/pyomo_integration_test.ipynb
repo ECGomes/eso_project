{
 "cells": [
  {
   "cell_type": "code",
   "execution_count": 1,
   "id": "c4316e9b",
   "metadata": {
    "ExecuteTime": {
     "end_time": "2022-04-26T11:16:36.818216Z",
     "start_time": "2022-04-26T11:16:35.818604Z"
    }
   },
   "outputs": [],
   "source": [
    "#  Imports\n",
    "\n",
    "import numpy as np\n",
    "import pandas as pd\n",
    "import matplotlib.pyplot as plt\n",
    "import scipy"
   ]
  },
  {
   "cell_type": "code",
   "execution_count": 2,
   "id": "c4786f8e",
   "metadata": {
    "ExecuteTime": {
     "end_time": "2022-04-26T11:16:36.881184Z",
     "start_time": "2022-04-26T11:16:36.819786Z"
    }
   },
   "outputs": [],
   "source": [
    "# loadmat aux function to load the matlab save files\n",
    "# from: https://stackoverflow.com/review/suggested-edits/21667510\n",
    "\n",
    "import scipy.io as spio\n",
    "\n",
    "def loadmat(filename):\n",
    "    '''\n",
    "    this function should be called instead of direct spio.loadmat\n",
    "    as it cures the problem of not properly recovering python dictionaries\n",
    "    from mat files. It calls the function check keys to cure all entries\n",
    "    which are still mat-objects\n",
    "    '''\n",
    "    def _check_keys(d):\n",
    "        '''\n",
    "        checks if entries in dictionary are mat-objects. If yes\n",
    "        todict is called to change them to nested dictionaries\n",
    "        '''\n",
    "        for key in d:\n",
    "            if isinstance(d[key], spio.matlab.mio5_params.mat_struct):\n",
    "                d[key] = _todict(d[key])\n",
    "        return d\n",
    "\n",
    "    def _has_struct(elem):\n",
    "        \"\"\"Determine if elem is an array and if any array item is a struct\"\"\"\n",
    "        return isinstance(elem, np.ndarray) and any(isinstance(\n",
    "                    e, scipy.io.matlab.mio5_params.mat_struct) for e in elem)\n",
    "\n",
    "    def _todict(matobj):\n",
    "        '''\n",
    "        A recursive function which constructs from matobjects nested dictionaries\n",
    "        '''\n",
    "        d = {}\n",
    "        for strg in matobj._fieldnames:\n",
    "            elem = matobj.__dict__[strg]\n",
    "            if isinstance(elem, spio.matlab.mio5_params.mat_struct):\n",
    "                d[strg] = _todict(elem)\n",
    "            elif _has_struct(elem):\n",
    "                d[strg] = _tolist(elem)\n",
    "            else:\n",
    "                d[strg] = elem\n",
    "        return d\n",
    "\n",
    "    def _tolist(ndarray):\n",
    "        '''\n",
    "        A recursive function which constructs lists from cellarrays\n",
    "        (which are loaded as numpy ndarrays), recursing into the elements\n",
    "        if they contain matobjects.\n",
    "        '''\n",
    "        elem_list = []\n",
    "        for sub_elem in ndarray:\n",
    "            if isinstance(sub_elem, spio.matlab.mio5_params.mat_struct):\n",
    "                elem_list.append(_todict(sub_elem))\n",
    "            elif _has_struct(sub_elem):\n",
    "                elem_list.append(_tolist(sub_elem))\n",
    "            else:\n",
    "                elem_list.append(sub_elem)\n",
    "        return elem_list\n",
    "    data = scipy.io.loadmat(filename, struct_as_record=False, squeeze_me=True)\n",
    "    return _check_keys(data)"
   ]
  },
  {
   "cell_type": "code",
   "execution_count": 3,
   "id": "c7b09d40",
   "metadata": {
    "ExecuteTime": {
     "end_time": "2022-04-26T11:16:36.897140Z",
     "start_time": "2022-04-26T11:16:36.882156Z"
    }
   },
   "outputs": [
    {
     "name": "stderr",
     "output_type": "stream",
     "text": [
      "C:\\Users\\camar\\AppData\\Local\\Temp\\ipykernel_10032\\3560610281.py:19: DeprecationWarning: Please use `mat_struct` from the `scipy.io.matlab` namespace, the `scipy.io.matlab.mio5_params` namespace is deprecated.\n",
      "  if isinstance(d[key], spio.matlab.mio5_params.mat_struct):\n",
      "C:\\Users\\camar\\AppData\\Local\\Temp\\ipykernel_10032\\3560610281.py:35: DeprecationWarning: Please use `mat_struct` from the `scipy.io.matlab` namespace, the `scipy.io.matlab.mio5_params` namespace is deprecated.\n",
      "  if isinstance(elem, spio.matlab.mio5_params.mat_struct):\n",
      "C:\\Users\\camar\\AppData\\Local\\Temp\\ipykernel_10032\\3560610281.py:26: DeprecationWarning: Please use `mat_struct` from the `scipy.io.matlab` namespace, the `scipy.io.matlab.mio5_params` namespace is deprecated.\n",
      "  e, scipy.io.matlab.mio5_params.mat_struct) for e in elem)\n"
     ]
    }
   ],
   "source": [
    "# Matlab code conversion\n",
    "\n",
    "# Read matlab file instead of excelfile (easier conversion)\n",
    "data = loadmat('matlab.mat')"
   ]
  },
  {
   "cell_type": "code",
   "execution_count": 4,
   "id": "1159909e",
   "metadata": {
    "ExecuteTime": {
     "end_time": "2022-04-26T11:16:36.913067Z",
     "start_time": "2022-04-26T11:16:36.899103Z"
    }
   },
   "outputs": [],
   "source": [
    "# Linearize the generator prices\n",
    "\n",
    "# genCofA=data.generator.limit(:,:,6); -> MATLAB starts with 1, so we need the index -1\n",
    "# genCofB=data.generator.limit(:,:,7);\n",
    "# genCofC=data.generator.limit(:,:,8);\n",
    "\n",
    "genCofA = data['data']['generator']['limit'][:, :, 5]\n",
    "genCofB = data['data']['generator']['limit'][:, :, 6]\n",
    "genCofC = data['data']['generator']['limit'][:, :, 7]"
   ]
  },
  {
   "cell_type": "code",
   "execution_count": 5,
   "id": "a9fc1cb6",
   "metadata": {
    "ExecuteTime": {
     "end_time": "2022-04-26T11:16:36.928233Z",
     "start_time": "2022-04-26T11:16:36.915095Z"
    }
   },
   "outputs": [],
   "source": [
    "# Options for simulation\n",
    "\n",
    "#options \n",
    "iterlim = 1000000000\n",
    "reslim = 5000000000"
   ]
  },
  {
   "cell_type": "code",
   "execution_count": 6,
   "id": "2ab9a921",
   "metadata": {
    "ExecuteTime": {
     "end_time": "2022-04-26T11:16:36.944067Z",
     "start_time": "2022-04-26T11:16:36.929233Z"
    }
   },
   "outputs": [],
   "source": [
    "# Definir o numero de resources usados\n",
    "\n",
    "numGen = np.arange(1, data['data']['parameterData']['resources']['numGen'] + 1)\n",
    "numLoad = np.arange(1, data['data']['parameterData']['resources']['numLoad'] + 1)\n",
    "numStor = np.arange(1, data['data']['parameterData']['resources']['numStor'] + 1)\n",
    "numV2G = np.arange(1, data['data']['parameterData']['resources']['numV2G'] + 1)\n",
    "numCStat = np.arange(1, data['data']['parameterData']['resources']['numCStat'] + 1)\n",
    "numPeriod = np.arange(1, data['data']['parameterData']['resources']['period'] + 1)\n",
    "numBus = np.arange(1) # forced to 1\n",
    "nOwner = np.arange(1, data['data']['parameterData']['resources']['owners'] + 1)"
   ]
  },
  {
   "cell_type": "code",
   "execution_count": 7,
   "id": "c18ac201",
   "metadata": {
    "ExecuteTime": {
     "end_time": "2022-04-26T11:16:36.959631Z",
     "start_time": "2022-04-26T11:16:36.944908Z"
    }
   },
   "outputs": [],
   "source": [
    "# Define as strings com os recursos para mandar para GAMS\n",
    "\n",
    "gen = np.max(numGen)\n",
    "Load = np.max(numLoad)\n",
    "stor = np.max(numStor)\n",
    "v2g = np.max(numV2G)\n",
    "cs = np.max(numCStat)\n",
    "period = np.max(numPeriod)\n",
    "Bus = np.max(numBus)"
   ]
  },
  {
   "cell_type": "code",
   "execution_count": 8,
   "id": "1b2096dc",
   "metadata": {
    "ExecuteTime": {
     "end_time": "2022-04-26T11:16:36.975266Z",
     "start_time": "2022-04-26T11:16:36.960602Z"
    }
   },
   "outputs": [],
   "source": [
    "#% Definir as matrizes com os dados para o GAMS\n",
    "\n",
    "# General Info\n",
    "pMaxImp = data['data']['parameterData']['generalInfo']['P_Max_Imp']\n",
    "pMaxExp = data['data']['parameterData']['generalInfo']['P_Max_Exp']\n",
    "buyPrice = data['data']['parameterData']['generalInfo']['Energy_Buy_Price']\n",
    "sellPrice = data['data']['parameterData']['generalInfo']['Energy_Sell_Price']\n",
    "\n",
    "# Geradores\n",
    "genLimit = data['data']['generator']['limit'][numGen[0]-1:numGen[-1]+1, numPeriod[0]-1:numPeriod[-1]+1, :]\n",
    "genInfo = data['data']['generator']['info']\n",
    "\n",
    "# Cargas\n",
    "loadLimit = data['data']['load']['limit'][numLoad[0]-1:numLoad[-1]+1, numPeriod[0]-1:numPeriod[-1]+1, :]\n",
    "\n",
    "# Baterias\n",
    "storLimit = data['data']['storage']['limit'][numStor[0]-1:numStor[-1]+1, numPeriod[0]-1:numPeriod[-1]+1, :]\n",
    "storInfo = data['data']['storage']['info']\n",
    "\n",
    "# Veiculos\n",
    "v2gLimit = data['data']['vehicle']['limit']\n",
    "v2gInfo = data['data']['vehicle']['info']\n",
    "\n",
    "# Charging Station\n",
    "csLimit = data['data']['cstation']['limit'][numCStat[0]-1:numCStat[-1]+1, numPeriod[0]-1:numPeriod[-1]+1, :]\n",
    "csInfo = data['data']['cstation']['info']\n",
    "\n",
    "# Connect EV to Charging Station\n",
    "EV_CS_Info = data['data']['vehicle']['timeInfo']['V2GinCS']"
   ]
  },
  {
   "cell_type": "code",
   "execution_count": 9,
   "id": "319a4ddb",
   "metadata": {
    "ExecuteTime": {
     "end_time": "2022-04-26T11:16:36.991058Z",
     "start_time": "2022-04-26T11:16:36.975976Z"
    }
   },
   "outputs": [],
   "source": [
    "# Definir os dados da rede para o GAMS\n",
    "\n",
    "# Linhas\n",
    "branchData = data['data']['network']['branch']\n",
    "\n",
    "# Tensão Máxima\n",
    "voltageMax = data['data']['parameterData']['network']['voltageMax']\n",
    "\n",
    "# Tensão Mínima\n",
    "voltageMin = data['data']['parameterData']['network']['voltageMin']\n",
    "\n",
    "# Angulo Máximo\n",
    "angleMax = data['data']['parameterData']['network']['angleMax']\n",
    "\n",
    "# Angulo Mínimo\n",
    "angleMin = data['data']['parameterData']['network']['angleMin']\n",
    "\n",
    "# Definir a matriz das admitancias\n",
    "ybus = data['data']['parameterData']['network']['ybus']\n",
    "diag = data['data']['parameterData']['network']['diag']\n",
    "branchID = data['data']['parameterData']['network']['branch']"
   ]
  },
  {
   "cell_type": "code",
   "execution_count": 10,
   "id": "6348f31c",
   "metadata": {
    "ExecuteTime": {
     "end_time": "2022-04-26T11:16:37.006530Z",
     "start_time": "2022-04-26T11:16:36.993076Z"
    }
   },
   "outputs": [],
   "source": [
    "#% Anular o custo fixo e quadratico da DG\n",
    "\n",
    "genLimit[:, :, 3] = 0\n",
    "genLimit[:, :, 5] = 0\n",
    "\n",
    "genLimit = np.append(genLimit, np.zeros(shape=(7, 24, 4)), axis=2)\n",
    "\n",
    "# Not necessary anymore\n",
    "#genLimit[:, :, 9] = 0\n",
    "#genLimit[:, :, 11] = 0"
   ]
  },
  {
   "cell_type": "code",
   "execution_count": 11,
   "id": "665f79db",
   "metadata": {
    "ExecuteTime": {
     "end_time": "2022-04-26T11:16:37.021911Z",
     "start_time": "2022-04-26T11:16:37.008184Z"
    }
   },
   "outputs": [],
   "source": [
    "# TODO -> AFTER GAM FILE CONVERSION\n",
    "\n",
    "def runSolver(file, loadLimit, genLimit, genInfo, gen, Load, period, stor, storLimit, storInfo,\n",
    "              pMaxImp, pMaxExp, buyPrice, sellPrice, v2gLimit, v2gInfo, v2g,\n",
    "              cs, cslimit, csInfo, EV_CS_Info):\n",
    "    \n",
    "    \n",
    "    temp_output = [resFun, resCost, resSelf, statusOptPro, \n",
    "                   resPImp, resPExp, resGenAct, resGenExcAct,resGenX, \n",
    "                   resLoadRed, resLoadCut, \n",
    "                   resLoadENS, resLoadX, resLoad, resStorEnerState, resStorChActPower, resStorDchActPower,\n",
    "                   resv2gEnerState, resv2gDchActPower, resv2gChActPower, resv2gRelax, resCsPower]\n",
    "    \n",
    "    return temp_output"
   ]
  },
  {
   "cell_type": "code",
   "execution_count": 12,
   "id": "949dd6e4",
   "metadata": {
    "ExecuteTime": {
     "end_time": "2022-04-26T11:16:37.037696Z",
     "start_time": "2022-04-26T11:16:37.022918Z"
    }
   },
   "outputs": [],
   "source": [
    "#** Define the fixed sets structure to use in the parameters of the gams optimization process\n",
    "#set genLimitInfo 'Indicate the number of columns of information from generators'\n",
    "#/1, 2, 3, 4, 5, 6, 7, 8, 9, 10, 11, 12/;\n",
    "\n",
    "#set loadLimitInfo 'Indicate the number of columns of information from loads'\n",
    "#/1, 2, 3, 4, 5, 6, 7, 8, 9, 10, 11, 12/;\n",
    "\n",
    "#set storLimitInfo 'Indicate the number of columns of information from storage units'\n",
    "#/1, 2, 3, 4, 5, 6, 7, 8, 9, 10, 11, 12/;\n",
    "\n",
    "#set v2gLimitInfo 'Indicate the number of columns of information from electric vehicles'\n",
    "#/1, 2, 3, 4, 5, 6, 7, 8, 9, 10, 11, 12/;\n",
    "\n",
    "#set csLimitInfo 'Indicate the number of columns of information from charging stations'\n",
    "#/1, 2, 3, 4, 5, 6, 7, 8, 9, 10, 11, 12/;\n",
    "\n",
    "NCOLS = 12\n",
    "\n",
    "genLimitInfo = np.arange(1, NCOLS+1)\n",
    "loadLimitInfo = np.arange(1, NCOLS+1)\n",
    "storLimitInfo = np.arange(1, NCOLS+1)\n",
    "v2gLimitInfo = np.arange(1, NCOLS+1)\n",
    "csLimitInfo = np.arange(1, NCOLS+1)\n",
    "\n",
    "#genLimitInfo = np.arange(1, genLimit.shape[2]+1)\n",
    "#loadLimitInfo = np.arange(1, loadLimit.shape[2]+1)\n",
    "#storLimitInfo = np.arange(1, storLimit.shape[2]+1)\n",
    "#v2gLimitInfo = np.arange(1, v2gLimit.shape[2]+1)\n",
    "#csLimitInfo = np.arange(1, csLimit.shape[0]+1)"
   ]
  },
  {
   "cell_type": "code",
   "execution_count": 13,
   "id": "0a775110",
   "metadata": {
    "ExecuteTime": {
     "end_time": "2022-04-26T11:16:37.052810Z",
     "start_time": "2022-04-26T11:16:37.038733Z"
    }
   },
   "outputs": [],
   "source": [
    "# * Define the several sets structure used in the gams optimization process, \n",
    "# these sets depends the number of resources used in matlab code\n",
    "\n",
    "_t = np.arange(1, period+1)\n",
    "_gen = np.arange(1, gen+1)\n",
    "_Load = np.arange(1, Load+1)\n",
    "_stor = np.arange(1, stor+1)\n",
    "_v2g = np.arange(1, v2g+1)\n",
    "_cs = np.arange(1, cs+1)"
   ]
  },
  {
   "cell_type": "code",
   "execution_count": 14,
   "id": "2b250d41",
   "metadata": {
    "ExecuteTime": {
     "end_time": "2022-04-26T11:16:37.068783Z",
     "start_time": "2022-04-26T11:16:37.053882Z"
    }
   },
   "outputs": [],
   "source": [
    "# Aux function to convert numpy into dictionaries\n",
    "\n",
    "def _auxDictionary(a):\n",
    "    temp_dictionary = {}\n",
    "    \n",
    "    if len(a.shape) == 3:\n",
    "        for dim0 in np.arange(a.shape[0]):\n",
    "            for dim1 in np.arange(a.shape[1]):\n",
    "                for dim2 in np.arange(a.shape[2]):\n",
    "                    temp_dictionary[(dim0+1, dim1+1, dim2+1)] = a[dim0, dim1, dim2]\n",
    "    elif len(a.shape) == 2:\n",
    "        for dim0 in np.arange(a.shape[0]):\n",
    "            for dim1 in np.arange(a.shape[1]):\n",
    "                temp_dictionary[(dim0+1, dim1+1)] = a[dim0, dim1]\n",
    "                \n",
    "    else:\n",
    "        for dim0 in np.arange(a.shape[0]):\n",
    "            temp_dictionary[(dim0+1)] = a[dim0]\n",
    "                \n",
    "    return temp_dictionary\n",
    "\n",
    "#temp_dict1 = _auxDictionary(loadLimit)"
   ]
  },
  {
   "cell_type": "code",
   "execution_count": 15,
   "id": "14119631",
   "metadata": {
    "ExecuteTime": {
     "end_time": "2022-04-26T11:16:37.399423Z",
     "start_time": "2022-04-26T11:16:37.069782Z"
    }
   },
   "outputs": [],
   "source": [
    "# Pyomo imports\n",
    "\n",
    "import pyomo\n",
    "import pyomo.opt\n",
    "import pyomo.environ as pe"
   ]
  },
  {
   "cell_type": "code",
   "execution_count": 16,
   "id": "8bf4c0b1",
   "metadata": {
    "ExecuteTime": {
     "end_time": "2022-04-26T11:16:37.415418Z",
     "start_time": "2022-04-26T11:16:37.400425Z"
    }
   },
   "outputs": [],
   "source": [
    "# Model creation\n",
    "\n",
    "model = pe.ConcreteModel()\n",
    "\n",
    "model.genLimitInfo = pe.Set(initialize=genLimitInfo, \n",
    "                            doc='Indicate the number of columns of information from generators')\n",
    "model.loadLimitInfo = pe.Set(initialize=loadLimitInfo, \n",
    "                             doc='Indicate the number of columns of information from loads')\n",
    "model.storLimitInfo = pe.Set(initialize=storLimitInfo, \n",
    "                             doc='Indicate the number of columns of information from storage units')\n",
    "model.v2gLimitInfo = pe.Set(initialize=v2gLimitInfo, \n",
    "                            doc='Indicate the number of columns of information from electric vehicles')\n",
    "model.csLimitInfo = pe.Set(initialize=csLimitInfo, \n",
    "                           doc='Indicate the number of columns of information from charging stations')\n",
    "\n",
    "# Sets\n",
    "model.t = pe.Set(initialize=_t, doc='period')\n",
    "model.gen = pe.Set(initialize=_gen, doc='generators')\n",
    "model.loads = pe.Set(initialize=_Load, doc='loads')\n",
    "model.stor = pe.Set(initialize=_stor, doc='storage')\n",
    "model.v2g = pe.Set(initialize=_v2g, doc='vehicles')\n",
    "model.cs = pe.Set(initialize=_cs, doc='charging_stations')"
   ]
  },
  {
   "cell_type": "code",
   "execution_count": 17,
   "id": "ed9f7e4b",
   "metadata": {
    "ExecuteTime": {
     "end_time": "2022-04-26T11:16:37.478690Z",
     "start_time": "2022-04-26T11:16:37.416416Z"
    }
   },
   "outputs": [],
   "source": [
    "# Define the parameters with the data from the excel, such as limits, price, and voltage\n",
    "\n",
    "model.loadLimit = pe.Param(model.loads, model.t, model.loadLimitInfo, \n",
    "                           initialize=_auxDictionary(loadLimit))\n",
    "\n",
    "model.genLimit = pe.Param(model.gen, model.t, model.genLimitInfo,\n",
    "                          initialize=_auxDictionary(genLimit))\n",
    "\n",
    "model.genInfo = pe.Param(model.gen, model.genLimitInfo,\n",
    "                         initialize=_auxDictionary(genInfo))\n",
    "\n",
    "model.pMaxImp = pe.Param(model.t,\n",
    "                         initialize=_auxDictionary(pMaxImp))\n",
    "\n",
    "model.buyPrice = pe.Param(model.t,\n",
    "                          initialize=_auxDictionary(buyPrice))\n",
    "\n",
    "model.pMaxExp = pe.Param(model.t,\n",
    "                         initialize=_auxDictionary(pMaxExp))\n",
    "\n",
    "model.sellPrice = pe.Param(model.t,\n",
    "                           initialize=_auxDictionary(sellPrice))\n",
    "\n",
    "model.storLimit = pe.Param(model.stor, model.t, model.storLimitInfo,\n",
    "                           initialize=_auxDictionary(storLimit))\n",
    "\n",
    "model.v2gLimit = pe.Param(model.v2g, model.t, model.v2gLimitInfo,\n",
    "                          initialize=_auxDictionary(v2gLimit))\n",
    "\n",
    "model.v2gInfo = pe.Param(model.v2g, model.v2gLimitInfo,\n",
    "                         initialize=_auxDictionary(v2gInfo))\n",
    "\n",
    "model.csLimit = pe.Param(model.cs, model.t, model.csLimitInfo,\n",
    "                         initialize=_auxDictionary(csLimit))\n",
    "\n",
    "model.csInfo = pe.Param(model.cs, model.csLimitInfo,\n",
    "                        initialize=_auxDictionary(csInfo))\n",
    "\n",
    "model.EV_CS_Info = pe.Param(model.v2g, model.cs, model.t,\n",
    "                            initialize=_auxDictionary(EV_CS_Info))\n",
    "\n",
    "model.loadActPower = pe.Param(model.loads, model.t,\n",
    "                              initialize=_auxDictionary(loadLimit[:, :, 0]))\n",
    "model.optCost = pe.Param(initialize=0)"
   ]
  },
  {
   "cell_type": "code",
   "execution_count": 18,
   "id": "2fff3184",
   "metadata": {
    "ExecuteTime": {
     "end_time": "2022-04-26T11:16:37.494426Z",
     "start_time": "2022-04-26T11:16:37.479999Z"
    }
   },
   "outputs": [],
   "source": [
    "# Define the variables for the gams optimization process\n",
    "# variables fun, derCost, selfConso;\n",
    "\n",
    "model.fun = pe.Var(domain=pe.Reals, initialize=0)\n",
    "model.derCost = pe.Var(domain=pe.Reals, initialize=0)\n",
    "model.selfConso = pe.Var(domain=pe.Reals, initialize=0)"
   ]
  },
  {
   "cell_type": "code",
   "execution_count": 19,
   "id": "9da83201",
   "metadata": {
    "ExecuteTime": {
     "end_time": "2022-04-26T11:16:37.509614Z",
     "start_time": "2022-04-26T11:16:37.495374Z"
    }
   },
   "outputs": [],
   "source": [
    "#positive variables\n",
    "\n",
    "model.genActPower = pe.Var(model.gen, model.t, domain=pe.PositiveReals, initialize=1)\n",
    "model.genExcActPower = pe.Var(model.gen, model.t, domain=pe.PositiveReals, initialize=1)\n",
    "model.pImp = pe.Var(model.t, domain=pe.PositiveReals, initialize=1)\n",
    "model.pExp = pe.Var(model.t, domain=pe.PositiveReals, initialize=1)"
   ]
  },
  {
   "cell_type": "code",
   "execution_count": 20,
   "id": "d901624a",
   "metadata": {
    "ExecuteTime": {
     "end_time": "2022-04-26T11:16:37.524658Z",
     "start_time": "2022-04-26T11:16:37.510567Z"
    }
   },
   "outputs": [],
   "source": [
    "# Load variables\n",
    "model.loadRedActPower = pe.Var(model.loads, model.t, domain=pe.PositiveReals, initialize=1)\n",
    "model.loadCutActPower = pe.Var(model.loads, model.t, domain=pe.PositiveReals, initialize=1)\n",
    "model.loadENS = pe.Var(model.loads, model.t, domain=pe.PositiveReals, initialize=1)"
   ]
  },
  {
   "cell_type": "code",
   "execution_count": 21,
   "id": "9a1e9090",
   "metadata": {
    "ExecuteTime": {
     "end_time": "2022-04-26T11:16:37.539925Z",
     "start_time": "2022-04-26T11:16:37.525658Z"
    }
   },
   "outputs": [],
   "source": [
    "# Energy Storage Variables\n",
    "\n",
    "model.storEnerState = pe.Var(model.stor, model.t, domain=pe.PositiveReals, initialize=1)\n",
    "model.storDchActPower = pe.Var(model.stor, model.t, domain=pe.PositiveReals, initialize=1)\n",
    "model.storChActPower = pe.Var(model.stor, model.t, domain=pe.PositiveReals, initialize=1)\n",
    "model.EminRelaxStor = pe.Var(model.stor, model.t, domain=pe.PositiveReals, initialize=1)"
   ]
  },
  {
   "cell_type": "markdown",
   "id": "41676087",
   "metadata": {},
   "source": [
    "model.v2gDchActPower = pe.Var(model.v2g, model.t, domain=pe.PositiveReals, initialize=1)\n",
    "model.v2gChActPower = pe.Var(model.v2g, model.t, domain=pe.PositiveReals, initialize=1)\n",
    "model.v2gEnerState = pe.Var(model.v2g, model.t, domain=pe.PositiveReals, initialize=1)\n",
    "model.EminRelaxEv = pe.Var(model.v2g, model.t, domain=pe.PositiveReals, initialize=1)\n",
    "model.csActPower = pe.Var(model.cs, model.t, domain=pe.PositiveReals, initialize=1)\n",
    "model.csActPowerNet = pe.Var(model.cs, model.t, domain=pe.PositiveReals, initialize=1)"
   ]
  },
  {
   "cell_type": "code",
   "execution_count": 22,
   "id": "5e4339fc",
   "metadata": {
    "ExecuteTime": {
     "end_time": "2022-04-26T11:16:37.555449Z",
     "start_time": "2022-04-26T11:16:37.540965Z"
    }
   },
   "outputs": [],
   "source": [
    "# binary variables\n",
    "\n",
    "model.genXo = pe.Var(model.gen, model.t, domain=pe.Binary, initialize=0)\n",
    "model.loadXo = pe.Var(model.loads, model.t, domain=pe.Binary, initialize=0)\n",
    "\n",
    "model.storChXo = pe.Var(model.stor, model.t, domain=pe.Binary, initialize=0)\n",
    "model.storDchXo = pe.Var(model.stor, model.t, domain=pe.Binary, initialize=0)"
   ]
  },
  {
   "cell_type": "markdown",
   "id": "071fee1e",
   "metadata": {},
   "source": [
    "model.v2gChXo = pe.Var(model.v2g, model.t, domain=pe.Binary, initialize=0)\n",
    "model.v2gDchXo = pe.Var(model.v2g, model.t, domain=pe.Binary, initialize=0)"
   ]
  },
  {
   "cell_type": "code",
   "execution_count": 23,
   "id": "6c02a665",
   "metadata": {
    "ExecuteTime": {
     "end_time": "2022-04-26T11:16:37.571167Z",
     "start_time": "2022-04-26T11:16:37.556228Z"
    }
   },
   "outputs": [],
   "source": [
    "# Default behaviour\n",
    "\n",
    "default_behaviour = pe.Constraint.Skip"
   ]
  },
  {
   "cell_type": "code",
   "execution_count": 24,
   "id": "fded35d7",
   "metadata": {
    "ExecuteTime": {
     "end_time": "2022-04-26T11:16:37.586971Z",
     "start_time": "2022-04-26T11:16:37.572202Z"
    }
   },
   "outputs": [],
   "source": [
    "# Network constraints\n",
    "\n",
    "def _maxImpEq(m, s):\n",
    "    return m.pImp[s] <= m.pMaxImp[s] \n",
    "    #return m.pImp[s] <= 50000000\n",
    "\n",
    "model.MaxImpEq = pe.Constraint(model.t, rule=_maxImpEq)\n",
    "\n",
    "def _maxExpEq(m, s):\n",
    "    return m.pExp[s] <= m.pMaxExp[s]\n",
    "\n",
    "model.MaxExpEq = pe.Constraint(model.t, rule=_maxExpEq)"
   ]
  },
  {
   "cell_type": "code",
   "execution_count": 25,
   "id": "4afadd39",
   "metadata": {
    "ExecuteTime": {
     "end_time": "2022-04-26T11:16:37.602747Z",
     "start_time": "2022-04-26T11:16:37.587783Z"
    }
   },
   "outputs": [],
   "source": [
    "# Generator constraints with the active generation power\n",
    "\n",
    "# Maximum generation in generators with normal contract\n",
    "def _genActMaxEq1(m, g, t):\n",
    "    if m.genInfo[g, 5] != 1:\n",
    "        return (m.genActPower[g, t] <= m.genLimit[g, t, 1])\n",
    "    return default_behaviour\n",
    "    \n",
    "model.genActMaxEq1 = pe.Constraint(model.gen, model.t, rule=_genActMaxEq1)\n",
    "\n",
    "# Minimum generation in generators with normal contract\n",
    "def _genActMinEq(m, g, t):\n",
    "    if m.genInfo[g, 5] != 1:\n",
    "        return (m.genActPower[g, t] >= m.genInfo[g, 7] * m.genXo[g, t])\n",
    "    return default_behaviour\n",
    "    \n",
    "model.genActMinEq = pe.Constraint(model.gen, model.t, rule=_genActMinEq)\n",
    "\n",
    "# Generation in generators with Feed-in tariffs\n",
    "def _genActMaxEq2(m, g, t):\n",
    "    if m.genInfo[g, 5] != 2:\n",
    "        return (m.genActPower[g ,t] + m.genExcActPower[g, t] == m.genLimit[g, t, 1])\n",
    "    return default_behaviour\n",
    "    \n",
    "model.genActMaxEq2 = pe.Constraint(model.gen, model.t, rule=_genActMaxEq2)"
   ]
  },
  {
   "cell_type": "code",
   "execution_count": 26,
   "id": "f75adaae",
   "metadata": {
    "ExecuteTime": {
     "end_time": "2022-04-26T11:16:37.633990Z",
     "start_time": "2022-04-26T11:16:37.603399Z"
    },
    "code_folding": []
   },
   "outputs": [],
   "source": [
    "# Load constraints\n",
    "\n",
    "# Load reduction constraint\n",
    "def _loadReactEq(m, l, t):\n",
    "    return m.loadRedActPower[l, t] <= m.loadLimit[l, t, 3]\n",
    "\n",
    "model.loadReactEq = pe.Constraint(model.loads, model.t, rule=_loadReactEq)\n",
    "\n",
    "\n",
    "# Load curtailment constraint\n",
    "def _loadCutActPowerEq(m, l, t):\n",
    "    return m.loadCutActPower[l, t] == m.loadLimit[l, t, 4] * m.loadXo[l, t]\n",
    "\n",
    "model.loadCutActPowerEq = pe.Constraint(model.loads, model.t, rule=_loadCutActPowerEq)\n",
    "\n",
    "\n",
    "# Non supplied energy constraint\n",
    "def _loadENSEq(m, l, t):\n",
    "    return m.loadENS[l, t] + m.loadRedActPower[l, t] + m.loadCutActPower[l, t] <= m.loadActPower[l, t]\n",
    "\n",
    "model.loadENSEq = pe.Constraint(model.loads, model.t, rule=_loadENSEq)"
   ]
  },
  {
   "cell_type": "code",
   "execution_count": 27,
   "id": "bf89f18c",
   "metadata": {
    "ExecuteTime": {
     "end_time": "2022-04-26T11:16:38.503698Z",
     "start_time": "2022-04-26T11:16:37.634992Z"
    }
   },
   "outputs": [
    {
     "name": "stdout",
     "output_type": "stream",
     "text": [
      "ERROR: Rule failed when generating expression for Constraint storMaxEq with\n",
      "    index (1, 1): AttributeError: 'ConcreteModel' object has no attribute\n",
      "    'storInfo'\n",
      "ERROR: Constructing component 'storMaxEq' from data=None failed:\n",
      "    AttributeError: 'ConcreteModel' object has no attribute 'storInfo'\n"
     ]
    },
    {
     "ename": "AttributeError",
     "evalue": "'ConcreteModel' object has no attribute 'storInfo'",
     "output_type": "error",
     "traceback": [
      "\u001b[1;31m---------------------------------------------------------------------------\u001b[0m",
      "\u001b[1;31mAttributeError\u001b[0m                            Traceback (most recent call last)",
      "Input \u001b[1;32mIn [27]\u001b[0m, in \u001b[0;36m<cell line: 18>\u001b[1;34m()\u001b[0m\n\u001b[0;32m     16\u001b[0m \u001b[38;5;28;01mdef\u001b[39;00m \u001b[38;5;21m_storMaxEq\u001b[39m(m, s, t):\n\u001b[0;32m     17\u001b[0m     \u001b[38;5;28;01mreturn\u001b[39;00m m\u001b[38;5;241m.\u001b[39mstorEnerState[s, t] \u001b[38;5;241m<\u001b[39m\u001b[38;5;241m=\u001b[39m m\u001b[38;5;241m.\u001b[39mstorInfo[s, \u001b[38;5;241m6\u001b[39m]\n\u001b[1;32m---> 18\u001b[0m model\u001b[38;5;241m.\u001b[39mstorMaxEq \u001b[38;5;241m=\u001b[39m pe\u001b[38;5;241m.\u001b[39mConstraint(model\u001b[38;5;241m.\u001b[39mstor, model\u001b[38;5;241m.\u001b[39mt, rule\u001b[38;5;241m=\u001b[39m_storMaxEq)\n\u001b[0;32m     21\u001b[0m \u001b[38;5;28;01mdef\u001b[39;00m \u001b[38;5;21m_storRelaxEq\u001b[39m(m, s, t):\n\u001b[0;32m     22\u001b[0m     \u001b[38;5;28;01mreturn\u001b[39;00m m\u001b[38;5;241m.\u001b[39mstorEnerState[s, t] \u001b[38;5;241m>\u001b[39m\u001b[38;5;241m=\u001b[39m m\u001b[38;5;241m.\u001b[39mstorInfo[s, \u001b[38;5;241m7\u001b[39m] \u001b[38;5;241m*\u001b[39m m\u001b[38;5;241m.\u001b[39mstorInfo[s, \u001b[38;5;241m6\u001b[39m]\u001b[38;5;241m/\u001b[39m\u001b[38;5;241m100\u001b[39m \u001b[38;5;241m-\u001b[39m m\u001b[38;5;241m.\u001b[39mEminRelaxStor[s, t]\n",
      "File \u001b[1;32mc:\\users\\camar\\documents\\jupyter\\pythonenvs\\eso_project\\lib\\site-packages\\pyomo\\core\\base\\block.py:542\u001b[0m, in \u001b[0;36m_BlockData.__setattr__\u001b[1;34m(self, name, val)\u001b[0m\n\u001b[0;32m    537\u001b[0m \u001b[38;5;28;01mif\u001b[39;00m name \u001b[38;5;129;01mnot\u001b[39;00m \u001b[38;5;129;01min\u001b[39;00m \u001b[38;5;28mself\u001b[39m\u001b[38;5;241m.\u001b[39m\u001b[38;5;18m__dict__\u001b[39m:\n\u001b[0;32m    538\u001b[0m     \u001b[38;5;28;01mif\u001b[39;00m \u001b[38;5;28misinstance\u001b[39m(val, Component):\n\u001b[0;32m    539\u001b[0m         \u001b[38;5;66;03m#\u001b[39;00m\n\u001b[0;32m    540\u001b[0m         \u001b[38;5;66;03m# Pyomo components are added with the add_component method.\u001b[39;00m\n\u001b[0;32m    541\u001b[0m         \u001b[38;5;66;03m#\u001b[39;00m\n\u001b[1;32m--> 542\u001b[0m         \u001b[38;5;28;43mself\u001b[39;49m\u001b[38;5;241;43m.\u001b[39;49m\u001b[43madd_component\u001b[49m\u001b[43m(\u001b[49m\u001b[43mname\u001b[49m\u001b[43m,\u001b[49m\u001b[43m \u001b[49m\u001b[43mval\u001b[49m\u001b[43m)\u001b[49m\n\u001b[0;32m    543\u001b[0m     \u001b[38;5;28;01melse\u001b[39;00m:\n\u001b[0;32m    544\u001b[0m         \u001b[38;5;66;03m#\u001b[39;00m\n\u001b[0;32m    545\u001b[0m         \u001b[38;5;66;03m# Other Python objects are added with the standard __setattr__\u001b[39;00m\n\u001b[0;32m    546\u001b[0m         \u001b[38;5;66;03m# method.\u001b[39;00m\n\u001b[0;32m    547\u001b[0m         \u001b[38;5;66;03m#\u001b[39;00m\n\u001b[0;32m    548\u001b[0m         \u001b[38;5;28msuper\u001b[39m(_BlockData, \u001b[38;5;28mself\u001b[39m)\u001b[38;5;241m.\u001b[39m\u001b[38;5;21m__setattr__\u001b[39m(name, val)\n",
      "File \u001b[1;32mc:\\users\\camar\\documents\\jupyter\\pythonenvs\\eso_project\\lib\\site-packages\\pyomo\\core\\base\\block.py:1087\u001b[0m, in \u001b[0;36m_BlockData.add_component\u001b[1;34m(self, name, val)\u001b[0m\n\u001b[0;32m   1083\u001b[0m     logger\u001b[38;5;241m.\u001b[39mdebug(\u001b[38;5;124m\"\u001b[39m\u001b[38;5;124mConstructing \u001b[39m\u001b[38;5;132;01m%s\u001b[39;00m\u001b[38;5;124m \u001b[39m\u001b[38;5;124m'\u001b[39m\u001b[38;5;132;01m%s\u001b[39;00m\u001b[38;5;124m'\u001b[39m\u001b[38;5;124m on \u001b[39m\u001b[38;5;132;01m%s\u001b[39;00m\u001b[38;5;124m from data=\u001b[39m\u001b[38;5;132;01m%s\u001b[39;00m\u001b[38;5;124m\"\u001b[39m,\n\u001b[0;32m   1084\u001b[0m                  val\u001b[38;5;241m.\u001b[39m\u001b[38;5;18m__class__\u001b[39m\u001b[38;5;241m.\u001b[39m\u001b[38;5;18m__name__\u001b[39m, name,\n\u001b[0;32m   1085\u001b[0m                  _blockName, \u001b[38;5;28mstr\u001b[39m(data))\n\u001b[0;32m   1086\u001b[0m \u001b[38;5;28;01mtry\u001b[39;00m:\n\u001b[1;32m-> 1087\u001b[0m     \u001b[43mval\u001b[49m\u001b[38;5;241;43m.\u001b[39;49m\u001b[43mconstruct\u001b[49m\u001b[43m(\u001b[49m\u001b[43mdata\u001b[49m\u001b[43m)\u001b[49m\n\u001b[0;32m   1088\u001b[0m \u001b[38;5;28;01mexcept\u001b[39;00m:\n\u001b[0;32m   1089\u001b[0m     err \u001b[38;5;241m=\u001b[39m sys\u001b[38;5;241m.\u001b[39mexc_info()[\u001b[38;5;241m1\u001b[39m]\n",
      "File \u001b[1;32mc:\\users\\camar\\documents\\jupyter\\pythonenvs\\eso_project\\lib\\site-packages\\pyomo\\core\\base\\constraint.py:748\u001b[0m, in \u001b[0;36mConstraint.construct\u001b[1;34m(self, data)\u001b[0m\n\u001b[0;32m    745\u001b[0m     \u001b[38;5;28;01melse\u001b[39;00m:\n\u001b[0;32m    746\u001b[0m         \u001b[38;5;66;03m# Bypass the index validation and create the member directly\u001b[39;00m\n\u001b[0;32m    747\u001b[0m         \u001b[38;5;28;01mfor\u001b[39;00m index \u001b[38;5;129;01min\u001b[39;00m \u001b[38;5;28mself\u001b[39m\u001b[38;5;241m.\u001b[39mindex_set():\n\u001b[1;32m--> 748\u001b[0m             \u001b[38;5;28mself\u001b[39m\u001b[38;5;241m.\u001b[39m_setitem_when_not_present(index, \u001b[43mrule\u001b[49m\u001b[43m(\u001b[49m\u001b[43mblock\u001b[49m\u001b[43m,\u001b[49m\u001b[43m \u001b[49m\u001b[43mindex\u001b[49m\u001b[43m)\u001b[49m)\n\u001b[0;32m    749\u001b[0m \u001b[38;5;28;01mexcept\u001b[39;00m \u001b[38;5;167;01mException\u001b[39;00m:\n\u001b[0;32m    750\u001b[0m     err \u001b[38;5;241m=\u001b[39m sys\u001b[38;5;241m.\u001b[39mexc_info()[\u001b[38;5;241m1\u001b[39m]\n",
      "File \u001b[1;32mc:\\users\\camar\\documents\\jupyter\\pythonenvs\\eso_project\\lib\\site-packages\\pyomo\\core\\base\\initializer.py:250\u001b[0m, in \u001b[0;36mIndexedCallInitializer.__call__\u001b[1;34m(self, parent, idx)\u001b[0m\n\u001b[0;32m    244\u001b[0m \u001b[38;5;28;01mdef\u001b[39;00m \u001b[38;5;21m__call__\u001b[39m(\u001b[38;5;28mself\u001b[39m, parent, idx):\n\u001b[0;32m    245\u001b[0m     \u001b[38;5;66;03m# Note: this is called by a component using data from a Set (so\u001b[39;00m\n\u001b[0;32m    246\u001b[0m     \u001b[38;5;66;03m# any tuple-like type should have already been checked and\u001b[39;00m\n\u001b[0;32m    247\u001b[0m     \u001b[38;5;66;03m# converted to a tuple; or flattening is turned off and it is\u001b[39;00m\n\u001b[0;32m    248\u001b[0m     \u001b[38;5;66;03m# the user's responsibility to sort things out.\u001b[39;00m\n\u001b[0;32m    249\u001b[0m     \u001b[38;5;28;01mif\u001b[39;00m idx\u001b[38;5;241m.\u001b[39m\u001b[38;5;18m__class__\u001b[39m \u001b[38;5;129;01mis\u001b[39;00m \u001b[38;5;28mtuple\u001b[39m:\n\u001b[1;32m--> 250\u001b[0m         \u001b[38;5;28;01mreturn\u001b[39;00m \u001b[38;5;28;43mself\u001b[39;49m\u001b[38;5;241;43m.\u001b[39;49m\u001b[43m_fcn\u001b[49m\u001b[43m(\u001b[49m\u001b[43mparent\u001b[49m\u001b[43m,\u001b[49m\u001b[43m \u001b[49m\u001b[38;5;241;43m*\u001b[39;49m\u001b[43midx\u001b[49m\u001b[43m)\u001b[49m\n\u001b[0;32m    251\u001b[0m     \u001b[38;5;28;01melse\u001b[39;00m:\n\u001b[0;32m    252\u001b[0m         \u001b[38;5;28;01mreturn\u001b[39;00m \u001b[38;5;28mself\u001b[39m\u001b[38;5;241m.\u001b[39m_fcn(parent, idx)\n",
      "Input \u001b[1;32mIn [27]\u001b[0m, in \u001b[0;36m_storMaxEq\u001b[1;34m(m, s, t)\u001b[0m\n\u001b[0;32m     16\u001b[0m \u001b[38;5;28;01mdef\u001b[39;00m \u001b[38;5;21m_storMaxEq\u001b[39m(m, s, t):\n\u001b[1;32m---> 17\u001b[0m     \u001b[38;5;28;01mreturn\u001b[39;00m m\u001b[38;5;241m.\u001b[39mstorEnerState[s, t] \u001b[38;5;241m<\u001b[39m\u001b[38;5;241m=\u001b[39m \u001b[43mm\u001b[49m\u001b[38;5;241;43m.\u001b[39;49m\u001b[43mstorInfo\u001b[49m[s, \u001b[38;5;241m6\u001b[39m]\n",
      "File \u001b[1;32mc:\\users\\camar\\documents\\jupyter\\pythonenvs\\eso_project\\lib\\site-packages\\pyomo\\core\\base\\block.py:522\u001b[0m, in \u001b[0;36m_BlockData.__getattr__\u001b[1;34m(self, val)\u001b[0m\n\u001b[0;32m    518\u001b[0m     \u001b[38;5;28;01mreturn\u001b[39;00m _component_decorator(\n\u001b[0;32m    519\u001b[0m         \u001b[38;5;28mself\u001b[39m, ModelComponentFactory\u001b[38;5;241m.\u001b[39mget_class(val))\n\u001b[0;32m    520\u001b[0m \u001b[38;5;66;03m# Since the base classes don't support getattr, we can just\u001b[39;00m\n\u001b[0;32m    521\u001b[0m \u001b[38;5;66;03m# throw the \"normal\" AttributeError\u001b[39;00m\n\u001b[1;32m--> 522\u001b[0m \u001b[38;5;28;01mraise\u001b[39;00m \u001b[38;5;167;01mAttributeError\u001b[39;00m(\u001b[38;5;124m\"\u001b[39m\u001b[38;5;124m'\u001b[39m\u001b[38;5;132;01m%s\u001b[39;00m\u001b[38;5;124m'\u001b[39m\u001b[38;5;124m object has no attribute \u001b[39m\u001b[38;5;124m'\u001b[39m\u001b[38;5;132;01m%s\u001b[39;00m\u001b[38;5;124m'\u001b[39m\u001b[38;5;124m\"\u001b[39m\n\u001b[0;32m    523\u001b[0m                      \u001b[38;5;241m%\u001b[39m (\u001b[38;5;28mself\u001b[39m\u001b[38;5;241m.\u001b[39m\u001b[38;5;18m__class__\u001b[39m\u001b[38;5;241m.\u001b[39m\u001b[38;5;18m__name__\u001b[39m, val))\n",
      "\u001b[1;31mAttributeError\u001b[0m: 'ConcreteModel' object has no attribute 'storInfo'"
     ]
    }
   ],
   "source": [
    "# Storage constraints\n",
    "\n",
    "# Discharge Limit\n",
    "def _storDchRateIneq(m, s, t):\n",
    "    return m.storDchActPower[s, t] <= m.storLimit[s, t, 2] * m.storDchXo[s, t]\n",
    "model.storDchRateIneq = pe.Constraint(model.stor, model.t, rule=_storDchRateIneq)\n",
    "\n",
    "\n",
    "# Charge Limit\n",
    "def _storChRateIneq(m, s, t):\n",
    "    return m.storChActPower[s, t] <= m.storLimit[s, t, 1] * m.storChXo[s, t]\n",
    "model.storChRateIneq = pe.Constraint(model.stor, model.t, rule=_storChRateIneq)\n",
    "\n",
    "\n",
    "# Energy Limits\n",
    "def _storMaxEq(m, s, t):\n",
    "    return m.storEnerState[s, t] <= m.storInfo[s, 6]\n",
    "model.storMaxEq = pe.Constraint(model.stor, model.t, rule=_storMaxEq)\n",
    "\n",
    "\n",
    "def _storRelaxEq(m, s, t):\n",
    "    return m.storEnerState[s, t] >= m.storInfo[s, 7] * m.storInfo[s, 6]/100 - m.EminRelaxStor[s, t]\n",
    "model.storRelaxEq = pe.Constraint(model.stor, model.t, rule=_storRelaxEq)\n",
    "\n",
    "\n",
    "# Energy Balance\n",
    "def _storBatBalanceEq(m, s, t):\n",
    "    if t == 1:\n",
    "        return m.storEnerState[s, t] == m.storInfo[s, 6] * m.storInfo[s, 10]/100 + m.storChActPower[s, t] * m.storInfo[s, 8]/100 - m.storDchActPower[s, t]/m.storInfo[s, 9] / 100\n",
    "    else:\n",
    "        return m.storEnerState[s, t] == m.storEnerState[s, t-1] + m.storChActPower[s, t] * m.storInfo[s, 8]/100 - m.storDchActPower[s, t]/m.storInfo[s, 9]/100\n",
    "model.storBatBalance = pe.Constraint(model.stor, model.t, rule=_storBatBalanceEq)\n",
    "\n",
    "\n",
    "def _storBin(m, s, t):\n",
    "    return m.storChXo[s, t] + m.storDchXo[s, t] <= 1\n",
    "model.storBin = pe.Constraint(model.stor, model.t, rule=_storBin)"
   ]
  },
  {
   "cell_type": "code",
   "execution_count": null,
   "id": "8010bc91",
   "metadata": {
    "ExecuteTime": {
     "end_time": "2022-04-26T11:16:38.533586Z",
     "start_time": "2022-04-26T11:16:38.533586Z"
    }
   },
   "outputs": [],
   "source": [
    "# Energy Balance\n",
    "\n",
    "def _actBalanceEq(m, t):\n",
    "    temp_gens = sum([m.genActPower[i, t] - m.genExcActPower[i, t] for i in np.arange(1, m.gen.last()+1)])\n",
    "    \n",
    "    temp_loads = sum([m.loadActPower[l, t] - m.loadRedActPower[l, t] - m.loadCutActPower[l, t] - m.loadENS[l, t]\n",
    "                      for l in np.arange(1, m.loads.last() + 1)])\n",
    "    \n",
    "    temp_stor = sum([m.storChActPower[s, t] - m.storDchActPower[s, t]\n",
    "                     for s in np.arange(1, m.stor.last() + 1)])\n",
    "    \n",
    "    #temp_loads = sum([m.loadActPower[l, t] for l in np.arange(1, m.loads.last() + 1)])\n",
    "    \n",
    "    return temp_gens + m.pImp[t] - m.pExp[t] - temp_loads - temp_stor == 0\n",
    "\n",
    "model.actBalance = pe.Constraint(model.t, rule=_actBalanceEq)"
   ]
  },
  {
   "cell_type": "code",
   "execution_count": null,
   "id": "0a32d38e",
   "metadata": {
    "ExecuteTime": {
     "end_time": "2022-04-26T11:16:38.533586Z",
     "start_time": "2022-04-26T11:16:38.533586Z"
    }
   },
   "outputs": [],
   "source": [
    "# Objective Function\n",
    "\n",
    "def _objFun(m):\n",
    "    temp_gens = sum([m.genActPower[g, t] * m.genLimit[g, t, 3] + m.genExcActPower[g, t] * m.genLimit[g, t, 5]\n",
    "                     for t in np.arange(1, m.t.last()+1) for g in np.arange(1, m.gen.last()+1)])\n",
    "    \n",
    "    #temp_loads = sum([m.pImp[i] * m.buyPrice[i] - m.pExp[i] * m.sellPrice[i] for i in np.arange(1, m.t.last()+1)])\n",
    "    \n",
    "    \n",
    "    #temp_gens = sum([m.genActPower[g, t] * m.genLimit[g, t, 3] + m.genExcActPower[g, t] * m.genLimit[g, t, 5]\n",
    "    #                 for t in np.arange(1, m.t.last() + 1) for g in np.arange(1, m.gen.last()+1)])\n",
    "    \n",
    "    temp_loads = sum([m.loadRedActPower[l, t] * m.loadLimit[l, t, 7] + m.loadCutActPower[l, t] * m.loadLimit[l, t, 8] + m.loadENS[l, t] * m.loadLimit[l, t, 10] \n",
    "                      for t in np.arange(1, m.t.last() + 1) for l in np.arange(1, m.loads.last() + 1)])\n",
    "    \n",
    "    temp_stor = sum([m.storDchActPower[s, t] * m.storLimit[s, t, 4] - m.storChActPower[s, t] * m.storLimit[s, t, 3] + m.EminRelaxStor[s, t] * 200 \n",
    "                     for t in np.arange(1, m.t.last() +1) for s in np.arange(1, m.stor.last() + 1)])\n",
    "    \n",
    "\n",
    "    return temp_gens + temp_loads + temp_stor\n",
    "\n",
    "model.ObjFun = pe.Objective(rule=_objFun, sense=pe.minimize)"
   ]
  },
  {
   "cell_type": "code",
   "execution_count": null,
   "id": "185772f3",
   "metadata": {
    "ExecuteTime": {
     "end_time": "2022-04-26T11:16:38.535581Z",
     "start_time": "2022-04-26T11:16:38.535581Z"
    }
   },
   "outputs": [],
   "source": [
    "# Create model instance and solve\n",
    "\n",
    "import cplex\n",
    "from pyomo.opt import SolverFactory\n",
    "\n",
    "# Create a solver\n",
    "#opt = pe.SolverFactory('cplex')\n",
    "opt = pe.SolverFactory('cplex', executable='C:/IBM/ILOG/CPLEX_Studio221/cplex/bin/x64_win64/cplex.exe')\n",
    "\n",
    "#instance = model.create_instance(model)\n",
    "results = opt.solve(model, tee=True)"
   ]
  },
  {
   "cell_type": "code",
   "execution_count": null,
   "id": "a4b1c891",
   "metadata": {},
   "outputs": [],
   "source": []
  }
 ],
 "metadata": {
  "kernelspec": {
   "display_name": "Python 3 (ipykernel)",
   "language": "python",
   "name": "python3"
  },
  "language_info": {
   "codemirror_mode": {
    "name": "ipython",
    "version": 3
   },
   "file_extension": ".py",
   "mimetype": "text/x-python",
   "name": "python",
   "nbconvert_exporter": "python",
   "pygments_lexer": "ipython3",
   "version": "3.8.10"
  },
  "varInspector": {
   "cols": {
    "lenName": 16,
    "lenType": 16,
    "lenVar": 40
   },
   "kernels_config": {
    "python": {
     "delete_cmd_postfix": "",
     "delete_cmd_prefix": "del ",
     "library": "var_list.py",
     "varRefreshCmd": "print(var_dic_list())"
    },
    "r": {
     "delete_cmd_postfix": ") ",
     "delete_cmd_prefix": "rm(",
     "library": "var_list.r",
     "varRefreshCmd": "cat(var_dic_list()) "
    }
   },
   "position": {
    "height": "494.85px",
    "left": "1120px",
    "right": "20px",
    "top": "120px",
    "width": "356px"
   },
   "types_to_exclude": [
    "module",
    "function",
    "builtin_function_or_method",
    "instance",
    "_Feature"
   ],
   "window_display": false
  }
 },
 "nbformat": 4,
 "nbformat_minor": 5
}
