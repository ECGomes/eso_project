{
 "cells": [
  {
   "cell_type": "code",
   "execution_count": 1,
   "id": "c4316e9b",
   "metadata": {
    "ExecuteTime": {
     "end_time": "2022-10-04T20:26:32.861197Z",
     "start_time": "2022-10-04T20:26:31.886881Z"
    }
   },
   "outputs": [],
   "source": [
    "#  Imports\n",
    "\n",
    "import numpy as np\n",
    "import pandas as pd\n",
    "import matplotlib.pyplot as plt\n",
    "import scipy"
   ]
  },
  {
   "cell_type": "code",
   "execution_count": 2,
   "id": "c4786f8e",
   "metadata": {
    "ExecuteTime": {
     "end_time": "2022-10-04T20:26:33.688383Z",
     "start_time": "2022-10-04T20:26:33.354786Z"
    },
    "code_folding": [
     0
    ]
   },
   "outputs": [],
   "source": [
    "# loadmat aux function to load the matlab save files\n",
    "# from: https://stackoverflow.com/review/suggested-edits/21667510\n",
    "\n",
    "import scipy.io as spio\n",
    "\n",
    "def loadmat(filename):\n",
    "    '''\n",
    "    this function should be called instead of direct spio.loadmat\n",
    "    as it cures the problem of not properly recovering python dictionaries\n",
    "    from mat files. It calls the function check keys to cure all entries\n",
    "    which are still mat-objects\n",
    "    '''\n",
    "    def _check_keys(d):\n",
    "        '''\n",
    "        checks if entries in dictionary are mat-objects. If yes\n",
    "        todict is called to change them to nested dictionaries\n",
    "        '''\n",
    "        for key in d:\n",
    "            if isinstance(d[key], spio.matlab.mio5_params.mat_struct):\n",
    "                d[key] = _todict(d[key])\n",
    "        return d\n",
    "\n",
    "    def _has_struct(elem):\n",
    "        \"\"\"Determine if elem is an array and if any array item is a struct\"\"\"\n",
    "        return isinstance(elem, np.ndarray) and any(isinstance(\n",
    "                    e, scipy.io.matlab.mio5_params.mat_struct) for e in elem)\n",
    "\n",
    "    def _todict(matobj):\n",
    "        '''\n",
    "        A recursive function which constructs from matobjects nested dictionaries\n",
    "        '''\n",
    "        d = {}\n",
    "        for strg in matobj._fieldnames:\n",
    "            elem = matobj.__dict__[strg]\n",
    "            if isinstance(elem, spio.matlab.mio5_params.mat_struct):\n",
    "                d[strg] = _todict(elem)\n",
    "            elif _has_struct(elem):\n",
    "                d[strg] = _tolist(elem)\n",
    "            else:\n",
    "                d[strg] = elem\n",
    "        return d\n",
    "\n",
    "    def _tolist(ndarray):\n",
    "        '''\n",
    "        A recursive function which constructs lists from cellarrays\n",
    "        (which are loaded as numpy ndarrays), recursing into the elements\n",
    "        if they contain matobjects.\n",
    "        '''\n",
    "        elem_list = []\n",
    "        for sub_elem in ndarray:\n",
    "            if isinstance(sub_elem, spio.matlab.mio5_params.mat_struct):\n",
    "                elem_list.append(_todict(sub_elem))\n",
    "            elif _has_struct(sub_elem):\n",
    "                elem_list.append(_tolist(sub_elem))\n",
    "            else:\n",
    "                elem_list.append(sub_elem)\n",
    "        return elem_list\n",
    "    data = scipy.io.loadmat(filename, struct_as_record=False, squeeze_me=True)\n",
    "    return _check_keys(data)"
   ]
  },
  {
   "cell_type": "code",
   "execution_count": 3,
   "id": "c7b09d40",
   "metadata": {
    "ExecuteTime": {
     "end_time": "2022-10-04T20:26:34.061228Z",
     "start_time": "2022-10-04T20:26:34.028316Z"
    }
   },
   "outputs": [
    {
     "name": "stderr",
     "output_type": "stream",
     "text": [
      "C:\\Users\\camar\\AppData\\Local\\Temp\\ipykernel_5792\\3560610281.py:19: DeprecationWarning: Please use `mat_struct` from the `scipy.io.matlab` namespace, the `scipy.io.matlab.mio5_params` namespace is deprecated.\n",
      "  if isinstance(d[key], spio.matlab.mio5_params.mat_struct):\n",
      "C:\\Users\\camar\\AppData\\Local\\Temp\\ipykernel_5792\\3560610281.py:35: DeprecationWarning: Please use `mat_struct` from the `scipy.io.matlab` namespace, the `scipy.io.matlab.mio5_params` namespace is deprecated.\n",
      "  if isinstance(elem, spio.matlab.mio5_params.mat_struct):\n",
      "C:\\Users\\camar\\AppData\\Local\\Temp\\ipykernel_5792\\3560610281.py:26: DeprecationWarning: Please use `mat_struct` from the `scipy.io.matlab` namespace, the `scipy.io.matlab.mio5_params` namespace is deprecated.\n",
      "  e, scipy.io.matlab.mio5_params.mat_struct) for e in elem)\n"
     ]
    }
   ],
   "source": [
    "# Matlab code conversion\n",
    "\n",
    "# Read matlab file instead of excelfile (easier conversion)\n",
    "data = loadmat('matlab.mat')"
   ]
  },
  {
   "cell_type": "code",
   "execution_count": 4,
   "id": "1159909e",
   "metadata": {
    "ExecuteTime": {
     "end_time": "2022-10-04T20:26:34.558525Z",
     "start_time": "2022-10-04T20:26:34.539576Z"
    },
    "code_folding": [
     0
    ]
   },
   "outputs": [],
   "source": [
    "# Linearize the generator prices\n",
    "\n",
    "# genCofA=data.generator.limit(:,:,6); -> MATLAB starts with 1, so we need the index -1\n",
    "# genCofB=data.generator.limit(:,:,7);\n",
    "# genCofC=data.generator.limit(:,:,8);\n",
    "\n",
    "genCofA = data['data']['generator']['limit'][:, :, 5]\n",
    "genCofB = data['data']['generator']['limit'][:, :, 6]\n",
    "genCofC = data['data']['generator']['limit'][:, :, 7]"
   ]
  },
  {
   "cell_type": "code",
   "execution_count": 5,
   "id": "a9fc1cb6",
   "metadata": {
    "ExecuteTime": {
     "end_time": "2022-10-04T20:26:35.213999Z",
     "start_time": "2022-10-04T20:26:35.210009Z"
    },
    "code_folding": [
     0
    ]
   },
   "outputs": [],
   "source": [
    "# Options for simulation\n",
    "\n",
    "#options \n",
    "iterlim = 1000000000\n",
    "reslim = 5000000000"
   ]
  },
  {
   "cell_type": "code",
   "execution_count": 6,
   "id": "2ab9a921",
   "metadata": {
    "ExecuteTime": {
     "end_time": "2022-10-04T20:26:35.634953Z",
     "start_time": "2022-10-04T20:26:35.620957Z"
    },
    "code_folding": [
     0
    ]
   },
   "outputs": [],
   "source": [
    "# Definir o numero de resources usados\n",
    "\n",
    "numGen = np.arange(1, data['data']['parameterData']['resources']['numGen'] + 1)\n",
    "numLoad = np.arange(1, data['data']['parameterData']['resources']['numLoad'] + 1)\n",
    "numStor = np.arange(1, data['data']['parameterData']['resources']['numStor'] + 1)\n",
    "numV2G = np.arange(1, data['data']['parameterData']['resources']['numV2G'] + 1)\n",
    "numCStat = np.arange(1, data['data']['parameterData']['resources']['numCStat'] + 1)\n",
    "numPeriod = np.arange(1, data['data']['parameterData']['resources']['period'] + 1)\n",
    "numBus = np.arange(1) # forced to 1\n",
    "nOwner = np.arange(1, data['data']['parameterData']['resources']['owners'] + 1)"
   ]
  },
  {
   "cell_type": "code",
   "execution_count": 7,
   "id": "c18ac201",
   "metadata": {
    "ExecuteTime": {
     "end_time": "2022-10-04T20:26:36.098905Z",
     "start_time": "2022-10-04T20:26:36.090891Z"
    },
    "code_folding": [
     0
    ]
   },
   "outputs": [],
   "source": [
    "# Define as strings com os recursos para mandar para GAMS\n",
    "\n",
    "gen = np.max(numGen)\n",
    "Load = np.max(numLoad)\n",
    "stor = np.max(numStor)\n",
    "v2g = np.max(numV2G)\n",
    "cs = np.max(numCStat)\n",
    "period = np.max(numPeriod)\n",
    "Bus = np.max(numBus)"
   ]
  },
  {
   "cell_type": "code",
   "execution_count": 8,
   "id": "1b2096dc",
   "metadata": {
    "ExecuteTime": {
     "end_time": "2022-10-04T20:26:36.490046Z",
     "start_time": "2022-10-04T20:26:36.471038Z"
    },
    "code_folding": [
     0
    ]
   },
   "outputs": [],
   "source": [
    "#% Definir as matrizes com os dados para o GAMS\n",
    "\n",
    "# General Info\n",
    "pMaxImp = data['data']['parameterData']['generalInfo']['P_Max_Imp']\n",
    "pMaxExp = data['data']['parameterData']['generalInfo']['P_Max_Exp']\n",
    "buyPrice = data['data']['parameterData']['generalInfo']['Energy_Buy_Price']\n",
    "sellPrice = data['data']['parameterData']['generalInfo']['Energy_Sell_Price']\n",
    "\n",
    "# Geradores\n",
    "genLimit = data['data']['generator']['limit'][numGen[0]-1:numGen[-1]+1, numPeriod[0]-1:numPeriod[-1]+1, :]\n",
    "genInfo = data['data']['generator']['info']\n",
    "\n",
    "# Cargas\n",
    "loadLimit = data['data']['load']['limit'][numLoad[0]-1:numLoad[-1]+1, numPeriod[0]-1:numPeriod[-1]+1, :]\n",
    "\n",
    "# Baterias\n",
    "storLimit = data['data']['storage']['limit'][numStor[0]-1:numStor[-1]+1, numPeriod[0]-1:numPeriod[-1]+1, :]\n",
    "storInfo = data['data']['storage']['info']\n",
    "\n",
    "# Veiculos\n",
    "v2gLimit = data['data']['vehicle']['limit']\n",
    "v2gInfo = data['data']['vehicle']['info']\n",
    "\n",
    "# Charging Station\n",
    "csLimit = data['data']['cstation']['limit'][numCStat[0]-1:numCStat[-1]+1, numPeriod[0]-1:numPeriod[-1]+1, :]\n",
    "csInfo = data['data']['cstation']['info']\n",
    "\n",
    "# Connect EV to Charging Station\n",
    "EV_CS_Info = data['data']['vehicle']['timeInfo']['V2GinCS']"
   ]
  },
  {
   "cell_type": "code",
   "execution_count": 9,
   "id": "319a4ddb",
   "metadata": {
    "ExecuteTime": {
     "end_time": "2022-10-04T20:26:36.877656Z",
     "start_time": "2022-10-04T20:26:36.859705Z"
    },
    "code_folding": [
     0
    ]
   },
   "outputs": [],
   "source": [
    "# Definir os dados da rede para o GAMS\n",
    "\n",
    "# Linhas\n",
    "branchData = data['data']['network']['branch']\n",
    "\n",
    "# Tensão Máxima\n",
    "voltageMax = data['data']['parameterData']['network']['voltageMax']\n",
    "\n",
    "# Tensão Mínima\n",
    "voltageMin = data['data']['parameterData']['network']['voltageMin']\n",
    "\n",
    "# Angulo Máximo\n",
    "angleMax = data['data']['parameterData']['network']['angleMax']\n",
    "\n",
    "# Angulo Mínimo\n",
    "angleMin = data['data']['parameterData']['network']['angleMin']\n",
    "\n",
    "# Definir a matriz das admitancias\n",
    "ybus = data['data']['parameterData']['network']['ybus']\n",
    "diag = data['data']['parameterData']['network']['diag']\n",
    "branchID = data['data']['parameterData']['network']['branch']"
   ]
  },
  {
   "cell_type": "code",
   "execution_count": 10,
   "id": "6348f31c",
   "metadata": {
    "ExecuteTime": {
     "end_time": "2022-10-04T20:26:37.234743Z",
     "start_time": "2022-10-04T20:26:37.216789Z"
    },
    "code_folding": [
     0
    ]
   },
   "outputs": [],
   "source": [
    "#% Anular o custo fixo e quadratico da DG\n",
    "\n",
    "genLimit[:, :, 3] = 0\n",
    "genLimit[:, :, 5] = 0\n",
    "\n",
    "genLimit = np.append(genLimit, np.zeros(shape=(7, 24, 4)), axis=2)\n",
    "\n",
    "# Not necessary anymore\n",
    "#genLimit[:, :, 9] = 0\n",
    "#genLimit[:, :, 11] = 0"
   ]
  },
  {
   "cell_type": "code",
   "execution_count": 11,
   "id": "949dd6e4",
   "metadata": {
    "ExecuteTime": {
     "end_time": "2022-10-04T20:26:37.684920Z",
     "start_time": "2022-10-04T20:26:37.675911Z"
    },
    "code_folding": [
     0
    ]
   },
   "outputs": [],
   "source": [
    "#** Define the fixed sets structure to use in the parameters of the gams optimization process\n",
    "#set genLimitInfo 'Indicate the number of columns of information from generators'\n",
    "#/1, 2, 3, 4, 5, 6, 7, 8, 9, 10, 11, 12/;\n",
    "\n",
    "#set loadLimitInfo 'Indicate the number of columns of information from loads'\n",
    "#/1, 2, 3, 4, 5, 6, 7, 8, 9, 10, 11, 12/;\n",
    "\n",
    "#set storLimitInfo 'Indicate the number of columns of information from storage units'\n",
    "#/1, 2, 3, 4, 5, 6, 7, 8, 9, 10, 11, 12/;\n",
    "\n",
    "#set v2gLimitInfo 'Indicate the number of columns of information from electric vehicles'\n",
    "#/1, 2, 3, 4, 5, 6, 7, 8, 9, 10, 11, 12/;\n",
    "\n",
    "#set csLimitInfo 'Indicate the number of columns of information from charging stations'\n",
    "#/1, 2, 3, 4, 5, 6, 7, 8, 9, 10, 11, 12/;\n",
    "\n",
    "NCOLS = 12\n",
    "\n",
    "genLimitInfo = np.arange(1, NCOLS+1)\n",
    "loadLimitInfo = np.arange(1, NCOLS+1)\n",
    "storLimitInfo = np.arange(1, NCOLS+1)\n",
    "v2gLimitInfo = np.arange(1, NCOLS+1)\n",
    "csLimitInfo = np.arange(1, NCOLS+1)\n",
    "\n",
    "#genLimitInfo = np.arange(1, genLimit.shape[2]+1)\n",
    "#loadLimitInfo = np.arange(1, loadLimit.shape[2]+1)\n",
    "#storLimitInfo = np.arange(1, storLimit.shape[2]+1)\n",
    "#v2gLimitInfo = np.arange(1, v2gLimit.shape[2]+1)\n",
    "#csLimitInfo = np.arange(1, csLimit.shape[0]+1)"
   ]
  },
  {
   "cell_type": "code",
   "execution_count": 12,
   "id": "0a775110",
   "metadata": {
    "ExecuteTime": {
     "end_time": "2022-10-04T20:26:38.156417Z",
     "start_time": "2022-10-04T20:26:38.142879Z"
    },
    "code_folding": [
     0
    ]
   },
   "outputs": [],
   "source": [
    "# * Define the several sets structure used in the gams optimization process, \n",
    "# these sets depends the number of resources used in matlab code\n",
    "\n",
    "_t = np.arange(1, period+1)\n",
    "_gen = np.arange(1, gen+1)\n",
    "_Load = np.arange(1, Load+1)\n",
    "_stor = np.arange(1, stor+1)\n",
    "_v2g = np.arange(1, v2g+1)\n",
    "_cs = np.arange(1, cs+1)"
   ]
  },
  {
   "cell_type": "code",
   "execution_count": 13,
   "id": "2b250d41",
   "metadata": {
    "ExecuteTime": {
     "end_time": "2022-10-04T20:26:38.609314Z",
     "start_time": "2022-10-04T20:26:38.589788Z"
    },
    "code_folding": [
     0
    ]
   },
   "outputs": [],
   "source": [
    "# Aux function to convert numpy into dictionaries\n",
    "\n",
    "def _auxDictionary(a):\n",
    "    temp_dictionary = {}\n",
    "    \n",
    "    if len(a.shape) == 3:\n",
    "        for dim0 in np.arange(a.shape[0]):\n",
    "            for dim1 in np.arange(a.shape[1]):\n",
    "                for dim2 in np.arange(a.shape[2]):\n",
    "                    temp_dictionary[(dim0+1, dim1+1, dim2+1)] = a[dim0, dim1, dim2]\n",
    "    elif len(a.shape) == 2:\n",
    "        for dim0 in np.arange(a.shape[0]):\n",
    "            for dim1 in np.arange(a.shape[1]):\n",
    "                temp_dictionary[(dim0+1, dim1+1)] = a[dim0, dim1]\n",
    "                \n",
    "    else:\n",
    "        for dim0 in np.arange(a.shape[0]):\n",
    "            temp_dictionary[(dim0+1)] = a[dim0]\n",
    "                \n",
    "    return temp_dictionary\n",
    "\n",
    "#temp_dict1 = _auxDictionary(loadLimit)"
   ]
  },
  {
   "cell_type": "code",
   "execution_count": 33,
   "id": "14119631",
   "metadata": {
    "ExecuteTime": {
     "end_time": "2022-10-05T05:40:21.926361Z",
     "start_time": "2022-10-05T05:40:21.918555Z"
    }
   },
   "outputs": [],
   "source": [
    "# Pyomo imports\n",
    "\n",
    "import pyomo\n",
    "import pyomo.opt\n",
    "import pyomo.environ as pe"
   ]
  },
  {
   "cell_type": "code",
   "execution_count": 34,
   "id": "8bf4c0b1",
   "metadata": {
    "ExecuteTime": {
     "end_time": "2022-10-05T05:40:22.467172Z",
     "start_time": "2022-10-05T05:40:22.453147Z"
    },
    "code_folding": [
     0
    ]
   },
   "outputs": [],
   "source": [
    "# Model creation\n",
    "\n",
    "model = pe.ConcreteModel()\n",
    "\n",
    "model.genLimitInfo = pe.Set(initialize=genLimitInfo, \n",
    "                            doc='Indicate the number of columns of information from generators')\n",
    "model.loadLimitInfo = pe.Set(initialize=loadLimitInfo, \n",
    "                             doc='Indicate the number of columns of information from loads')\n",
    "model.storLimitInfo = pe.Set(initialize=storLimitInfo, \n",
    "                             doc='Indicate the number of columns of information from storage units')\n",
    "model.v2gLimitInfo = pe.Set(initialize=v2gLimitInfo, \n",
    "                            doc='Indicate the number of columns of information from electric vehicles')\n",
    "model.csLimitInfo = pe.Set(initialize=csLimitInfo, \n",
    "                           doc='Indicate the number of columns of information from charging stations')\n",
    "\n",
    "model.storPieceSegments = pe.Set(initialize=[1, 2, 3],\n",
    "                                 doc='Number of segments for piecewise linear approximation')\n",
    "\n",
    "# Sets\n",
    "model.t = pe.Set(initialize=_t, doc='period')\n",
    "model.gen = pe.Set(initialize=_gen, doc='generators')\n",
    "model.loads = pe.Set(initialize=_Load, doc='loads')\n",
    "model.stor = pe.Set(initialize=_stor, doc='storage')\n",
    "model.v2g = pe.Set(initialize=_v2g, doc='vehicles')\n",
    "model.cs = pe.Set(initialize=_cs, doc='charging_stations')"
   ]
  },
  {
   "cell_type": "code",
   "execution_count": 35,
   "id": "ed9f7e4b",
   "metadata": {
    "ExecuteTime": {
     "end_time": "2022-10-05T05:40:22.900976Z",
     "start_time": "2022-10-05T05:40:22.794060Z"
    },
    "code_folding": [
     0
    ]
   },
   "outputs": [],
   "source": [
    "# Define the parameters with the data from the excel, such as limits, price, and voltage\n",
    "\n",
    "model.loadLimit = pe.Param(model.loads, model.t, model.loadLimitInfo, \n",
    "                           initialize=_auxDictionary(loadLimit))\n",
    "\n",
    "model.genLimit = pe.Param(model.gen, model.t, model.genLimitInfo,\n",
    "                          initialize=_auxDictionary(genLimit))\n",
    "\n",
    "model.genInfo = pe.Param(model.gen, model.genLimitInfo,\n",
    "                         initialize=_auxDictionary(genInfo))\n",
    "\n",
    "model.pMaxImp = pe.Param(model.t,\n",
    "                         initialize=_auxDictionary(pMaxImp))\n",
    "\n",
    "model.buyPrice = pe.Param(model.t,\n",
    "                          initialize=_auxDictionary(buyPrice))\n",
    "\n",
    "model.pMaxExp = pe.Param(model.t,\n",
    "                         initialize=_auxDictionary(pMaxExp))\n",
    "\n",
    "model.sellPrice = pe.Param(model.t,\n",
    "                           initialize=_auxDictionary(sellPrice))\n",
    "\n",
    "model.storLimit = pe.Param(model.stor, model.t, model.storLimitInfo,\n",
    "                           initialize=_auxDictionary(storLimit))\n",
    "\n",
    "model.storInfo = pe.Param(model.stor, model.storLimitInfo,\n",
    "                          initialize=_auxDictionary(storInfo[:, :12]))\n",
    "\n",
    "model.v2gLimit = pe.Param(model.v2g, model.t, model.v2gLimitInfo,\n",
    "                          initialize=_auxDictionary(v2gLimit))\n",
    "\n",
    "model.v2gInfo = pe.Param(model.v2g, model.v2gLimitInfo,\n",
    "                         initialize=_auxDictionary(v2gInfo))\n",
    "\n",
    "model.csLimit = pe.Param(model.cs, model.t, model.csLimitInfo,\n",
    "                         initialize=_auxDictionary(csLimit))\n",
    "\n",
    "model.csInfo = pe.Param(model.cs, model.csLimitInfo,\n",
    "                        initialize=_auxDictionary(csInfo))\n",
    "\n",
    "model.EV_CS_Info = pe.Param(model.v2g, model.cs, model.t,\n",
    "                            initialize=_auxDictionary(EV_CS_Info))\n",
    "\n",
    "model.loadActPower = pe.Param(model.loads, model.t,\n",
    "                              initialize=_auxDictionary(loadLimit[:, :, 0]))\n",
    "model.optCost = pe.Var()#initialize=0)\n",
    "\n",
    "\n",
    "# ADDITIONAL PARAMS\n",
    "storCapCost = storInfo[:, 5] * 0.00105\n",
    "model.storCapCost = pe.Param(model.stor, initialize=_auxDictionary(storCapCost))\n",
    "\n",
    "# V2G battery deg costs\n",
    "v2gCapCost = v2gInfo[:, 4] * 0.00105\n",
    "model.v2gCapCost = pe.Param(model.v2g, initialize=_auxDictionary(v2gCapCost))"
   ]
  },
  {
   "cell_type": "code",
   "execution_count": 36,
   "id": "2fff3184",
   "metadata": {
    "ExecuteTime": {
     "end_time": "2022-10-05T05:40:23.151010Z",
     "start_time": "2022-10-05T05:40:23.145145Z"
    },
    "code_folding": [
     0
    ]
   },
   "outputs": [],
   "source": [
    "# Define the variables for the gams optimization process\n",
    "# variables fun, derCost, selfConso;\n",
    "\n",
    "#model.fun = pe.Var(domain=pe.Reals, initialize=0)\n",
    "model.derCost = pe.Var(domain=pe.Reals, initialize=0)\n",
    "#model.selfConso = pe.Var(domain=pe.Reals, initialize=0)"
   ]
  },
  {
   "cell_type": "code",
   "execution_count": 37,
   "id": "9da83201",
   "metadata": {
    "ExecuteTime": {
     "end_time": "2022-10-05T05:40:23.455055Z",
     "start_time": "2022-10-05T05:40:23.447249Z"
    },
    "code_folding": [
     0
    ]
   },
   "outputs": [],
   "source": [
    "#positive variables\n",
    "\n",
    "model.genActPower = pe.Var(model.gen, model.t, domain=pe.PositiveReals, initialize=1)\n",
    "model.genExcActPower = pe.Var(model.gen, model.t, domain=pe.PositiveReals, initialize=1)\n",
    "model.pImp = pe.Var(model.t, domain=pe.PositiveReals, initialize=1)\n",
    "model.pExp = pe.Var(model.t, domain=pe.PositiveReals, initialize=1)"
   ]
  },
  {
   "cell_type": "code",
   "execution_count": 38,
   "id": "f31344c8",
   "metadata": {
    "ExecuteTime": {
     "end_time": "2022-10-05T05:40:23.732798Z",
     "start_time": "2022-10-05T05:40:23.714252Z"
    },
    "code_folding": [
     0
    ]
   },
   "outputs": [],
   "source": [
    "# Load params\n",
    "model.loadRedActPower = pe.Var(model.loads, model.t, domain=pe.PositiveReals, initialize=1)\n",
    "model.loadCutActPower = pe.Var(model.loads, model.t, domain=pe.PositiveReals, initialize=1)\n",
    "model.loadENS = pe.Var(model.loads, model.t, domain=pe.PositiveReals, initialize=1)\n",
    "\n",
    "# Storage params\n",
    "model.storEnerState = pe.Var(model.stor, model.t, domain=pe.PositiveReals, initialize=1)\n",
    "model.storDchActPower = pe.Var(model.stor, model.t, domain=pe.PositiveReals, initialize=1)\n",
    "model.storChActPower = pe.Var(model.stor, model.t, domain=pe.PositiveReals, initialize=1)\n",
    "model.EminRelaxStor = pe.Var(model.stor, model.t, domain=pe.PositiveReals, initialize=1)\n",
    "\n",
    "# V2G params\n",
    "model.v2gDchActPower = pe.Var(model.v2g, model.t, domain=pe.PositiveReals, initialize=1)\n",
    "model.v2gChActPower = pe.Var(model.v2g, model.t, domain=pe.PositiveReals, initialize=1)\n",
    "model.v2gEnerState = pe.Var(model.v2g, model.t, domain=pe.Reals, initialize=1)\n",
    "model.EminRelaxEv = pe.Var(model.v2g, model.t, domain=pe.PositiveReals, initialize=1)\n",
    "\n",
    "# Charging Station params\n",
    "model.csActPower = pe.Var(model.cs, model.t, domain=pe.PositiveReals, initialize=1)\n",
    "model.csActPowerNet = pe.Var(model.cs, model.t, domain=pe.PositiveReals, initialize=1)"
   ]
  },
  {
   "cell_type": "code",
   "execution_count": 39,
   "id": "5e4339fc",
   "metadata": {
    "ExecuteTime": {
     "end_time": "2022-10-05T05:40:24.024446Z",
     "start_time": "2022-10-05T05:40:24.018591Z"
    },
    "code_folding": [
     0
    ]
   },
   "outputs": [],
   "source": [
    "# binary variables\n",
    "\n",
    "model.genXo = pe.Var(model.gen, model.t, domain=pe.Binary, initialize=0)\n",
    "model.loadXo = pe.Var(model.loads, model.t, domain=pe.Binary, initialize=0)"
   ]
  },
  {
   "cell_type": "code",
   "execution_count": 40,
   "id": "b44742bf",
   "metadata": {
    "ExecuteTime": {
     "end_time": "2022-10-05T05:40:24.351689Z",
     "start_time": "2022-10-05T05:40:24.343197Z"
    },
    "code_folding": [
     0
    ]
   },
   "outputs": [],
   "source": [
    "# more binary variables (v2g and stor)\n",
    "\n",
    "model.v2gChXo = pe.Var(model.v2g, model.t, domain=pe.Binary, initialize=0)\n",
    "model.v2gDchXo = pe.Var(model.v2g, model.t, domain=pe.Binary, initialize=0)\n",
    "model.storChXo = pe.Var(model.stor, model.t, domain=pe.Binary, initialize=0)\n",
    "model.storDchXo = pe.Var(model.stor, model.t, domain=pe.Binary, initialize=0)"
   ]
  },
  {
   "cell_type": "code",
   "execution_count": 41,
   "id": "9411b54f",
   "metadata": {
    "ExecuteTime": {
     "end_time": "2022-10-05T05:40:24.688437Z",
     "start_time": "2022-10-05T05:40:24.676724Z"
    },
    "code_folding": [
     0
    ]
   },
   "outputs": [],
   "source": [
    "# Storage deg variables\n",
    "\n",
    "model.storSegXo = pe.Var(model.stor, model.t, model.storPieceSegments, domain=pe.Binary, initialize=0)\n",
    "model.storSegSoC = pe.Var(model.stor, model.t, model.storPieceSegments, domain=pe.PositiveReals, initialize=1)\n",
    "\n",
    "# V2G battery deg variables\n",
    "\n",
    "model.v2gSegXo = pe.Var(model.v2g, model.t, model.storPieceSegments, domain=pe.Binary, initialize=0)\n",
    "model.v2gSegSoC = pe.Var(model.v2g, model.t, model.storPieceSegments, domain=pe.PositiveReals, initialize=1)"
   ]
  },
  {
   "cell_type": "code",
   "execution_count": 42,
   "id": "112efdba",
   "metadata": {
    "ExecuteTime": {
     "end_time": "2022-10-05T05:40:25.007629Z",
     "start_time": "2022-10-05T05:40:25.002748Z"
    },
    "code_folding": [
     0
    ]
   },
   "outputs": [],
   "source": [
    "# Default behaviour\n",
    "\n",
    "default_behaviour = pe.Constraint.Skip"
   ]
  },
  {
   "cell_type": "code",
   "execution_count": 43,
   "id": "fded35d7",
   "metadata": {
    "ExecuteTime": {
     "end_time": "2022-10-05T05:40:25.350544Z",
     "start_time": "2022-10-05T05:40:25.337338Z"
    },
    "code_folding": [
     0
    ]
   },
   "outputs": [],
   "source": [
    "# Network constraints\n",
    "\n",
    "def _maxImpEq(m, t):\n",
    "    return m.pImp[t] <= m.pMaxImp[t] \n",
    "\n",
    "model.MaxImpEq = pe.Constraint(model.t, rule=_maxImpEq)\n",
    "\n",
    "def _maxExpEq(m, t):\n",
    "    return m.pExp[t] <= m.pMaxExp[t]\n",
    "\n",
    "model.MaxExpEq = pe.Constraint(model.t, rule=_maxExpEq)"
   ]
  },
  {
   "cell_type": "code",
   "execution_count": 44,
   "id": "4afadd39",
   "metadata": {
    "ExecuteTime": {
     "end_time": "2022-10-05T05:40:25.727337Z",
     "start_time": "2022-10-05T05:40:25.698054Z"
    },
    "code_folding": [
     0
    ]
   },
   "outputs": [],
   "source": [
    "# Generator constraints with the active generation power\n",
    "\n",
    "# Maximum generation in generators with normal contract\n",
    "def _genActMaxEq1(m, g, t):\n",
    "    if m.genInfo[g, 5] == 1:\n",
    "        return (m.genActPower[g, t] <= m.genLimit[g, t, 1])\n",
    "    return default_behaviour\n",
    "    \n",
    "model.genActMaxEq1 = pe.Constraint(model.gen, model.t, rule=_genActMaxEq1)\n",
    "\n",
    "#*Minimum generation in generators with normal contract\n",
    "def _genActMinEq(m, g, t):\n",
    "    if m.genInfo[g, 5] == 1:\n",
    "        return (m.genActPower[g, t] >= m.genInfo[g, 7] * m.genXo[g, t])\n",
    "    return default_behaviour\n",
    "    \n",
    "model.genActMinEq = pe.Constraint(model.gen, model.t, rule=_genActMinEq)\n",
    "\n",
    "#*Generation in generators with Feed-in tariffs\n",
    "def _genActMaxEq2(m, g, t):\n",
    "    if m.genInfo[g, 5] == 2:\n",
    "        return (m.genActPower[g ,t] + m.genExcActPower[g, t] == m.genLimit[g, t, 1])\n",
    "    return default_behaviour\n",
    "    \n",
    "model.genActMaxEq2 = pe.Constraint(model.gen, model.t, rule=_genActMaxEq2)"
   ]
  },
  {
   "cell_type": "code",
   "execution_count": 45,
   "id": "efdbfabf",
   "metadata": {
    "ExecuteTime": {
     "end_time": "2022-10-05T05:40:26.087944Z",
     "start_time": "2022-10-05T05:40:26.051663Z"
    },
    "code_folding": [
     0
    ]
   },
   "outputs": [],
   "source": [
    "# Load constraints\n",
    "\n",
    "def _loadReactEq(m, l, t):\n",
    "    return m.loadRedActPower[l, t] <= m.loadLimit[l, t, 3]\n",
    "\n",
    "model.loadReactEq = pe.Constraint(model.loads, model.t, rule=_loadReactEq)\n",
    "\n",
    "\n",
    "def _loadCutActPowerEq(m, l, t):\n",
    "    return m.loadCutActPower[l, t] == m.loadLimit[l, t, 4] * m.loadXo[l, t]\n",
    "\n",
    "model.loadCutActPowerEq = pe.Constraint(model.loads, model.t, rule=_loadCutActPowerEq)\n",
    "\n",
    "\n",
    "def _loadENSEq(m, l, t):\n",
    "    return m.loadENS[l, t] + m.loadRedActPower[l, t] + m.loadCutActPower[l, t] <= m.loadActPower[l, t]\n",
    "\n",
    "model.loadENSEq = pe.Constraint(model.loads, model.t, rule=_loadENSEq)"
   ]
  },
  {
   "cell_type": "code",
   "execution_count": 46,
   "id": "0a2f0734",
   "metadata": {
    "ExecuteTime": {
     "end_time": "2022-10-05T05:40:26.666967Z",
     "start_time": "2022-10-05T05:40:26.532636Z"
    },
    "code_folding": [
     0
    ]
   },
   "outputs": [],
   "source": [
    "# Storage constraints\n",
    "\n",
    "def _storDchRateIneq(m, s, t):\n",
    "    return m.storDchActPower[s, t] <= m.storLimit[s, t, 2] * m.storDchXo[s, t]\n",
    "model.storDchRateIneq = pe.Constraint(model.stor, model.t, rule=_storDchRateIneq)\n",
    "\n",
    "\n",
    "def _storChRateIneq(m, s, t):\n",
    "    return m.storChActPower[s, t] <= m.storLimit[s, t, 1] * m.storChXo[s, t]\n",
    "model.storChRateIneq = pe.Constraint(model.stor, model.t, rule=_storChRateIneq)\n",
    "\n",
    "\n",
    "def _storMaxEq(m, s, t):\n",
    "    return m.storEnerState[s, t] <= m.storInfo[s, 6]\n",
    "model.storMaxEq = pe.Constraint(model.stor, model.t, rule=_storMaxEq)\n",
    "\n",
    "\n",
    "def _storRelaxEq(m, s, t):\n",
    "    return m.storEnerState[s, t] >= m.storInfo[s, 7] * (m.storInfo[s, 6]/100) - m.EminRelaxStor[s, t]\n",
    "model.storRelaxEq = pe.Constraint(model.stor, model.t, rule=_storRelaxEq)\n",
    "\n",
    "\n",
    "def _storBatBalanceEq(m, s, t):\n",
    "    if t == 1:\n",
    "        return m.storEnerState[s, t] == m.storInfo[s, 6] * (m.storInfo[s, 10]/100) + m.storChActPower[s, t] * (m.storInfo[s, 8]/100) - m.storDchActPower[s, t]/(m.storInfo[s, 9] / 100)\n",
    "    elif t > 1:\n",
    "        return m.storEnerState[s, t] == m.storEnerState[s, t-1] + m.storChActPower[s, t] * (m.storInfo[s, 8]/100) - m.storDchActPower[s, t]/(m.storInfo[s, 9]/100)\n",
    "    return default_behaviour\n",
    "model.storBatBalance = pe.Constraint(model.stor, model.t, rule=_storBatBalanceEq)\n",
    "\n",
    "    \n",
    "def _storBin(m, s, t):\n",
    "    return m.storChXo[s, t] + m.storDchXo[s, t] <= 1\n",
    "model.storBin = pe.Constraint(model.stor, model.t, rule=_storBin)\n",
    "\n",
    "\n",
    "\n",
    "# ADDITIONAL CONSTRAINTS\n",
    "# Segmented SoC binary control variable constraint\n",
    "def _storSegXo(m, s, t):\n",
    "    return sum(m.storSegXo[s, t, :]) == 1.0\n",
    "model.storSegCap = pe.Constraint(model.stor, model.t,\n",
    "                                 rule=_storSegXo)\n",
    "\n",
    "\n",
    "# Sum Segmented SoC equality constraint\n",
    "def _storSegSoC(m, s, t):\n",
    "    # SoC_min + sum_s(SoC_s,t + (s-1)*D*X_s,t) = SoC\n",
    "    # SoC_min = 0\n",
    "    # SoC_s,t is model.storSegSoC\n",
    "    # X_s,t is model.storSegXo\n",
    "    \n",
    "    # D = (SoC_max - SoC_min) / Nseg\n",
    "    segment_interval = m.storInfo[s, 6] / m.storPieceSegments.last()\n",
    "    \n",
    "    # sum section\n",
    "    temp_val = sum([model.storSegSoC[s, t, p] + (p-1)*segment_interval*model.storSegXo[s, t, p]\n",
    "                    for p in np.arange(1, model.storPieceSegments.last() + 1)])\n",
    "    \n",
    "    return temp_val == m.storEnerState[s, t]\n",
    "model.storSegSoCEq = pe.Constraint(model.stor, model.t, \n",
    "                                   rule=_storSegSoC)\n",
    "\n",
    "\n",
    "# Segmented SoC bounds\n",
    "def _storSegSoCLower(m, s, t, p):\n",
    "    # D = (SoC_max - SoC_min) / Nseg\n",
    "    segment_interval = m.storInfo[s, 6] / m.storPieceSegments.last()\n",
    "    \n",
    "    return m.storSegSoC[s, t, p] >= 0\n",
    "model.storSegSoCLower = pe.Constraint(model.stor, model.t, model.storPieceSegments,\n",
    "                                      rule=_storSegSoCLower)\n",
    "\n",
    "def _storSegSoCUpper(m, s, t, p):\n",
    "    # D = (SoC_max - SoC_min) / Nseg\n",
    "    segment_interval = m.storInfo[s, 6] / m.storPieceSegments.last()\n",
    "    \n",
    "    return m.storSegSoC[s, t, p] <= segment_interval * m.storSegXo[s, t, p]\n",
    "model.storSegSoCUpper = pe.Constraint(model.stor, model.t, model.storPieceSegments,\n",
    "                                      rule=_storSegSoCUpper)"
   ]
  },
  {
   "cell_type": "code",
   "execution_count": 47,
   "id": "f65ce4d5",
   "metadata": {
    "ExecuteTime": {
     "end_time": "2022-10-05T05:40:30.967147Z",
     "start_time": "2022-10-05T05:40:30.763048Z"
    },
    "code_folding": [
     0
    ]
   },
   "outputs": [],
   "source": [
    "# Electric Vehicles constraints\n",
    "\n",
    "# Discharge rate\n",
    "def _v2gDchRateIneq(m, v, t):\n",
    "    return m.v2gDchActPower[v, t] <= m.v2gLimit[v, t, 5] * m.v2gLimit[v, t, 1] * m.v2gDchXo[v, t]\n",
    "model.v2gDchRateIneq = pe.Constraint(model.v2g, model.t, rule=_v2gDchRateIneq)\n",
    "\n",
    "# Charge rate\n",
    "def _v2gChRateIneq(m, v, t):\n",
    "    return m.v2gChActPower[v, t] <= m.v2gLimit[v, t, 4] * m.v2gLimit[v, t, 1] * m.v2gChXo[v, t]\n",
    "model.v2gChRateIneq = pe.Constraint(model.v2g, model.t, rule=_v2gChRateIneq)\n",
    "\n",
    "# Energy Limits\n",
    "def _v2gMaxEq(m, v, t):\n",
    "    return m.v2gEnerState[v, t] <= m.v2gInfo[v, 5]\n",
    "model.v2gMaxEq = pe.Constraint(model.v2g, model.t, rule=_v2gMaxEq)\n",
    "\n",
    "def _v2gRelaxEq(m, v, t):\n",
    "    if m.v2gLimit[v, t, 1] == 1:\n",
    "        return m.v2gEnerState[v, t] >= m.v2gInfo[v, 11] * m.v2gInfo[v, 5]/100 - m.EminRelaxEv[v, t]\n",
    "    return default_behaviour\n",
    "model.v2gRelaxEq = pe.Constraint(model.v2g, model.t, rule=_v2gRelaxEq)\n",
    "\n",
    "\n",
    "# Energy Limits - If requirement\n",
    "def _v2gRelaxReqEq1(m, v, t):\n",
    "    if m.v2gLimit[v, t, 1] == 1:\n",
    "        return m.v2gEnerState[v, t] >= m.v2gLimit[v, t, 3] - m.EminRelaxEv[v, t]\n",
    "    return default_behaviour\n",
    "model.v2gRelaxReqEq1 = pe.Constraint(model.v2g, model.t, rule=_v2gRelaxReqEq1)\n",
    "\n",
    "\n",
    "def _v2gRelaxReqEq2(m, v, t):\n",
    "    if t < m.t.last():\n",
    "        if (m.v2gLimit[v, t, 1] == 1) & (m.v2gLimit[v, t+1, 1] == 0) & (m.v2gLimit[v, t, 3] == 0):\n",
    "            return m.v2gEnerState[v, t] >= m.v2gInfo[v, 5] - m.EminRelaxEv[v, t]\n",
    "    return default_behaviour\n",
    "model.v2gRelaxReqEq2 = pe.Constraint(model.v2g, model.t, rule=_v2gRelaxReqEq2)\n",
    "\n",
    "\n",
    "def _v2gRelaxReqEq3(m, v, t):\n",
    "    if (m.v2gLimit[v, t, 1] == 1) & (m.v2gLimit[v, t, 3] == 0) & (t == m.t.last()):\n",
    "        return m.v2gEnerState[v, t] >= m.v2gInfo[v, 5] - m.EminRelaxEv[v, t]\n",
    "    return default_behaviour\n",
    "model.v2gRelaxReqEq3 = pe.Constraint(model.v2g, model.t, rule=_v2gRelaxReqEq3)\n",
    "\n",
    "\n",
    "#Energy balance\n",
    "def _v2gBatBalanceZero(m, v, t):\n",
    "    if m.v2gLimit[v, t, 1] == 0:\n",
    "        return m.v2gEnerState[v, t] == 0\n",
    "    return default_behaviour\n",
    "model.v2gBatBalanceZero = pe.Constraint(model.v2g, model.t, rule=_v2gBatBalanceZero)\n",
    "\n",
    "\n",
    "def _v2gBatBalanceIniEq(m, v, t):\n",
    "    if (m.v2gLimit[v, t, 1] == 1) & (t == 1):\n",
    "        return m.v2gEnerState[v, t] == m.v2gLimit[v, t, 2] + m.v2gChActPower[v, t] * m.v2gInfo[v, 8] - m.v2gDchActPower[v, t] / m.v2gInfo[v, 9]\n",
    "    return default_behaviour\n",
    "model.v2gBatBalanceIniEq = pe.Constraint(model.v2g, model.t, rule=_v2gBatBalanceIniEq)\n",
    "\n",
    "\n",
    "def _v2gBatBalanceEq(m, v, t):\n",
    "    if t > 1:\n",
    "        if (m.v2gLimit[v, t-1, 1] == 1) & (m.v2gLimit[v, t, 1] == 1):\n",
    "            return m.v2gEnerState[v, t] == m.v2gEnerState[v, t-1] + m.v2gLimit[v, t, 2] + m.v2gChActPower[v, t] * m.v2gInfo[v, 8] - m.v2gDchActPower[v, t] / m.v2gInfo[v, 9]\n",
    "    return default_behaviour\n",
    "model.v2gBatBalanceEq = pe.Constraint(model.v2g, model.t, rule=_v2gBatBalanceEq)\n",
    "\n",
    "\n",
    "def _v2gBatBalanceEq2(m, v, t):\n",
    "    if t > 1:\n",
    "        if (m.v2gLimit[v, t-1, 1] == 0) & (m.v2gLimit[v, t, 1] == 1):\n",
    "            return m.v2gEnerState[v, t] == m.v2gLimit[v, t, 2] + m.v2gChActPower[v, t] * m.v2gInfo[v, 8] + m.v2gDchActPower[v, t] / m.v2gInfo[v, 9]\n",
    "    return default_behaviour\n",
    "model.v2gBatBalanceEq2 = pe.Constraint(model.v2g, model.t, rule=_v2gBatBalanceEq2)\n",
    "\n",
    "\n",
    "# disable charge and discharge in same period\n",
    "def _v2gBin(m, v, t):\n",
    "    return m.v2gChXo[v, t] + m.v2gDchXo[v, t] <= 1\n",
    "model.v2gBin = pe.Constraint(model.v2g, model.t, rule=_v2gBin)\n",
    "\n",
    "\n",
    "\n",
    "# ADDITIONAL V2G BATTERY CONSTRAINTS\n",
    "def _v2gSegXo(m, v, t):\n",
    "    return sum(m.v2gSegXo[v, t, :]) == 1.0\n",
    "model.v2gSegCap = pe.Constraint(model.v2g, model.t,\n",
    "                                rule=_v2gSegXo)\n",
    "\n",
    "\n",
    "def _v2gSegSoC(m, v, t):\n",
    "    # SoC_min + sum_s(SoC_s,t + (s-1)*D*X_s,t) = SoC\n",
    "    # SoC_min = 0\n",
    "    # SoC_s,t is model.v2gSegSoC\n",
    "    # X_s,t is model.v2gSegXo\n",
    "    \n",
    "    # D = (SoC_max - SoC_min) / Nseg\n",
    "    segment_interval = m.v2gInfo[v, 5] / m.storPieceSegments.last()\n",
    "    \n",
    "    # sum section\n",
    "    temp_val = sum([model.v2gSegSoC[v, t, p] + (p-1)*segment_interval*model.v2gSegXo[v, t, p]\n",
    "                    for p in np.arange(1, model.storPieceSegments.last() + 1)])\n",
    "    \n",
    "    return temp_val == m.v2gEnerState[v, t]\n",
    "model.v2gSegSoCEq = pe.Constraint(model.v2g, model.t, \n",
    "                                  rule=_v2gSegSoC)\n",
    "\n",
    "\n",
    "# Segmented SoC Bounds\n",
    "def _v2gSegSoCLower(m, v, t, p):\n",
    "    # D = (SoC_max - SoC_min) / Nseg\n",
    "    segment_interval = m.v2gInfo[v, 5] / m.storPieceSegments.last()\n",
    "    \n",
    "    return m.v2gSegSoC[v, t, p] >= 0\n",
    "model.v2gSegSoCLower = pe.Constraint(model.v2g, model.t, model.storPieceSegments,\n",
    "                                     rule=_v2gSegSoCLower)\n",
    "\n",
    "def _v2gSegSoCUpper(m, v, t, p):\n",
    "    # D = (SoC_max - SoC_min) / Nseg\n",
    "    segment_interval = m.v2gInfo[v, 5] / m.storPieceSegments.last()\n",
    "    \n",
    "    return m.v2gSegSoC[v, t, p] <= segment_interval * m.v2gSegXo[v, t, p]\n",
    "model.v2gSegSoCUpper = pe.Constraint(model.v2g, model.t, model.storPieceSegments,\n",
    "                                     rule=_v2gSegSoCUpper)"
   ]
  },
  {
   "cell_type": "code",
   "execution_count": 48,
   "id": "9c356ce1",
   "metadata": {
    "ExecuteTime": {
     "end_time": "2022-10-05T05:40:31.600457Z",
     "start_time": "2022-10-05T05:40:31.572150Z"
    },
    "code_folding": [
     0
    ]
   },
   "outputs": [],
   "source": [
    "# Charging Station constraints\n",
    "\n",
    "# Charge Limits\n",
    "\n",
    "def _csActMaxEq(m, c, t):\n",
    "    return m.csActPower[c, t] <= m.csInfo[c, 5]\n",
    "model.csActMaxEq = pe.Constraint(model.cs, model.t, rule=_csActMaxEq)\n",
    "\n",
    "\n",
    "def _csActMinEq(m, c, t):\n",
    "    return m.csActPower[c, t] >= -m.csInfo[c,  6]\n",
    "model.csActMinEq = pe.Constraint(model.cs, model.t, rule=_csActMinEq)\n",
    "\n",
    "\n",
    "def _csActPowerEq(m, c, t):\n",
    "    temp_val = []\n",
    "    for v in np.arange(1, m.v2g.last() + 1):\n",
    "        if m.EV_CS_Info[v, c, t] > 0:\n",
    "            temp_val.append(m.v2gChActPower[v, t] - m.v2gDchActPower[v, t])\n",
    "    \n",
    "    return m.csActPower[c, t] == sum(temp_val)\n",
    "model.csActPowerEq = pe.Constraint(model.cs, model.t, rule=_csActPowerEq)\n",
    "\n",
    "\n",
    "def _csActPowerNetEq(m, c, t):\n",
    "    temp_val = []\n",
    "    for v in np.arange(1, m.v2g.last() + 1):\n",
    "        if m.EV_CS_Info[v, c, t] > 0:\n",
    "            temp_val.append(m.v2gChActPower[v, t] / (m.csInfo[c, 7] / 100) - m.v2gDchActPower[v, t] * (m.csInfo[c, 8] / 100))\n",
    "        \n",
    "    return m.csActPowerNet[c, t] == sum(temp_val)\n",
    "model.csActPowerNetEq = pe.Constraint(model.cs, model.t, rule=_csActPowerNetEq)"
   ]
  },
  {
   "cell_type": "code",
   "execution_count": 49,
   "id": "8010bc91",
   "metadata": {
    "ExecuteTime": {
     "end_time": "2022-10-05T05:40:42.646959Z",
     "start_time": "2022-10-05T05:40:42.612285Z"
    },
    "code_folding": []
   },
   "outputs": [],
   "source": [
    "# Energy Balance\n",
    "\n",
    "def _actBalanceEqSimple(m, t):\n",
    "    temp_sum1 = sum([m.genActPower[i, t] - m.genExcActPower[i, t] for i in np.arange(1, m.gen.last()+1)])\n",
    "    temp_sum2 = sum(m.loadActPower[:, t])\n",
    "    \n",
    "    return temp_sum1 + m.pImp[t] - m.pExp[t] - temp_sum2 == 0\n",
    "\n",
    "#model.actBalanceSimple = pe.Constraint(model.t, rule=_actBalanceEqSimple)\n",
    "\n",
    "\n",
    "def _actBalanceEq(m, t):\n",
    "    temp_gens = sum([m.genActPower[g, t] - m.genExcActPower[g, t] for g in np.arange(1, m.gen.last()+1)])\n",
    "    \n",
    "    temp_loads = sum([m.loadActPower[l, t] - m.loadRedActPower[l, t] - m.loadCutActPower[l, t] - m.loadENS[l, t]\n",
    "                      for l in np.arange(1, m.loads.last() + 1)])\n",
    "    \n",
    "    temp_stor = sum([m.storChActPower[s, t] - m.storDchActPower[s, t]\n",
    "                     for s in np.arange(1, m.stor.last() + 1)])\n",
    "    \n",
    "    temp_v2g = sum([m.v2gChActPower[v, t] - m.v2gDchActPower[v, t]\n",
    "                    for v in np.arange(1, m.v2g.last() + 1)])\n",
    "    temp_cs = sum(m.csActPowerNet[:, t])\n",
    "    \n",
    "    return temp_gens + m.pImp[t] - m.pExp[t] - temp_loads - temp_stor - temp_v2g - temp_cs == 0\n",
    "model.actBalanceSimple = pe.Constraint(model.t, rule=_actBalanceEq)"
   ]
  },
  {
   "cell_type": "code",
   "execution_count": 50,
   "id": "0a32d38e",
   "metadata": {
    "ExecuteTime": {
     "end_time": "2022-10-05T05:40:46.900746Z",
     "start_time": "2022-10-05T05:40:46.842137Z"
    },
    "code_folding": [
     2
    ]
   },
   "outputs": [],
   "source": [
    "# Objective Function -> Only considering generators\n",
    "\n",
    "def _objFunSimple(m):\n",
    "    temp_sum1 = sum([m.genActPower[g, t] * m.genLimit[g, t, 3] + m.genExcActPower[g, t] * m.genLimit[g, t, 5]\n",
    "                     for t in np.arange(1, m.t.last()+1) for g in np.arange(1, m.gen.last()+1)])\n",
    "    \n",
    "    temp_sum2 = sum([m.pImp[i] * m.buyPrice[i] - m.pExp[i] * m.sellPrice[i] for i in np.arange(1, m.t.last()+1)])\n",
    "    m.derCost = temp_sum1 + temp_sum2\n",
    "\n",
    "    return temp_sum1 + temp_sum2\n",
    "\n",
    "#model.ObjFunSimple = pe.Objective(rule=_objFunSimple, sense=pe.minimize)\n",
    "\n",
    "\n",
    "def _objFun(m):\n",
    "    temp_gens = sum([m.genActPower[g, t] * m.genLimit[g, t, 3] + m.genExcActPower[g, t] * m.genLimit[g, t, 5]\n",
    "                     for t in np.arange(1, m.t.last() + 1) for g in np.arange(1, m.gen.last() + 1)])\n",
    "    \n",
    "    temp_loads = sum([m.loadRedActPower[l, t] * m.loadLimit[l, t, 7] + m.loadCutActPower[l, t] * m.loadLimit[l, t, 8] + m.loadENS[l, t] * m.loadLimit[l, t, 10] \n",
    "                      for t in np.arange(1, m.t.last() + 1) for l in np.arange(1, m.loads.last() + 1)])\n",
    "    \n",
    "    temp_stor = sum([m.storDchActPower[s, t] * m.storLimit[s, t, 4] - m.storChActPower[s, t] * m.storLimit[s, t, 3] + m.EminRelaxStor[s, t] * 200 \n",
    "                     for t in np.arange(1, m.t.last() +1) for s in np.arange(1, m.stor.last() + 1)])\n",
    "    \n",
    "    temp_v2g = sum([m.v2gDchActPower[v, t] * m.v2gLimit[v, t, 7] - m.v2gChActPower[v, t] * m.v2gLimit[v, t, 6] + m.EminRelaxEv[v, t] * 200\n",
    "                    for t in np.arange(1, m.t.last() + 1) for v in np.arange(1, m.v2g.last() + 1)])\n",
    "    \n",
    "    temp_rest = sum([m.pImp[t] * m.buyPrice[t] - m.pExp[t] * m.sellPrice[t] for t in np.arange(1, m.t.last() + 1)])\n",
    "    \n",
    "    temp_storDeg = sum([m.storCapCost[s] * (m.storEnerState[s, t]/m.storInfo[s, 6] - 0.63)**2 + m.storDchActPower[s, t] * m.storLimit[s, t, 4] + m.storChActPower[s, t] * m.storLimit[s, t, 3] + ((6.5e-3)/m.storInfo[s, 6]) * (m.storChActPower[s, t])**2\n",
    "                        for t in np.arange(1, m.t.last() + 1) for s in np.arange(1, m.stor.last() + 1)])\n",
    "    \n",
    "    #temp_v2gDeg = sum([m.v2gCapCost[v] * (m.v2gEnerState[v, t]/m.v2gInfo[v, 5] - 0.63)**2 + (m.v2gDchActPower[v, t] * m.v2gLimit[v, t, 7]) + (m.v2gChActPower[v, t] * m.v2gLimit[v, t, 6]) + ((6.5e3)/m.v2gInfo[v, 5]) * (m.v2gChActPower[v, t])**2\n",
    "    #                   for t in np.arange(1, m.t.last() + 1) for v in np.arange(1, m.v2g.last() + 1)])\n",
    "    \n",
    "    m.derCost = temp_gens + temp_loads + temp_stor + temp_stor + temp_v2g + temp_rest\n",
    "\n",
    "    return temp_gens + temp_loads + temp_stor + temp_stor + temp_v2g + temp_rest + temp_storDeg# + temp_v2gDeg\n",
    "\n",
    "model.ObjFun = pe.Objective(rule=_objFun, sense=pe.minimize)"
   ]
  },
  {
   "cell_type": "code",
   "execution_count": 51,
   "id": "185772f3",
   "metadata": {
    "ExecuteTime": {
     "end_time": "2022-10-05T05:40:51.142021Z",
     "start_time": "2022-10-05T05:40:49.843769Z"
    },
    "scrolled": true
   },
   "outputs": [
    {
     "name": "stdout",
     "output_type": "stream",
     "text": [
      "SCIP version 8.0.1 [precision: 8 byte] [memory: block] [mode: optimized] [LP solver: Soplex 6.0.1] [GitHash: c84ee4283e]\n",
      "Copyright (C) 2002-2022 Konrad-Zuse-Zentrum fuer Informationstechnik Berlin (ZIB)\n",
      "\n",
      "External libraries: \n",
      "  Soplex 6.0.1         Linear Programming Solver developed at Zuse Institute Berlin (soplex.zib.de) [GitHash: 8b86b300]\n",
      "  CppAD 20180000.0     Algorithmic Differentiation of C++ algorithms developed by B. Bell (github.com/coin-or/CppAD)\n",
      "  MPIR 3.0.0           Multiple Precision Integers and Rationals Library developed by W. Hart (mpir.org)\n",
      "  ZIMPL 3.5.2          Zuse Institute Mathematical Programming Language developed by T. Koch (zimpl.zib.de)\n",
      "  AMPL/MP 4e2d45c4     AMPL .nl file reader library (github.com/ampl/mp)\n",
      "  PaPILO 2.1.0         parallel presolve for integer and linear optimization (github.com/scipopt/papilo) [GitHash: 9363218]\n",
      "  bliss 0.77           Computing Graph Automorphism Groups by T. Junttila and P. Kaski (www.tcs.hut.fi/Software/bliss/)\n",
      "  Ipopt 3.12.9         Interior Point Optimizer developed by A. Waechter et.al. (github.com/coin-or/Ipopt)\n",
      "\n",
      "user parameter file <scip.set> not found - using default parameters\n",
      "\n",
      "read problem <C:\\Users\\camar\\AppData\\Local\\Temp\\tmpkkwbl9hh.pyomo.nl>\n",
      "============\n",
      "\n",
      "original problem has 3409 variables (1104 bin, 0 int, 0 impl, 2305 cont) and 3719 constraints\n",
      "\n",
      "solve problem\n",
      "=============\n",
      "\n",
      "  [nonlinear] <objcons>: 0.0525*((0.02*<x0>+(-0.63)))^2+0.00013*(<x72>)^2+0.105*((0.01*<x24>+(-0.63)))^2+6.5e-05*(<x96>)^2+0.01575*((0.0666667*<x48>+(-0.63)))^2+0.000433333*(<x120>)^2+0.0525*((0.02*<x1>+(-0.63)))^2+0.00013*(<x73>)^2+0.105*((0.01*<x25>+(-0.63)))^2+6.5e-05*(<x97>)^2+0.01575*((0.0666667*<x49>+(-0.63)))^2+0.000433333*(<x121>)^2+0.0525*((0.02*<x2>+(-0.63)))^2+0.00013*(<x74>)^2+0.105*((0.01*<x26>+(-0.63)))^2+6.5e-05*(<x98>)^2+0.01575*((0.0666667*<x50>+(-0.63)))^2+0.000433333*(<x122>)^2+0.0525*((0.02*<x3>+(-0.63)))^2+0.00013*(<x75>)^2+0.105*((0.01*<x27>+(-0.63)))^2+6.5e-05*(<x99>)^2+0.01575*((0.0666667*<x51>+(-0.63)))^2+0.000433333*(<x123>)^2+0.0525*((0.02*<x4>+(-0.63)))^2+0.00013*(<x76>)^2+0.105*((0.01*<x28>+(-0.63)))^2+6.5e-05*(<x100>)^2+0.01575*((0.0666667*<x52>+(-0.63)))^2+0.000433333*(<x124>)^2+0.0525*((0.02*<x5>+(-0.63)))^2+0.00013*(<x77>)^2+0.105*((0.01*<x29>+(-0.63)))^2+6.5e-05*(<x101>)^2+0.01575*((0.0666667*<x53>+(-0.63)))^2+0.000433333*(<x125>)^2+0.0525*((0.02*<x6>+(-0.63)))^2+0.00013*(<x78>)^2+0.105*((0.01*<x30>+(-0.63)))^2+6.5e-05*(<x102>)^2+0.01575*((0.0666667*<x54>+(-0.63)))^2+0.000433333*(<x126>)^2+0.0525*((0.02*<x7>+(-0.63)))^2+0.00013*(<x79>)^2+0.105*((0.01*<x31>+(-0.63)))^2+6.5e-05*(<x103>)^2+0.01575*((0.0666667*<x55>+(-0.63)))^2+0.000433333*(<x127>)^2+0.0525*((0.02*<x8>+(-0.63)))^2+0.00013*(<x80>)^2+0.105*((0.01*<x32>+(-0.63)))^2+6.5e-05*(<x104>)^2+0.01575*((0.0666667*<x56>+(-0.63)))^2+0.000433333*(<x128>)^2+0.0525*((0.02*<x9>+(-0.63)))^2+0.00013*(<x81>)^2+0.105*((0.01*<x33>+(-0.63)))^2+6.5e-05*(<x105>)^2+0.01575*((0.0666667*<x57>+(-0.63)))^2+0.000433333*(<x129>)^2+0.0525*((0.02*<x10>+(-0.63)))^2+0.00013*(<x82>)^2+0.105*((0.01*<x34>+(-0.63)))^2+6.5e-05*(<x106>)^2+0.01575*((0.0666667*<x58>+(-0.63)))^2+0.000433333*(<x130>)^2+0.0525*((0.02*<x11>+(-0.63)))^2+0.00013*(<x83>)^2+0.105*((0.01*<x35>+(-0.63)))^2+6.5e-05*(<x107>)^2+0.01575*((0.0666667*<x59>+(-0.63)))^2+0.000433333*(<x131>)^2+0.0525*((0.02*<x12>+(-0.63)))^2+0.00013*(<x84>)^2+0.105*((0.01*<x36>+(-0.63)))^2+6.5e-05*(<x108>)^2+0.01575*((0.0666667*<x60>+(-0.63)))^2+0.000433333*(<x132>)^2+0.0525*((0.02*<x13>+(-0.63)))^2+0.00013*(<x85>)^2+0.105*((0.01*<x37>+(-0.63)))^2+6.5e-05*(<x109>)^2+0.01575*((0.0666667*<x61>+(-0.63)))^2+0.000433333*(<x133>)^2+0.0525*((0.02*<x14>+(-0.63)))^2+0.00013*(<x86>)^2+0.105*((0.01*<x38>+(-0.63)))^2+6.5e-05*(<x110>)^2+0.01575*((0.0666667*<x62>+(-0.63)))^2+0.000433333*(<x134>)^2+0.0525*((0.02*<x15>+(-0.63)))^2+0.00013*(<x87>)^2+0.105*((0.01*<x39>+(-0.63)))^2+6.5e-05*(<x111>)^2+0.01575*((0.0666667*<x63>+(-0.63)))^2+0.000433333*(<x135>)^2+0.0525*((0.02*<x16>+(-0.63)))^2+0.00013*(<x88>)^2+0.105*((0.01*<x40>+(-0.63)))^2+6.5e-05*(<x112>)^2+0.01575*((0.0666667*<x64>+(-0.63)))^2+0.000433333*(<x136>)^2+0.0525*((0.02*<x17>+(-0.63)))^2+0.00013*(<x89>)^2+0.105*((0.01*<x41>+(-0.63)))^2+6.5e-05*(<x113>)^2+0.01575*((0.0666667*<x65>+(-0.63)))^2+0.000433333*(<x137>)^2+0.0525*((0.02*<x18>+(-0.63)))^2+0.00013*(<x90>)^2+0.105*((0.01*<x42>+(-0.63)))^2+6.5e-05*(<x114>)^2+0.01575*((0.0666667*<x66>+(-0.63)))^2+0.000433333*(<x138>)^2+0.0525*((0.02*<x19>+(-0.63)))^2+0.00013*(<x91>)^2+0.105*((0.01*<x43>+(-0.63)))^2+6.5e-05*(<x115>)^2+0.01575*((0.0666667*<x67>+(-0.63)))^2+0.000433333*(<x139>)^2+0.0525*((0.02*<x20>+(-0.63)))^2+0.00013*(<x92>)^2+0.105*((0.01*<x44>+(-0.63)))^2+6.5e-05*(<x116>)^2+0.01575*((0.0666667*<x68>+(-0.63)))^2+0.000433333*(<x140>)^2+0.0525*((0.02*<x21>+(-0.63)))^2+0.00013*(<x93>)^2+0.105*((0.01*<x45>+(-0.63)))^2+6.5e-05*(<x117>)^2+0.01575*((0.0666667*<x69>+(-0.63)))^2+0.000433333*(<x141>)^2+0.0525*((0.02*<x22>+(-0.63)))^2+0.00013*(<x94>)^2+0.105*((0.01*<x46>+(-0.63)))^2+6.5e-05*(<x118>)^2+0.01575*((0.0666667*<x70>+(-0.63)))^2+0.000433333*(<x142>)^2+0.0525*((0.02*<x23>+(-0.63)))^2+0.00013*(<x95>)^2+0.105*((0.01*<x47>+(-0.63)))^2+6.5e-05*(<x119>)^2+0.01575*((0.0666667*<x71>+(-0.63)))^2+0.000433333*(<x143>)^2-<nlobjvar> <= 0;\n",
      "violation: right hand side is violated by 1.5725702\n",
      "all 1 solutions given by solution candidate storage are infeasible\n",
      "\n",
      "presolving:\n",
      "(round 1, fast)       1382 del vars, 2265 del conss, 0 add conss, 2867 chg bounds, 0 chg sides, 0 chg coeffs, 0 upgd conss, 0 impls, 119 clqs\n",
      "(round 2, fast)       1455 del vars, 2389 del conss, 0 add conss, 2867 chg bounds, 32 chg sides, 16 chg coeffs, 0 upgd conss, 119 impls, 119 clqs\n",
      "(round 3, fast)       1541 del vars, 2389 del conss, 0 add conss, 2972 chg bounds, 32 chg sides, 16 chg coeffs, 0 upgd conss, 119 impls, 119 clqs\n",
      "(round 4, exhaustive) 1541 del vars, 2399 del conss, 0 add conss, 2972 chg bounds, 32 chg sides, 16 chg coeffs, 0 upgd conss, 119 impls, 119 clqs\n",
      "(round 5, exhaustive) 1542 del vars, 2400 del conss, 0 add conss, 2972 chg bounds, 32 chg sides, 16 chg coeffs, 595 upgd conss, 119 impls, 119 clqs\n",
      "(round 6, exhaustive) 1542 del vars, 2400 del conss, 0 add conss, 2972 chg bounds, 32 chg sides, 16 chg coeffs, 714 upgd conss, 595 impls, 119 clqs\n",
      "(round 7, exhaustive) 1567 del vars, 2400 del conss, 0 add conss, 3016 chg bounds, 32 chg sides, 0 chg coeffs, 714 upgd conss, 637 impls, 124 clqs\n",
      "(round 8, fast)       1591 del vars, 2466 del conss, 0 add conss, 3016 chg bounds, 47 chg sides, 15 chg coeffs, 714 upgd conss, 642 impls, 117 clqs\n",
      "(round 9, fast)       1613 del vars, 2481 del conss, 0 add conss, 3017 chg bounds, 47 chg sides, 15 chg coeffs, 714 upgd conss, 642 impls, 114 clqs\n",
      "(round 10, exhaustive) 1638 del vars, 2481 del conss, 0 add conss, 3080 chg bounds, 47 chg sides, 0 chg coeffs, 714 upgd conss, 680 impls, 117 clqs\n",
      "(round 11, fast)       1663 del vars, 2558 del conss, 0 add conss, 3080 chg bounds, 67 chg sides, 20 chg coeffs, 714 upgd conss, 683 impls, 115 clqs\n",
      "(round 12, fast)       1693 del vars, 2577 del conss, 0 add conss, 3084 chg bounds, 67 chg sides, 20 chg coeffs, 714 upgd conss, 683 impls, 113 clqs\n",
      "(round 13, exhaustive) 1720 del vars, 2577 del conss, 0 add conss, 3141 chg bounds, 67 chg sides, 0 chg coeffs, 714 upgd conss, 729 impls, 120 clqs\n",
      "(round 14, fast)       1748 del vars, 2649 del conss, 0 add conss, 3141 chg bounds, 80 chg sides, 13 chg coeffs, 714 upgd conss, 736 impls, 115 clqs\n",
      "(round 15, fast)       1772 del vars, 2662 del conss, 0 add conss, 3145 chg bounds, 80 chg sides, 13 chg coeffs, 714 upgd conss, 736 impls, 110 clqs\n",
      "(round 16, exhaustive) 1797 del vars, 2662 del conss, 0 add conss, 3164 chg bounds, 80 chg sides, 0 chg coeffs, 714 upgd conss, 1236 impls, 176 clqs\n",
      "(round 17, fast)       1811 del vars, 2695 del conss, 0 add conss, 3165 chg bounds, 85 chg sides, 5 chg coeffs, 714 upgd conss, 1242 impls, 170 clqs\n",
      "(round 18, fast)       1812 del vars, 2696 del conss, 0 add conss, 3165 chg bounds, 85 chg sides, 5 chg coeffs, 714 upgd conss, 1242 impls, 170 clqs\n",
      "(round 19, exhaustive) 1837 del vars, 2696 del conss, 0 add conss, 3169 chg bounds, 85 chg sides, 0 chg coeffs, 714 upgd conss, 1725 impls, 261 clqs\n",
      "(round 20, fast)       1851 del vars, 2722 del conss, 0 add conss, 3170 chg bounds, 85 chg sides, 4 chg coeffs, 714 upgd conss, 1738 impls, 247 clqs\n",
      "   (0.0s) probing cycle finished: starting next cycle\n",
      "   (0.0s) probing: 151/486 (31.1%) - 139 fixings, 6 aggregations, 3308 implications, 198 bound changes\n",
      "   (0.0s) probing aborted: 50/50 successive totally useless probings\n",
      "(round 21, exhaustive) 1869 del vars, 2722 del conss, 0 add conss, 3181 chg bounds, 85 chg sides, 0 chg coeffs, 714 upgd conss, 3564 impls, 375 clqs\n",
      "(round 22, fast)       1869 del vars, 2734 del conss, 0 add conss, 3181 chg bounds, 86 chg sides, 11 chg coeffs, 714 upgd conss, 3564 impls, 375 clqs\n",
      "   (0.0s) probing: 156/486 (32.1%) - 139 fixings, 6 aggregations, 3308 implications, 198 bound changes\n",
      "   (0.0s) probing aborted: 50/50 successive totally useless probings\n",
      "   (0.0s) symmetry computation started: requiring (bin +, int -, cont -), (fixed: bin -, int +, cont +)\n",
      "   (0.0s) no symmetry present\n",
      "presolving (23 rounds: 23 fast, 10 medium, 10 exhaustive):\n",
      " 1869 deleted vars, 2734 deleted constraints, 0 added constraints, 3181 tightened bounds, 0 added holes, 86 changed sides, 0 changed coefficients\n",
      " 3564 implications, 375 cliques\n",
      "presolved problem has 1613 variables (486 bin, 0 int, 0 impl, 1127 cont) and 985 constraints\n",
      "    447 constraints of type <varbound>\n",
      "     79 constraints of type <setppc>\n",
      "    458 constraints of type <linear>\n",
      "      1 constraints of type <nonlinear>\n",
      "Presolving Time: 0.00\n",
      "\n"
     ]
    },
    {
     "name": "stdout",
     "output_type": "stream",
     "text": [
      " time | node  | left  |LP iter|LP it/n|mem/heur|mdpt |vars |cons |rows |cuts |sepa|confs|strbr|  dualbound   | primalbound  |  gap   | compl. \n",
      "t 0.0s|     1 |     0 |   602 |     - |  trysol|   0 |1758 | 987 |1417 |   0 |  0 |   2 |   0 |-1.994618e+04 | 7.940916e+02 |    Inf | unknown\n",
      "  0.0s|     1 |     0 |  1553 |     - |    24M |   0 |1758 | 987 |1417 |   0 |  0 |   2 |   0 | 1.601889e+02 | 7.940916e+02 | 395.72%| unknown\n",
      "  0.0s|     1 |     0 |  1553 |     - |    24M |   0 |1758 | 987 |1417 |   0 |  0 |   2 |   0 | 1.601889e+02 | 7.940916e+02 | 395.72%| unknown\n",
      "  0.0s|     1 |     0 |  1654 |     - |    25M |   0 |1758 | 987 |1507 |  90 |  1 |   2 |   0 | 1.602190e+02 | 7.940916e+02 | 395.63%| unknown\n",
      "  0.0s|     1 |     0 |  1669 |     - |    25M |   0 |1758 | 987 |1524 | 107 |  2 |   2 |   0 | 1.602199e+02 | 7.940916e+02 | 395.63%| unknown\n",
      "  0.0s|     1 |     0 |  1681 |     - |    26M |   0 |1758 | 987 |1533 | 116 |  3 |   2 |   0 | 1.602199e+02 | 7.940916e+02 | 395.63%| unknown\n",
      "  0.0s|     1 |     0 |  1696 |     - |    26M |   0 |1758 | 987 |1548 | 131 |  4 |   2 |   0 | 1.602199e+02 | 7.940916e+02 | 395.63%| unknown\n",
      "  0.0s|     1 |     0 |  1702 |     - |    26M |   0 |1758 | 987 |1557 | 140 |  5 |   2 |   0 | 1.602199e+02 | 7.940916e+02 | 395.63%| unknown\n",
      "  0.0s|     1 |     0 |  1717 |     - |    26M |   0 |1758 | 987 |1573 | 156 |  6 |   2 |   0 | 1.602199e+02 | 7.940916e+02 | 395.63%| unknown\n",
      "  0.0s|     1 |     0 |  1720 |     - |    26M |   0 |1758 | 987 |1574 | 157 |  7 |   2 |   0 | 1.602199e+02 | 7.940916e+02 | 395.63%| unknown\n",
      "  0.0s|     1 |     0 |  1721 |     - |    26M |   0 |1758 | 987 |1575 | 158 |  8 |   2 |   0 | 1.602199e+02 | 7.940916e+02 | 395.63%| unknown\n",
      "  0.0s|     1 |     0 |  1722 |     - |    27M |   0 |1758 | 987 |1576 | 159 |  9 |   2 |   0 | 1.602199e+02 | 7.940916e+02 | 395.63%| unknown\n",
      "  0.0s|     1 |     0 |  1723 |     - |    27M |   0 |1758 | 988 |1578 | 161 | 10 |   3 |   0 | 1.602199e+02 | 7.940916e+02 | 395.63%| unknown\n",
      "d 0.0s|     1 |     0 |  1829 |     - |farkasdi|   0 |1758 | 985 |1578 |   0 | 11 |   3 |   0 | 1.602199e+02 | 1.602199e+02 |   0.00%| unknown\n",
      "  0.0s|     1 |     0 |  1829 |     - |    27M |   0 |1758 | 985 |1578 | 161 | 11 |   3 |   0 | 1.602199e+02 | 1.602199e+02 |   0.00%| unknown\n",
      "\n",
      "SCIP Status        : problem is solved [optimal solution found]\n",
      "Solving Time (sec) : 0.00\n",
      "Solving Nodes      : 1\n",
      "Primal Bound       : +1.60219922341823e+02 (2 solutions)\n",
      "Dual Bound         : +1.60219922341823e+02\n",
      "Gap                : 0.00 %\n"
     ]
    }
   ],
   "source": [
    "# Create model instance and solve\n",
    "\n",
    "import cplex\n",
    "from pyomo.opt import SolverFactory\n",
    "\n",
    "model.write('res_V4_EC.lp',  io_options={'symbolic_solver_labels': True})\n",
    "\n",
    "# Create a solver\n",
    "#opt = pe.SolverFactory('cplex', executable='C:/IBM/ILOG/CPLEX_Studio221/cplex/bin/x64_win64/cplex.exe')\n",
    "opt = pe.SolverFactory('scip', executable='C:/Program Files/SCIPOptSuite 8.0.1/bin/scip.exe')\n",
    "#opt.options['LogFile'] = 'res_V4_EC.log'\n",
    "\n",
    "results = opt.solve(model, tee=True)\n",
    "#results.write()"
   ]
  },
  {
   "cell_type": "code",
   "execution_count": 156,
   "id": "a4b1c891",
   "metadata": {
    "ExecuteTime": {
     "end_time": "2022-10-04T14:41:33.500625Z",
     "start_time": "2022-10-04T14:41:33.481443Z"
    }
   },
   "outputs": [],
   "source": [
    "# Extract Pyomo values\n",
    "# https://stackoverflow.com/questions/67491499/how-to-extract-indexed-variable-information-in-pyomo-model-and-build-pandas-data\n",
    "\n",
    "def ext_pyomo_vals(vals):\n",
    "    # make a pd.Series from each \n",
    "    s = pd.Series(vals.extract_values(),\n",
    "                  index=vals.extract_values().keys())\n",
    "    \n",
    "    # if the series is multi-indexed we need to unstack it...\n",
    "    if type(s.index[0]) == tuple:    # it is multi-indexed\n",
    "        s = s.unstack(level=1)\n",
    "    else:\n",
    "        # force transition from Series -> df\n",
    "        s = pd.DataFrame(s)\n",
    "        \n",
    "    return s"
   ]
  },
  {
   "cell_type": "code",
   "execution_count": 157,
   "id": "740781f5",
   "metadata": {
    "ExecuteTime": {
     "end_time": "2022-10-04T14:41:34.123013Z",
     "start_time": "2022-10-04T14:41:34.063267Z"
    }
   },
   "outputs": [],
   "source": [
    "# Result extraction\n",
    "\n",
    "# Generation\n",
    "result_genActPower = ext_pyomo_vals(model.genActPower)\n",
    "result_genExcActPower = ext_pyomo_vals(model.genExcActPower)\n",
    "\n",
    "# Imports/Exports\n",
    "result_pimp = ext_pyomo_vals(model.pImp)\n",
    "result_pexp = ext_pyomo_vals(model.pExp)\n",
    "\n",
    "# Loads\n",
    "result_loadRedActPower = ext_pyomo_vals(model.loadRedActPower)\n",
    "result_loadCutActPower = ext_pyomo_vals(model.loadCutActPower)\n",
    "result_loadENS = ext_pyomo_vals(model.loadENS)\n",
    "\n",
    "# Storage\n",
    "result_storDchActPower = ext_pyomo_vals(model.storDchActPower)\n",
    "result_storChActPower = ext_pyomo_vals(model.storChActPower)\n",
    "result_storEnerState = ext_pyomo_vals(model.storEnerState)\n",
    "\n",
    "# V2G\n",
    "result_v2gDchActPower = ext_pyomo_vals(model.v2gDchActPower)\n",
    "result_v2gChActPower = ext_pyomo_vals(model.v2gChActPower)\n",
    "result_v2gEnerState = ext_pyomo_vals(model.v2gEnerState)\n",
    "\n",
    "# Charging Stations\n",
    "result_csActPower = ext_pyomo_vals(model.csActPower)\n",
    "result_csActPowerNet = ext_pyomo_vals(model.csActPowerNet)\n",
    "\n",
    "# Booleans\n",
    "result_genXo = ext_pyomo_vals(model.genXo)\n",
    "result_loadXo = ext_pyomo_vals(model.loadXo)\n",
    "result_storDchXo = ext_pyomo_vals(model.storDchXo)\n",
    "result_storChXo = ext_pyomo_vals(model.storChXo)\n",
    "result_v2gDchXo = ext_pyomo_vals(model.v2gDchXo)\n",
    "result_v2gChXo = ext_pyomo_vals(model.v2gChXo)"
   ]
  },
  {
   "cell_type": "code",
   "execution_count": null,
   "id": "fb06294b",
   "metadata": {},
   "outputs": [],
   "source": [
    "# Turn to pandas and save results\n",
    "\n",
    "# Gens\n",
    "pd_genActPower = pd.DataFrame(result_genActPower)\n",
    "pd_genActPower.to_csv('results/cplex_pyomo/genActPower.csv', index=None)\n",
    "\n",
    "pd_genExcActPower = pd.DataFrame(result_genExcActPower)\n",
    "pd_genExcActPower.to_csv('results/cplex_pyomo/genExcActPower.csv', index=None)\n",
    "\n",
    "# Import/Export\n",
    "pd_pimp = pd.DataFrame(result_pimp)\n",
    "pd_pimp.to_csv('results/cplex_pyomo/pimp.csv', index=None)\n",
    "\n",
    "pd_pexp = pd.DataFrame(result_pexp)\n",
    "pd_pexp.to_csv('results/cplex_pyomo/pexp.csv', index=None)\n",
    "\n",
    "# Loads\n",
    "pd_loadRedActPower = pd.DataFrame(result_loadRedActPower)\n",
    "pd_loadRedActPower.to_csv('results/cplex_pyomo/loadRedActPower.csv', index=None)\n",
    "\n",
    "pd_loadCutActPower = pd.DataFrame(result_loadCutActPower)\n",
    "pd_loadCutActPower.to_csv('results/cplex_pyomo/loadCutActPower.csv', index=None)\n",
    "\n",
    "pd_loadENS = pd.DataFrame(result_loadENS)\n",
    "pd_loadENS.to_csv('results/cplex_pyomo/loadENS.csv', index=None)\n",
    "\n",
    "# Storage\n",
    "pd_storDchActPower = pd.DataFrame(result_storDchActPower)\n",
    "pd_storDchActPower.to_csv('results/cplex_pyomo/storDchActPower.csv', index=None)\n",
    "\n",
    "pd_storChActPower = pd.DataFrame(result_storChActPower)\n",
    "pd_storChActPower.to_csv('results/cplex_pyomo/storChActPower.csv', index=None)\n",
    "\n",
    "pd_storEnerState = pd.DataFrame(result_storEnerState)\n",
    "pd_storEnerState.to_csv('results/cplex_pyomo/storEnerState.csv', index=None)\n",
    "\n",
    "# V2G\n",
    "pd_v2gDchActPower = pd.DataFrame(result_v2gDchActPower)\n",
    "pd_v2gDchActPower.to_csv('results/cplex_pyomo/v2gDchActPower.csv', index=None)\n",
    "\n",
    "pd_v2gChActPower = pd.DataFrame(result_v2gChActPower)\n",
    "pd_v2gChActPower.to_csv('results/cplex_pyomo/v2gChActPower.csv', index=None)\n",
    "\n",
    "pd_v2gEnerState = pd.DataFrame(result_v2gEnerState)\n",
    "pd_v2gEnerState.to_csv('results/cplex_pyomo/v2gEnerState.csv', index=None)\n",
    "\n",
    "# Charging Stations\n",
    "pd_csActPower = pd.DataFrame(result_csActPower)\n",
    "pd_csActPower.to_csv('results/cplex_pyomo/csActPower.csv', index=None)\n",
    "\n",
    "pd_csActPowerNet = pd.DataFrame(result_csActPowerNet)\n",
    "pd_csActPowerNet.to_csv('results/cplex_pyomo/csActPowerNet.csv', index=None)\n",
    "\n",
    "# Booleans\n",
    "pd_genXo = pd.DataFrame(result_genXo)\n",
    "pd_genXo.to_csv('results/cplex_pyomo/genXo.csv', index=None)\n",
    "\n",
    "pd_loadXo = pd.DataFrame(result_loadXo)\n",
    "pd_loadXo.to_csv('results/cplex_pyomo/loadXo.csv', index=None)\n",
    "\n",
    "pd_storDchXo = pd.DataFrame(result_storDchXo)\n",
    "pd_storDchXo.to_csv('results/cplex_pyomo/storDchXo.csv', index=None)\n",
    "\n",
    "pd_storChXo = pd.DataFrame(result_storChXo)\n",
    "pd_storChXo.to_csv('results/cplex_pyomo/storChXo.csv', index=None)\n",
    "\n",
    "pd_v2gDchXo = pd.DataFrame(result_v2gDchActPower)\n",
    "pd_v2gDchXo.to_csv('results/cplex_pyomo/v2gDchXo.csv', index=None)\n",
    "\n",
    "pd_v2gChXo = pd.DataFrame(result_v2gChActPower)\n",
    "pd_v2gChXo.to_csv('results/cplex_pyomo/v2gChXo.csv', index=None)"
   ]
  },
  {
   "cell_type": "code",
   "execution_count": 158,
   "id": "8cc2ed90",
   "metadata": {
    "ExecuteTime": {
     "end_time": "2022-10-04T14:41:40.881125Z",
     "start_time": "2022-10-04T14:41:37.693356Z"
    }
   },
   "outputs": [
    {
     "data": {
      "image/png": "[encoded data removed]",
      "text/plain": [
       "<Figure size 1728x1440 with 49 Axes>"
      ]
     },
     "metadata": {
      "needs_background": "light"
     },
     "output_type": "display_data"
    }
   ],
   "source": [
    "# Plot results\n",
    "\n",
    "fig, axs = plt.subplots(nrows=7, ncols=7, figsize=(24, 20))\n",
    "\n",
    "for i in np.arange(7):\n",
    "    # Generators\n",
    "    axs[i, 0].plot(result_genActPower.values[i])\n",
    "    axs[i, 0].plot(result_genExcActPower.values[i])\n",
    "    axs[i, 0].legend(['genActPower', 'genExcActPower'])\n",
    "    \n",
    "for i in np.arange(6):\n",
    "    # Loads\n",
    "    axs[i, 1].plot(loadLimit[:, :, 0][i, :])\n",
    "    axs[i, 1].plot(result_loadRedActPower.values[i])\n",
    "    axs[i, 1].plot(result_loadCutActPower.values[i])\n",
    "    axs[i, 1].plot(result_loadENS.values[i])\n",
    "    axs[i, 1].legend(['loadActPower', 'loadRedActPower', 'loadCutActPower', 'loadENS'])\n",
    "\n",
    "\n",
    "axs[0, 2].plot(result_pimp.values)\n",
    "axs[0, 2].plot(result_pexp.values)\n",
    "axs[0, 2].legend(['pImp', 'pExp'])\n",
    "\n",
    "\n",
    "for i in range(3):\n",
    "    axs[i, 3].plot(result_storEnerState.values[i])\n",
    "    axs[i, 3].legend(['storEnerState'])\n",
    "    \n",
    "for i in range(3):\n",
    "    axs[i, 4].plot(result_storDchActPower.values[i])\n",
    "    axs[i, 4].legend(['storDchActPower'])\n",
    "    \n",
    "for i in range(3):\n",
    "    axs[i, 5].plot(result_storChActPower.values[i])\n",
    "    axs[i, 5].legend(['storChActPower'])\n",
    "\n",
    "for i in range(5):\n",
    "    axs[i, 6].plot(result_v2gEnerState.values[i])\n",
    "    axs[i, 6].legend(['v2gEnerState'])\n",
    "\n",
    "\n",
    "plt.show()"
   ]
  },
  {
   "cell_type": "code",
   "execution_count": 35,
   "id": "c9b0204d",
   "metadata": {
    "ExecuteTime": {
     "end_time": "2022-09-16T11:47:01.043721Z",
     "start_time": "2022-09-16T11:47:01.038841Z"
    }
   },
   "outputs": [
    {
     "name": "stdout",
     "output_type": "stream",
     "text": [
      "Total import cost: 2.0532999999999997\n"
     ]
    }
   ],
   "source": [
    "# Total import costs\n",
    "\n",
    "print('Total import cost: {}'.format(sum(result_pimp.values.ravel() * buyPrice)))"
   ]
  },
  {
   "cell_type": "code",
   "execution_count": 116,
   "id": "62a9047b",
   "metadata": {
    "ExecuteTime": {
     "end_time": "2022-10-03T02:00:12.993532Z",
     "start_time": "2022-10-03T02:00:12.974550Z"
    }
   },
   "outputs": [],
   "source": [
    "# Try to get a quadratic function to obtain the coefficients\n",
    "\n",
    "def quadratic_costs(cap_cost, cycles_mult, current_capacity):\n",
    "    if current_capacity < 1:\n",
    "        return cap_cost\n",
    "        \n",
    "    return cap_cost/(cycles_mult * current_capacity)\n",
    "\n",
    "def lq(x, a, b):\n",
    "    return -np.log(a)"
   ]
  },
  {
   "cell_type": "code",
   "execution_count": 119,
   "id": "02c81e5f",
   "metadata": {
    "ExecuteTime": {
     "end_time": "2022-10-03T02:00:35.740530Z",
     "start_time": "2022-10-03T02:00:35.655079Z"
    }
   },
   "outputs": [
    {
     "data": {
      "text/plain": [
       "[<matplotlib.lines.Line2D at 0x1ea34ada160>]"
      ]
     },
     "execution_count": 119,
     "metadata": {},
     "output_type": "execute_result"
    },
    {
     "data": {
      "image/png": "[encoded data removed]",
      "text/plain": [
       "<Figure size 432x288 with 1 Axes>"
      ]
     },
     "metadata": {
      "needs_background": "light"
     },
     "output_type": "display_data"
    }
   ],
   "source": [
    "plt.plot([quadratic_costs(5000, 100, i) for i in range(1, 101)])"
   ]
  },
  {
   "cell_type": "code",
   "execution_count": 62,
   "id": "b6574df5",
   "metadata": {
    "ExecuteTime": {
     "end_time": "2022-10-02T22:33:26.328840Z",
     "start_time": "2022-10-02T22:33:26.324937Z"
    }
   },
   "outputs": [],
   "source": [
    "from scipy.optimize import curve_fit"
   ]
  },
  {
   "cell_type": "code",
   "execution_count": 90,
   "id": "95dfe6c7",
   "metadata": {
    "ExecuteTime": {
     "end_time": "2022-10-03T01:07:22.703129Z",
     "start_time": "2022-10-03T01:07:22.684090Z"
    }
   },
   "outputs": [],
   "source": [
    "(a,b), pcov = curve_fit(lq, range(1, 101), \n",
    "                        [quadratic_costs(5000, 100, i) for i in range(1, 101)], \n",
    "                        p0=[0.05,0.05])"
   ]
  },
  {
   "cell_type": "code",
   "execution_count": 91,
   "id": "c648b8ec",
   "metadata": {
    "ExecuteTime": {
     "end_time": "2022-10-03T01:07:23.000005Z",
     "start_time": "2022-10-03T01:07:22.981056Z"
    }
   },
   "outputs": [
    {
     "data": {
      "text/plain": [
       "0.0879363715502107"
      ]
     },
     "execution_count": 91,
     "metadata": {},
     "output_type": "execute_result"
    }
   ],
   "source": [
    "a"
   ]
  },
  {
   "cell_type": "code",
   "execution_count": 92,
   "id": "a7bf7963",
   "metadata": {
    "ExecuteTime": {
     "end_time": "2022-10-03T01:07:23.526623Z",
     "start_time": "2022-10-03T01:07:23.521666Z"
    }
   },
   "outputs": [
    {
     "data": {
      "text/plain": [
       "-0.0009706213589356327"
      ]
     },
     "execution_count": 92,
     "metadata": {},
     "output_type": "execute_result"
    }
   ],
   "source": [
    "b"
   ]
  },
  {
   "cell_type": "code",
   "execution_count": 93,
   "id": "60486bd6",
   "metadata": {
    "ExecuteTime": {
     "end_time": "2022-10-03T01:08:05.042202Z",
     "start_time": "2022-10-03T01:08:04.953304Z"
    }
   },
   "outputs": [
    {
     "data": {
      "text/plain": [
       "[<matplotlib.lines.Line2D at 0x1ea333960a0>]"
      ]
     },
     "execution_count": 93,
     "metadata": {},
     "output_type": "execute_result"
    },
    {
     "data": {
      "image/png": "[encoded data removed]",
      "text/plain": [
       "<Figure size 432x288 with 1 Axes>"
      ]
     },
     "metadata": {
      "needs_background": "light"
     },
     "output_type": "display_data"
    }
   ],
   "source": [
    "plt.plot([(a*i) + (b*i*i) for i in range(1, 101)])"
   ]
  },
  {
   "cell_type": "code",
   "execution_count": 88,
   "id": "8b3f3299",
   "metadata": {
    "ExecuteTime": {
     "end_time": "2022-10-03T01:07:04.041700Z",
     "start_time": "2022-10-03T01:07:04.021752Z"
    }
   },
   "outputs": [
    {
     "data": {
      "text/plain": [
       "(array([203.28173916, -48.75602243]),\n",
       " array([[233.89917027, -60.41078345],\n",
       "        [-60.41078345,  16.60826061]]))"
      ]
     },
     "execution_count": 88,
     "metadata": {},
     "output_type": "execute_result"
    }
   ],
   "source": [
    "scipy.optimize.curve_fit(lambda t,a,b: a+b*np.log(t),  \n",
    "                         range(1, 101),  \n",
    "                         [quadratic_costs(50000, 100, i) for i in range(1, 101)],\n",
    "                         p0=(4, 0.1))"
   ]
  },
  {
   "cell_type": "code",
   "execution_count": 89,
   "id": "1c21833b",
   "metadata": {
    "ExecuteTime": {
     "end_time": "2022-10-03T01:07:04.622109Z",
     "start_time": "2022-10-03T01:07:04.529935Z"
    }
   },
   "outputs": [
    {
     "data": {
      "text/plain": [
       "[<matplotlib.lines.Line2D at 0x1ea3332b790>]"
      ]
     },
     "execution_count": 89,
     "metadata": {},
     "output_type": "execute_result"
    },
    {
     "data": {
      "image/png": "[encoded data removed]",
      "text/plain": [
       "<Figure size 432x288 with 1 Axes>"
      ]
     },
     "metadata": {
      "needs_background": "light"
     },
     "output_type": "display_data"
    }
   ],
   "source": [
    "plt.plot([(203.28173916 + -48.75602243*np.log(i)) for i in range(1, 101)])"
   ]
  },
  {
   "cell_type": "code",
   "execution_count": 145,
   "id": "a0491abe",
   "metadata": {
    "ExecuteTime": {
     "end_time": "2022-10-03T02:17:56.372134Z",
     "start_time": "2022-10-03T02:17:56.355182Z"
    }
   },
   "outputs": [],
   "source": [
    "fitted_z = np.poly1d(np.polyfit(range(0, 101), [quadratic_costs(5000, 100, i) for i in range(0, 101)], 2))"
   ]
  },
  {
   "cell_type": "code",
   "execution_count": 146,
   "id": "f27e6397",
   "metadata": {
    "ExecuteTime": {
     "end_time": "2022-10-03T02:17:56.810380Z",
     "start_time": "2022-10-03T02:17:56.716533Z"
    }
   },
   "outputs": [
    {
     "data": {
      "text/plain": [
       "[<matplotlib.lines.Line2D at 0x1ea3566e7f0>]"
      ]
     },
     "execution_count": 146,
     "metadata": {},
     "output_type": "execute_result"
    },
    {
     "data": {
      "image/png": "[encoded data removed]",
      "text/plain": [
       "<Figure size 432x288 with 1 Axes>"
      ]
     },
     "metadata": {
      "needs_background": "light"
     },
     "output_type": "display_data"
    }
   ],
   "source": [
    "plt.plot([fitted_z(i) for i in range(1, 101)])"
   ]
  },
  {
   "cell_type": "code",
   "execution_count": 135,
   "id": "5a079b43",
   "metadata": {
    "ExecuteTime": {
     "end_time": "2022-10-03T02:16:08.947702Z",
     "start_time": "2022-10-03T02:16:08.861917Z"
    }
   },
   "outputs": [
    {
     "data": {
      "text/plain": [
       "[<matplotlib.lines.Line2D at 0x1ea3516cca0>]"
      ]
     },
     "execution_count": 135,
     "metadata": {},
     "output_type": "execute_result"
    },
    {
     "data": {
      "image/png": "[encoded data removed]",
      "text/plain": [
       "<Figure size 432x288 with 1 Axes>"
      ]
     },
     "metadata": {
      "needs_background": "light"
     },
     "output_type": "display_data"
    }
   ],
   "source": [
    "# CE(SoC_min) = cap_cost\n",
    "# CE(SoC_max) ~ 0\n",
    "\n",
    "\n",
    "# If segments = 5, D = SoC_max/5, in this case D = 20\n",
    "# CE(SoC_min + D) = CE(20)\n",
    "# generalized:\n",
    "# CE(SoC_min + alpha*D) = CE(alpha*D) when > 0, CE(SoC_min) otherwise\n",
    "\n",
    "plt.plot([quadratic_costs(500, 100, i) for i in range(1, 121, 20)])"
   ]
  },
  {
   "cell_type": "code",
   "execution_count": 147,
   "id": "7d88e106",
   "metadata": {
    "ExecuteTime": {
     "end_time": "2022-10-03T02:19:53.157071Z",
     "start_time": "2022-10-03T02:19:53.149094Z"
    }
   },
   "outputs": [],
   "source": [
    "fitted_z2 = np.polynomial.Polynomial.fit(range(0, 101), [quadratic_costs(5000, 100, i) for i in range(0, 101)], 2)"
   ]
  },
  {
   "cell_type": "code",
   "execution_count": 149,
   "id": "db413757",
   "metadata": {
    "ExecuteTime": {
     "end_time": "2022-10-03T02:20:16.457749Z",
     "start_time": "2022-10-03T02:20:16.369894Z"
    }
   },
   "outputs": [
    {
     "data": {
      "text/plain": [
       "[<matplotlib.lines.Line2D at 0x1ea368c2df0>]"
      ]
     },
     "execution_count": 149,
     "metadata": {},
     "output_type": "execute_result"
    },
    {
     "data": {
      "image/png": "[encoded data removed]",
      "text/plain": [
       "<Figure size 432x288 with 1 Axes>"
      ]
     },
     "metadata": {
      "needs_background": "light"
     },
     "output_type": "display_data"
    }
   ],
   "source": [
    "plt.plot([fitted_z2(i) for i in range(0, 101)])"
   ]
  },
  {
   "cell_type": "code",
   "execution_count": null,
   "id": "c8380a23",
   "metadata": {},
   "outputs": [],
   "source": []
  }
 ],
 "metadata": {
  "kernelspec": {
   "display_name": "Python 3 (ipykernel)",
   "language": "python",
   "name": "python3"
  },
  "language_info": {
   "codemirror_mode": {
    "name": "ipython",
    "version": 3
   },
   "file_extension": ".py",
   "mimetype": "text/x-python",
   "name": "python",
   "nbconvert_exporter": "python",
   "pygments_lexer": "ipython3",
   "version": "3.8.10"
  },
  "varInspector": {
   "cols": {
    "lenName": 16,
    "lenType": 16,
    "lenVar": 40
   },
   "kernels_config": {
    "python": {
     "delete_cmd_postfix": "",
     "delete_cmd_prefix": "del ",
     "library": "var_list.py",
     "varRefreshCmd": "print(var_dic_list())"
    },
    "r": {
     "delete_cmd_postfix": ") ",
     "delete_cmd_prefix": "rm(",
     "library": "var_list.r",
     "varRefreshCmd": "cat(var_dic_list()) "
    }
   },
   "position": {
    "height": "494.85px",
    "left": "1120px",
    "right": "20px",
    "top": "120px",
    "width": "356px"
   },
   "types_to_exclude": [
    "module",
    "function",
    "builtin_function_or_method",
    "instance",
    "_Feature"
   ],
   "window_display": false
  }
 },
 "nbformat": 4,
 "nbformat_minor": 5
}
