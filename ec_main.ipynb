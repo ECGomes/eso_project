{
 "cells": [
  {
   "cell_type": "code",
   "execution_count": 1,
   "id": "b20e9ef5",
   "metadata": {
    "ExecuteTime": {
     "end_time": "2022-04-07T18:01:04.868227Z",
     "start_time": "2022-04-07T18:01:03.834103Z"
    }
   },
   "outputs": [],
   "source": [
    "#  Imports\n",
    "\n",
    "import numpy as np\n",
    "import pandas as pd\n",
    "import matplotlib.pyplot as plt\n",
    "import scipy\n",
    "\n",
    "from tabulate import tabulate\n",
    "\n",
    "from gams import *"
   ]
  },
  {
   "cell_type": "code",
   "execution_count": 3,
   "id": "3daa2399",
   "metadata": {
    "ExecuteTime": {
     "end_time": "2022-04-07T18:01:23.204938Z",
     "start_time": "2022-04-07T18:01:22.915817Z"
    }
   },
   "outputs": [
    {
     "name": "stdout",
     "output_type": "stream",
     "text": [
      "The gams_magic extension is already loaded. To reload it, use:\n",
      "  %reload_ext gams_magic\n"
     ]
    }
   ],
   "source": [
    "# Load the gams_magic, run tutorial notebook for function definition\n",
    "\n",
    "%load_ext gams_magic\n",
    "%gams_reset\n",
    "%gams_cleanup -k"
   ]
  },
  {
   "cell_type": "code",
   "execution_count": 3,
   "id": "a3354f51",
   "metadata": {
    "ExecuteTime": {
     "end_time": "2022-04-07T17:38:27.037547Z",
     "start_time": "2022-04-07T17:38:27.024549Z"
    }
   },
   "outputs": [],
   "source": [
    "# Aux functions from the DataTransform notebook\n",
    "\n",
    "def gt_from2dim(df, column_names=None):\n",
    "    if column_names==None:\n",
    "        return pd.DataFrame(df.stack()).reset_index()\n",
    "    else:\n",
    "        df = pd.DataFrame(df.stack()).reset_index()\n",
    "        return df.rename(columns=dict(zip(df.columns, column_names)))\n",
    "\n",
    "def gt_pivot(df, index=None, columns=None, values=None):\n",
    "    df = df.pivot(index=index, columns=columns, values=values)\n",
    "    df.index.names = [None]\n",
    "    df.columns.names = [None]\n",
    "    return df\n",
    "\n",
    "def gt_pivot2d(df):\n",
    "    return gt_pivot(df,index=df.columns[0], columns=df.columns[1], values=df.columns[2])"
   ]
  },
  {
   "cell_type": "code",
   "execution_count": 4,
   "id": "c9bd7a2d",
   "metadata": {
    "ExecuteTime": {
     "end_time": "2022-04-07T17:38:27.833804Z",
     "start_time": "2022-04-07T17:38:27.752194Z"
    }
   },
   "outputs": [],
   "source": [
    "# loadmat aux function to load the matlab save files\n",
    "# from: https://stackoverflow.com/review/suggested-edits/21667510\n",
    "\n",
    "import scipy.io as spio\n",
    "\n",
    "def loadmat(filename):\n",
    "    '''\n",
    "    this function should be called instead of direct spio.loadmat\n",
    "    as it cures the problem of not properly recovering python dictionaries\n",
    "    from mat files. It calls the function check keys to cure all entries\n",
    "    which are still mat-objects\n",
    "    '''\n",
    "    def _check_keys(d):\n",
    "        '''\n",
    "        checks if entries in dictionary are mat-objects. If yes\n",
    "        todict is called to change them to nested dictionaries\n",
    "        '''\n",
    "        for key in d:\n",
    "            if isinstance(d[key], spio.matlab.mio5_params.mat_struct):\n",
    "                d[key] = _todict(d[key])\n",
    "        return d\n",
    "\n",
    "    def _has_struct(elem):\n",
    "        \"\"\"Determine if elem is an array and if any array item is a struct\"\"\"\n",
    "        return isinstance(elem, np.ndarray) and any(isinstance(\n",
    "                    e, scipy.io.matlab.mio5_params.mat_struct) for e in elem)\n",
    "\n",
    "    def _todict(matobj):\n",
    "        '''\n",
    "        A recursive function which constructs from matobjects nested dictionaries\n",
    "        '''\n",
    "        d = {}\n",
    "        for strg in matobj._fieldnames:\n",
    "            elem = matobj.__dict__[strg]\n",
    "            if isinstance(elem, spio.matlab.mio5_params.mat_struct):\n",
    "                d[strg] = _todict(elem)\n",
    "            elif _has_struct(elem):\n",
    "                d[strg] = _tolist(elem)\n",
    "            else:\n",
    "                d[strg] = elem\n",
    "        return d\n",
    "\n",
    "    def _tolist(ndarray):\n",
    "        '''\n",
    "        A recursive function which constructs lists from cellarrays\n",
    "        (which are loaded as numpy ndarrays), recursing into the elements\n",
    "        if they contain matobjects.\n",
    "        '''\n",
    "        elem_list = []\n",
    "        for sub_elem in ndarray:\n",
    "            if isinstance(sub_elem, spio.matlab.mio5_params.mat_struct):\n",
    "                elem_list.append(_todict(sub_elem))\n",
    "            elif _has_struct(sub_elem):\n",
    "                elem_list.append(_tolist(sub_elem))\n",
    "            else:\n",
    "                elem_list.append(sub_elem)\n",
    "        return elem_list\n",
    "    data = scipy.io.loadmat(filename, struct_as_record=False, squeeze_me=True)\n",
    "    return _check_keys(data)"
   ]
  },
  {
   "cell_type": "code",
   "execution_count": 5,
   "id": "b8a49f30",
   "metadata": {
    "ExecuteTime": {
     "end_time": "2022-04-07T17:38:28.365589Z",
     "start_time": "2022-04-07T17:38:28.344612Z"
    }
   },
   "outputs": [
    {
     "name": "stderr",
     "output_type": "stream",
     "text": [
      "C:\\Users\\camar\\AppData\\Local\\Temp\\ipykernel_14604\\3560610281.py:19: DeprecationWarning: Please use `mat_struct` from the `scipy.io.matlab` namespace, the `scipy.io.matlab.mio5_params` namespace is deprecated.\n",
      "  if isinstance(d[key], spio.matlab.mio5_params.mat_struct):\n",
      "C:\\Users\\camar\\AppData\\Local\\Temp\\ipykernel_14604\\3560610281.py:35: DeprecationWarning: Please use `mat_struct` from the `scipy.io.matlab` namespace, the `scipy.io.matlab.mio5_params` namespace is deprecated.\n",
      "  if isinstance(elem, spio.matlab.mio5_params.mat_struct):\n",
      "C:\\Users\\camar\\AppData\\Local\\Temp\\ipykernel_14604\\3560610281.py:26: DeprecationWarning: Please use `mat_struct` from the `scipy.io.matlab` namespace, the `scipy.io.matlab.mio5_params` namespace is deprecated.\n",
      "  e, scipy.io.matlab.mio5_params.mat_struct) for e in elem)\n"
     ]
    },
    {
     "data": {
      "text/plain": [
       "dict_keys(['__header__', '__version__', '__globals__', 'data'])"
      ]
     },
     "execution_count": 5,
     "metadata": {},
     "output_type": "execute_result"
    }
   ],
   "source": [
    "# Matlab code conversion\n",
    "\n",
    "# Read matlab file instead of excelfile (easier conversion)\n",
    "data = loadmat('matlab.mat')\n",
    "data.keys()"
   ]
  },
  {
   "cell_type": "code",
   "execution_count": 15,
   "id": "ce8a9454",
   "metadata": {
    "ExecuteTime": {
     "end_time": "2022-04-07T17:42:06.068086Z",
     "start_time": "2022-04-07T17:42:06.056120Z"
    }
   },
   "outputs": [],
   "source": [
    "# Linearize the generator prices\n",
    "\n",
    "# genCofA=data.generator.limit(:,:,6); -> MATLAB starts with 1, so we need the index -1\n",
    "# genCofB=data.generator.limit(:,:,7);\n",
    "# genCofC=data.generator.limit(:,:,8);\n",
    "\n",
    "genCofA = data['data']['generator']['limit'][:, :, 5]\n",
    "genCofB = data['data']['generator']['limit'][:, :, 6]\n",
    "genCofC = data['data']['generator']['limit'][:, :, 7]"
   ]
  },
  {
   "cell_type": "code",
   "execution_count": 19,
   "id": "60476f71",
   "metadata": {
    "ExecuteTime": {
     "end_time": "2022-04-07T17:51:08.025259Z",
     "start_time": "2022-04-07T17:51:07.668113Z"
    }
   },
   "outputs": [],
   "source": [
    "# Connection with GAMS\n",
    "\n",
    "%gams option iterlim = 1000000000;\n",
    "%gams option reslim = 5000000000;"
   ]
  },
  {
   "cell_type": "markdown",
   "id": "e4ae6287",
   "metadata": {},
   "source": [
    "## Cell to define GAMS variables"
   ]
  },
  {
   "cell_type": "code",
   "execution_count": 20,
   "id": "e7d719a4",
   "metadata": {
    "ExecuteTime": {
     "end_time": "2022-04-07T17:51:40.207948Z",
     "start_time": "2022-04-07T17:51:40.002301Z"
    }
   },
   "outputs": [],
   "source": [
    "%%gams\n",
    "\n",
    "set genLimitInfo 'Indicate the number of columns of information from generators'\n",
    "/1, 2, 3, 4, 5, 6, 7, 8, 9, 10, 11, 12/;\n",
    "\n",
    "set loadLimitInfo 'Indicate the number of columns of information from loads'\n",
    "/1, 2, 3, 4, 5, 6, 7, 8, 9, 10, 11, 12/;\n",
    "\n",
    "set storLimitInfo 'Indicate the number of columns of information from storage units'\n",
    "/1, 2, 3, 4, 5, 6, 7, 8, 9, 10, 11, 12/;\n",
    "\n",
    "set v2gLimitInfo 'Indicate the number of columns of information from electric vehicles'\n",
    "/1, 2, 3, 4, 5, 6, 7, 8, 9, 10, 11, 12/;\n",
    "\n",
    "set csLimitInfo 'Indicate the number of columns of information from charging stations'\n",
    "/1, 2, 3, 4, 5, 6, 7, 8, 9, 10, 11, 12/;"
   ]
  },
  {
   "cell_type": "markdown",
   "id": "45e5fb60",
   "metadata": {},
   "source": [
    "## Push Python variables to GAMS"
   ]
  },
  {
   "cell_type": "code",
   "execution_count": null,
   "id": "b7379448",
   "metadata": {},
   "outputs": [],
   "source": [
    "# TODO\n",
    "\n",
    "\n",
    "set t /1*%period%/;\n",
    "\n",
    "set gen /1*%gen%/;\n",
    "\n",
    "set load /1*%Load%/;\n",
    "\n",
    "set stor /1*%stor%/;\n",
    "\n",
    "set v2g /1*%v2g%/;\n",
    "\n",
    "set cs /1*%cs%/;"
   ]
  }
 ],
 "metadata": {
  "kernelspec": {
   "display_name": "Python 3 (ipykernel)",
   "language": "python",
   "name": "python3"
  },
  "language_info": {
   "codemirror_mode": {
    "name": "ipython",
    "version": 3
   },
   "file_extension": ".py",
   "mimetype": "text/x-python",
   "name": "python",
   "nbconvert_exporter": "python",
   "pygments_lexer": "ipython3",
   "version": "3.8.10"
  },
  "varInspector": {
   "cols": {
    "lenName": 16,
    "lenType": 16,
    "lenVar": 40
   },
   "kernels_config": {
    "python": {
     "delete_cmd_postfix": "",
     "delete_cmd_prefix": "del ",
     "library": "var_list.py",
     "varRefreshCmd": "print(var_dic_list())"
    },
    "r": {
     "delete_cmd_postfix": ") ",
     "delete_cmd_prefix": "rm(",
     "library": "var_list.r",
     "varRefreshCmd": "cat(var_dic_list()) "
    }
   },
   "types_to_exclude": [
    "module",
    "function",
    "builtin_function_or_method",
    "instance",
    "_Feature"
   ],
   "window_display": false
  }
 },
 "nbformat": 4,
 "nbformat_minor": 5
}
