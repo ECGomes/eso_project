{
 "cells": [
  {
   "cell_type": "code",
   "execution_count": 1,
   "id": "c4316e9b",
   "metadata": {
    "ExecuteTime": {
     "end_time": "2022-09-19T13:14:39.518295Z",
     "start_time": "2022-09-19T13:14:36.704588Z"
    }
   },
   "outputs": [],
   "source": [
    "#  Imports\n",
    "\n",
    "import numpy as np\n",
    "import pandas as pd\n",
    "import matplotlib.pyplot as plt\n",
    "import scipy"
   ]
  },
  {
   "cell_type": "code",
   "execution_count": 2,
   "id": "c4786f8e",
   "metadata": {
    "ExecuteTime": {
     "end_time": "2022-09-19T13:14:40.374646Z",
     "start_time": "2022-09-19T13:14:40.067303Z"
    },
    "code_folding": [
     0
    ]
   },
   "outputs": [],
   "source": [
    "# loadmat aux function to load the matlab save files\n",
    "# from: https://stackoverflow.com/review/suggested-edits/21667510\n",
    "\n",
    "import scipy.io as spio\n",
    "\n",
    "def loadmat(filename):\n",
    "    '''\n",
    "    this function should be called instead of direct spio.loadmat\n",
    "    as it cures the problem of not properly recovering python dictionaries\n",
    "    from mat files. It calls the function check keys to cure all entries\n",
    "    which are still mat-objects\n",
    "    '''\n",
    "    def _check_keys(d):\n",
    "        '''\n",
    "        checks if entries in dictionary are mat-objects. If yes\n",
    "        todict is called to change them to nested dictionaries\n",
    "        '''\n",
    "        for key in d:\n",
    "            if isinstance(d[key], spio.matlab.mio5_params.mat_struct):\n",
    "                d[key] = _todict(d[key])\n",
    "        return d\n",
    "\n",
    "    def _has_struct(elem):\n",
    "        \"\"\"Determine if elem is an array and if any array item is a struct\"\"\"\n",
    "        return isinstance(elem, np.ndarray) and any(isinstance(\n",
    "                    e, scipy.io.matlab.mio5_params.mat_struct) for e in elem)\n",
    "\n",
    "    def _todict(matobj):\n",
    "        '''\n",
    "        A recursive function which constructs from matobjects nested dictionaries\n",
    "        '''\n",
    "        d = {}\n",
    "        for strg in matobj._fieldnames:\n",
    "            elem = matobj.__dict__[strg]\n",
    "            if isinstance(elem, spio.matlab.mio5_params.mat_struct):\n",
    "                d[strg] = _todict(elem)\n",
    "            elif _has_struct(elem):\n",
    "                d[strg] = _tolist(elem)\n",
    "            else:\n",
    "                d[strg] = elem\n",
    "        return d\n",
    "\n",
    "    def _tolist(ndarray):\n",
    "        '''\n",
    "        A recursive function which constructs lists from cellarrays\n",
    "        (which are loaded as numpy ndarrays), recursing into the elements\n",
    "        if they contain matobjects.\n",
    "        '''\n",
    "        elem_list = []\n",
    "        for sub_elem in ndarray:\n",
    "            if isinstance(sub_elem, spio.matlab.mio5_params.mat_struct):\n",
    "                elem_list.append(_todict(sub_elem))\n",
    "            elif _has_struct(sub_elem):\n",
    "                elem_list.append(_tolist(sub_elem))\n",
    "            else:\n",
    "                elem_list.append(sub_elem)\n",
    "        return elem_list\n",
    "    data = scipy.io.loadmat(filename, struct_as_record=False, squeeze_me=True)\n",
    "    return _check_keys(data)"
   ]
  },
  {
   "cell_type": "code",
   "execution_count": 3,
   "id": "c7b09d40",
   "metadata": {
    "ExecuteTime": {
     "end_time": "2022-09-19T13:14:40.730798Z",
     "start_time": "2022-09-19T13:14:40.710328Z"
    }
   },
   "outputs": [
    {
     "name": "stderr",
     "output_type": "stream",
     "text": [
      "C:\\Users\\camar\\AppData\\Local\\Temp\\ipykernel_2228\\3560610281.py:19: DeprecationWarning: Please use `mat_struct` from the `scipy.io.matlab` namespace, the `scipy.io.matlab.mio5_params` namespace is deprecated.\n",
      "  if isinstance(d[key], spio.matlab.mio5_params.mat_struct):\n",
      "C:\\Users\\camar\\AppData\\Local\\Temp\\ipykernel_2228\\3560610281.py:35: DeprecationWarning: Please use `mat_struct` from the `scipy.io.matlab` namespace, the `scipy.io.matlab.mio5_params` namespace is deprecated.\n",
      "  if isinstance(elem, spio.matlab.mio5_params.mat_struct):\n",
      "C:\\Users\\camar\\AppData\\Local\\Temp\\ipykernel_2228\\3560610281.py:26: DeprecationWarning: Please use `mat_struct` from the `scipy.io.matlab` namespace, the `scipy.io.matlab.mio5_params` namespace is deprecated.\n",
      "  e, scipy.io.matlab.mio5_params.mat_struct) for e in elem)\n"
     ]
    }
   ],
   "source": [
    "# Matlab code conversion\n",
    "\n",
    "# Read matlab file instead of excelfile (easier conversion)\n",
    "data = loadmat('matlab.mat')"
   ]
  },
  {
   "cell_type": "code",
   "execution_count": 4,
   "id": "1159909e",
   "metadata": {
    "ExecuteTime": {
     "end_time": "2022-09-19T13:14:41.118352Z",
     "start_time": "2022-09-19T13:14:41.109381Z"
    }
   },
   "outputs": [],
   "source": [
    "# Linearize the generator prices\n",
    "\n",
    "# genCofA=data.generator.limit(:,:,6); -> MATLAB starts with 1, so we need the index -1\n",
    "# genCofB=data.generator.limit(:,:,7);\n",
    "# genCofC=data.generator.limit(:,:,8);\n",
    "\n",
    "genCofA = data['data']['generator']['limit'][:, :, 5]\n",
    "genCofB = data['data']['generator']['limit'][:, :, 6]\n",
    "genCofC = data['data']['generator']['limit'][:, :, 7]"
   ]
  },
  {
   "cell_type": "code",
   "execution_count": 5,
   "id": "a9fc1cb6",
   "metadata": {
    "ExecuteTime": {
     "end_time": "2022-09-19T13:14:41.568503Z",
     "start_time": "2022-09-19T13:14:41.550573Z"
    }
   },
   "outputs": [],
   "source": [
    "# Options for simulation\n",
    "\n",
    "#options \n",
    "iterlim = 1000000000\n",
    "reslim = 5000000000"
   ]
  },
  {
   "cell_type": "code",
   "execution_count": 6,
   "id": "2ab9a921",
   "metadata": {
    "ExecuteTime": {
     "end_time": "2022-09-19T13:14:41.880636Z",
     "start_time": "2022-09-19T13:14:41.864711Z"
    }
   },
   "outputs": [],
   "source": [
    "# Definir o numero de resources usados\n",
    "\n",
    "numGen = np.arange(1, data['data']['parameterData']['resources']['numGen'] + 1)\n",
    "numLoad = np.arange(1, data['data']['parameterData']['resources']['numLoad'] + 1)\n",
    "numStor = np.arange(1, data['data']['parameterData']['resources']['numStor'] + 1)\n",
    "numV2G = np.arange(1, data['data']['parameterData']['resources']['numV2G'] + 1)\n",
    "numCStat = np.arange(1, data['data']['parameterData']['resources']['numCStat'] + 1)\n",
    "numPeriod = np.arange(1, data['data']['parameterData']['resources']['period'] + 1)\n",
    "numBus = np.arange(1) # forced to 1\n",
    "nOwner = np.arange(1, data['data']['parameterData']['resources']['owners'] + 1)"
   ]
  },
  {
   "cell_type": "code",
   "execution_count": 7,
   "id": "c18ac201",
   "metadata": {
    "ExecuteTime": {
     "end_time": "2022-09-19T13:14:42.190785Z",
     "start_time": "2022-09-19T13:14:42.172801Z"
    }
   },
   "outputs": [],
   "source": [
    "# Define as strings com os recursos para mandar para GAMS\n",
    "\n",
    "gen = np.max(numGen)\n",
    "Load = np.max(numLoad)\n",
    "stor = np.max(numStor)\n",
    "v2g = np.max(numV2G)\n",
    "cs = np.max(numCStat)\n",
    "period = np.max(numPeriod)\n",
    "Bus = np.max(numBus)"
   ]
  },
  {
   "cell_type": "code",
   "execution_count": 8,
   "id": "1b2096dc",
   "metadata": {
    "ExecuteTime": {
     "end_time": "2022-09-19T13:14:42.503813Z",
     "start_time": "2022-09-19T13:14:42.484863Z"
    }
   },
   "outputs": [],
   "source": [
    "#% Definir as matrizes com os dados para o GAMS\n",
    "\n",
    "# General Info\n",
    "pMaxImp = data['data']['parameterData']['generalInfo']['P_Max_Imp']\n",
    "pMaxExp = data['data']['parameterData']['generalInfo']['P_Max_Exp']\n",
    "buyPrice = data['data']['parameterData']['generalInfo']['Energy_Buy_Price']\n",
    "sellPrice = data['data']['parameterData']['generalInfo']['Energy_Sell_Price']\n",
    "\n",
    "# Geradores\n",
    "genLimit = data['data']['generator']['limit'][numGen[0]-1:numGen[-1]+1, numPeriod[0]-1:numPeriod[-1]+1, :]\n",
    "genInfo = data['data']['generator']['info']\n",
    "\n",
    "# Cargas\n",
    "loadLimit = data['data']['load']['limit'][numLoad[0]-1:numLoad[-1]+1, numPeriod[0]-1:numPeriod[-1]+1, :]\n",
    "\n",
    "# Baterias\n",
    "storLimit = data['data']['storage']['limit'][numStor[0]-1:numStor[-1]+1, numPeriod[0]-1:numPeriod[-1]+1, :]\n",
    "storInfo = data['data']['storage']['info']\n",
    "\n",
    "# Veiculos\n",
    "v2gLimit = data['data']['vehicle']['limit']\n",
    "v2gInfo = data['data']['vehicle']['info']\n",
    "\n",
    "# Charging Station\n",
    "csLimit = data['data']['cstation']['limit'][numCStat[0]-1:numCStat[-1]+1, numPeriod[0]-1:numPeriod[-1]+1, :]\n",
    "csInfo = data['data']['cstation']['info']\n",
    "\n",
    "# Connect EV to Charging Station\n",
    "EV_CS_Info = data['data']['vehicle']['timeInfo']['V2GinCS']"
   ]
  },
  {
   "cell_type": "code",
   "execution_count": 9,
   "id": "319a4ddb",
   "metadata": {
    "ExecuteTime": {
     "end_time": "2022-09-19T13:14:42.784932Z",
     "start_time": "2022-09-19T13:14:42.773962Z"
    }
   },
   "outputs": [],
   "source": [
    "# Definir os dados da rede para o GAMS\n",
    "\n",
    "# Linhas\n",
    "branchData = data['data']['network']['branch']\n",
    "\n",
    "# Tensão Máxima\n",
    "voltageMax = data['data']['parameterData']['network']['voltageMax']\n",
    "\n",
    "# Tensão Mínima\n",
    "voltageMin = data['data']['parameterData']['network']['voltageMin']\n",
    "\n",
    "# Angulo Máximo\n",
    "angleMax = data['data']['parameterData']['network']['angleMax']\n",
    "\n",
    "# Angulo Mínimo\n",
    "angleMin = data['data']['parameterData']['network']['angleMin']\n",
    "\n",
    "# Definir a matriz das admitancias\n",
    "ybus = data['data']['parameterData']['network']['ybus']\n",
    "diag = data['data']['parameterData']['network']['diag']\n",
    "branchID = data['data']['parameterData']['network']['branch']"
   ]
  },
  {
   "cell_type": "code",
   "execution_count": 10,
   "id": "6348f31c",
   "metadata": {
    "ExecuteTime": {
     "end_time": "2022-09-19T13:14:43.098496Z",
     "start_time": "2022-09-19T13:14:43.084534Z"
    }
   },
   "outputs": [],
   "source": [
    "#% Anular o custo fixo e quadratico da DG\n",
    "\n",
    "genLimit[:, :, 3] = 0\n",
    "genLimit[:, :, 5] = 0\n",
    "\n",
    "genLimit = np.append(genLimit, np.zeros(shape=(7, 24, 4)), axis=2)\n",
    "\n",
    "# Not necessary anymore\n",
    "#genLimit[:, :, 9] = 0\n",
    "#genLimit[:, :, 11] = 0"
   ]
  },
  {
   "cell_type": "code",
   "execution_count": 11,
   "id": "949dd6e4",
   "metadata": {
    "ExecuteTime": {
     "end_time": "2022-09-19T13:14:43.380089Z",
     "start_time": "2022-09-19T13:14:43.373670Z"
    }
   },
   "outputs": [],
   "source": [
    "#** Define the fixed sets structure to use in the parameters of the gams optimization process\n",
    "#set genLimitInfo 'Indicate the number of columns of information from generators'\n",
    "#/1, 2, 3, 4, 5, 6, 7, 8, 9, 10, 11, 12/;\n",
    "\n",
    "#set loadLimitInfo 'Indicate the number of columns of information from loads'\n",
    "#/1, 2, 3, 4, 5, 6, 7, 8, 9, 10, 11, 12/;\n",
    "\n",
    "#set storLimitInfo 'Indicate the number of columns of information from storage units'\n",
    "#/1, 2, 3, 4, 5, 6, 7, 8, 9, 10, 11, 12/;\n",
    "\n",
    "#set v2gLimitInfo 'Indicate the number of columns of information from electric vehicles'\n",
    "#/1, 2, 3, 4, 5, 6, 7, 8, 9, 10, 11, 12/;\n",
    "\n",
    "#set csLimitInfo 'Indicate the number of columns of information from charging stations'\n",
    "#/1, 2, 3, 4, 5, 6, 7, 8, 9, 10, 11, 12/;\n",
    "\n",
    "NCOLS = 12\n",
    "\n",
    "genLimitInfo = np.arange(1, NCOLS+1)\n",
    "loadLimitInfo = np.arange(1, NCOLS+1)\n",
    "storLimitInfo = np.arange(1, NCOLS+1)\n",
    "v2gLimitInfo = np.arange(1, NCOLS+1)\n",
    "csLimitInfo = np.arange(1, NCOLS+1)\n",
    "\n",
    "#genLimitInfo = np.arange(1, genLimit.shape[2]+1)\n",
    "#loadLimitInfo = np.arange(1, loadLimit.shape[2]+1)\n",
    "#storLimitInfo = np.arange(1, storLimit.shape[2]+1)\n",
    "#v2gLimitInfo = np.arange(1, v2gLimit.shape[2]+1)\n",
    "#csLimitInfo = np.arange(1, csLimit.shape[0]+1)"
   ]
  },
  {
   "cell_type": "code",
   "execution_count": 12,
   "id": "0a775110",
   "metadata": {
    "ExecuteTime": {
     "end_time": "2022-09-19T13:14:43.645758Z",
     "start_time": "2022-09-19T13:14:43.639797Z"
    }
   },
   "outputs": [],
   "source": [
    "# * Define the several sets structure used in the gams optimization process, \n",
    "# these sets depends the number of resources used in matlab code\n",
    "\n",
    "_t = np.arange(1, period+1)\n",
    "_gen = np.arange(1, gen+1)\n",
    "_Load = np.arange(1, Load+1)\n",
    "_stor = np.arange(1, stor+1)\n",
    "_v2g = np.arange(1, v2g+1)\n",
    "_cs = np.arange(1, cs+1)"
   ]
  },
  {
   "cell_type": "code",
   "execution_count": 13,
   "id": "2b250d41",
   "metadata": {
    "ExecuteTime": {
     "end_time": "2022-09-19T13:14:43.958043Z",
     "start_time": "2022-09-19T13:14:43.949039Z"
    }
   },
   "outputs": [],
   "source": [
    "# Aux function to convert numpy into dictionaries\n",
    "\n",
    "def _auxDictionary(a):\n",
    "    temp_dictionary = {}\n",
    "    \n",
    "    if len(a.shape) == 3:\n",
    "        for dim0 in np.arange(a.shape[0]):\n",
    "            for dim1 in np.arange(a.shape[1]):\n",
    "                for dim2 in np.arange(a.shape[2]):\n",
    "                    temp_dictionary[(dim0+1, dim1+1, dim2+1)] = a[dim0, dim1, dim2]\n",
    "    elif len(a.shape) == 2:\n",
    "        for dim0 in np.arange(a.shape[0]):\n",
    "            for dim1 in np.arange(a.shape[1]):\n",
    "                temp_dictionary[(dim0+1, dim1+1)] = a[dim0, dim1]\n",
    "                \n",
    "    else:\n",
    "        for dim0 in np.arange(a.shape[0]):\n",
    "            temp_dictionary[(dim0+1)] = a[dim0]\n",
    "                \n",
    "    return temp_dictionary\n",
    "\n",
    "#temp_dict1 = _auxDictionary(loadLimit)"
   ]
  },
  {
   "cell_type": "code",
   "execution_count": 14,
   "id": "14119631",
   "metadata": {
    "ExecuteTime": {
     "end_time": "2022-09-19T13:14:44.925850Z",
     "start_time": "2022-09-19T13:14:44.165719Z"
    }
   },
   "outputs": [],
   "source": [
    "# Pyomo imports\n",
    "\n",
    "import pyomo\n",
    "import pyomo.opt\n",
    "import pyomo.environ as pe"
   ]
  },
  {
   "cell_type": "code",
   "execution_count": 329,
   "id": "8bf4c0b1",
   "metadata": {
    "ExecuteTime": {
     "end_time": "2022-09-19T15:29:11.662823Z",
     "start_time": "2022-09-19T15:29:11.649867Z"
    },
    "code_folding": [
     0
    ]
   },
   "outputs": [],
   "source": [
    "# Model creation\n",
    "\n",
    "model = pe.ConcreteModel()\n",
    "\n",
    "model.genLimitInfo = pe.Set(initialize=genLimitInfo, \n",
    "                            doc='Indicate the number of columns of information from generators')\n",
    "model.loadLimitInfo = pe.Set(initialize=loadLimitInfo, \n",
    "                             doc='Indicate the number of columns of information from loads')\n",
    "model.storLimitInfo = pe.Set(initialize=storLimitInfo, \n",
    "                             doc='Indicate the number of columns of information from storage units')\n",
    "model.v2gLimitInfo = pe.Set(initialize=v2gLimitInfo, \n",
    "                            doc='Indicate the number of columns of information from electric vehicles')\n",
    "model.csLimitInfo = pe.Set(initialize=csLimitInfo, \n",
    "                           doc='Indicate the number of columns of information from charging stations')\n",
    "\n",
    "model.storPieceSegments = pe.Set(initialize=[1, 2, 3],\n",
    "                                 doc='Number of segments for piecewise linear approximation')\n",
    "\n",
    "# Sets\n",
    "model.t = pe.Set(initialize=_t, doc='period')\n",
    "model.gen = pe.Set(initialize=_gen, doc='generators')\n",
    "model.loads = pe.Set(initialize=_Load, doc='loads')\n",
    "model.stor = pe.Set(initialize=_stor, doc='storage')\n",
    "model.v2g = pe.Set(initialize=_v2g, doc='vehicles')\n",
    "model.cs = pe.Set(initialize=_cs, doc='charging_stations')"
   ]
  },
  {
   "cell_type": "code",
   "execution_count": 330,
   "id": "ed9f7e4b",
   "metadata": {
    "ExecuteTime": {
     "end_time": "2022-09-19T15:29:12.254408Z",
     "start_time": "2022-09-19T15:29:12.185403Z"
    },
    "code_folding": [
     0
    ]
   },
   "outputs": [],
   "source": [
    "# Define the parameters with the data from the excel, such as limits, price, and voltage\n",
    "\n",
    "model.loadLimit = pe.Param(model.loads, model.t, model.loadLimitInfo, \n",
    "                           initialize=_auxDictionary(loadLimit))\n",
    "\n",
    "model.genLimit = pe.Param(model.gen, model.t, model.genLimitInfo,\n",
    "                          initialize=_auxDictionary(genLimit))\n",
    "\n",
    "model.genInfo = pe.Param(model.gen, model.genLimitInfo,\n",
    "                         initialize=_auxDictionary(genInfo))\n",
    "\n",
    "model.pMaxImp = pe.Param(model.t,\n",
    "                         initialize=_auxDictionary(pMaxImp))\n",
    "\n",
    "model.buyPrice = pe.Param(model.t,\n",
    "                          initialize=_auxDictionary(buyPrice))\n",
    "\n",
    "model.pMaxExp = pe.Param(model.t,\n",
    "                         initialize=_auxDictionary(pMaxExp))\n",
    "\n",
    "model.sellPrice = pe.Param(model.t,\n",
    "                           initialize=_auxDictionary(sellPrice))\n",
    "\n",
    "model.storLimit = pe.Param(model.stor, model.t, model.storLimitInfo,\n",
    "                           initialize=_auxDictionary(storLimit))\n",
    "\n",
    "model.storInfo = pe.Param(model.stor, model.storLimitInfo,\n",
    "                          initialize=_auxDictionary(storInfo[:, :12]))\n",
    "\n",
    "model.v2gLimit = pe.Param(model.v2g, model.t, model.v2gLimitInfo,\n",
    "                          initialize=_auxDictionary(v2gLimit))\n",
    "\n",
    "model.v2gInfo = pe.Param(model.v2g, model.v2gLimitInfo,\n",
    "                         initialize=_auxDictionary(v2gInfo))\n",
    "\n",
    "model.csLimit = pe.Param(model.cs, model.t, model.csLimitInfo,\n",
    "                         initialize=_auxDictionary(csLimit))\n",
    "\n",
    "model.csInfo = pe.Param(model.cs, model.csLimitInfo,\n",
    "                        initialize=_auxDictionary(csInfo))\n",
    "\n",
    "model.EV_CS_Info = pe.Param(model.v2g, model.cs, model.t,\n",
    "                            initialize=_auxDictionary(EV_CS_Info))\n",
    "\n",
    "model.loadActPower = pe.Param(model.loads, model.t,\n",
    "                              initialize=_auxDictionary(loadLimit[:, :, 0]))\n",
    "model.optCost = pe.Var()#initialize=0)\n",
    "\n",
    "\n",
    "# ADDITIONAL PARAMS\n",
    "storCapCost = np.array([5000, 10000, 1500])\n",
    "model.storCapCost = pe.Param(model.stor, initialize=_auxDictionary(storCapCost))\n",
    "\n",
    "storCyclesMult = np.array([1000, 1200, 700])\n",
    "model.storCyclesMult = pe.Param(model.stor, initialize=_auxDictionary(storCyclesMult))\n",
    "\n",
    "# V2G battery deg costs\n",
    "v2gCapCost = v2gInfo[:, 4] * 100\n",
    "model.v2gCapCost = pe.Param(model.v2g, initialize=_auxDictionary(v2gCapCost))\n",
    "\n",
    "v2gCyclesMult = np.array([1000, 1000, 1000, 1000, 1000])\n",
    "model.v2gCyclesMult = pe.Param(model.v2g, initialize=_auxDictionary(v2gCyclesMult))"
   ]
  },
  {
   "cell_type": "code",
   "execution_count": 331,
   "id": "2fff3184",
   "metadata": {
    "ExecuteTime": {
     "end_time": "2022-09-19T15:29:12.738344Z",
     "start_time": "2022-09-19T15:29:12.720901Z"
    },
    "code_folding": [
     0
    ]
   },
   "outputs": [],
   "source": [
    "# Define the variables for the gams optimization process\n",
    "# variables fun, derCost, selfConso;\n",
    "\n",
    "#model.fun = pe.Var(domain=pe.Reals, initialize=0)\n",
    "model.derCost = pe.Var(domain=pe.Reals, initialize=0)\n",
    "#model.selfConso = pe.Var(domain=pe.Reals, initialize=0)"
   ]
  },
  {
   "cell_type": "code",
   "execution_count": 332,
   "id": "9da83201",
   "metadata": {
    "ExecuteTime": {
     "end_time": "2022-09-19T15:29:13.034420Z",
     "start_time": "2022-09-19T15:29:13.029913Z"
    },
    "code_folding": [
     0
    ]
   },
   "outputs": [],
   "source": [
    "#positive variables\n",
    "\n",
    "model.genActPower = pe.Var(model.gen, model.t, domain=pe.PositiveReals, initialize=1)\n",
    "model.genExcActPower = pe.Var(model.gen, model.t, domain=pe.PositiveReals, initialize=1)\n",
    "model.pImp = pe.Var(model.t, domain=pe.PositiveReals, initialize=1)\n",
    "model.pExp = pe.Var(model.t, domain=pe.PositiveReals, initialize=1)"
   ]
  },
  {
   "cell_type": "code",
   "execution_count": 333,
   "id": "f31344c8",
   "metadata": {
    "ExecuteTime": {
     "end_time": "2022-09-19T15:29:13.313112Z",
     "start_time": "2022-09-19T15:29:13.296532Z"
    },
    "code_folding": [
     0
    ]
   },
   "outputs": [],
   "source": [
    "# Load params\n",
    "model.loadRedActPower = pe.Var(model.loads, model.t, domain=pe.PositiveReals, initialize=1)\n",
    "model.loadCutActPower = pe.Var(model.loads, model.t, domain=pe.PositiveReals, initialize=1)\n",
    "model.loadENS = pe.Var(model.loads, model.t, domain=pe.PositiveReals, initialize=1)\n",
    "\n",
    "# Storage params\n",
    "model.storEnerState = pe.Var(model.stor, model.t, domain=pe.PositiveReals, initialize=1)\n",
    "model.storDchActPower = pe.Var(model.stor, model.t, domain=pe.PositiveReals, initialize=1)\n",
    "model.storChActPower = pe.Var(model.stor, model.t, domain=pe.PositiveReals, initialize=1)\n",
    "model.EminRelaxStor = pe.Var(model.stor, model.t, domain=pe.PositiveReals, initialize=1)\n",
    "\n",
    "# V2G params\n",
    "model.v2gDchActPower = pe.Var(model.v2g, model.t, domain=pe.PositiveReals, initialize=1)\n",
    "model.v2gChActPower = pe.Var(model.v2g, model.t, domain=pe.PositiveReals, initialize=1)\n",
    "model.v2gEnerState = pe.Var(model.v2g, model.t, domain=pe.Reals, initialize=1)\n",
    "model.EminRelaxEv = pe.Var(model.v2g, model.t, domain=pe.PositiveReals, initialize=1)\n",
    "\n",
    "# Charging Station params\n",
    "model.csActPower = pe.Var(model.cs, model.t, domain=pe.PositiveReals, initialize=1)\n",
    "model.csActPowerNet = pe.Var(model.cs, model.t, domain=pe.PositiveReals, initialize=1)"
   ]
  },
  {
   "cell_type": "code",
   "execution_count": 334,
   "id": "5e4339fc",
   "metadata": {
    "ExecuteTime": {
     "end_time": "2022-09-19T15:29:13.594776Z",
     "start_time": "2022-09-19T15:29:13.583832Z"
    },
    "code_folding": [
     0
    ]
   },
   "outputs": [],
   "source": [
    "# binary variables\n",
    "\n",
    "model.genXo = pe.Var(model.gen, model.t, domain=pe.Binary, initialize=0)\n",
    "model.loadXo = pe.Var(model.loads, model.t, domain=pe.Binary, initialize=0)"
   ]
  },
  {
   "cell_type": "code",
   "execution_count": 335,
   "id": "b44742bf",
   "metadata": {
    "ExecuteTime": {
     "end_time": "2022-09-19T15:29:13.858413Z",
     "start_time": "2022-09-19T15:29:13.850403Z"
    }
   },
   "outputs": [],
   "source": [
    "model.v2gChXo = pe.Var(model.v2g, model.t, domain=pe.Binary, initialize=0)\n",
    "model.v2gDchXo = pe.Var(model.v2g, model.t, domain=pe.Binary, initialize=0)\n",
    "model.storChXo = pe.Var(model.stor, model.t, domain=pe.Binary, initialize=0)\n",
    "model.storDchXo = pe.Var(model.stor, model.t, domain=pe.Binary, initialize=0)"
   ]
  },
  {
   "cell_type": "code",
   "execution_count": 336,
   "id": "9411b54f",
   "metadata": {
    "ExecuteTime": {
     "end_time": "2022-09-19T15:29:14.122329Z",
     "start_time": "2022-09-19T15:29:14.115338Z"
    }
   },
   "outputs": [],
   "source": [
    "# Storage deg variables\n",
    "\n",
    "model.storSegXo = pe.Var(model.stor, model.t, model.storPieceSegments, domain=pe.Binary, initialize=0)\n",
    "model.storSegSoC = pe.Var(model.stor, model.t, model.storPieceSegments, domain=pe.PositiveReals, initialize=1)\n",
    "\n",
    "# V2G battery deg variables\n",
    "\n",
    "model.v2gSegXo = pe.Var(model.v2g, model.t, model.storPieceSegments, domain=pe.Binary, initialize=0)\n",
    "model.v2gSegSoC = pe.Var(model.v2g, model.t, model.storPieceSegments, domain=pe.PositiveReals, initialize=1)"
   ]
  },
  {
   "cell_type": "code",
   "execution_count": 337,
   "id": "112efdba",
   "metadata": {
    "ExecuteTime": {
     "end_time": "2022-09-19T15:29:14.420968Z",
     "start_time": "2022-09-19T15:29:14.412992Z"
    }
   },
   "outputs": [],
   "source": [
    "# Default behaviour\n",
    "\n",
    "default_behaviour = pe.Constraint.Skip"
   ]
  },
  {
   "cell_type": "code",
   "execution_count": 338,
   "id": "fded35d7",
   "metadata": {
    "ExecuteTime": {
     "end_time": "2022-09-19T15:29:14.797084Z",
     "start_time": "2022-09-19T15:29:14.782091Z"
    },
    "code_folding": [
     0
    ]
   },
   "outputs": [],
   "source": [
    "# Network constraints\n",
    "\n",
    "def _maxImpEq(m, t):\n",
    "    return m.pImp[t] <= m.pMaxImp[t] \n",
    "\n",
    "model.MaxImpEq = pe.Constraint(model.t, rule=_maxImpEq)\n",
    "\n",
    "def _maxExpEq(m, t):\n",
    "    return m.pExp[t] <= m.pMaxExp[t]\n",
    "\n",
    "model.MaxExpEq = pe.Constraint(model.t, rule=_maxExpEq)"
   ]
  },
  {
   "cell_type": "code",
   "execution_count": 339,
   "id": "4afadd39",
   "metadata": {
    "ExecuteTime": {
     "end_time": "2022-09-19T15:29:15.127978Z",
     "start_time": "2022-09-19T15:29:15.095068Z"
    },
    "code_folding": [
     0
    ]
   },
   "outputs": [],
   "source": [
    "# Generator constraints with the active generation power\n",
    "\n",
    "# Maximum generation in generators with normal contract\n",
    "def _genActMaxEq1(m, g, t):\n",
    "    if m.genInfo[g, 5] == 1:\n",
    "        return (m.genActPower[g, t] <= m.genLimit[g, t, 1])\n",
    "    return default_behaviour\n",
    "    \n",
    "model.genActMaxEq1 = pe.Constraint(model.gen, model.t, rule=_genActMaxEq1)\n",
    "\n",
    "#*Minimum generation in generators with normal contract\n",
    "def _genActMinEq(m, g, t):\n",
    "    if m.genInfo[g, 5] == 1:\n",
    "        return (m.genActPower[g, t] >= m.genInfo[g, 7] * m.genXo[g, t])\n",
    "    return default_behaviour\n",
    "    \n",
    "model.genActMinEq = pe.Constraint(model.gen, model.t, rule=_genActMinEq)\n",
    "\n",
    "#*Generation in generators with Feed-in tariffs\n",
    "def _genActMaxEq2(m, g, t):\n",
    "    if m.genInfo[g, 5] == 2:\n",
    "        return (m.genActPower[g ,t] + m.genExcActPower[g, t] == m.genLimit[g, t, 1])\n",
    "    return default_behaviour\n",
    "    \n",
    "model.genActMaxEq2 = pe.Constraint(model.gen, model.t, rule=_genActMaxEq2)"
   ]
  },
  {
   "cell_type": "code",
   "execution_count": 340,
   "id": "efdbfabf",
   "metadata": {
    "ExecuteTime": {
     "end_time": "2022-09-19T15:29:15.424478Z",
     "start_time": "2022-09-19T15:29:15.384648Z"
    },
    "code_folding": [
     0
    ]
   },
   "outputs": [],
   "source": [
    "# Load constraints\n",
    "\n",
    "def _loadReactEq(m, l, t):\n",
    "    return m.loadRedActPower[l, t] <= m.loadLimit[l, t, 3]\n",
    "\n",
    "model.loadReactEq = pe.Constraint(model.loads, model.t, rule=_loadReactEq)\n",
    "\n",
    "\n",
    "def _loadCutActPowerEq(m, l, t):\n",
    "    return m.loadCutActPower[l, t] == m.loadLimit[l, t, 4] * m.loadXo[l, t]\n",
    "\n",
    "model.loadCutActPowerEq = pe.Constraint(model.loads, model.t, rule=_loadCutActPowerEq)\n",
    "\n",
    "\n",
    "def _loadENSEq(m, l, t):\n",
    "    return m.loadENS[l, t] + m.loadRedActPower[l, t] + m.loadCutActPower[l, t] <= m.loadActPower[l, t]\n",
    "\n",
    "model.loadENSEq = pe.Constraint(model.loads, model.t, rule=_loadENSEq)"
   ]
  },
  {
   "cell_type": "code",
   "execution_count": 341,
   "id": "0a2f0734",
   "metadata": {
    "ExecuteTime": {
     "end_time": "2022-09-19T15:29:15.815759Z",
     "start_time": "2022-09-19T15:29:15.679832Z"
    },
    "code_folding": [
     0
    ]
   },
   "outputs": [],
   "source": [
    "# Storage constraints\n",
    "\n",
    "def _storDchRateIneq(m, s, t):\n",
    "    return m.storDchActPower[s, t] <= m.storLimit[s, t, 2] * m.storDchXo[s, t]\n",
    "model.storDchRateIneq = pe.Constraint(model.stor, model.t, rule=_storDchRateIneq)\n",
    "\n",
    "\n",
    "def _storChRateIneq(m, s, t):\n",
    "    return m.storChActPower[s, t] <= m.storLimit[s, t, 1] * m.storChXo[s, t]\n",
    "model.storChRateIneq = pe.Constraint(model.stor, model.t, rule=_storChRateIneq)\n",
    "\n",
    "\n",
    "def _storMaxEq(m, s, t):\n",
    "    return m.storEnerState[s, t] <= m.storInfo[s, 6]\n",
    "model.storMaxEq = pe.Constraint(model.stor, model.t, rule=_storMaxEq)\n",
    "\n",
    "\n",
    "def _storRelaxEq(m, s, t):\n",
    "    return m.storEnerState[s, t] >= m.storInfo[s, 7] * (m.storInfo[s, 6]/100) - m.EminRelaxStor[s, t]\n",
    "model.storRelaxEq = pe.Constraint(model.stor, model.t, rule=_storRelaxEq)\n",
    "\n",
    "\n",
    "def _storBatBalanceEq(m, s, t):\n",
    "    if t == 1:\n",
    "        return m.storEnerState[s, t] == m.storInfo[s, 6] * (m.storInfo[s, 10]/100) + m.storChActPower[s, t] * (m.storInfo[s, 8]/100) - m.storDchActPower[s, t]/(m.storInfo[s, 9] / 100)\n",
    "    elif t > 1:\n",
    "        return m.storEnerState[s, t] == m.storEnerState[s, t-1] + m.storChActPower[s, t] * (m.storInfo[s, 8]/100) - m.storDchActPower[s, t]/(m.storInfo[s, 9]/100)\n",
    "    return default_behaviour\n",
    "model.storBatBalance = pe.Constraint(model.stor, model.t, rule=_storBatBalanceEq)\n",
    "\n",
    "    \n",
    "def _storBin(m, s, t):\n",
    "    return m.storChXo[s, t] + m.storDchXo[s, t] <= 1\n",
    "model.storBin = pe.Constraint(model.stor, model.t, rule=_storBin)\n",
    "\n",
    "\n",
    "\n",
    "# ADDITIONAL CONSTRAINTS\n",
    "# Segmented SoC binary control variable constraint\n",
    "def _storSegXo(m, s, t):\n",
    "    return sum(m.storSegXo[s, t, :]) == 1.0\n",
    "model.storSegCap = pe.Constraint(model.stor, model.t,\n",
    "                                 rule=_storSegXo)\n",
    "\n",
    "\n",
    "# Sum Segmented SoC equality constraint\n",
    "def _storSegSoC(m, s, t):\n",
    "    # SoC_min + sum_s(SoC_s,t + (s-1)*D*X_s,t) = SoC\n",
    "    # SoC_min = 0\n",
    "    # SoC_s,t is model.storSegSoC\n",
    "    # X_s,t is model.storSegXo\n",
    "    \n",
    "    # D = (SoC_max - SoC_min) / Nseg\n",
    "    segment_interval = m.storInfo[s, 6] / m.storPieceSegments.last()\n",
    "    \n",
    "    # sum section\n",
    "    temp_val = sum([model.storSegSoC[s, t, p] + (p-1)*segment_interval*model.storSegXo[s, t, p]\n",
    "                    for p in np.arange(1, model.storPieceSegments.last() + 1)])\n",
    "    \n",
    "    return temp_val == m.storEnerState[s, t]\n",
    "model.storSegSoCEq = pe.Constraint(model.stor, model.t, \n",
    "                                   rule=_storSegSoC)\n",
    "\n",
    "\n",
    "# Segmented SoC bounds\n",
    "def _storSegSoCLower(m, s, t, p):\n",
    "    # D = (SoC_max - SoC_min) / Nseg\n",
    "    segment_interval = m.storInfo[s, 6] / m.storPieceSegments.last()\n",
    "    \n",
    "    return m.storSegSoC[s, t, p] >= 0\n",
    "model.storSegSoCLower = pe.Constraint(model.stor, model.t, model.storPieceSegments,\n",
    "                                      rule=_storSegSoCLower)\n",
    "\n",
    "def _storSegSoCUpper(m, s, t, p):\n",
    "    # D = (SoC_max - SoC_min) / Nseg\n",
    "    segment_interval = m.storInfo[s, 6] / m.storPieceSegments.last()\n",
    "    \n",
    "    return m.storSegSoC[s, t, p] <= segment_interval * m.storSegXo[s, t, p]\n",
    "model.storSegSoCUpper = pe.Constraint(model.stor, model.t, model.storPieceSegments,\n",
    "                                      rule=_storSegSoCUpper)"
   ]
  },
  {
   "cell_type": "code",
   "execution_count": 342,
   "id": "f65ce4d5",
   "metadata": {
    "ExecuteTime": {
     "end_time": "2022-09-19T15:29:16.348130Z",
     "start_time": "2022-09-19T15:29:16.031619Z"
    },
    "code_folding": []
   },
   "outputs": [],
   "source": [
    "# Electric Vehicles constraints\n",
    "\n",
    "# Discharge rate\n",
    "def _v2gDchRateIneq(m, v, t):\n",
    "    return m.v2gDchActPower[v, t] <= m.v2gLimit[v, t, 5] * m.v2gLimit[v, t, 1] * m.v2gDchXo[v, t]\n",
    "model.v2gDchRateIneq = pe.Constraint(model.v2g, model.t, rule=_v2gDchRateIneq)\n",
    "\n",
    "# Charge rate\n",
    "def _v2gChRateIneq(m, v, t):\n",
    "    return m.v2gChActPower[v, t] <= m.v2gLimit[v, t, 4] * m.v2gLimit[v, t, 1] * m.v2gChXo[v, t]\n",
    "model.v2gChRateIneq = pe.Constraint(model.v2g, model.t, rule=_v2gChRateIneq)\n",
    "\n",
    "# Energy Limits\n",
    "def _v2gMaxEq(m, v, t):\n",
    "    return m.v2gEnerState[v, t] <= m.v2gInfo[v, 5]\n",
    "model.v2gMaxEq = pe.Constraint(model.v2g, model.t, rule=_v2gMaxEq)\n",
    "\n",
    "def _v2gRelaxEq(m, v, t):\n",
    "    if m.v2gLimit[v, t, 1] == 1:\n",
    "        return m.v2gEnerState[v, t] >= m.v2gInfo[v, 11] * m.v2gInfo[v, 5]/100 - m.EminRelaxEv[v, t]\n",
    "    return default_behaviour\n",
    "model.v2gRelaxEq = pe.Constraint(model.v2g, model.t, rule=_v2gRelaxEq)\n",
    "\n",
    "\n",
    "# Energy Limits - If requirement\n",
    "def _v2gRelaxReqEq1(m, v, t):\n",
    "    if m.v2gLimit[v, t, 1] == 1:\n",
    "        return m.v2gEnerState[v, t] >= m.v2gLimit[v, t, 3] - m.EminRelaxEv[v, t]\n",
    "    return default_behaviour\n",
    "model.v2gRelaxReqEq1 = pe.Constraint(model.v2g, model.t, rule=_v2gRelaxReqEq1)\n",
    "\n",
    "\n",
    "def _v2gRelaxReqEq2(m, v, t):\n",
    "    if t < m.t.last():\n",
    "        if (m.v2gLimit[v, t, 1] == 1) & (m.v2gLimit[v, t+1, 1] == 0) & (m.v2gLimit[v, t, 3] == 0):\n",
    "            return m.v2gEnerState[v, t] >= m.v2gInfo[v, 5] - m.EminRelaxEv[v, t]\n",
    "    return default_behaviour\n",
    "model.v2gRelaxReqEq2 = pe.Constraint(model.v2g, model.t, rule=_v2gRelaxReqEq2)\n",
    "\n",
    "\n",
    "def _v2gRelaxReqEq3(m, v, t):\n",
    "    if (m.v2gLimit[v, t, 1] == 1) & (m.v2gLimit[v, t, 3] == 0) & (t == m.t.last()):\n",
    "        return m.v2gEnerState[v, t] >= m.v2gInfo[v, 5] - m.EminRelaxEv[v, t]\n",
    "    return default_behaviour\n",
    "model.v2gRelaxReqEq3 = pe.Constraint(model.v2g, model.t, rule=_v2gRelaxReqEq3)\n",
    "\n",
    "\n",
    "#Energy balance\n",
    "def _v2gBatBalanceZero(m, v, t):\n",
    "    if m.v2gLimit[v, t, 1] == 0:\n",
    "        return m.v2gEnerState[v, t] == 0\n",
    "    return default_behaviour\n",
    "model.v2gBatBalanceZero = pe.Constraint(model.v2g, model.t, rule=_v2gBatBalanceZero)\n",
    "\n",
    "\n",
    "def _v2gBatBalanceIniEq(m, v, t):\n",
    "    if (m.v2gLimit[v, t, 1] == 1) & (t == 1):\n",
    "        return m.v2gEnerState[v, t] == m.v2gLimit[v, t, 2] + m.v2gChActPower[v, t] * m.v2gInfo[v, 8] - m.v2gDchActPower[v, t] / m.v2gInfo[v, 9]\n",
    "    return default_behaviour\n",
    "model.v2gBatBalanceIniEq = pe.Constraint(model.v2g, model.t, rule=_v2gBatBalanceIniEq)\n",
    "\n",
    "\n",
    "def _v2gBatBalanceEq(m, v, t):\n",
    "    if t > 1:\n",
    "        if (m.v2gLimit[v, t-1, 1] == 1) & (m.v2gLimit[v, t, 1] == 1):\n",
    "            return m.v2gEnerState[v, t] == m.v2gEnerState[v, t-1] + m.v2gLimit[v, t, 2] + m.v2gChActPower[v, t] * m.v2gInfo[v, 8] - m.v2gDchActPower[v, t] / m.v2gInfo[v, 9]\n",
    "    return default_behaviour\n",
    "model.v2gBatBalanceEq = pe.Constraint(model.v2g, model.t, rule=_v2gBatBalanceEq)\n",
    "\n",
    "\n",
    "def _v2gBatBalanceEq2(m, v, t):\n",
    "    if t > 1:\n",
    "        if (m.v2gLimit[v, t-1, 1] == 0) & (m.v2gLimit[v, t, 1] == 1):\n",
    "            return m.v2gEnerState[v, t] == m.v2gLimit[v, t, 2] + m.v2gChActPower[v, t] * m.v2gInfo[v, 8] + m.v2gDchActPower[v, t] / m.v2gInfo[v, 9]\n",
    "    return default_behaviour\n",
    "model.v2gBatBalanceEq2 = pe.Constraint(model.v2g, model.t, rule=_v2gBatBalanceEq2)\n",
    "\n",
    "\n",
    "# disable charge and discharge in same period\n",
    "def _v2gBin(m, v, t):\n",
    "    return m.v2gChXo[v, t] + m.v2gDchXo[v, t] <= 1\n",
    "model.v2gBin = pe.Constraint(model.v2g, model.t, rule=_v2gBin)\n",
    "\n",
    "\n",
    "\n",
    "# ADDITIONAL V2G BATTERY CONSTRAINTS\n",
    "def _v2gSegXo(m, v, t):\n",
    "    return sum(m.v2gSegXo[v, t, :]) == 1.0\n",
    "model.v2gSegCap = pe.Constraint(model.v2g, model.t,\n",
    "                                rule=_v2gSegXo)\n",
    "\n",
    "\n",
    "def _v2gSegSoC(m, v, t):\n",
    "    # SoC_min + sum_s(SoC_s,t + (s-1)*D*X_s,t) = SoC\n",
    "    # SoC_min = 0\n",
    "    # SoC_s,t is model.v2gSegSoC\n",
    "    # X_s,t is model.v2gSegXo\n",
    "    \n",
    "    # D = (SoC_max - SoC_min) / Nseg\n",
    "    segment_interval = m.v2gInfo[v, 5] / m.storPieceSegments.last()\n",
    "    \n",
    "    # sum section\n",
    "    temp_val = sum([model.v2gSegSoC[v, t, p] + (p-1)*segment_interval*model.v2gSegXo[v, t, p]\n",
    "                    for p in np.arange(1, model.storPieceSegments.last() + 1)])\n",
    "    \n",
    "    return temp_val == m.v2gEnerState[v, t]\n",
    "model.v2gSegSoCEq = pe.Constraint(model.v2g, model.t, \n",
    "                                  rule=_v2gSegSoC)\n",
    "\n",
    "\n",
    "# Segmented SoC Bounds\n",
    "def _v2gSegSoCLower(m, v, t, p):\n",
    "    # D = (SoC_max - SoC_min) / Nseg\n",
    "    segment_interval = m.v2gInfo[v, 5] / m.storPieceSegments.last()\n",
    "    \n",
    "    return m.v2gSegSoC[v, t, p] >= 0\n",
    "model.v2gSegSoCLower = pe.Constraint(model.v2g, model.t, model.storPieceSegments,\n",
    "                                     rule=_v2gSegSoCLower)\n",
    "\n",
    "def _v2gSegSoCUpper(m, v, t, p):\n",
    "    # D = (SoC_max - SoC_min) / Nseg\n",
    "    segment_interval = m.v2gInfo[v, 5] / m.storPieceSegments.last()\n",
    "    \n",
    "    return m.v2gSegSoC[v, t, p] <= segment_interval * m.v2gSegXo[v, t, p]\n",
    "model.v2gSegSoCUpper = pe.Constraint(model.v2g, model.t, model.storPieceSegments,\n",
    "                                     rule=_v2gSegSoCUpper)"
   ]
  },
  {
   "cell_type": "code",
   "execution_count": 343,
   "id": "9c356ce1",
   "metadata": {
    "ExecuteTime": {
     "end_time": "2022-09-19T15:29:16.472669Z",
     "start_time": "2022-09-19T15:29:16.446797Z"
    },
    "code_folding": [
     0
    ]
   },
   "outputs": [],
   "source": [
    "# Charging Station constraints\n",
    "\n",
    "# Charge Limits\n",
    "\n",
    "def _csActMaxEq(m, c, t):\n",
    "    return m.csActPower[c, t] <= m.csInfo[c, 5]\n",
    "model.csActMaxEq = pe.Constraint(model.cs, model.t, rule=_csActMaxEq)\n",
    "\n",
    "\n",
    "def _csActMinEq(m, c, t):\n",
    "    return m.csActPower[c, t] >= -m.csInfo[c,  6]\n",
    "model.csActMinEq = pe.Constraint(model.cs, model.t, rule=_csActMinEq)\n",
    "\n",
    "\n",
    "def _csActPowerEq(m, c, t):\n",
    "    temp_val = []\n",
    "    for v in np.arange(1, m.v2g.last() + 1):\n",
    "        if m.EV_CS_Info[v, c, t] > 0:\n",
    "            temp_val.append(m.v2gChActPower[v, t] - m.v2gDchActPower[v, t])\n",
    "    \n",
    "    return m.csActPower[c, t] == sum(temp_val)\n",
    "model.csActPowerEq = pe.Constraint(model.cs, model.t, rule=_csActPowerEq)\n",
    "\n",
    "\n",
    "def _csActPowerNetEq(m, c, t):\n",
    "    temp_val = []\n",
    "    for v in np.arange(1, m.v2g.last() + 1):\n",
    "        if m.EV_CS_Info[v, c, t] > 0:\n",
    "            temp_val.append(m.v2gChActPower[v, t] / (m.csInfo[c, 7] / 100) - m.v2gDchActPower[v, t] * (m.csInfo[c, 8] / 100))\n",
    "        \n",
    "    return m.csActPowerNet[c, t] == sum(temp_val)\n",
    "model.csActPowerNetEq = pe.Constraint(model.cs, model.t, rule=_csActPowerNetEq)"
   ]
  },
  {
   "cell_type": "code",
   "execution_count": 344,
   "id": "8010bc91",
   "metadata": {
    "ExecuteTime": {
     "end_time": "2022-09-19T15:29:17.316711Z",
     "start_time": "2022-09-19T15:29:17.273814Z"
    },
    "code_folding": [
     0
    ]
   },
   "outputs": [],
   "source": [
    "# Energy Balance\n",
    "\n",
    "def _actBalanceEqSimple(m, t):\n",
    "    temp_sum1 = sum([m.genActPower[i, t] - m.genExcActPower[i, t] for i in np.arange(1, m.gen.last()+1)])\n",
    "    temp_sum2 = sum(m.loadActPower[:, t])\n",
    "    \n",
    "    return temp_sum1 + m.pImp[t] - m.pExp[t] - temp_sum2 == 0\n",
    "\n",
    "#model.actBalanceSimple = pe.Constraint(model.t, rule=_actBalanceEqSimple)\n",
    "\n",
    "\n",
    "def _actBalanceEq(m, t):\n",
    "    temp_gens = sum([m.genActPower[g, t] - m.genExcActPower[g, t] for g in np.arange(1, m.gen.last()+1)])\n",
    "    \n",
    "    temp_loads = sum([m.loadActPower[l, t] - m.loadRedActPower[l, t] - m.loadCutActPower[l, t] - m.loadENS[l, t]\n",
    "                      for l in np.arange(1, m.loads.last() + 1)])\n",
    "    \n",
    "    temp_stor = sum([m.storChActPower[s, t] - m.storDchActPower[s, t]\n",
    "                     for s in np.arange(1, m.stor.last() + 1)])\n",
    "    \n",
    "    temp_v2g = sum([m.v2gChActPower[v, t] - m.v2gDchActPower[v, t]\n",
    "                    for v in np.arange(1, m.v2g.last() + 1)])\n",
    "    temp_cs = sum(m.csActPowerNet[:, t])\n",
    "    \n",
    "    return temp_gens + m.pImp[t] - m.pExp[t] - temp_loads - temp_stor - temp_v2g - temp_cs == 0\n",
    "model.actBalanceSimple = pe.Constraint(model.t, rule=_actBalanceEq)"
   ]
  },
  {
   "cell_type": "code",
   "execution_count": 345,
   "id": "8e25ff14",
   "metadata": {
    "ExecuteTime": {
     "end_time": "2022-09-19T15:29:17.844957Z",
     "start_time": "2022-09-19T15:29:17.828999Z"
    },
    "code_folding": []
   },
   "outputs": [],
   "source": [
    "# Aux Function to calculated battery costs\n",
    "\n",
    "def _storDegCost(m, s):\n",
    "    # Calculate D\n",
    "    # D = (SoC_max - SoC_min) / Nseg\n",
    "    segment_interval = m.storInfo[s, 6] / m.storPieceSegments.last()\n",
    "    \n",
    "    # First we need to define an auxiliary function for the Ce\n",
    "    def aux_ce(m, s, soc):\n",
    "        if soc < 1:\n",
    "            return 0\n",
    "        \n",
    "        return  m.storCapCost[s] / (soc * m.storCyclesMult[s])\n",
    "    \n",
    "    def aux_ce_approx(m, s, t, k):\n",
    "        return sum([m.storSegXo[s, t, p] * aux_ce(m, s, (p-1)*segment_interval) + k[p-1] * m.storSegSoC[s, t, p]\n",
    "                    for p in np.arange(1, m.storPieceSegments.last() + 1)])\n",
    "    \n",
    "    def aux_soc(m, s, t):\n",
    "        return m.storEnerState[s, t-1] - m.storDchActPower[s, t]/(m.storInfo[s, 9]/100)\n",
    "\n",
    "    \n",
    "    # Slopes are independent of time\n",
    "    # Calculate the different slopes\n",
    "    # K = (Ce(SoC_min + D*s) - Ce(SoC_min + D*(s-1)))/D\n",
    "    slopes = []\n",
    "    for i in np.arange(1, m.storPieceSegments.last() + 1):\n",
    "        temp_soc1 = segment_interval * i\n",
    "        temp_soc2 = segment_interval * (i - 1)\n",
    "\n",
    "        slope = (aux_ce(m=m, s=s, soc=temp_soc1) - aux_ce(m, s, soc=temp_soc2)) / segment_interval\n",
    "        slopes.append(slope)\n",
    "    \n",
    "    \n",
    "    # Go through the timesteps - immediately append 0 when charging\n",
    "    storage_costs = [0]\n",
    "    for t in np.arange(2, m.t.last() + 1):\n",
    "        current_cost = aux_ce_approx(m, s, t, slopes)\n",
    "        previous_cost = aux_ce_approx(m, s, t-1, slopes)\n",
    "\n",
    "        storage_costs.append(current_cost - previous_cost)\n",
    "    #print(storage_costs)\n",
    "            \n",
    "    return sum(storage_costs)\n",
    "\n",
    "\n",
    "def _v2gDegCost(m, v):\n",
    "    # Calculate D\n",
    "    # D = (SoC_max - SoC_min) / Nseg\n",
    "    segment_interval = m.v2gInfo[v, 5] / m.storPieceSegments.last()\n",
    "    \n",
    "    # First we need to define an auxiliary function for the Ce\n",
    "    def aux_ce(m, v, soc):\n",
    "        if soc < 1:\n",
    "            return 0\n",
    "        \n",
    "        return  m.v2gCapCost[v] / (soc * m.v2gCyclesMult[v])\n",
    "    \n",
    "    \n",
    "    def aux_ce_approx(m, v, t, k):\n",
    "        return sum([m.v2gSegXo[v, t, p] * aux_ce(m, v, (p-1)*segment_interval) + k[p-1] * m.v2gSegSoC[v, t, p]\n",
    "                    for p in np.arange(1, m.storPieceSegments.last() + 1)])\n",
    "    \n",
    "    def aux_soc(m, v, t):\n",
    "        return m.v2gEnerState[v, t-1] - m.v2gDchActPower[v, t]/(m.v2gInfo[v, 9])\n",
    "    \n",
    "    # Slopes are independent of time\n",
    "    # Calculate the different slopes\n",
    "    # K = (Ce(SoC_min + D*s) - Ce(SoC_min + D*(s-1)))/D\n",
    "    slopes = []\n",
    "    for i in np.arange(1, m.storPieceSegments.last() + 1):\n",
    "        temp_soc1 = segment_interval * i\n",
    "        temp_soc2 = segment_interval * (i - 1)\n",
    "\n",
    "        slope = (aux_ce(m=m, v=v, soc=temp_soc1) - aux_ce(m, v, soc=temp_soc2)) / segment_interval\n",
    "        slopes.append(slope)\n",
    "    \n",
    "    \n",
    "    # Go through the timesteps - immediately append 0 when charging\n",
    "    storage_costs = [0]\n",
    "    for t in np.arange(2, m.t.last() + 1):\n",
    "        current_cost = aux_ce_approx(m, v, t, slopes)\n",
    "        previous_cost = aux_ce_approx(m, v, t-1, slopes)\n",
    "\n",
    "        storage_costs.append(current_cost - previous_cost)\n",
    "    #print(storage_costs)\n",
    "            \n",
    "    return sum(storage_costs)"
   ]
  },
  {
   "cell_type": "code",
   "execution_count": 346,
   "id": "0a32d38e",
   "metadata": {
    "ExecuteTime": {
     "end_time": "2022-09-19T15:29:18.629432Z",
     "start_time": "2022-09-19T15:29:18.441893Z"
    },
    "code_folding": []
   },
   "outputs": [],
   "source": [
    "# Objective Function -> Only considering generators\n",
    "\n",
    "def _objFunSimple(m):\n",
    "    temp_sum1 = sum([m.genActPower[g, t] * m.genLimit[g, t, 3] + m.genExcActPower[g, t] * m.genLimit[g, t, 5]\n",
    "                     for t in np.arange(1, m.t.last()+1) for g in np.arange(1, m.gen.last()+1)])\n",
    "    \n",
    "    temp_sum2 = sum([m.pImp[i] * m.buyPrice[i] - m.pExp[i] * m.sellPrice[i] for i in np.arange(1, m.t.last()+1)])\n",
    "    m.derCost = temp_sum1 + temp_sum2\n",
    "\n",
    "    return temp_sum1 + temp_sum2\n",
    "\n",
    "#model.ObjFunSimple = pe.Objective(rule=_objFunSimple, sense=pe.minimize)\n",
    "\n",
    "\n",
    "def _objFun(m):\n",
    "    temp_gens = sum([m.genActPower[g, t] * m.genLimit[g, t, 3] + m.genExcActPower[g, t] * m.genLimit[g, t, 5]\n",
    "                     for t in np.arange(1, m.t.last() + 1) for g in np.arange(1, m.gen.last()+1)])\n",
    "    \n",
    "    temp_loads = sum([m.loadRedActPower[l, t] * m.loadLimit[l, t, 7] + m.loadCutActPower[l, t] * m.loadLimit[l, t, 8] + m.loadENS[l, t] * m.loadLimit[l, t, 10] \n",
    "                      for t in np.arange(1, m.t.last() + 1) for l in np.arange(1, m.loads.last() + 1)])\n",
    "    \n",
    "    temp_stor = sum([m.storDchActPower[s, t] * m.storLimit[s, t, 4] - m.storChActPower[s, t] * m.storLimit[s, t, 3] + m.EminRelaxStor[s, t] * 200 \n",
    "                     for t in np.arange(1, m.t.last() +1) for s in np.arange(1, m.stor.last() + 1)])\n",
    "    \n",
    "    temp_v2g = sum([m.v2gDchActPower[v, t] * m.v2gLimit[v, t, 7] - m.v2gChActPower[v, t] * m.v2gLimit[v, t, 6] + m.EminRelaxEv[v, t] * 200\n",
    "                    for t in np.arange(1, m.t.last() + 1) for v in np.arange(1, m.v2g.last() + 1)])\n",
    "    \n",
    "    temp_rest = sum([m.pImp[t] * m.buyPrice[t] - m.pExp[t] * m.sellPrice[t] for t in np.arange(1, m.t.last() + 1)])\n",
    "    \n",
    "    temp_storDeg = sum([_storDegCost(m, s) for s in np.arange(1, m.stor.last() + 1)])\n",
    "    \n",
    "    temp_v2gDeg = sum([_v2gDegCost(m, v) for v in np.arange(1, m.v2g.last() + 1)])\n",
    "    \n",
    "    m.derCost = temp_gens + temp_loads + temp_stor + temp_stor + temp_v2g + temp_rest\n",
    "    \n",
    "    return temp_gens + temp_loads + temp_stor + temp_stor + temp_v2g + temp_rest + temp_storDeg + temp_v2gDeg\n",
    "\n",
    "model.ObjFun = pe.Objective(rule=_objFun, sense=pe.minimize)"
   ]
  },
  {
   "cell_type": "code",
   "execution_count": 347,
   "id": "185772f3",
   "metadata": {
    "ExecuteTime": {
     "end_time": "2022-09-19T15:29:19.712127Z",
     "start_time": "2022-09-19T15:29:19.221142Z"
    }
   },
   "outputs": [
    {
     "name": "stdout",
     "output_type": "stream",
     "text": [
      "# ==========================================================\n",
      "# = Solver Results                                         =\n",
      "# ==========================================================\n",
      "# ----------------------------------------------------------\n",
      "#   Problem Information\n",
      "# ----------------------------------------------------------\n",
      "Problem: \n",
      "- Name: tmp4gv3hj1n\n",
      "  Lower bound: 158.96417285\n",
      "  Upper bound: 158.9690738556613\n",
      "  Number of objectives: 1\n",
      "  Number of constraints: 3719\n",
      "  Number of variables: 3409\n",
      "  Number of nonzeros: 8519\n",
      "  Sense: minimize\n",
      "# ----------------------------------------------------------\n",
      "#   Solver Information\n",
      "# ----------------------------------------------------------\n",
      "Solver: \n",
      "- Status: ok\n",
      "  User time: 0.14\n",
      "  Termination condition: optimal\n",
      "  Termination message: MIP - Integer optimal, tolerance (0.0001/1e-06)\\x3a Objective = 1.5896907386e+02\n",
      "  Statistics: \n",
      "    Branch and bound: \n",
      "      Number of bounded subproblems: 0\n",
      "      Number of created subproblems: 0\n",
      "  Error rc: 0\n",
      "  Time: 0.20714712142944336\n",
      "# ----------------------------------------------------------\n",
      "#   Solution Information\n",
      "# ----------------------------------------------------------\n",
      "Solution: \n",
      "- number of solutions: 0\n",
      "  number of solutions displayed: 0\n"
     ]
    }
   ],
   "source": [
    "# Create model instance and solve\n",
    "\n",
    "import cplex\n",
    "from pyomo.opt import SolverFactory\n",
    "\n",
    "model.write('res_V4_EC.lp',  io_options={'symbolic_solver_labels': True})\n",
    "\n",
    "# Create a solver\n",
    "opt = pe.SolverFactory('cplex', executable='C:/IBM/ILOG/CPLEX_Studio221/cplex/bin/x64_win64/cplex.exe')\n",
    "opt.options['LogFile'] = 'res_V4_EC.log'\n",
    "\n",
    "results = opt.solve(model)#, tee=True)\n",
    "results.write()"
   ]
  },
  {
   "cell_type": "code",
   "execution_count": 348,
   "id": "a4b1c891",
   "metadata": {
    "ExecuteTime": {
     "end_time": "2022-09-19T15:30:20.665976Z",
     "start_time": "2022-09-19T15:30:20.656004Z"
    }
   },
   "outputs": [],
   "source": [
    "# Extract Pyomo values\n",
    "# https://stackoverflow.com/questions/67491499/how-to-extract-indexed-variable-information-in-pyomo-model-and-build-pandas-data\n",
    "\n",
    "def ext_pyomo_vals(vals):\n",
    "    # make a pd.Series from each \n",
    "    s = pd.Series(vals.extract_values(),\n",
    "                  index=vals.extract_values().keys())\n",
    "    \n",
    "    # if the series is multi-indexed we need to unstack it...\n",
    "    if type(s.index[0]) == tuple:    # it is multi-indexed\n",
    "        s = s.unstack(level=1)\n",
    "    else:\n",
    "        # force transition from Series -> df\n",
    "        s = pd.DataFrame(s)\n",
    "        \n",
    "    return s"
   ]
  },
  {
   "cell_type": "code",
   "execution_count": 349,
   "id": "740781f5",
   "metadata": {
    "ExecuteTime": {
     "end_time": "2022-09-19T15:30:27.845891Z",
     "start_time": "2022-09-19T15:30:27.770396Z"
    }
   },
   "outputs": [],
   "source": [
    "# Result extraction\n",
    "\n",
    "# Generation\n",
    "result_genActPower = ext_pyomo_vals(model.genActPower)\n",
    "result_genExcActPower = ext_pyomo_vals(model.genExcActPower)\n",
    "\n",
    "# Imports/Exports\n",
    "result_pimp = ext_pyomo_vals(model.pImp)\n",
    "result_pexp = ext_pyomo_vals(model.pExp)\n",
    "\n",
    "# Loads\n",
    "result_loadRedActPower = ext_pyomo_vals(model.loadRedActPower)\n",
    "result_loadCutActPower = ext_pyomo_vals(model.loadCutActPower)\n",
    "result_loadENS = ext_pyomo_vals(model.loadENS)\n",
    "\n",
    "# Storage\n",
    "result_storDchActPower = ext_pyomo_vals(model.storDchActPower)\n",
    "result_storChActPower = ext_pyomo_vals(model.storChActPower)\n",
    "result_storEnerState = ext_pyomo_vals(model.storEnerState)\n",
    "\n",
    "# V2G\n",
    "result_v2gDchActPower = ext_pyomo_vals(model.v2gDchActPower)\n",
    "result_v2gChActPower = ext_pyomo_vals(model.v2gChActPower)\n",
    "result_v2gEnerState = ext_pyomo_vals(model.v2gEnerState)\n",
    "\n",
    "# Charging Stations\n",
    "result_csActPower = ext_pyomo_vals(model.csActPower)\n",
    "result_csActPowerNet = ext_pyomo_vals(model.csActPowerNet)\n",
    "\n",
    "# Booleans\n",
    "result_genXo = ext_pyomo_vals(model.genXo)\n",
    "result_loadXo = ext_pyomo_vals(model.loadXo)\n",
    "result_storDchXo = ext_pyomo_vals(model.storDchXo)\n",
    "result_storChXo = ext_pyomo_vals(model.storChXo)\n",
    "result_v2gDchXo = ext_pyomo_vals(model.v2gDchXo)\n",
    "result_v2gChXo = ext_pyomo_vals(model.v2gChXo)"
   ]
  },
  {
   "cell_type": "code",
   "execution_count": null,
   "id": "fb06294b",
   "metadata": {},
   "outputs": [],
   "source": [
    "# Turn to pandas and save results\n",
    "\n",
    "# Gens\n",
    "pd_genActPower = pd.DataFrame(result_genActPower)\n",
    "pd_genActPower.to_csv('results/cplex_pyomo/genActPower.csv', index=None)\n",
    "\n",
    "pd_genExcActPower = pd.DataFrame(result_genExcActPower)\n",
    "pd_genExcActPower.to_csv('results/cplex_pyomo/genExcActPower.csv', index=None)\n",
    "\n",
    "# Import/Export\n",
    "pd_pimp = pd.DataFrame(result_pimp)\n",
    "pd_pimp.to_csv('results/cplex_pyomo/pimp.csv', index=None)\n",
    "\n",
    "pd_pexp = pd.DataFrame(result_pexp)\n",
    "pd_pexp.to_csv('results/cplex_pyomo/pexp.csv', index=None)\n",
    "\n",
    "# Loads\n",
    "pd_loadRedActPower = pd.DataFrame(result_loadRedActPower)\n",
    "pd_loadRedActPower.to_csv('results/cplex_pyomo/loadRedActPower.csv', index=None)\n",
    "\n",
    "pd_loadCutActPower = pd.DataFrame(result_loadCutActPower)\n",
    "pd_loadCutActPower.to_csv('results/cplex_pyomo/loadCutActPower.csv', index=None)\n",
    "\n",
    "pd_loadENS = pd.DataFrame(result_loadENS)\n",
    "pd_loadENS.to_csv('results/cplex_pyomo/loadENS.csv', index=None)\n",
    "\n",
    "# Storage\n",
    "pd_storDchActPower = pd.DataFrame(result_storDchActPower)\n",
    "pd_storDchActPower.to_csv('results/cplex_pyomo/storDchActPower.csv', index=None)\n",
    "\n",
    "pd_storChActPower = pd.DataFrame(result_storChActPower)\n",
    "pd_storChActPower.to_csv('results/cplex_pyomo/storChActPower.csv', index=None)\n",
    "\n",
    "pd_storEnerState = pd.DataFrame(result_storEnerState)\n",
    "pd_storEnerState.to_csv('results/cplex_pyomo/storEnerState.csv', index=None)\n",
    "\n",
    "# V2G\n",
    "pd_v2gDchActPower = pd.DataFrame(result_v2gDchActPower)\n",
    "pd_v2gDchActPower.to_csv('results/cplex_pyomo/v2gDchActPower.csv', index=None)\n",
    "\n",
    "pd_v2gChActPower = pd.DataFrame(result_v2gChActPower)\n",
    "pd_v2gChActPower.to_csv('results/cplex_pyomo/v2gChActPower.csv', index=None)\n",
    "\n",
    "pd_v2gEnerState = pd.DataFrame(result_v2gEnerState)\n",
    "pd_v2gEnerState.to_csv('results/cplex_pyomo/v2gEnerState.csv', index=None)\n",
    "\n",
    "# Charging Stations\n",
    "pd_csActPower = pd.DataFrame(result_csActPower)\n",
    "pd_csActPower.to_csv('results/cplex_pyomo/csActPower.csv', index=None)\n",
    "\n",
    "pd_csActPowerNet = pd.DataFrame(result_csActPowerNet)\n",
    "pd_csActPowerNet.to_csv('results/cplex_pyomo/csActPowerNet.csv', index=None)\n",
    "\n",
    "# Booleans\n",
    "pd_genXo = pd.DataFrame(result_genXo)\n",
    "pd_genXo.to_csv('results/cplex_pyomo/genXo.csv', index=None)\n",
    "\n",
    "pd_loadXo = pd.DataFrame(result_loadXo)\n",
    "pd_loadXo.to_csv('results/cplex_pyomo/loadXo.csv', index=None)\n",
    "\n",
    "pd_storDchXo = pd.DataFrame(result_storDchXo)\n",
    "pd_storDchXo.to_csv('results/cplex_pyomo/storDchXo.csv', index=None)\n",
    "\n",
    "pd_storChXo = pd.DataFrame(result_storChXo)\n",
    "pd_storChXo.to_csv('results/cplex_pyomo/storChXo.csv', index=None)\n",
    "\n",
    "pd_v2gDchXo = pd.DataFrame(result_v2gDchActPower)\n",
    "pd_v2gDchXo.to_csv('results/cplex_pyomo/v2gDchXo.csv', index=None)\n",
    "\n",
    "pd_v2gChXo = pd.DataFrame(result_v2gChActPower)\n",
    "pd_v2gChXo.to_csv('results/cplex_pyomo/v2gChXo.csv', index=None)"
   ]
  },
  {
   "cell_type": "code",
   "execution_count": null,
   "id": "8cc2ed90",
   "metadata": {
    "ExecuteTime": {
     "start_time": "2022-09-19T15:30:32.305Z"
    }
   },
   "outputs": [],
   "source": [
    "# Plot results\n",
    "\n",
    "fig, axs = plt.subplots(nrows=7, ncols=7, figsize=(24, 20))\n",
    "\n",
    "for i in np.arange(7):\n",
    "    # Generators\n",
    "    axs[i, 0].plot(result_genActPower.values[i])\n",
    "    axs[i, 0].plot(result_genExcActPower.values[i])\n",
    "    axs[i, 0].legend(['genActPower', 'genExcActPower'])\n",
    "    \n",
    "for i in np.arange(6):\n",
    "    # Loads\n",
    "    axs[i, 1].plot(loadLimit[:, :, 0][i, :])\n",
    "    axs[i, 1].plot(result_loadRedActPower.values[i])\n",
    "    axs[i, 1].plot(result_loadCutActPower.values[i])\n",
    "    axs[i, 1].plot(result_loadENS.values[i])\n",
    "    axs[i, 1].legend(['loadActPower', 'loadRedActPower', 'loadCutActPower', 'loadENS'])\n",
    "\n",
    "\n",
    "axs[0, 2].plot(result_pimp.values)\n",
    "axs[0, 2].plot(result_pexp.values)\n",
    "axs[0, 2].legend(['pImp', 'pExp'])\n",
    "\n",
    "\n",
    "for i in range(3):\n",
    "    axs[i, 3].plot(result_storEnerState.values[i])\n",
    "    axs[i, 3].legend(['storEnerState'])\n",
    "    \n",
    "for i in range(3):\n",
    "    axs[i, 4].plot(result_storDchActPower.values[i])\n",
    "    axs[i, 4].legend(['storDchActPower'])\n",
    "    \n",
    "for i in range(3):\n",
    "    axs[i, 5].plot(result_storChActPower.values[i])\n",
    "    axs[i, 5].legend(['storChActPower'])\n",
    "\n",
    "for i in range(5):\n",
    "    axs[i, 6].plot(result_v2gEnerState.values[i])\n",
    "    axs[i, 6].legend(['v2gEnerState'])\n",
    "\n",
    "\n",
    "plt.show()"
   ]
  },
  {
   "cell_type": "code",
   "execution_count": 35,
   "id": "c9b0204d",
   "metadata": {
    "ExecuteTime": {
     "end_time": "2022-09-16T11:47:01.043721Z",
     "start_time": "2022-09-16T11:47:01.038841Z"
    }
   },
   "outputs": [
    {
     "name": "stdout",
     "output_type": "stream",
     "text": [
      "Total import cost: 2.0532999999999997\n"
     ]
    }
   ],
   "source": [
    "# Total import costs\n",
    "\n",
    "print('Total import cost: {}'.format(sum(result_pimp.values.ravel() * buyPrice)))"
   ]
  },
  {
   "cell_type": "code",
   "execution_count": null,
   "id": "62a9047b",
   "metadata": {},
   "outputs": [],
   "source": []
  }
 ],
 "metadata": {
  "kernelspec": {
   "display_name": "Python 3 (ipykernel)",
   "language": "python",
   "name": "python3"
  },
  "language_info": {
   "codemirror_mode": {
    "name": "ipython",
    "version": 3
   },
   "file_extension": ".py",
   "mimetype": "text/x-python",
   "name": "python",
   "nbconvert_exporter": "python",
   "pygments_lexer": "ipython3",
   "version": "3.8.10"
  },
  "varInspector": {
   "cols": {
    "lenName": 16,
    "lenType": 16,
    "lenVar": 40
   },
   "kernels_config": {
    "python": {
     "delete_cmd_postfix": "",
     "delete_cmd_prefix": "del ",
     "library": "var_list.py",
     "varRefreshCmd": "print(var_dic_list())"
    },
    "r": {
     "delete_cmd_postfix": ") ",
     "delete_cmd_prefix": "rm(",
     "library": "var_list.r",
     "varRefreshCmd": "cat(var_dic_list()) "
    }
   },
   "position": {
    "height": "494.85px",
    "left": "1120px",
    "right": "20px",
    "top": "120px",
    "width": "356px"
   },
   "types_to_exclude": [
    "module",
    "function",
    "builtin_function_or_method",
    "instance",
    "_Feature"
   ],
   "window_display": false
  }
 },
 "nbformat": 4,
 "nbformat_minor": 5
}
